{
 "cells": [
  {
   "cell_type": "markdown",
   "metadata": {},
   "source": [
    "# Pathfinding Model\n",
    "Objectives:\n",
    "- build a pathfinding model wrapped inside a function called `find_shortest_path`\n",
    "- this function should accept the user's starting and ending geocoordinates along with the current time\n",
    "- data has been preprocessed in a previous notebook and filtered only include regular weekday service; ie. stop times are for any given Monday to Friday"
   ]
  },
  {
   "cell_type": "markdown",
   "metadata": {},
   "source": [
    "---\n",
    "## Import Modules & Data"
   ]
  },
  {
   "cell_type": "code",
   "execution_count": 1,
   "metadata": {},
   "outputs": [],
   "source": [
    "import time\n",
    "import pandas as pd\n",
    "from datetime import timedelta as td"
   ]
  },
  {
   "cell_type": "code",
   "execution_count": 2,
   "metadata": {},
   "outputs": [],
   "source": [
    "stops = pd.read_feather('data/model/stops.ftr')\n",
    "schedule = pd.read_feather('data/model/schedule.ftr')\n",
    "# trips = pd.read_feather('data/model/trips.ftr')\n",
    "# stop_times = pd.read_feather('data/model/stop_times.ftr')"
   ]
  },
  {
   "cell_type": "code",
   "execution_count": 3,
   "metadata": {},
   "outputs": [
    {
     "data": {
      "text/html": [
       "<div>\n",
       "<style scoped>\n",
       "    .dataframe tbody tr th:only-of-type {\n",
       "        vertical-align: middle;\n",
       "    }\n",
       "\n",
       "    .dataframe tbody tr th {\n",
       "        vertical-align: top;\n",
       "    }\n",
       "\n",
       "    .dataframe thead th {\n",
       "        text-align: right;\n",
       "    }\n",
       "</style>\n",
       "<table border=\"1\" class=\"dataframe\">\n",
       "  <thead>\n",
       "    <tr style=\"text-align: right;\">\n",
       "      <th></th>\n",
       "      <th>trip_id</th>\n",
       "      <th>route_short_name</th>\n",
       "      <th>route_long_name</th>\n",
       "      <th>shape_id</th>\n",
       "      <th>trip_headsign</th>\n",
       "      <th>stop_sequence</th>\n",
       "      <th>stop_time</th>\n",
       "      <th>stop_time_delta</th>\n",
       "      <th>stop_id</th>\n",
       "      <th>stop_code</th>\n",
       "      <th>stop_name</th>\n",
       "      <th>stop_lat</th>\n",
       "      <th>stop_lon</th>\n",
       "    </tr>\n",
       "  </thead>\n",
       "  <tbody>\n",
       "    <tr>\n",
       "      <th>0</th>\n",
       "      <td>42990004</td>\n",
       "      <td>10</td>\n",
       "      <td>VAN HORNE</td>\n",
       "      <td>886387</td>\n",
       "      <td>EAST - 10 VAN HORNE towards VICTORIA PARK</td>\n",
       "      <td>1</td>\n",
       "      <td>7:00:29</td>\n",
       "      <td>0 days 07:00:29</td>\n",
       "      <td>14155</td>\n",
       "      <td>14633</td>\n",
       "      <td>Don Mills Station</td>\n",
       "      <td>43.776222</td>\n",
       "      <td>-79.347048</td>\n",
       "    </tr>\n",
       "  </tbody>\n",
       "</table>\n",
       "</div>"
      ],
      "text/plain": [
       "    trip_id  route_short_name route_long_name  shape_id  \\\n",
       "0  42990004                10       VAN HORNE    886387   \n",
       "\n",
       "                               trip_headsign  stop_sequence stop_time  \\\n",
       "0  EAST - 10 VAN HORNE towards VICTORIA PARK              1   7:00:29   \n",
       "\n",
       "  stop_time_delta  stop_id  stop_code          stop_name   stop_lat   stop_lon  \n",
       "0 0 days 07:00:29    14155      14633  Don Mills Station  43.776222 -79.347048  "
      ]
     },
     "execution_count": 3,
     "metadata": {},
     "output_type": "execute_result"
    }
   ],
   "source": [
    "schedule.head(1)"
   ]
  },
  {
   "cell_type": "code",
   "execution_count": 4,
   "metadata": {},
   "outputs": [
    {
     "data": {
      "text/html": [
       "<div>\n",
       "<style scoped>\n",
       "    .dataframe tbody tr th:only-of-type {\n",
       "        vertical-align: middle;\n",
       "    }\n",
       "\n",
       "    .dataframe tbody tr th {\n",
       "        vertical-align: top;\n",
       "    }\n",
       "\n",
       "    .dataframe thead th {\n",
       "        text-align: right;\n",
       "    }\n",
       "</style>\n",
       "<table border=\"1\" class=\"dataframe\">\n",
       "  <thead>\n",
       "    <tr style=\"text-align: right;\">\n",
       "      <th></th>\n",
       "      <th>stop_id</th>\n",
       "      <th>stop_code</th>\n",
       "      <th>stop_name</th>\n",
       "      <th>stop_lat</th>\n",
       "      <th>stop_lon</th>\n",
       "    </tr>\n",
       "  </thead>\n",
       "  <tbody>\n",
       "    <tr>\n",
       "      <th>0</th>\n",
       "      <td>262</td>\n",
       "      <td>662</td>\n",
       "      <td>Danforth Rd at Kennedy Rd</td>\n",
       "      <td>43.714379</td>\n",
       "      <td>-79.260939</td>\n",
       "    </tr>\n",
       "  </tbody>\n",
       "</table>\n",
       "</div>"
      ],
      "text/plain": [
       "   stop_id  stop_code                  stop_name   stop_lat   stop_lon\n",
       "0      262        662  Danforth Rd at Kennedy Rd  43.714379 -79.260939"
      ]
     },
     "execution_count": 4,
     "metadata": {},
     "output_type": "execute_result"
    }
   ],
   "source": [
    "stops.head(1)"
   ]
  },
  {
   "cell_type": "markdown",
   "metadata": {},
   "source": [
    "---\n",
    "## Define Helper Functions"
   ]
  },
  {
   "cell_type": "code",
   "execution_count": 5,
   "metadata": {},
   "outputs": [],
   "source": [
    "def find_closest_stop_id(input_lat, input_lon):\n",
    "    stop_distance = stops.loc[:, ['stop_id', 'stop_lat', 'stop_lon']]\n",
    "    stop_distance['distance'] = ( abs(input_lat - stop_distance['stop_lat'])**2 + abs(input_lon - stop_distance['stop_lon'])**2 )**(1/2)\n",
    "    closest_stop_id = stop_distance.sort_values(by = 'distance').stop_id.iloc[0]\n",
    "    return closest_stop_id"
   ]
  },
  {
   "cell_type": "code",
   "execution_count": 6,
   "metadata": {},
   "outputs": [],
   "source": [
    "def find_closest_stops(input_lat, input_lon):\n",
    "    stop_distance = stops.loc[:, ['stop_id', 'stop_lat', 'stop_lon']]\n",
    "    stop_distance['distance'] = ( abs(input_lat - stop_distance['stop_lat'])**2 + abs(input_lon - stop_distance['stop_lon'])**2 )**(1/2)\n",
    "    stop_distance = stop_distance.sort_values(by = 'distance').reset_index(drop = True)\n",
    "    return stop_distance"
   ]
  },
  {
   "cell_type": "code",
   "execution_count": 7,
   "metadata": {},
   "outputs": [],
   "source": [
    "def walking_speed_estimate():\n",
    "    stop_id_A = 917\n",
    "    stop_id_B = 9946\n",
    "    time_in_minutes = 20\n",
    "    stop_A_lat = stops.loc[stops.stop_id == stop_id_A, 'stop_lat'].values[0]\n",
    "    stop_A_lon = stops.loc[stops.stop_id == stop_id_A, 'stop_lon'].values[0]\n",
    "    stop_B_lat = stops.loc[stops.stop_id == stop_id_B, 'stop_lat'].values[0]\n",
    "    stop_B_lon = stops.loc[stops.stop_id == stop_id_B, 'stop_lon'].values[0]\n",
    "    distance = abs(stop_B_lat - stop_A_lat) + abs(stop_B_lon - stop_A_lon)\n",
    "    walking_speed_in_seconds = distance / (time_in_minutes * 60)\n",
    "    return walking_speed_in_seconds"
   ]
  },
  {
   "cell_type": "code",
   "execution_count": 8,
   "metadata": {},
   "outputs": [],
   "source": [
    "def build_shortest_path_table(start_stop_id, current_time_delta):\n",
    "    start_stop_lat = stops.loc[stops.stop_id == start_stop_id, 'stop_lat'].values[0]\n",
    "    start_stop_lon = stops.loc[stops.stop_id == start_stop_id, 'stop_lon'].values[0]\n",
    "    shortest_path = stops.copy()\n",
    "    walking_distance = abs(shortest_path['stop_lat'] - start_stop_lat) + abs(shortest_path['stop_lon'] - start_stop_lon)\n",
    "    walking_speed = walking_speed_estimate()\n",
    "    walking_time = round(walking_distance / walking_speed, 0)\n",
    "    shortest_path['arrival_time_delta'] = current_time_delta + pd.to_timedelta(walking_time, 'seconds')\n",
    "    shortest_path = shortest_path.sort_values(by = 'arrival_time_delta').reset_index(drop = True)\n",
    "    shortest_path['previous_stop'] = start_stop_id\n",
    "    shortest_path['previous_mode'] = 'W'\n",
    "    shortest_path['trip_id'] = None\n",
    "    shortest_path['visited'] = False\n",
    "    return shortest_path"
   ]
  },
  {
   "cell_type": "code",
   "execution_count": 9,
   "metadata": {},
   "outputs": [],
   "source": [
    "stop_schedule_master = schedule[['trip_id', 'shape_id', 'stop_sequence', 'stop_id', 'stop_time_delta']]\n",
    "stop_schedule_master = stop_schedule_master.sort_values(by = 'stop_time_delta').reset_index(drop = True)\n",
    "stop_schedule_master['next_day'] = False"
   ]
  },
  {
   "cell_type": "code",
   "execution_count": 10,
   "metadata": {},
   "outputs": [
    {
     "data": {
      "text/html": [
       "<div>\n",
       "<style scoped>\n",
       "    .dataframe tbody tr th:only-of-type {\n",
       "        vertical-align: middle;\n",
       "    }\n",
       "\n",
       "    .dataframe tbody tr th {\n",
       "        vertical-align: top;\n",
       "    }\n",
       "\n",
       "    .dataframe thead th {\n",
       "        text-align: right;\n",
       "    }\n",
       "</style>\n",
       "<table border=\"1\" class=\"dataframe\">\n",
       "  <thead>\n",
       "    <tr style=\"text-align: right;\">\n",
       "      <th></th>\n",
       "      <th>trip_id</th>\n",
       "      <th>shape_id</th>\n",
       "      <th>stop_sequence</th>\n",
       "      <th>stop_id</th>\n",
       "      <th>stop_time_delta</th>\n",
       "      <th>next_day</th>\n",
       "    </tr>\n",
       "  </thead>\n",
       "  <tbody>\n",
       "    <tr>\n",
       "      <th>0</th>\n",
       "      <td>43003469</td>\n",
       "      <td>887148</td>\n",
       "      <td>1</td>\n",
       "      <td>8533</td>\n",
       "      <td>0 days 03:32:05</td>\n",
       "      <td>False</td>\n",
       "    </tr>\n",
       "    <tr>\n",
       "      <th>1</th>\n",
       "      <td>43003469</td>\n",
       "      <td>887148</td>\n",
       "      <td>2</td>\n",
       "      <td>14963</td>\n",
       "      <td>0 days 03:32:35</td>\n",
       "      <td>False</td>\n",
       "    </tr>\n",
       "    <tr>\n",
       "      <th>2</th>\n",
       "      <td>43003469</td>\n",
       "      <td>887148</td>\n",
       "      <td>3</td>\n",
       "      <td>9271</td>\n",
       "      <td>0 days 03:33:32</td>\n",
       "      <td>False</td>\n",
       "    </tr>\n",
       "  </tbody>\n",
       "</table>\n",
       "</div>"
      ],
      "text/plain": [
       "    trip_id  shape_id  stop_sequence  stop_id stop_time_delta  next_day\n",
       "0  43003469    887148              1     8533 0 days 03:32:05     False\n",
       "1  43003469    887148              2    14963 0 days 03:32:35     False\n",
       "2  43003469    887148              3     9271 0 days 03:33:32     False"
      ]
     },
     "execution_count": 10,
     "metadata": {},
     "output_type": "execute_result"
    }
   ],
   "source": [
    "stop_schedule_master.head(3)"
   ]
  },
  {
   "cell_type": "code",
   "execution_count": 11,
   "metadata": {},
   "outputs": [],
   "source": [
    "%load_ext line_profiler"
   ]
  },
  {
   "cell_type": "code",
   "execution_count": 24,
   "metadata": {},
   "outputs": [],
   "source": [
    "import numexpr"
   ]
  },
  {
   "cell_type": "code",
   "execution_count": null,
   "metadata": {},
   "outputs": [],
   "source": [
    "import numexpr\n",
    "\n",
    "def ne(df):\n",
    "    x = df.A.values\n",
    "    return df[numexpr.evaluate('(x > 5)')]\n",
    "print (ne(df))\n",
    "\n",
    "\n",
    "def ne(x):\n",
    "    x = x.A.values\n",
    "    return x[numexpr.evaluate('(x > 5)')]"
   ]
  },
  {
   "cell_type": "code",
   "execution_count": 79,
   "metadata": {},
   "outputs": [],
   "source": [
    "def build_stop_schedule(start_stop_id, current_time_delta):\n",
    "    i = stop_schedule_master.stop_id.values\n",
    "    df = stop_schedule_master[numexpr.evaluate('(i == start_stop_id)')].copy()\n",
    "    # df = df.query('stop_id == @start_stop_id') # query creates a copy and is faster than .loc\n",
    "    df.loc[df.stop_time_delta < current_time_delta, 'next_day'] = True\n",
    "    df.loc[df.next_day == True, 'stop_time_delta'] = df.loc[df.next_day == True, 'stop_time_delta'].copy() + td(days = 1)\n",
    "    df = pd.concat([df[df.next_day == False], df[df.next_day == True]])\n",
    "    # df = df.sort_values(by = 'stop_time_delta') # avoid resetting index\n",
    "    df = df.drop_duplicates(subset = 'shape_id') # perhaps I can find a better way than to have to sort through our values and then drop duplicates\n",
    "    return df\n",
    "\n",
    "# ERROR - why is my next day not only populating when relevant or else,\n",
    "# why are all the dates for the home stop for the next day?\n",
    "\n",
    "# figure out if a full dataframe needs to be returned or if a list of index values might suffice\n",
    "# how can using numpy with pandas help me out to speed up this one function?"
   ]
  },
  {
   "cell_type": "code",
   "execution_count": 55,
   "metadata": {},
   "outputs": [
    {
     "data": {
      "text/html": [
       "<div>\n",
       "<style scoped>\n",
       "    .dataframe tbody tr th:only-of-type {\n",
       "        vertical-align: middle;\n",
       "    }\n",
       "\n",
       "    .dataframe tbody tr th {\n",
       "        vertical-align: top;\n",
       "    }\n",
       "\n",
       "    .dataframe thead th {\n",
       "        text-align: right;\n",
       "    }\n",
       "</style>\n",
       "<table border=\"1\" class=\"dataframe\">\n",
       "  <thead>\n",
       "    <tr style=\"text-align: right;\">\n",
       "      <th></th>\n",
       "      <th>trip_id</th>\n",
       "      <th>shape_id</th>\n",
       "      <th>stop_sequence</th>\n",
       "      <th>stop_id</th>\n",
       "      <th>stop_time_delta</th>\n",
       "      <th>next_day</th>\n",
       "    </tr>\n",
       "  </thead>\n",
       "  <tbody>\n",
       "    <tr>\n",
       "      <th>922720</th>\n",
       "      <td>43027160</td>\n",
       "      <td>888274</td>\n",
       "      <td>48</td>\n",
       "      <td>917</td>\n",
       "      <td>0 days 19:00:42</td>\n",
       "      <td>False</td>\n",
       "    </tr>\n",
       "    <tr>\n",
       "      <th>925255</th>\n",
       "      <td>43029300</td>\n",
       "      <td>888390</td>\n",
       "      <td>21</td>\n",
       "      <td>917</td>\n",
       "      <td>0 days 19:02:47</td>\n",
       "      <td>False</td>\n",
       "    </tr>\n",
       "    <tr>\n",
       "      <th>930993</th>\n",
       "      <td>43027159</td>\n",
       "      <td>888280</td>\n",
       "      <td>17</td>\n",
       "      <td>917</td>\n",
       "      <td>0 days 19:07:45</td>\n",
       "      <td>False</td>\n",
       "    </tr>\n",
       "    <tr>\n",
       "      <th>1005591</th>\n",
       "      <td>43027215</td>\n",
       "      <td>888281</td>\n",
       "      <td>39</td>\n",
       "      <td>917</td>\n",
       "      <td>0 days 20:20:45</td>\n",
       "      <td>False</td>\n",
       "    </tr>\n",
       "    <tr>\n",
       "      <th>1279910</th>\n",
       "      <td>43005604</td>\n",
       "      <td>887271</td>\n",
       "      <td>53</td>\n",
       "      <td>917</td>\n",
       "      <td>1 days 02:52:20</td>\n",
       "      <td>False</td>\n",
       "    </tr>\n",
       "  </tbody>\n",
       "</table>\n",
       "</div>"
      ],
      "text/plain": [
       "          trip_id  shape_id  stop_sequence  stop_id stop_time_delta  next_day\n",
       "922720   43027160    888274             48      917 0 days 19:00:42     False\n",
       "925255   43029300    888390             21      917 0 days 19:02:47     False\n",
       "930993   43027159    888280             17      917 0 days 19:07:45     False\n",
       "1005591  43027215    888281             39      917 0 days 20:20:45     False\n",
       "1279910  43005604    887271             53      917 1 days 02:52:20     False"
      ]
     },
     "execution_count": 55,
     "metadata": {},
     "output_type": "execute_result"
    }
   ],
   "source": [
    "df = build_stop_schedule(917, td(hours = 19))\n",
    "df"
   ]
  },
  {
   "cell_type": "code",
   "execution_count": null,
   "metadata": {},
   "outputs": [],
   "source": []
  },
  {
   "cell_type": "code",
   "execution_count": 51,
   "metadata": {},
   "outputs": [
    {
     "data": {
      "text/plain": [
       "Timer unit: 1e-06 s\n",
       "\n",
       "Total time: 0.020837 s\n",
       "File: <ipython-input-50-804ec1225870>\n",
       "Function: build_stop_schedule at line 1\n",
       "\n",
       "Line #      Hits         Time  Per Hit   % Time  Line Contents\n",
       "==============================================================\n",
       "     1                                           def build_stop_schedule(start_stop_id, current_time_delta):\n",
       "     2         1         70.0     70.0      0.3      i = stop_schedule_master.stop_id.values\n",
       "     3         1       4485.0   4485.0     21.5      df = stop_schedule_master[numexpr.evaluate('(i == start_stop_id)')]\n",
       "     4                                               # df = df.query('stop_id == @start_stop_id') # query creates a copy and is faster than .loc\n",
       "     5         1        904.0    904.0      4.3      df.loc[df.stop_time_delta < current_time_delta, 'next_day'] = True\n",
       "     6         1       1836.0   1836.0      8.8      df.loc[df.next_day == True, 'stop_time_delta'] += td(days = 1)\n",
       "     7         1       8391.0   8391.0     40.3      df = pd.concat([df[df.next_day == False], df[df.next_day == True]])\n",
       "     8                                               # df = df.sort_values(by = 'stop_time_delta') # avoid resetting index\n",
       "     9         1       5149.0   5149.0     24.7      df = df.drop_duplicates(subset = 'shape_id') # perhaps I can find a better way than to have to sort through our values and then drop duplicates\n",
       "    10         1          2.0      2.0      0.0      return df"
      ]
     },
     "metadata": {},
     "output_type": "display_data"
    }
   ],
   "source": [
    "%lprun -f build_stop_schedule build_stop_schedule(917, td(hours = 19))"
   ]
  },
  {
   "cell_type": "code",
   "execution_count": 43,
   "metadata": {},
   "outputs": [
    {
     "name": "stdout",
     "output_type": "stream",
     "text": [
      "CPU times: user 17.6 ms, sys: 1.78 ms, total: 19.4 ms\n",
      "Wall time: 13.2 ms\n"
     ]
    },
    {
     "data": {
      "text/html": [
       "<div>\n",
       "<style scoped>\n",
       "    .dataframe tbody tr th:only-of-type {\n",
       "        vertical-align: middle;\n",
       "    }\n",
       "\n",
       "    .dataframe tbody tr th {\n",
       "        vertical-align: top;\n",
       "    }\n",
       "\n",
       "    .dataframe thead th {\n",
       "        text-align: right;\n",
       "    }\n",
       "</style>\n",
       "<table border=\"1\" class=\"dataframe\">\n",
       "  <thead>\n",
       "    <tr style=\"text-align: right;\">\n",
       "      <th></th>\n",
       "      <th>trip_id</th>\n",
       "      <th>shape_id</th>\n",
       "      <th>stop_sequence</th>\n",
       "      <th>stop_id</th>\n",
       "      <th>stop_time_delta</th>\n",
       "      <th>next_day</th>\n",
       "    </tr>\n",
       "  </thead>\n",
       "  <tbody>\n",
       "    <tr>\n",
       "      <th>922720</th>\n",
       "      <td>43027160</td>\n",
       "      <td>888274</td>\n",
       "      <td>48</td>\n",
       "      <td>917</td>\n",
       "      <td>0 days 19:00:42</td>\n",
       "      <td>False</td>\n",
       "    </tr>\n",
       "    <tr>\n",
       "      <th>925255</th>\n",
       "      <td>43029300</td>\n",
       "      <td>888390</td>\n",
       "      <td>21</td>\n",
       "      <td>917</td>\n",
       "      <td>0 days 19:02:47</td>\n",
       "      <td>False</td>\n",
       "    </tr>\n",
       "    <tr>\n",
       "      <th>930993</th>\n",
       "      <td>43027159</td>\n",
       "      <td>888280</td>\n",
       "      <td>17</td>\n",
       "      <td>917</td>\n",
       "      <td>0 days 19:07:45</td>\n",
       "      <td>False</td>\n",
       "    </tr>\n",
       "    <tr>\n",
       "      <th>937917</th>\n",
       "      <td>43027200</td>\n",
       "      <td>888274</td>\n",
       "      <td>48</td>\n",
       "      <td>917</td>\n",
       "      <td>0 days 19:13:45</td>\n",
       "      <td>False</td>\n",
       "    </tr>\n",
       "    <tr>\n",
       "      <th>939078</th>\n",
       "      <td>43029301</td>\n",
       "      <td>888390</td>\n",
       "      <td>21</td>\n",
       "      <td>917</td>\n",
       "      <td>0 days 19:14:47</td>\n",
       "      <td>False</td>\n",
       "    </tr>\n",
       "    <tr>\n",
       "      <th>...</th>\n",
       "      <td>...</td>\n",
       "      <td>...</td>\n",
       "      <td>...</td>\n",
       "      <td>...</td>\n",
       "      <td>...</td>\n",
       "      <td>...</td>\n",
       "    </tr>\n",
       "    <tr>\n",
       "      <th>898606</th>\n",
       "      <td>43029298</td>\n",
       "      <td>888390</td>\n",
       "      <td>21</td>\n",
       "      <td>917</td>\n",
       "      <td>1 days 18:40:47</td>\n",
       "      <td>True</td>\n",
       "    </tr>\n",
       "    <tr>\n",
       "      <th>902229</th>\n",
       "      <td>43027244</td>\n",
       "      <td>888280</td>\n",
       "      <td>17</td>\n",
       "      <td>917</td>\n",
       "      <td>1 days 18:43:42</td>\n",
       "      <td>True</td>\n",
       "    </tr>\n",
       "    <tr>\n",
       "      <th>909570</th>\n",
       "      <td>43027242</td>\n",
       "      <td>888274</td>\n",
       "      <td>48</td>\n",
       "      <td>917</td>\n",
       "      <td>1 days 18:49:42</td>\n",
       "      <td>True</td>\n",
       "    </tr>\n",
       "    <tr>\n",
       "      <th>912103</th>\n",
       "      <td>43029299</td>\n",
       "      <td>888390</td>\n",
       "      <td>21</td>\n",
       "      <td>917</td>\n",
       "      <td>1 days 18:51:47</td>\n",
       "      <td>True</td>\n",
       "    </tr>\n",
       "    <tr>\n",
       "      <th>915597</th>\n",
       "      <td>43027241</td>\n",
       "      <td>888280</td>\n",
       "      <td>17</td>\n",
       "      <td>917</td>\n",
       "      <td>1 days 18:54:42</td>\n",
       "      <td>True</td>\n",
       "    </tr>\n",
       "  </tbody>\n",
       "</table>\n",
       "<p>254 rows × 6 columns</p>\n",
       "</div>"
      ],
      "text/plain": [
       "         trip_id  shape_id  stop_sequence  stop_id stop_time_delta  next_day\n",
       "922720  43027160    888274             48      917 0 days 19:00:42     False\n",
       "925255  43029300    888390             21      917 0 days 19:02:47     False\n",
       "930993  43027159    888280             17      917 0 days 19:07:45     False\n",
       "937917  43027200    888274             48      917 0 days 19:13:45     False\n",
       "939078  43029301    888390             21      917 0 days 19:14:47     False\n",
       "...          ...       ...            ...      ...             ...       ...\n",
       "898606  43029298    888390             21      917 1 days 18:40:47      True\n",
       "902229  43027244    888280             17      917 1 days 18:43:42      True\n",
       "909570  43027242    888274             48      917 1 days 18:49:42      True\n",
       "912103  43029299    888390             21      917 1 days 18:51:47      True\n",
       "915597  43027241    888280             17      917 1 days 18:54:42      True\n",
       "\n",
       "[254 rows x 6 columns]"
      ]
     },
     "execution_count": 43,
     "metadata": {},
     "output_type": "execute_result"
    }
   ],
   "source": [
    "%%time\n",
    "\n",
    "df = build_stop_schedule(917, td(hours = 19))\n",
    "df"
   ]
  },
  {
   "cell_type": "code",
   "execution_count": 52,
   "metadata": {},
   "outputs": [
    {
     "name": "stdout",
     "output_type": "stream",
     "text": [
      "10.9 ms ± 273 µs per loop (mean ± std. dev. of 7 runs, 100 loops each)\n"
     ]
    }
   ],
   "source": [
    "%%timeit\n",
    "\n",
    "df2 = build_stop_schedule(917, td(hours = 19))\n",
    "df2"
   ]
  },
  {
   "cell_type": "code",
   "execution_count": null,
   "metadata": {},
   "outputs": [],
   "source": [
    "df.query('next_day == True')"
   ]
  },
  {
   "cell_type": "code",
   "execution_count": null,
   "metadata": {},
   "outputs": [],
   "source": []
  },
  {
   "cell_type": "code",
   "execution_count": null,
   "metadata": {},
   "outputs": [],
   "source": [
    "def build_stop_schedule(start_stop_id, current_time_delta):\n",
    "    stop_schedule = schedule.copy()\n",
    "    stop_schedule = stop_schedule.loc[stop_schedule.stop_id == start_stop_id]\n",
    "    stop_schedule['next_day'] = False\n",
    "    stop_schedule.loc[stop_schedule.stop_time_delta < current_time_delta, 'next_day'] = True\n",
    "    stop_schedule.loc[stop_schedule.stop_time_delta < current_time_delta, 'stop_time_delta'] = stop_schedule.loc[stop_schedule.stop_time_delta < current_time_delta, 'stop_time_delta'] + td(days = 1)\n",
    "    stop_schedule = stop_schedule.sort_values(by = 'stop_time_delta').reset_index(drop = True)\n",
    "    stop_schedule = stop_schedule.drop_duplicates(subset = 'shape_id', keep = 'first', ignore_index = True)\n",
    "    return stop_schedule"
   ]
  },
  {
   "cell_type": "code",
   "execution_count": null,
   "metadata": {},
   "outputs": [],
   "source": [
    "def build_stop_schedule(start_stop_id, current_time_delta):\n",
    "    step_start = time.perf_counter()\n",
    "    \n",
    "    stop_schedule = schedule.copy()\n",
    "    print('1.', (time.perf_counter() - step_start) * 1000, 'ms')\n",
    "    step_start = time.perf_counter()\n",
    "    \n",
    "    stop_schedule = stop_schedule.loc[stop_schedule.stop_id == start_stop_id]\n",
    "    print('2.', (time.perf_counter() - step_start) * 1000, 'ms')\n",
    "    step_start = time.perf_counter()\n",
    "    \n",
    "    stop_schedule['next_day'] = False\n",
    "    print('3.', (time.perf_counter() - step_start) * 1000, 'ms')\n",
    "    step_start = time.perf_counter()\n",
    "    \n",
    "    stop_schedule.loc[stop_schedule.stop_time_delta < current_time_delta, 'next_day'] = True\n",
    "    print('4.', (time.perf_counter() - step_start) * 1000, 'ms')\n",
    "    step_start = time.perf_counter()\n",
    "    \n",
    "    stop_schedule.loc[stop_schedule.stop_time_delta < current_time_delta, 'stop_time_delta'] = stop_schedule.loc[stop_schedule.stop_time_delta < current_time_delta, 'stop_time_delta'] + td(days = 1)\n",
    "    print('5.', (time.perf_counter() - step_start) * 1000, 'ms')\n",
    "    step_start = time.perf_counter()\n",
    "    \n",
    "    stop_schedule = stop_schedule.sort_values(by = 'stop_time_delta').reset_index(drop = True)\n",
    "    print('6.', (time.perf_counter() - step_start) * 1000, 'ms')\n",
    "    step_start = time.perf_counter()\n",
    "        \n",
    "    stop_schedule = stop_schedule.drop_duplicates(subset = 'shape_id', keep = 'first', ignore_index = True)\n",
    "    print('7.', (time.perf_counter() - step_start) * 1000, 'ms')\n",
    "    step_start = time.perf_counter()\n",
    "    \n",
    "    return stop_schedule"
   ]
  },
  {
   "cell_type": "code",
   "execution_count": 66,
   "metadata": {},
   "outputs": [],
   "source": [
    "def update_shortest_path(shortest_path, stop_schedule, current_time_delta, visiting_stop_id):\n",
    "    \n",
    "#     step_start = time.perf_counter()\n",
    "#     print('start')\n",
    "#     print()\n",
    "\n",
    "    upcoming_trip_stops = []\n",
    "    for i in range(0, len(stop_schedule)):\n",
    "        current_trip_id = stop_schedule['trip_id'].values[i]\n",
    "        current_stop_sequence = stop_schedule['stop_sequence'].values[i]\n",
    "        next_day = stop_schedule['next_day'].values[i]\n",
    "        next_stops = schedule.loc[(schedule.trip_id == current_trip_id) & (schedule.stop_sequence > current_stop_sequence)].copy()\n",
    "        if (next_day):\n",
    "            next_stops.stop_time_delta = next_stops.stop_time_delta + td(days = 1)        \n",
    "        upcoming_trip_stops.append(next_stops)\n",
    "    upcoming_trip_stops = pd.concat(upcoming_trip_stops)\n",
    "    upcoming_trip_stops = upcoming_trip_stops.sort_values(by = 'stop_time_delta').drop_duplicates(subset = 'stop_id', keep = 'first').reset_index(drop = True)\n",
    "    \n",
    "#     print('step one', (time.perf_counter() - step_start) * 100, 'hundredths of a second')\n",
    "#     print('----------')\n",
    "#     step_start = time.perf_counter()\n",
    "    \n",
    "    for i in range(0, len(upcoming_trip_stops)):\n",
    "        current_stop_id = upcoming_trip_stops.loc[i, 'stop_id']\n",
    "        current_stop_time_delta = upcoming_trip_stops.loc[i, 'stop_time_delta']\n",
    "        current_trip_id = upcoming_trip_stops.loc[i, 'trip_id']\n",
    "        current_arrival_time = shortest_path.loc[shortest_path.stop_id == current_stop_id, 'arrival_time_delta'].values[0]\n",
    "        \n",
    "        if (current_arrival_time > current_stop_time_delta):\n",
    "            shortest_path.loc[shortest_path.stop_id == current_stop_id, 'arrival_time_delta'] = current_stop_time_delta\n",
    "            shortest_path.loc[shortest_path.stop_id == current_stop_id, 'previous_stop'] = visiting_stop_id\n",
    "            shortest_path.loc[shortest_path.stop_id == current_stop_id, 'previous_mode'] = 'T'\n",
    "            shortest_path.loc[shortest_path.stop_id == current_stop_id, 'trip_id'] = current_trip_id\n",
    "    \n",
    "#     print('step two', (time.perf_counter() - step_start) * 100, 'hundredths of a second')\n",
    "#     print('----------')\n",
    "#     step_start = time.perf_counter()\n",
    "            \n",
    "    shortest_path = shortest_path.sort_values(by = 'arrival_time_delta').reset_index(drop = True)\n",
    "    shortest_path.loc[shortest_path.stop_id == visiting_stop_id, 'visited'] = True\n",
    "    \n",
    "#     print('step three', (time.perf_counter() - step_start) * 100, 'hundredths of a second')\n",
    "#     print('----------')\n",
    "#     step_start = time.perf_counter()\n",
    "    \n",
    "#     print()\n",
    "#     print()\n",
    "    \n",
    "    return shortest_path"
   ]
  },
  {
   "cell_type": "code",
   "execution_count": 46,
   "metadata": {},
   "outputs": [],
   "source": [
    "def update_walking_path(shortest_path, current_time_delta, visiting_stop_id):\n",
    "    visiting_stop_lat = stops.loc[stops.stop_id == visiting_stop_id, 'stop_lat'].values[0]\n",
    "    visiting_stop_lon = stops.loc[stops.stop_id == visiting_stop_id, 'stop_lon'].values[0]\n",
    "    walking_distance = abs(shortest_path['stop_lat'] - visiting_stop_lat) + abs(shortest_path['stop_lon'] - visiting_stop_lon)\n",
    "    walking_speed = walking_speed_estimate()\n",
    "    walking_time = round(walking_distance / walking_speed, 0)\n",
    "    shortest_path['walking_arrival_time_delta'] = current_time_delta + pd.to_timedelta(walking_time, 'seconds')\n",
    "    \n",
    "    mask = shortest_path.arrival_time_delta > shortest_path.walking_arrival_time_delta\n",
    "    shortest_path.loc[mask, 'arrival_time_delta'] = shortest_path.loc[mask, 'walking_arrival_time_delta']\n",
    "    shortest_path.loc[mask, 'previous_stop'] = visiting_stop_id\n",
    "    shortest_path.loc[mask, 'previous_mode'] = 'W'\n",
    "    shortest_path.loc[mask, 'trip_id'] = None\n",
    "    \n",
    "#     for i in range(0, len(shortest_path)):\n",
    "        \n",
    "#         arrival_time_delta = shortest_path.loc[i, 'arrival_time_delta']\n",
    "#         walking_arrival_time_delta = shortest_path.loc[i, 'walking_arrival_time_delta']\n",
    "#         if (arrival_time_delta > walking_arrival_time_delta):\n",
    "#             shortest_path.loc[i, 'arrival_time_delta'] = walking_arrival_time_delta\n",
    "#             shortest_path.loc[i, 'previous_stop'] = visiting_stop_id\n",
    "#             shortest_path.loc[i, 'previous_mode'] = 'W'\n",
    "#             shortest_path.loc[i, 'trip_id'] = None\n",
    "    \n",
    "    shortest_path = shortest_path.sort_values(by = 'arrival_time_delta').reset_index(drop = True)\n",
    "    shortest_path = shortest_path.drop(columns = 'walking_arrival_time_delta')\n",
    "    \n",
    "    return shortest_path"
   ]
  },
  {
   "cell_type": "markdown",
   "metadata": {},
   "source": [
    "---\n",
    "## Define Master Function"
   ]
  },
  {
   "cell_type": "code",
   "execution_count": 81,
   "metadata": {},
   "outputs": [],
   "source": [
    "def find_shortest_path(start_lat, start_lon, end_lat, end_lon, start_time_delta):\n",
    "    \n",
    "    time_start = time.perf_counter()\n",
    "    #print('start', time.perf_counter() - time_start, 'seconds')\n",
    "    \n",
    "    start_stop_id = find_closest_stop_id(start_lat, start_lon)\n",
    "    #print('find_closest_stop_id', time.perf_counter() - time_start, 'seconds')\n",
    "    \n",
    "    shortest_path = build_shortest_path_table(start_stop_id, start_time_delta)\n",
    "#     print('build_shortest_path_table', time.perf_counter() - time_start, 'seconds')\n",
    "#     print('---')\n",
    "#     print()\n",
    "#     print()\n",
    "    \n",
    "    for i in range(0, len(shortest_path)):\n",
    "               \n",
    "#         if (i < 940):\n",
    "#             pass\n",
    "#         else:\n",
    "#             break\n",
    "        \n",
    "        time_loop = time.perf_counter()\n",
    "        #print('loop_start', time.perf_counter() - time_start, 'seconds')\n",
    "        \n",
    "        next_stop_record = shortest_path.loc[shortest_path.visited == False].iloc[0]\n",
    "        current_stop_id = next_stop_record.stop_id\n",
    "        current_time_delta = next_stop_record.arrival_time_delta\n",
    "        previous_mode = next_stop_record.previous_mode\n",
    "        #print('loop_values', i, current_stop_id, current_time_delta, previous_mode)\n",
    "        \n",
    "        #print('loop_setup', time.perf_counter() - time_loop, 'seconds')\n",
    "        \n",
    "        if (previous_mode == 'T'):\n",
    "            shortest_path = update_walking_path(shortest_path, current_time_delta, current_stop_id)\n",
    "            #print('*')\n",
    "            #print('update_walking_path', time.perf_counter() - time_loop, 'seconds')\n",
    "            \n",
    "            pass\n",
    "            # insert logic for calculating walking time to other stops\n",
    "            # update shortest_path if walking time < current arrival time\n",
    "        stop_schedule = build_stop_schedule(current_stop_id, current_time_delta)\n",
    "        #print('build_stop_schedule', time.perf_counter() - time_loop, 'seconds')\n",
    "\n",
    "        shortest_path = update_shortest_path(shortest_path, stop_schedule, current_time_delta, current_stop_id)\n",
    "        #print('update_shortest_path', time.perf_counter() - time_loop, 'seconds')\n",
    "        #print()\n",
    "        #print()\n",
    "\n",
    "    #print('finish', time.perf_counter() - time_start, 'seconds')\n",
    "    \n",
    "    return shortest_path"
   ]
  },
  {
   "cell_type": "raw",
   "metadata": {},
   "source": [
    "def find_shortest_path(start_lat, start_lon, end_lat, end_lon, current_time_delta):\n",
    "    start_stop_id = find_closest_stop_id(start_lat, start_lon)\n",
    "    shortest_path = build_shortest_path_table(start_stop_id, current_time_delta)\n",
    "    stop_schedule = build_stop_schedule(start_stop_id, current_time_delta)\n",
    "    shortest_path = update_shortest_path(shortest_path, stop_schedule, current_time_delta, start_stop_id)\n",
    "    shortest_path.loc[0, 'visited'] = True\n",
    "    current_stop_id = shortest_path.loc[shortest_path.visited == False, 'stop_id'].values[0]\n",
    "    return [stop_schedule, shortest_path]"
   ]
  },
  {
   "cell_type": "markdown",
   "metadata": {},
   "source": [
    "---\n",
    "## Test Functions"
   ]
  },
  {
   "cell_type": "code",
   "execution_count": 48,
   "metadata": {},
   "outputs": [],
   "source": [
    "home = [43.76008911645013, -79.33181124795766]\n",
    "longos = [43.75447805630398, -79.35689569243047]\n",
    "gonoe = [43.7459232592541, -79.34612864369309]\n",
    "current_time_delta = td(hours = 19, minutes = 0, seconds = 0)"
   ]
  },
  {
   "cell_type": "code",
   "execution_count": 83,
   "metadata": {},
   "outputs": [
    {
     "name": "stdout",
     "output_type": "stream",
     "text": [
      "CPU times: user 11min 35s, sys: 18.6 s, total: 11min 53s\n",
      "Wall time: 8min 6s\n"
     ]
    }
   ],
   "source": [
    "%%time\n",
    "\n",
    "output = find_shortest_path(home[0], home[1], longos[0], longos[1], current_time_delta)"
   ]
  },
  {
   "cell_type": "code",
   "execution_count": null,
   "metadata": {},
   "outputs": [],
   "source": [
    "output"
   ]
  },
  {
   "cell_type": "code",
   "execution_count": null,
   "metadata": {},
   "outputs": [],
   "source": [
    "output.to_feather('data/export/output.ftr')"
   ]
  },
  {
   "cell_type": "code",
   "execution_count": null,
   "metadata": {},
   "outputs": [],
   "source": [
    "find_closest_stop_id(gonoe[0], gonoe[1])"
   ]
  },
  {
   "cell_type": "code",
   "execution_count": null,
   "metadata": {},
   "outputs": [],
   "source": [
    "output"
   ]
  },
  {
   "cell_type": "code",
   "execution_count": null,
   "metadata": {},
   "outputs": [],
   "source": [
    "output.query('stop_id == 917')"
   ]
  },
  {
   "cell_type": "code",
   "execution_count": null,
   "metadata": {},
   "outputs": [],
   "source": [
    "schedule.query('(stop_id == 9834 | stop_id == 917) & trip_id == 43027160')"
   ]
  },
  {
   "cell_type": "code",
   "execution_count": null,
   "metadata": {},
   "outputs": [],
   "source": [
    "output.query('stop_id == 9834')"
   ]
  },
  {
   "cell_type": "code",
   "execution_count": null,
   "metadata": {},
   "outputs": [],
   "source": [
    "output.query('stop_id == 4590')"
   ]
  },
  {
   "cell_type": "code",
   "execution_count": null,
   "metadata": {},
   "outputs": [],
   "source": [
    "schedule.query('(stop_id == 4590 | stop_id == 3736) & trip_id == 43000162')"
   ]
  },
  {
   "cell_type": "code",
   "execution_count": null,
   "metadata": {},
   "outputs": [],
   "source": [
    "output.query('stop_id == 3736')"
   ]
  },
  {
   "cell_type": "code",
   "execution_count": null,
   "metadata": {},
   "outputs": [],
   "source": [
    "output.query('stop_id == 5740')"
   ]
  },
  {
   "cell_type": "code",
   "execution_count": null,
   "metadata": {},
   "outputs": [],
   "source": [
    "output"
   ]
  },
  {
   "cell_type": "code",
   "execution_count": null,
   "metadata": {},
   "outputs": [],
   "source": []
  }
 ],
 "metadata": {
  "kernelspec": {
   "display_name": "Python 3",
   "language": "python",
   "name": "python3"
  },
  "language_info": {
   "codemirror_mode": {
    "name": "ipython",
    "version": 3
   },
   "file_extension": ".py",
   "mimetype": "text/x-python",
   "name": "python",
   "nbconvert_exporter": "python",
   "pygments_lexer": "ipython3",
   "version": "3.8.5"
  }
 },
 "nbformat": 4,
 "nbformat_minor": 4
}
