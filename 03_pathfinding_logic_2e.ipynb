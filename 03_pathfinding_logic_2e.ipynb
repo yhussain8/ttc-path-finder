{
 "cells": [
  {
   "cell_type": "markdown",
   "metadata": {},
   "source": [
    "# Pathfinding Logic\n",
    "- Attempt to implement Dijkstra's Shortest Path Algorithm"
   ]
  },
  {
   "cell_type": "markdown",
   "metadata": {},
   "source": [
    "## Setup & Data Import"
   ]
  },
  {
   "cell_type": "code",
   "execution_count": 1,
   "metadata": {},
   "outputs": [],
   "source": [
    "import folium\n",
    "import numpy as np\n",
    "import pandas as pd\n",
    "from datetime import datetime as dt\n",
    "from datetime import timedelta as td\n",
    "import matplotlib.pyplot as plt"
   ]
  },
  {
   "cell_type": "code",
   "execution_count": 2,
   "metadata": {},
   "outputs": [],
   "source": [
    "data_tables = ['calendar_dates', 'calendar', 'routes', 'shapes', 'stop_times', 'stops', 'trips']"
   ]
  },
  {
   "cell_type": "code",
   "execution_count": 4,
   "metadata": {},
   "outputs": [],
   "source": [
    "# import data preprocessed and saved in feather format\n",
    "\n",
    "for table in data_tables:\n",
    "    globals()[table] = pd.read_feather(f'data/store/{table}.ftr')"
   ]
  },
  {
   "cell_type": "markdown",
   "metadata": {},
   "source": [
    "## Helper Function: Table Values"
   ]
  },
  {
   "cell_type": "code",
   "execution_count": 5,
   "metadata": {},
   "outputs": [],
   "source": [
    "# print the shape of a dataframe and value counts operation on each column within\n",
    "\n",
    "def table_values(df):\n",
    "    df_shape = df.shape\n",
    "    df_rows = df_shape[0]\n",
    "    df_columns = df_shape[1]\n",
    "    print(f'{df_rows} rows x {df_columns} columns')\n",
    "    print()\n",
    "    for column in df:\n",
    "        print(column.upper())\n",
    "        print(df[column].value_counts().sort_index(ascending = False).sort_values(ascending = False))\n",
    "        print()"
   ]
  },
  {
   "cell_type": "markdown",
   "metadata": {},
   "source": [
    "## Experimental Input Values"
   ]
  },
  {
   "cell_type": "code",
   "execution_count": 6,
   "metadata": {},
   "outputs": [],
   "source": [
    "# Instantiate all landmarks to be used for pathfinding experimentation\n",
    "\n",
    "home = [43.76008911645013, -79.33181124795766]\n",
    "longos = [43.75447805630398, -79.35689569243047]\n",
    "gonoe = [43.7459232592541, -79.34612864369309]"
   ]
  },
  {
   "cell_type": "markdown",
   "metadata": {},
   "source": [
    "## Helper Functions: Find Closest Stop(s)"
   ]
  },
  {
   "cell_type": "code",
   "execution_count": 7,
   "metadata": {},
   "outputs": [],
   "source": [
    "# Return a list of closest stops\n",
    "\n",
    "def find_closest_stops(input_lat, input_lon):\n",
    "    stop_distance_df = stops.loc[:, ['stop_id', 'stop_name', 'stop_lat', 'stop_lon']]\n",
    "    stop_distance_df['distance'] = ( abs(input_lat - stop_distance_df['stop_lat'])**2 + abs(input_lon - stop_distance_df['stop_lon'])**2 )**(1/2)\n",
    "    return stop_distance_df.sort_values(by = 'distance').reset_index(drop = True)"
   ]
  },
  {
   "cell_type": "code",
   "execution_count": 8,
   "metadata": {},
   "outputs": [],
   "source": [
    "# Return just the stop_id for the closest stop\n",
    "\n",
    "def find_closest_stop_id(input_lat, input_lon):\n",
    "    stop_distance_df = stops.loc[:, ['stop_id', 'stop_lat', 'stop_lon']]\n",
    "    stop_distance_df['distance'] = ( abs(input_lat - stop_distance_df['stop_lat'])**2 + abs(input_lon - stop_distance_df['stop_lon'])**2 )**(1/2)\n",
    "    return stop_distance_df.sort_values(by = 'distance').reset_index(drop = True).loc[0, 'stop_id']"
   ]
  },
  {
   "cell_type": "code",
   "execution_count": 9,
   "metadata": {},
   "outputs": [
    {
     "data": {
      "text/html": [
       "<div>\n",
       "<style scoped>\n",
       "    .dataframe tbody tr th:only-of-type {\n",
       "        vertical-align: middle;\n",
       "    }\n",
       "\n",
       "    .dataframe tbody tr th {\n",
       "        vertical-align: top;\n",
       "    }\n",
       "\n",
       "    .dataframe thead th {\n",
       "        text-align: right;\n",
       "    }\n",
       "</style>\n",
       "<table border=\"1\" class=\"dataframe\">\n",
       "  <thead>\n",
       "    <tr style=\"text-align: right;\">\n",
       "      <th></th>\n",
       "      <th>stop_id</th>\n",
       "      <th>stop_name</th>\n",
       "      <th>stop_lat</th>\n",
       "      <th>stop_lon</th>\n",
       "      <th>distance</th>\n",
       "    </tr>\n",
       "  </thead>\n",
       "  <tbody>\n",
       "    <tr>\n",
       "      <th>0</th>\n",
       "      <td>917</td>\n",
       "      <td>York Mills Rd at Sandover Dr (1222 York Mills)</td>\n",
       "      <td>43.759813</td>\n",
       "      <td>-79.331751</td>\n",
       "      <td>0.000283</td>\n",
       "    </tr>\n",
       "    <tr>\n",
       "      <th>1</th>\n",
       "      <td>8081</td>\n",
       "      <td>York Mills Rd at Valley Woods Rd East Side</td>\n",
       "      <td>43.759595</td>\n",
       "      <td>-79.332036</td>\n",
       "      <td>0.000543</td>\n",
       "    </tr>\n",
       "    <tr>\n",
       "      <th>2</th>\n",
       "      <td>10256</td>\n",
       "      <td>113 Valley Woods Rd</td>\n",
       "      <td>43.758960</td>\n",
       "      <td>-79.332778</td>\n",
       "      <td>0.001486</td>\n",
       "    </tr>\n",
       "  </tbody>\n",
       "</table>\n",
       "</div>"
      ],
      "text/plain": [
       "   stop_id                                       stop_name   stop_lat  \\\n",
       "0      917  York Mills Rd at Sandover Dr (1222 York Mills)  43.759813   \n",
       "1     8081      York Mills Rd at Valley Woods Rd East Side  43.759595   \n",
       "2    10256                             113 Valley Woods Rd  43.758960   \n",
       "\n",
       "    stop_lon  distance  \n",
       "0 -79.331751  0.000283  \n",
       "1 -79.332036  0.000543  \n",
       "2 -79.332778  0.001486  "
      ]
     },
     "metadata": {},
     "output_type": "display_data"
    },
    {
     "data": {
      "text/plain": [
       "'closest stop_id: 917'"
      ]
     },
     "metadata": {},
     "output_type": "display_data"
    }
   ],
   "source": [
    "# Example of using closest stop functions\n",
    "\n",
    "display(find_closest_stops(home[0], home[1]).head(3))\n",
    "display(f'closest stop_id: {find_closest_stop_id(home[0], home[1])}')"
   ]
  },
  {
   "cell_type": "markdown",
   "metadata": {},
   "source": [
    "---\n",
    "## Master Function: Find Shortest Path"
   ]
  },
  {
   "cell_type": "code",
   "execution_count": 10,
   "metadata": {},
   "outputs": [],
   "source": [
    "def find_shortest_path(start_lat, start_lon, end_lat, end_lon):\n",
    "    start_stop_id = find_closest_stop_id(start_lat, start_lon)\n",
    "    current_stop_id = start_stop_id\n",
    "    current_dt = dt(1900, 1, 1, 19, 0, 0)\n",
    "    print(start_stop_id, current_dt.strftime('%H:%M:%S'))"
   ]
  },
  {
   "cell_type": "code",
   "execution_count": 11,
   "metadata": {},
   "outputs": [
    {
     "name": "stdout",
     "output_type": "stream",
     "text": [
      "917 19:00:00\n"
     ]
    }
   ],
   "source": [
    "find_shortest_path(home[0], home[1], longos[0], longos[1])"
   ]
  },
  {
   "cell_type": "code",
   "execution_count": 12,
   "metadata": {},
   "outputs": [
    {
     "data": {
      "text/html": [
       "<div>\n",
       "<style scoped>\n",
       "    .dataframe tbody tr th:only-of-type {\n",
       "        vertical-align: middle;\n",
       "    }\n",
       "\n",
       "    .dataframe tbody tr th {\n",
       "        vertical-align: top;\n",
       "    }\n",
       "\n",
       "    .dataframe thead th {\n",
       "        text-align: right;\n",
       "    }\n",
       "</style>\n",
       "<table border=\"1\" class=\"dataframe\">\n",
       "  <thead>\n",
       "    <tr style=\"text-align: right;\">\n",
       "      <th></th>\n",
       "      <th>stop_id</th>\n",
       "      <th>stop_code</th>\n",
       "      <th>stop_name</th>\n",
       "      <th>stop_lat</th>\n",
       "      <th>stop_lon</th>\n",
       "      <th>wheelchair_boarding</th>\n",
       "    </tr>\n",
       "  </thead>\n",
       "  <tbody>\n",
       "    <tr>\n",
       "      <th>0</th>\n",
       "      <td>262</td>\n",
       "      <td>662</td>\n",
       "      <td>Danforth Rd at Kennedy Rd</td>\n",
       "      <td>43.714379</td>\n",
       "      <td>-79.260939</td>\n",
       "      <td>2</td>\n",
       "    </tr>\n",
       "    <tr>\n",
       "      <th>1</th>\n",
       "      <td>263</td>\n",
       "      <td>929</td>\n",
       "      <td>Davenport Rd at Bedford Rd</td>\n",
       "      <td>43.674448</td>\n",
       "      <td>-79.399659</td>\n",
       "      <td>1</td>\n",
       "    </tr>\n",
       "    <tr>\n",
       "      <th>2</th>\n",
       "      <td>264</td>\n",
       "      <td>940</td>\n",
       "      <td>Davenport Rd at Dupont St</td>\n",
       "      <td>43.675511</td>\n",
       "      <td>-79.401938</td>\n",
       "      <td>2</td>\n",
       "    </tr>\n",
       "  </tbody>\n",
       "</table>\n",
       "</div>"
      ],
      "text/plain": [
       "   stop_id  stop_code                   stop_name   stop_lat   stop_lon  \\\n",
       "0      262        662   Danforth Rd at Kennedy Rd  43.714379 -79.260939   \n",
       "1      263        929  Davenport Rd at Bedford Rd  43.674448 -79.399659   \n",
       "2      264        940   Davenport Rd at Dupont St  43.675511 -79.401938   \n",
       "\n",
       "   wheelchair_boarding  \n",
       "0                    2  \n",
       "1                    1  \n",
       "2                    2  "
      ]
     },
     "execution_count": 12,
     "metadata": {},
     "output_type": "execute_result"
    }
   ],
   "source": [
    "stops.head(3)"
   ]
  },
  {
   "cell_type": "markdown",
   "metadata": {},
   "source": [
    "## Manual First Attempt\n",
    "*Eventually consolidate all code below into the master function above.*\n",
    "\n",
    "Manually calculate all routes from home to Longo's and Gonoe."
   ]
  },
  {
   "cell_type": "markdown",
   "metadata": {},
   "source": [
    "---\n",
    "### Create the shortest path table and calculate the distance from the home stop\n",
    "*The shortest path table is where we will store all information that we discover on the way towards implementing Dijkstra's algorithm. We will update this table step by step until we discover the shortest path from the current stop.*\n",
    "\n",
    "When populating this table for the first time, we we will update the initial distance values by taking into account the differences between the latitude and longitude coordinates of each stop to the home/current stop."
   ]
  },
  {
   "cell_type": "code",
   "execution_count": 13,
   "metadata": {},
   "outputs": [],
   "source": [
    "# store the home stop id into a dedicated variable\n",
    "current_stop_id = 917\n",
    "\n",
    "# create a new reference dataframe containing only the home stop\n",
    "current_stop_df = stops[stops.stop_id == current_stop_id]\n",
    "\n",
    "# store the home stop's geocoordinates into dedicated variables\n",
    "current_stop_lat = current_stop_df.stop_lat.item()\n",
    "current_stop_lon = current_stop_df.stop_lon.item()"
   ]
  },
  {
   "cell_type": "code",
   "execution_count": 14,
   "metadata": {},
   "outputs": [],
   "source": [
    "# create new dataframe built off the stops table but with fewer columns\n",
    "shortest_path_df = stops.loc[:, ['stop_id', 'stop_name', 'stop_lat', 'stop_lon']]\n",
    "\n",
    "# create a new column called distance \n",
    "# which measures the distance between the home stop and all other stops\n",
    "# using Pythagorean Theorem\n",
    "shortest_path_df['distance'] = abs(current_stop_lat - shortest_path_df['stop_lat']) + abs(current_stop_lon - shortest_path_df['stop_lon'])\n",
    "\n",
    "# sort table by distance values, low to high\n",
    "shortest_path_df.sort_values(by = 'distance', inplace = True)\n",
    "\n",
    "# reset the index of the sorted table\n",
    "shortest_path_df.reset_index(drop = True, inplace = True )"
   ]
  },
  {
   "cell_type": "code",
   "execution_count": 15,
   "metadata": {},
   "outputs": [
    {
     "data": {
      "text/html": [
       "<div>\n",
       "<style scoped>\n",
       "    .dataframe tbody tr th:only-of-type {\n",
       "        vertical-align: middle;\n",
       "    }\n",
       "\n",
       "    .dataframe tbody tr th {\n",
       "        vertical-align: top;\n",
       "    }\n",
       "\n",
       "    .dataframe thead th {\n",
       "        text-align: right;\n",
       "    }\n",
       "</style>\n",
       "<table border=\"1\" class=\"dataframe\">\n",
       "  <thead>\n",
       "    <tr style=\"text-align: right;\">\n",
       "      <th></th>\n",
       "      <th>stop_id</th>\n",
       "      <th>stop_name</th>\n",
       "      <th>stop_lat</th>\n",
       "      <th>stop_lon</th>\n",
       "      <th>distance</th>\n",
       "    </tr>\n",
       "  </thead>\n",
       "  <tbody>\n",
       "    <tr>\n",
       "      <th>0</th>\n",
       "      <td>917</td>\n",
       "      <td>York Mills Rd at Sandover Dr (1222 York Mills)</td>\n",
       "      <td>43.759813</td>\n",
       "      <td>-79.331751</td>\n",
       "      <td>0.000000</td>\n",
       "    </tr>\n",
       "    <tr>\n",
       "      <th>1</th>\n",
       "      <td>8081</td>\n",
       "      <td>York Mills Rd at Valley Woods Rd East Side</td>\n",
       "      <td>43.759595</td>\n",
       "      <td>-79.332036</td>\n",
       "      <td>0.000503</td>\n",
       "    </tr>\n",
       "    <tr>\n",
       "      <th>2</th>\n",
       "      <td>10256</td>\n",
       "      <td>113 Valley Woods Rd</td>\n",
       "      <td>43.758960</td>\n",
       "      <td>-79.332778</td>\n",
       "      <td>0.001880</td>\n",
       "    </tr>\n",
       "  </tbody>\n",
       "</table>\n",
       "</div>"
      ],
      "text/plain": [
       "   stop_id                                       stop_name   stop_lat  \\\n",
       "0      917  York Mills Rd at Sandover Dr (1222 York Mills)  43.759813   \n",
       "1     8081      York Mills Rd at Valley Woods Rd East Side  43.759595   \n",
       "2    10256                             113 Valley Woods Rd  43.758960   \n",
       "\n",
       "    stop_lon  distance  \n",
       "0 -79.331751  0.000000  \n",
       "1 -79.332036  0.000503  \n",
       "2 -79.332778  0.001880  "
      ]
     },
     "execution_count": 15,
     "metadata": {},
     "output_type": "execute_result"
    }
   ],
   "source": [
    "shortest_path_df.head(3)"
   ]
  },
  {
   "cell_type": "markdown",
   "metadata": {},
   "source": [
    "---\n",
    "### Estimate walking distance"
   ]
  },
  {
   "cell_type": "code",
   "execution_count": 16,
   "metadata": {},
   "outputs": [
    {
     "data": {
      "text/html": [
       "<div>\n",
       "<style scoped>\n",
       "    .dataframe tbody tr th:only-of-type {\n",
       "        vertical-align: middle;\n",
       "    }\n",
       "\n",
       "    .dataframe tbody tr th {\n",
       "        vertical-align: top;\n",
       "    }\n",
       "\n",
       "    .dataframe thead th {\n",
       "        text-align: right;\n",
       "    }\n",
       "</style>\n",
       "<table border=\"1\" class=\"dataframe\">\n",
       "  <thead>\n",
       "    <tr style=\"text-align: right;\">\n",
       "      <th></th>\n",
       "      <th>stop_id</th>\n",
       "      <th>stop_name</th>\n",
       "      <th>stop_lat</th>\n",
       "      <th>stop_lon</th>\n",
       "      <th>distance</th>\n",
       "    </tr>\n",
       "  </thead>\n",
       "  <tbody>\n",
       "    <tr>\n",
       "      <th>81</th>\n",
       "      <td>9946</td>\n",
       "      <td>Victoria Park Ave at York Mills Rd South Side</td>\n",
       "      <td>43.762734</td>\n",
       "      <td>-79.317551</td>\n",
       "      <td>0.017121</td>\n",
       "    </tr>\n",
       "  </tbody>\n",
       "</table>\n",
       "</div>"
      ],
      "text/plain": [
       "    stop_id                                      stop_name   stop_lat  \\\n",
       "81     9946  Victoria Park Ave at York Mills Rd South Side  43.762734   \n",
       "\n",
       "     stop_lon  distance  \n",
       "81 -79.317551  0.017121  "
      ]
     },
     "execution_count": 16,
     "metadata": {},
     "output_type": "execute_result"
    }
   ],
   "source": [
    "# store the reference point stop into a dedicated variable\n",
    "# walk to this stop from home stop takes me approximately 20 minutes to walk\n",
    "walk_est_point = shortest_path_df[shortest_path_df.stop_id == 9946]\n",
    "walk_est_point"
   ]
  },
  {
   "cell_type": "code",
   "execution_count": 17,
   "metadata": {},
   "outputs": [],
   "source": [
    "# distance divided by 20 minutes\n",
    "walk_speed_min = walk_est_point.distance.item() / 20\n",
    "\n",
    "# distance divided by 1200 seconds\n",
    "walk_speed_sec = walk_est_point.distance.item() / (20 * 60)"
   ]
  },
  {
   "cell_type": "code",
   "execution_count": 18,
   "metadata": {},
   "outputs": [],
   "source": [
    "# create a new column to store walking duration time\n",
    "# while setting the default value to zero\n",
    "shortest_path_df['duration'] = 0"
   ]
  },
  {
   "cell_type": "code",
   "execution_count": 19,
   "metadata": {},
   "outputs": [],
   "source": [
    "# loop through every stop record on the shortest_path_df\n",
    "for i in range(0, len(shortest_path_df)):\n",
    "    \n",
    "    # calculate walking time based on distance\n",
    "    walking_time = round(shortest_path_df.loc[i, 'distance'] / walk_speed_sec, 0)\n",
    "    \n",
    "    # update the duration and seconds column using walking time\n",
    "    shortest_path_df.loc[i, 'duration'] = td(seconds = walking_time)\n",
    "    shortest_path_df.loc[i, 'seconds'] = walking_time\n",
    "    \n",
    "# convert the seconds column into integer type (removing all decimal points)\n",
    "shortest_path_df.seconds = shortest_path_df.seconds.astype('int')"
   ]
  },
  {
   "cell_type": "code",
   "execution_count": 20,
   "metadata": {},
   "outputs": [
    {
     "data": {
      "text/plain": [
       "1.4267500000002541e-05"
      ]
     },
     "execution_count": 20,
     "metadata": {},
     "output_type": "execute_result"
    }
   ],
   "source": [
    "walk_speed_sec"
   ]
  },
  {
   "cell_type": "markdown",
   "metadata": {},
   "source": [
    "---\n",
    "### Further formatting of the shortest path table"
   ]
  },
  {
   "cell_type": "code",
   "execution_count": 19,
   "metadata": {},
   "outputs": [],
   "source": [
    "# create two new columns while setting their default values\n",
    "shortest_path_df['previous_stop'] = 0\n",
    "shortest_path_df['visited'] = False"
   ]
  },
  {
   "cell_type": "code",
   "execution_count": 20,
   "metadata": {},
   "outputs": [],
   "source": [
    "# set the home stop as the current stop\n",
    "current_stop = shortest_path_df.loc[0, 'stop_id']"
   ]
  },
  {
   "cell_type": "code",
   "execution_count": 21,
   "metadata": {},
   "outputs": [
    {
     "data": {
      "text/html": [
       "<div>\n",
       "<style scoped>\n",
       "    .dataframe tbody tr th:only-of-type {\n",
       "        vertical-align: middle;\n",
       "    }\n",
       "\n",
       "    .dataframe tbody tr th {\n",
       "        vertical-align: top;\n",
       "    }\n",
       "\n",
       "    .dataframe thead th {\n",
       "        text-align: right;\n",
       "    }\n",
       "</style>\n",
       "<table border=\"1\" class=\"dataframe\">\n",
       "  <thead>\n",
       "    <tr style=\"text-align: right;\">\n",
       "      <th></th>\n",
       "      <th>stop_id</th>\n",
       "      <th>stop_name</th>\n",
       "      <th>stop_lat</th>\n",
       "      <th>stop_lon</th>\n",
       "      <th>distance</th>\n",
       "      <th>duration</th>\n",
       "      <th>seconds</th>\n",
       "      <th>previous_stop</th>\n",
       "      <th>visited</th>\n",
       "    </tr>\n",
       "  </thead>\n",
       "  <tbody>\n",
       "    <tr>\n",
       "      <th>0</th>\n",
       "      <td>917</td>\n",
       "      <td>York Mills Rd at Sandover Dr (1222 York Mills)</td>\n",
       "      <td>43.759813</td>\n",
       "      <td>-79.331751</td>\n",
       "      <td>0.000000</td>\n",
       "      <td>0:00:00</td>\n",
       "      <td>0</td>\n",
       "      <td>0</td>\n",
       "      <td>False</td>\n",
       "    </tr>\n",
       "    <tr>\n",
       "      <th>1</th>\n",
       "      <td>8081</td>\n",
       "      <td>York Mills Rd at Valley Woods Rd East Side</td>\n",
       "      <td>43.759595</td>\n",
       "      <td>-79.332036</td>\n",
       "      <td>0.000503</td>\n",
       "      <td>0:00:35</td>\n",
       "      <td>35</td>\n",
       "      <td>0</td>\n",
       "      <td>False</td>\n",
       "    </tr>\n",
       "    <tr>\n",
       "      <th>2</th>\n",
       "      <td>10256</td>\n",
       "      <td>113 Valley Woods Rd</td>\n",
       "      <td>43.758960</td>\n",
       "      <td>-79.332778</td>\n",
       "      <td>0.001880</td>\n",
       "      <td>0:02:12</td>\n",
       "      <td>132</td>\n",
       "      <td>0</td>\n",
       "      <td>False</td>\n",
       "    </tr>\n",
       "  </tbody>\n",
       "</table>\n",
       "</div>"
      ],
      "text/plain": [
       "   stop_id                                       stop_name   stop_lat  \\\n",
       "0      917  York Mills Rd at Sandover Dr (1222 York Mills)  43.759813   \n",
       "1     8081      York Mills Rd at Valley Woods Rd East Side  43.759595   \n",
       "2    10256                             113 Valley Woods Rd  43.758960   \n",
       "\n",
       "    stop_lon  distance duration  seconds  previous_stop  visited  \n",
       "0 -79.331751  0.000000  0:00:00        0              0    False  \n",
       "1 -79.332036  0.000503  0:00:35       35              0    False  \n",
       "2 -79.332778  0.001880  0:02:12      132              0    False  "
      ]
     },
     "execution_count": 21,
     "metadata": {},
     "output_type": "execute_result"
    }
   ],
   "source": [
    "shortest_path_df.head(3)"
   ]
  },
  {
   "cell_type": "markdown",
   "metadata": {},
   "source": [
    "---\n",
    "### Process the stop_times and trips tables\n",
    "*Eliminate all data not related to regular weekday service and irrelevant for pathfinding logic.*\n",
    "\n",
    "#### To-do: must update this section to also create my_stops (only those stops that are part of the regular weekday service). Use my_stops to generate the shortest_path_df."
   ]
  },
  {
   "cell_type": "code",
   "execution_count": 22,
   "metadata": {},
   "outputs": [],
   "source": [
    "# Filter trips table to only those with service_id = 1; ie. regular weekday service\n",
    "# Delete unnecessary columns\n",
    "my_trips = trips[trips.service_id == 1]\n",
    "my_trips = my_trips.drop(columns = ['service_id', 'block_id', 'shape_id', 'bikes_allowed'])"
   ]
  },
  {
   "cell_type": "code",
   "execution_count": 23,
   "metadata": {},
   "outputs": [],
   "source": [
    "# Filter stop_times table to only those trips that remain on the my_trips table; ie. those trips with regular service\n",
    "# Delete unnecessary columns\n",
    "my_stop_times = stop_times[stop_times.trip_id.isin(my_trips.trip_id)]\n",
    "my_stop_times = my_stop_times.drop(columns = ['pickup_type', 'drop_off_type', 'shape_dist_traveled'])"
   ]
  },
  {
   "cell_type": "markdown",
   "metadata": {},
   "source": [
    "---\n",
    "### Consolidate data for all trips via current stop\n",
    "\n",
    "*Sort the `stop_times` table for all trips that visit the current stop. Then pull their metadata from the `trips` table.*"
   ]
  },
  {
   "cell_type": "code",
   "execution_count": 24,
   "metadata": {},
   "outputs": [],
   "source": [
    "# create a new df based of stop_times which only contains records for the home stop\n",
    "current_stop_times = my_stop_times.loc[my_stop_times.stop_id == current_stop]"
   ]
  },
  {
   "cell_type": "code",
   "execution_count": 25,
   "metadata": {},
   "outputs": [
    {
     "data": {
      "text/plain": [
       "(254, 4)"
      ]
     },
     "execution_count": 25,
     "metadata": {},
     "output_type": "execute_result"
    }
   ],
   "source": [
    "current_stop_times.shape"
   ]
  },
  {
   "cell_type": "code",
   "execution_count": 26,
   "metadata": {},
   "outputs": [
    {
     "data": {
      "text/html": [
       "<div>\n",
       "<style scoped>\n",
       "    .dataframe tbody tr th:only-of-type {\n",
       "        vertical-align: middle;\n",
       "    }\n",
       "\n",
       "    .dataframe tbody tr th {\n",
       "        vertical-align: top;\n",
       "    }\n",
       "\n",
       "    .dataframe thead th {\n",
       "        text-align: right;\n",
       "    }\n",
       "</style>\n",
       "<table border=\"1\" class=\"dataframe\">\n",
       "  <thead>\n",
       "    <tr style=\"text-align: right;\">\n",
       "      <th></th>\n",
       "      <th>trip_id</th>\n",
       "      <th>stop_time</th>\n",
       "      <th>stop_id</th>\n",
       "      <th>stop_sequence</th>\n",
       "    </tr>\n",
       "  </thead>\n",
       "  <tbody>\n",
       "    <tr>\n",
       "      <th>536368</th>\n",
       "      <td>43005604</td>\n",
       "      <td>26:52:20</td>\n",
       "      <td>917</td>\n",
       "      <td>53</td>\n",
       "    </tr>\n",
       "    <tr>\n",
       "      <th>536443</th>\n",
       "      <td>43005605</td>\n",
       "      <td>5:16:41</td>\n",
       "      <td>917</td>\n",
       "      <td>53</td>\n",
       "    </tr>\n",
       "    <tr>\n",
       "      <th>536518</th>\n",
       "      <td>43005606</td>\n",
       "      <td>4:46:41</td>\n",
       "      <td>917</td>\n",
       "      <td>53</td>\n",
       "    </tr>\n",
       "  </tbody>\n",
       "</table>\n",
       "</div>"
      ],
      "text/plain": [
       "         trip_id stop_time  stop_id  stop_sequence\n",
       "536368  43005604  26:52:20      917             53\n",
       "536443  43005605   5:16:41      917             53\n",
       "536518  43005606   4:46:41      917             53"
      ]
     },
     "execution_count": 26,
     "metadata": {},
     "output_type": "execute_result"
    }
   ],
   "source": [
    "current_stop_times.head(3)"
   ]
  },
  {
   "cell_type": "code",
   "execution_count": 27,
   "metadata": {},
   "outputs": [],
   "source": [
    "# create a new df based of trips which only contains trips which visit the home stop\n",
    "current_stop_trips = my_trips.loc[my_trips.trip_id.isin(current_stop_times.trip_id)]"
   ]
  },
  {
   "cell_type": "code",
   "execution_count": 28,
   "metadata": {},
   "outputs": [
    {
     "data": {
      "text/html": [
       "<div>\n",
       "<style scoped>\n",
       "    .dataframe tbody tr th:only-of-type {\n",
       "        vertical-align: middle;\n",
       "    }\n",
       "\n",
       "    .dataframe tbody tr th {\n",
       "        vertical-align: top;\n",
       "    }\n",
       "\n",
       "    .dataframe thead th {\n",
       "        text-align: right;\n",
       "    }\n",
       "</style>\n",
       "<table border=\"1\" class=\"dataframe\">\n",
       "  <thead>\n",
       "    <tr style=\"text-align: right;\">\n",
       "      <th></th>\n",
       "      <th>route_id</th>\n",
       "      <th>trip_id</th>\n",
       "      <th>trip_headsign</th>\n",
       "      <th>direction_id</th>\n",
       "    </tr>\n",
       "  </thead>\n",
       "  <tbody>\n",
       "    <tr>\n",
       "      <th>15477</th>\n",
       "      <td>64914</td>\n",
       "      <td>43005606</td>\n",
       "      <td>WEST - 395 YORK MILLS towards YORK MILLS STATION</td>\n",
       "      <td>1</td>\n",
       "    </tr>\n",
       "    <tr>\n",
       "      <th>15478</th>\n",
       "      <td>64914</td>\n",
       "      <td>43005605</td>\n",
       "      <td>WEST - 395 YORK MILLS towards YORK MILLS STATION</td>\n",
       "      <td>1</td>\n",
       "    </tr>\n",
       "    <tr>\n",
       "      <th>15479</th>\n",
       "      <td>64914</td>\n",
       "      <td>43005604</td>\n",
       "      <td>WEST - 395 YORK MILLS towards YORK MILLS STATION</td>\n",
       "      <td>1</td>\n",
       "    </tr>\n",
       "  </tbody>\n",
       "</table>\n",
       "</div>"
      ],
      "text/plain": [
       "       route_id   trip_id                                     trip_headsign  \\\n",
       "15477     64914  43005606  WEST - 395 YORK MILLS towards YORK MILLS STATION   \n",
       "15478     64914  43005605  WEST - 395 YORK MILLS towards YORK MILLS STATION   \n",
       "15479     64914  43005604  WEST - 395 YORK MILLS towards YORK MILLS STATION   \n",
       "\n",
       "       direction_id  \n",
       "15477             1  \n",
       "15478             1  \n",
       "15479             1  "
      ]
     },
     "execution_count": 28,
     "metadata": {},
     "output_type": "execute_result"
    }
   ],
   "source": [
    "current_stop_trips.head(3)"
   ]
  },
  {
   "cell_type": "code",
   "execution_count": 29,
   "metadata": {},
   "outputs": [],
   "source": [
    "# 1-to-1 merge on trip_id of the two df's above\n",
    "current_stop_trip_times = pd.merge(current_stop_times, current_stop_trips, on = 'trip_id', how = 'inner')\n",
    "\n",
    "# This now contains data for all trips that pass through the current stop"
   ]
  },
  {
   "cell_type": "code",
   "execution_count": 30,
   "metadata": {},
   "outputs": [],
   "source": [
    "# delete irrelevant columns (only 1 value each)\n",
    "current_stop_trip_times = current_stop_trip_times.drop(columns = ['stop_id', 'direction_id'])"
   ]
  },
  {
   "cell_type": "code",
   "execution_count": 31,
   "metadata": {},
   "outputs": [
    {
     "data": {
      "text/html": [
       "<div>\n",
       "<style scoped>\n",
       "    .dataframe tbody tr th:only-of-type {\n",
       "        vertical-align: middle;\n",
       "    }\n",
       "\n",
       "    .dataframe tbody tr th {\n",
       "        vertical-align: top;\n",
       "    }\n",
       "\n",
       "    .dataframe thead th {\n",
       "        text-align: right;\n",
       "    }\n",
       "</style>\n",
       "<table border=\"1\" class=\"dataframe\">\n",
       "  <thead>\n",
       "    <tr style=\"text-align: right;\">\n",
       "      <th></th>\n",
       "      <th>trip_id</th>\n",
       "      <th>stop_time</th>\n",
       "      <th>stop_sequence</th>\n",
       "      <th>route_id</th>\n",
       "      <th>trip_headsign</th>\n",
       "    </tr>\n",
       "  </thead>\n",
       "  <tbody>\n",
       "    <tr>\n",
       "      <th>0</th>\n",
       "      <td>43005604</td>\n",
       "      <td>26:52:20</td>\n",
       "      <td>53</td>\n",
       "      <td>64914</td>\n",
       "      <td>WEST - 395 YORK MILLS towards YORK MILLS STATION</td>\n",
       "    </tr>\n",
       "    <tr>\n",
       "      <th>1</th>\n",
       "      <td>43005605</td>\n",
       "      <td>5:16:41</td>\n",
       "      <td>53</td>\n",
       "      <td>64914</td>\n",
       "      <td>WEST - 395 YORK MILLS towards YORK MILLS STATION</td>\n",
       "    </tr>\n",
       "    <tr>\n",
       "      <th>2</th>\n",
       "      <td>43005606</td>\n",
       "      <td>4:46:41</td>\n",
       "      <td>53</td>\n",
       "      <td>64914</td>\n",
       "      <td>WEST - 395 YORK MILLS towards YORK MILLS STATION</td>\n",
       "    </tr>\n",
       "  </tbody>\n",
       "</table>\n",
       "</div>"
      ],
      "text/plain": [
       "    trip_id stop_time  stop_sequence  route_id  \\\n",
       "0  43005604  26:52:20             53     64914   \n",
       "1  43005605   5:16:41             53     64914   \n",
       "2  43005606   4:46:41             53     64914   \n",
       "\n",
       "                                      trip_headsign  \n",
       "0  WEST - 395 YORK MILLS towards YORK MILLS STATION  \n",
       "1  WEST - 395 YORK MILLS towards YORK MILLS STATION  \n",
       "2  WEST - 395 YORK MILLS towards YORK MILLS STATION  "
      ]
     },
     "execution_count": 31,
     "metadata": {},
     "output_type": "execute_result"
    }
   ],
   "source": [
    "current_stop_trip_times.head(3)"
   ]
  },
  {
   "cell_type": "markdown",
   "metadata": {},
   "source": [
    "---\n",
    "### Testing to determine the unique sequences of stops"
   ]
  },
  {
   "cell_type": "code",
   "execution_count": 32,
   "metadata": {},
   "outputs": [
    {
     "data": {
      "text/plain": [
       "route_id  trip_headsign                                             stop_sequence\n",
       "64914     WEST - 395 YORK MILLS towards YORK MILLS STATION          53                 6\n",
       "65004     WEST - 95 YORK MILLS towards YORK MILLS STATION           39                14\n",
       "                                                                    48               107\n",
       "          WEST - 95C YORK MILLS towards YORK MILLS STATION          17                69\n",
       "65018     WEST - 995 YORK MILLS EXPRESS towards YORK MILLS STATION  21                58\n",
       "dtype: int64"
      ]
     },
     "execution_count": 32,
     "metadata": {},
     "output_type": "execute_result"
    }
   ],
   "source": [
    "# group all trips into their unique templates (sequence of stops)\n",
    "current_stop_trip_times.loc[:, ['route_id', 'trip_headsign', 'stop_sequence']].value_counts().sort_index()\n",
    "\n",
    "# Note that the stop_sequence number is sufficient on its own to distinguish groups of trips from each other\n",
    "# Must make sure that final model confirms a unique stop_sequence number for each route_id & trip_headsign combination"
   ]
  },
  {
   "cell_type": "markdown",
   "metadata": {},
   "source": [
    "---\n",
    "### Manual testing to discover the nearest neighbors for the current stop\n",
    "*This section may now be irrelevant to the looped logic below which populates `next_stop_id`. (Dedicated list of nearest neighbors is not needed, as nearest neighbors should simply be the unique list of all possible `next_stop_id` values.)*"
   ]
  },
  {
   "cell_type": "code",
   "execution_count": 33,
   "metadata": {},
   "outputs": [],
   "source": [
    "# create a new reference df for logic below\n",
    "trip_sequence = current_stop_trip_times.loc[:, ['trip_id', 'stop_sequence']]"
   ]
  },
  {
   "cell_type": "code",
   "execution_count": 34,
   "metadata": {},
   "outputs": [
    {
     "data": {
      "text/html": [
       "<div>\n",
       "<style scoped>\n",
       "    .dataframe tbody tr th:only-of-type {\n",
       "        vertical-align: middle;\n",
       "    }\n",
       "\n",
       "    .dataframe tbody tr th {\n",
       "        vertical-align: top;\n",
       "    }\n",
       "\n",
       "    .dataframe thead th {\n",
       "        text-align: right;\n",
       "    }\n",
       "</style>\n",
       "<table border=\"1\" class=\"dataframe\">\n",
       "  <thead>\n",
       "    <tr style=\"text-align: right;\">\n",
       "      <th></th>\n",
       "      <th>trip_id</th>\n",
       "      <th>stop_sequence</th>\n",
       "    </tr>\n",
       "  </thead>\n",
       "  <tbody>\n",
       "    <tr>\n",
       "      <th>0</th>\n",
       "      <td>43005604</td>\n",
       "      <td>53</td>\n",
       "    </tr>\n",
       "    <tr>\n",
       "      <th>1</th>\n",
       "      <td>43005605</td>\n",
       "      <td>53</td>\n",
       "    </tr>\n",
       "    <tr>\n",
       "      <th>2</th>\n",
       "      <td>43005606</td>\n",
       "      <td>53</td>\n",
       "    </tr>\n",
       "  </tbody>\n",
       "</table>\n",
       "</div>"
      ],
      "text/plain": [
       "    trip_id  stop_sequence\n",
       "0  43005604             53\n",
       "1  43005605             53\n",
       "2  43005606             53"
      ]
     },
     "execution_count": 34,
     "metadata": {},
     "output_type": "execute_result"
    }
   ],
   "source": [
    "trip_sequence.head(3)"
   ]
  },
  {
   "cell_type": "code",
   "execution_count": 35,
   "metadata": {},
   "outputs": [
    {
     "data": {
      "text/plain": [
       "43005604"
      ]
     },
     "execution_count": 35,
     "metadata": {},
     "output_type": "execute_result"
    }
   ],
   "source": [
    "trip_sequence.loc[0, 'trip_id']"
   ]
  },
  {
   "cell_type": "code",
   "execution_count": 36,
   "metadata": {},
   "outputs": [],
   "source": [
    "# empty list to store nearest neighbors\n",
    "nearest_neighbors = []\n",
    "\n",
    "# loop through each trip visiting current stop\n",
    "for i in range(0, len(trip_sequence)):\n",
    "    \n",
    "    # save the values for the current record into dedicated variables\n",
    "    trip_id = trip_sequence.loc[i, 'trip_id']\n",
    "    stop_sequence = trip_sequence.loc[i, 'stop_sequence']\n",
    "    \n",
    "    # for the current trip, check to see if a stop sequence exists beyond just the current one\n",
    "    if stop_times.loc[stop_times.trip_id == trip_id].loc[stop_times.stop_sequence == (stop_sequence + 1)].shape[0] == 1:\n",
    "        \n",
    "        # if so...\n",
    "        # mark the stop_id at the next stop sequence into the list of nearest neighbors\n",
    "        nearest_neighbors.append(stop_times.loc[stop_times.trip_id == trip_id].loc[stop_times.stop_sequence == (stop_sequence + 1)].stop_id.item())\n",
    "        \n",
    "# consider checking to see if the next stop is already in the nearest neighbors list\n",
    "# in contrast to just appending each individual instance"
   ]
  },
  {
   "cell_type": "code",
   "execution_count": 37,
   "metadata": {},
   "outputs": [
    {
     "data": {
      "text/plain": [
       "5191    196\n",
       "9834     58\n",
       "dtype: int64"
      ]
     },
     "execution_count": 37,
     "metadata": {},
     "output_type": "execute_result"
    }
   ],
   "source": [
    "pd.Series(nearest_neighbors).value_counts()"
   ]
  },
  {
   "cell_type": "code",
   "execution_count": 38,
   "metadata": {},
   "outputs": [
    {
     "data": {
      "text/html": [
       "<div>\n",
       "<style scoped>\n",
       "    .dataframe tbody tr th:only-of-type {\n",
       "        vertical-align: middle;\n",
       "    }\n",
       "\n",
       "    .dataframe tbody tr th {\n",
       "        vertical-align: top;\n",
       "    }\n",
       "\n",
       "    .dataframe thead th {\n",
       "        text-align: right;\n",
       "    }\n",
       "</style>\n",
       "<table border=\"1\" class=\"dataframe\">\n",
       "  <thead>\n",
       "    <tr style=\"text-align: right;\">\n",
       "      <th></th>\n",
       "      <th>trip_id</th>\n",
       "      <th>stop_time</th>\n",
       "      <th>stop_id</th>\n",
       "      <th>stop_sequence</th>\n",
       "      <th>pickup_type</th>\n",
       "      <th>drop_off_type</th>\n",
       "      <th>shape_dist_traveled</th>\n",
       "    </tr>\n",
       "  </thead>\n",
       "  <tbody>\n",
       "    <tr>\n",
       "      <th>536369</th>\n",
       "      <td>43005604</td>\n",
       "      <td>26:52:42</td>\n",
       "      <td>5191</td>\n",
       "      <td>54</td>\n",
       "      <td>0</td>\n",
       "      <td>0</td>\n",
       "      <td>17.2497</td>\n",
       "    </tr>\n",
       "  </tbody>\n",
       "</table>\n",
       "</div>"
      ],
      "text/plain": [
       "         trip_id stop_time  stop_id  stop_sequence  pickup_type  \\\n",
       "536369  43005604  26:52:42     5191             54            0   \n",
       "\n",
       "        drop_off_type  shape_dist_traveled  \n",
       "536369              0              17.2497  "
      ]
     },
     "execution_count": 38,
     "metadata": {},
     "output_type": "execute_result"
    }
   ],
   "source": [
    "# perhaps using multiple conditions in the same filter will be more efficient\n",
    "# vs chain multiple .loc filters (see below)\n",
    "stop_times.loc[(stop_times.trip_id == 43005604) & (stop_times.stop_sequence == (53 + 1))]"
   ]
  },
  {
   "cell_type": "code",
   "execution_count": 39,
   "metadata": {},
   "outputs": [
    {
     "data": {
      "text/plain": [
       "5191"
      ]
     },
     "execution_count": 39,
     "metadata": {},
     "output_type": "execute_result"
    }
   ],
   "source": [
    "# alternative method of filtering as above\n",
    "# also showing how to access the specific cell value of a df\n",
    "stop_times.loc[stop_times.trip_id == 43005604].loc[stop_times.stop_sequence == (53 + 1)].stop_id.item()"
   ]
  },
  {
   "cell_type": "markdown",
   "metadata": {},
   "source": [
    "---\n",
    "### Manual test to find the next stop_id in sequence"
   ]
  },
  {
   "cell_type": "code",
   "execution_count": 40,
   "metadata": {},
   "outputs": [
    {
     "data": {
      "text/html": [
       "<div>\n",
       "<style scoped>\n",
       "    .dataframe tbody tr th:only-of-type {\n",
       "        vertical-align: middle;\n",
       "    }\n",
       "\n",
       "    .dataframe tbody tr th {\n",
       "        vertical-align: top;\n",
       "    }\n",
       "\n",
       "    .dataframe thead th {\n",
       "        text-align: right;\n",
       "    }\n",
       "</style>\n",
       "<table border=\"1\" class=\"dataframe\">\n",
       "  <thead>\n",
       "    <tr style=\"text-align: right;\">\n",
       "      <th></th>\n",
       "      <th>trip_id</th>\n",
       "      <th>stop_time</th>\n",
       "      <th>stop_sequence</th>\n",
       "      <th>route_id</th>\n",
       "      <th>trip_headsign</th>\n",
       "    </tr>\n",
       "  </thead>\n",
       "  <tbody>\n",
       "    <tr>\n",
       "      <th>0</th>\n",
       "      <td>43005604</td>\n",
       "      <td>26:52:20</td>\n",
       "      <td>53</td>\n",
       "      <td>64914</td>\n",
       "      <td>WEST - 395 YORK MILLS towards YORK MILLS STATION</td>\n",
       "    </tr>\n",
       "    <tr>\n",
       "      <th>1</th>\n",
       "      <td>43005605</td>\n",
       "      <td>5:16:41</td>\n",
       "      <td>53</td>\n",
       "      <td>64914</td>\n",
       "      <td>WEST - 395 YORK MILLS towards YORK MILLS STATION</td>\n",
       "    </tr>\n",
       "    <tr>\n",
       "      <th>2</th>\n",
       "      <td>43005606</td>\n",
       "      <td>4:46:41</td>\n",
       "      <td>53</td>\n",
       "      <td>64914</td>\n",
       "      <td>WEST - 395 YORK MILLS towards YORK MILLS STATION</td>\n",
       "    </tr>\n",
       "  </tbody>\n",
       "</table>\n",
       "</div>"
      ],
      "text/plain": [
       "    trip_id stop_time  stop_sequence  route_id  \\\n",
       "0  43005604  26:52:20             53     64914   \n",
       "1  43005605   5:16:41             53     64914   \n",
       "2  43005606   4:46:41             53     64914   \n",
       "\n",
       "                                      trip_headsign  \n",
       "0  WEST - 395 YORK MILLS towards YORK MILLS STATION  \n",
       "1  WEST - 395 YORK MILLS towards YORK MILLS STATION  \n",
       "2  WEST - 395 YORK MILLS towards YORK MILLS STATION  "
      ]
     },
     "execution_count": 40,
     "metadata": {},
     "output_type": "execute_result"
    }
   ],
   "source": [
    "current_stop_trip_times.head(3)\n",
    "\n",
    "# Now the objective will be to update the table below with 'next_stop_id'\n",
    "# (The 'stop_id' value at the next stop sequence for each 'trip_id')"
   ]
  },
  {
   "cell_type": "code",
   "execution_count": 41,
   "metadata": {},
   "outputs": [],
   "source": [
    "test = stop_times.loc[stop_times.trip_id == 43005604]"
   ]
  },
  {
   "cell_type": "code",
   "execution_count": 42,
   "metadata": {},
   "outputs": [
    {
     "data": {
      "text/html": [
       "<div>\n",
       "<style scoped>\n",
       "    .dataframe tbody tr th:only-of-type {\n",
       "        vertical-align: middle;\n",
       "    }\n",
       "\n",
       "    .dataframe tbody tr th {\n",
       "        vertical-align: top;\n",
       "    }\n",
       "\n",
       "    .dataframe thead th {\n",
       "        text-align: right;\n",
       "    }\n",
       "</style>\n",
       "<table border=\"1\" class=\"dataframe\">\n",
       "  <thead>\n",
       "    <tr style=\"text-align: right;\">\n",
       "      <th></th>\n",
       "      <th>trip_id</th>\n",
       "      <th>stop_time</th>\n",
       "      <th>stop_id</th>\n",
       "      <th>stop_sequence</th>\n",
       "      <th>pickup_type</th>\n",
       "      <th>drop_off_type</th>\n",
       "      <th>shape_dist_traveled</th>\n",
       "    </tr>\n",
       "  </thead>\n",
       "  <tbody>\n",
       "    <tr>\n",
       "      <th>536368</th>\n",
       "      <td>43005604</td>\n",
       "      <td>26:52:20</td>\n",
       "      <td>917</td>\n",
       "      <td>53</td>\n",
       "      <td>0</td>\n",
       "      <td>0</td>\n",
       "      <td>17.0625</td>\n",
       "    </tr>\n",
       "    <tr>\n",
       "      <th>536369</th>\n",
       "      <td>43005604</td>\n",
       "      <td>26:52:42</td>\n",
       "      <td>5191</td>\n",
       "      <td>54</td>\n",
       "      <td>0</td>\n",
       "      <td>0</td>\n",
       "      <td>17.2497</td>\n",
       "    </tr>\n",
       "  </tbody>\n",
       "</table>\n",
       "</div>"
      ],
      "text/plain": [
       "         trip_id stop_time  stop_id  stop_sequence  pickup_type  \\\n",
       "536368  43005604  26:52:20      917             53            0   \n",
       "536369  43005604  26:52:42     5191             54            0   \n",
       "\n",
       "        drop_off_type  shape_dist_traveled  \n",
       "536368              0              17.0625  \n",
       "536369              0              17.2497  "
      ]
     },
     "execution_count": 42,
     "metadata": {},
     "output_type": "execute_result"
    }
   ],
   "source": [
    "test[test.stop_sequence.isin([53, 54])]"
   ]
  },
  {
   "cell_type": "code",
   "execution_count": 43,
   "metadata": {},
   "outputs": [
    {
     "data": {
      "text/plain": [
       "numpy.int64"
      ]
     },
     "execution_count": 43,
     "metadata": {},
     "output_type": "execute_result"
    }
   ],
   "source": [
    "type(test.stop_sequence[536319])"
   ]
  },
  {
   "cell_type": "code",
   "execution_count": 44,
   "metadata": {},
   "outputs": [
    {
     "data": {
      "text/plain": [
       "array([ 1,  2,  3,  4,  5,  6,  7,  8,  9, 10, 11, 12, 13, 14, 15, 16, 17,\n",
       "       18, 19, 20, 21, 22, 23, 24, 25, 26, 27, 28, 29, 30, 31, 32, 33, 34,\n",
       "       35, 36, 37, 38, 39, 40, 41, 42, 43, 44, 45, 46, 47, 48, 49, 50, 51,\n",
       "       52, 53, 54, 55, 56, 57, 58, 59, 60, 61, 62, 63, 64, 65, 66, 67, 68,\n",
       "       69, 70, 71, 72, 73, 74, 75])"
      ]
     },
     "execution_count": 44,
     "metadata": {},
     "output_type": "execute_result"
    }
   ],
   "source": [
    "test.stop_sequence.unique()"
   ]
  },
  {
   "cell_type": "code",
   "execution_count": 45,
   "metadata": {},
   "outputs": [
    {
     "data": {
      "text/plain": [
       "True"
      ]
     },
     "execution_count": 45,
     "metadata": {},
     "output_type": "execute_result"
    }
   ],
   "source": [
    "53 in test.stop_sequence.unique()"
   ]
  },
  {
   "cell_type": "code",
   "execution_count": 46,
   "metadata": {},
   "outputs": [
    {
     "data": {
      "text/plain": [
       "0    True\n",
       "dtype: bool"
      ]
     },
     "execution_count": 46,
     "metadata": {},
     "output_type": "execute_result"
    }
   ],
   "source": [
    "pd.Series(53).isin(test.stop_sequence)"
   ]
  },
  {
   "cell_type": "code",
   "execution_count": 47,
   "metadata": {},
   "outputs": [
    {
     "data": {
      "text/plain": [
       "536369    5191\n",
       "Name: stop_id, dtype: int64"
      ]
     },
     "execution_count": 47,
     "metadata": {},
     "output_type": "execute_result"
    }
   ],
   "source": [
    "stop_times.loc[stop_times.trip_id == 43005604].loc[stop_times.stop_sequence == 54, 'stop_id']"
   ]
  },
  {
   "cell_type": "markdown",
   "metadata": {},
   "source": [
    "---\n",
    "### Manual attempt at calculating duration between two stops"
   ]
  },
  {
   "cell_type": "code",
   "execution_count": 48,
   "metadata": {},
   "outputs": [
    {
     "data": {
      "text/html": [
       "<div>\n",
       "<style scoped>\n",
       "    .dataframe tbody tr th:only-of-type {\n",
       "        vertical-align: middle;\n",
       "    }\n",
       "\n",
       "    .dataframe tbody tr th {\n",
       "        vertical-align: top;\n",
       "    }\n",
       "\n",
       "    .dataframe thead th {\n",
       "        text-align: right;\n",
       "    }\n",
       "</style>\n",
       "<table border=\"1\" class=\"dataframe\">\n",
       "  <thead>\n",
       "    <tr style=\"text-align: right;\">\n",
       "      <th></th>\n",
       "      <th>trip_id</th>\n",
       "      <th>stop_time</th>\n",
       "      <th>stop_id</th>\n",
       "      <th>stop_sequence</th>\n",
       "      <th>pickup_type</th>\n",
       "      <th>drop_off_type</th>\n",
       "      <th>shape_dist_traveled</th>\n",
       "    </tr>\n",
       "  </thead>\n",
       "  <tbody>\n",
       "    <tr>\n",
       "      <th>536368</th>\n",
       "      <td>43005604</td>\n",
       "      <td>26:52:20</td>\n",
       "      <td>917</td>\n",
       "      <td>53</td>\n",
       "      <td>0</td>\n",
       "      <td>0</td>\n",
       "      <td>17.0625</td>\n",
       "    </tr>\n",
       "    <tr>\n",
       "      <th>536369</th>\n",
       "      <td>43005604</td>\n",
       "      <td>26:52:42</td>\n",
       "      <td>5191</td>\n",
       "      <td>54</td>\n",
       "      <td>0</td>\n",
       "      <td>0</td>\n",
       "      <td>17.2497</td>\n",
       "    </tr>\n",
       "  </tbody>\n",
       "</table>\n",
       "</div>"
      ],
      "text/plain": [
       "         trip_id stop_time  stop_id  stop_sequence  pickup_type  \\\n",
       "536368  43005604  26:52:20      917             53            0   \n",
       "536369  43005604  26:52:42     5191             54            0   \n",
       "\n",
       "        drop_off_type  shape_dist_traveled  \n",
       "536368              0              17.0625  \n",
       "536369              0              17.2497  "
      ]
     },
     "execution_count": 48,
     "metadata": {},
     "output_type": "execute_result"
    }
   ],
   "source": [
    "stop_times[(stop_times.trip_id == 43005604) & (stop_times.stop_sequence.isin([53, 54]))]"
   ]
  },
  {
   "cell_type": "code",
   "execution_count": 49,
   "metadata": {},
   "outputs": [],
   "source": [
    "start_time = stop_times[(stop_times.trip_id == 43005604) & (stop_times.stop_sequence == 53)].stop_time.item()\n",
    "end_time = stop_times[(stop_times.trip_id == 43005604) & (stop_times.stop_sequence == 54)].stop_time.item()"
   ]
  },
  {
   "cell_type": "code",
   "execution_count": 50,
   "metadata": {},
   "outputs": [
    {
     "data": {
      "text/plain": [
       "('26:52:20', '26:52:42')"
      ]
     },
     "execution_count": 50,
     "metadata": {},
     "output_type": "execute_result"
    }
   ],
   "source": [
    "start_time, end_time"
   ]
  },
  {
   "cell_type": "code",
   "execution_count": 51,
   "metadata": {},
   "outputs": [],
   "source": [
    "stop_times['time_delta'] = pd.to_timedelta(stop_times.stop_time)"
   ]
  },
  {
   "cell_type": "code",
   "execution_count": 52,
   "metadata": {},
   "outputs": [],
   "source": [
    "start_tdelta = stop_times[(stop_times.trip_id == 43005604) & (stop_times.stop_sequence == 53)].time_delta.item()\n",
    "end_tdelta = stop_times[(stop_times.trip_id == 43005604) & (stop_times.stop_sequence == 54)].time_delta.item()"
   ]
  },
  {
   "cell_type": "code",
   "execution_count": 53,
   "metadata": {},
   "outputs": [
    {
     "data": {
      "text/plain": [
       "(Timedelta('1 days 02:52:20'), Timedelta('1 days 02:52:42'))"
      ]
     },
     "execution_count": 53,
     "metadata": {},
     "output_type": "execute_result"
    }
   ],
   "source": [
    "start_tdelta, end_tdelta"
   ]
  },
  {
   "cell_type": "code",
   "execution_count": 54,
   "metadata": {},
   "outputs": [],
   "source": [
    "time_diff = end_tdelta - start_tdelta"
   ]
  },
  {
   "cell_type": "code",
   "execution_count": 55,
   "metadata": {},
   "outputs": [
    {
     "data": {
      "text/plain": [
       "22.0"
      ]
     },
     "execution_count": 55,
     "metadata": {},
     "output_type": "execute_result"
    }
   ],
   "source": [
    "time_diff.total_seconds()"
   ]
  },
  {
   "cell_type": "code",
   "execution_count": 56,
   "metadata": {},
   "outputs": [
    {
     "data": {
      "text/plain": [
       "datetime.timedelta(0)"
      ]
     },
     "execution_count": 56,
     "metadata": {},
     "output_type": "execute_result"
    }
   ],
   "source": [
    "td(seconds=0)"
   ]
  },
  {
   "cell_type": "markdown",
   "metadata": {},
   "source": [
    "---\n",
    "### Loop logic to build the next_stop_id column"
   ]
  },
  {
   "cell_type": "code",
   "execution_count": 57,
   "metadata": {},
   "outputs": [],
   "source": [
    "# create the next_stop_id column with the default value as None\n",
    "current_stop_trip_times['next_stop_id'] = None\n",
    "current_stop_trip_times['duration'] = td(seconds = 0)\n",
    "current_stop_trip_times['seconds'] = 0\n",
    "\n",
    "# loop over each of the trips on the current_stop_trip_times_df\n",
    "for i in range(0, len(current_stop_trip_times)):\n",
    "    \n",
    "    # store the trip_id value for the current record\n",
    "    trip_id = current_stop_trip_times.loc[i, 'trip_id']\n",
    "    \n",
    "    # determine the value for the next stop in sequence\n",
    "    current_stop_sequence = int(current_stop_trip_times.loc[i, 'stop_sequence'])\n",
    "    next_stop_sequence = current_stop_sequence + 1\n",
    "    \n",
    "    # filter the stop_times df to only show stop times for the current trip in loop\n",
    "    selected_trip_stops = stop_times[stop_times.trip_id == trip_id]\n",
    "    \n",
    "    # check to see if there is a next stop available for the current trip\n",
    "    # returns True or False\n",
    "    next_stop_exists = next_stop_sequence in selected_trip_stops.stop_sequence.unique()\n",
    "    \n",
    "    if (next_stop_exists):\n",
    "        \n",
    "        # store the stop_id value at the next stop sequence\n",
    "        next_stop_id = stop_times.loc[((stop_times.trip_id == trip_id) & (stop_times.stop_sequence == next_stop_sequence)), 'stop_id'].item()\n",
    "        \n",
    "        # start & end times\n",
    "        start_time = stop_times.loc[((stop_times.trip_id == trip_id) & (stop_times.stop_sequence == current_stop_sequence)), 'time_delta'].item()\n",
    "        end_time = stop_times.loc[((stop_times.trip_id == trip_id) & (stop_times.stop_sequence == next_stop_sequence)), 'time_delta'].item()\n",
    "        \n",
    "        # duration & seconds\n",
    "        duration = end_time - start_time\n",
    "        seconds = int(duration.total_seconds())\n",
    "        \n",
    "        # update the next_stop_id value for the current record\n",
    "        current_stop_trip_times.loc[i, 'next_stop_id'] = next_stop_id\n",
    "        current_stop_trip_times.loc[i, 'duration'] = duration\n",
    "        current_stop_trip_times.loc[i, 'seconds'] = seconds\n",
    "\n",
    "        \n",
    "# possible better alternatives: \n",
    "#   consolidate all unique combinations of trip stops & sequence\n",
    "#   and only search through that much smaller set\n",
    "# or\n",
    "#   develop pre-generated nearest neighbors & the time delta for each stop_id\n",
    "# or\n",
    "#   consolidate and pre-generate a unique combo of route_id, stop_id, stop_sequence, next_stop_id, next_stop_sequence"
   ]
  },
  {
   "cell_type": "code",
   "execution_count": 58,
   "metadata": {},
   "outputs": [
    {
     "data": {
      "text/html": [
       "<div>\n",
       "<style scoped>\n",
       "    .dataframe tbody tr th:only-of-type {\n",
       "        vertical-align: middle;\n",
       "    }\n",
       "\n",
       "    .dataframe tbody tr th {\n",
       "        vertical-align: top;\n",
       "    }\n",
       "\n",
       "    .dataframe thead th {\n",
       "        text-align: right;\n",
       "    }\n",
       "</style>\n",
       "<table border=\"1\" class=\"dataframe\">\n",
       "  <thead>\n",
       "    <tr style=\"text-align: right;\">\n",
       "      <th></th>\n",
       "      <th>trip_id</th>\n",
       "      <th>stop_time</th>\n",
       "      <th>stop_sequence</th>\n",
       "      <th>route_id</th>\n",
       "      <th>trip_headsign</th>\n",
       "      <th>next_stop_id</th>\n",
       "      <th>duration</th>\n",
       "      <th>seconds</th>\n",
       "    </tr>\n",
       "  </thead>\n",
       "  <tbody>\n",
       "    <tr>\n",
       "      <th>0</th>\n",
       "      <td>43005604</td>\n",
       "      <td>26:52:20</td>\n",
       "      <td>53</td>\n",
       "      <td>64914</td>\n",
       "      <td>WEST - 395 YORK MILLS towards YORK MILLS STATION</td>\n",
       "      <td>5191</td>\n",
       "      <td>0 days 00:00:22</td>\n",
       "      <td>22</td>\n",
       "    </tr>\n",
       "    <tr>\n",
       "      <th>1</th>\n",
       "      <td>43005605</td>\n",
       "      <td>5:16:41</td>\n",
       "      <td>53</td>\n",
       "      <td>64914</td>\n",
       "      <td>WEST - 395 YORK MILLS towards YORK MILLS STATION</td>\n",
       "      <td>5191</td>\n",
       "      <td>0 days 00:00:27</td>\n",
       "      <td>27</td>\n",
       "    </tr>\n",
       "    <tr>\n",
       "      <th>2</th>\n",
       "      <td>43005606</td>\n",
       "      <td>4:46:41</td>\n",
       "      <td>53</td>\n",
       "      <td>64914</td>\n",
       "      <td>WEST - 395 YORK MILLS towards YORK MILLS STATION</td>\n",
       "      <td>5191</td>\n",
       "      <td>0 days 00:00:27</td>\n",
       "      <td>27</td>\n",
       "    </tr>\n",
       "    <tr>\n",
       "      <th>3</th>\n",
       "      <td>43005600</td>\n",
       "      <td>27:52:20</td>\n",
       "      <td>53</td>\n",
       "      <td>64914</td>\n",
       "      <td>WEST - 395 YORK MILLS towards YORK MILLS STATION</td>\n",
       "      <td>5191</td>\n",
       "      <td>0 days 00:00:22</td>\n",
       "      <td>22</td>\n",
       "    </tr>\n",
       "    <tr>\n",
       "      <th>4</th>\n",
       "      <td>43005602</td>\n",
       "      <td>27:22:20</td>\n",
       "      <td>53</td>\n",
       "      <td>64914</td>\n",
       "      <td>WEST - 395 YORK MILLS towards YORK MILLS STATION</td>\n",
       "      <td>5191</td>\n",
       "      <td>0 days 00:00:22</td>\n",
       "      <td>22</td>\n",
       "    </tr>\n",
       "    <tr>\n",
       "      <th>...</th>\n",
       "      <td>...</td>\n",
       "      <td>...</td>\n",
       "      <td>...</td>\n",
       "      <td>...</td>\n",
       "      <td>...</td>\n",
       "      <td>...</td>\n",
       "      <td>...</td>\n",
       "      <td>...</td>\n",
       "    </tr>\n",
       "    <tr>\n",
       "      <th>249</th>\n",
       "      <td>43029329</td>\n",
       "      <td>17:56:47</td>\n",
       "      <td>21</td>\n",
       "      <td>65018</td>\n",
       "      <td>WEST - 995 YORK MILLS EXPRESS towards YORK MIL...</td>\n",
       "      <td>9834</td>\n",
       "      <td>0 days 00:04:19</td>\n",
       "      <td>259</td>\n",
       "    </tr>\n",
       "    <tr>\n",
       "      <th>250</th>\n",
       "      <td>43029330</td>\n",
       "      <td>17:45:47</td>\n",
       "      <td>21</td>\n",
       "      <td>65018</td>\n",
       "      <td>WEST - 995 YORK MILLS EXPRESS towards YORK MIL...</td>\n",
       "      <td>9834</td>\n",
       "      <td>0 days 00:04:19</td>\n",
       "      <td>259</td>\n",
       "    </tr>\n",
       "    <tr>\n",
       "      <th>251</th>\n",
       "      <td>43029331</td>\n",
       "      <td>17:34:47</td>\n",
       "      <td>21</td>\n",
       "      <td>65018</td>\n",
       "      <td>WEST - 995 YORK MILLS EXPRESS towards YORK MIL...</td>\n",
       "      <td>9834</td>\n",
       "      <td>0 days 00:04:19</td>\n",
       "      <td>259</td>\n",
       "    </tr>\n",
       "    <tr>\n",
       "      <th>252</th>\n",
       "      <td>43029332</td>\n",
       "      <td>17:23:47</td>\n",
       "      <td>21</td>\n",
       "      <td>65018</td>\n",
       "      <td>WEST - 995 YORK MILLS EXPRESS towards YORK MIL...</td>\n",
       "      <td>9834</td>\n",
       "      <td>0 days 00:04:19</td>\n",
       "      <td>259</td>\n",
       "    </tr>\n",
       "    <tr>\n",
       "      <th>253</th>\n",
       "      <td>43029333</td>\n",
       "      <td>17:12:47</td>\n",
       "      <td>21</td>\n",
       "      <td>65018</td>\n",
       "      <td>WEST - 995 YORK MILLS EXPRESS towards YORK MIL...</td>\n",
       "      <td>9834</td>\n",
       "      <td>0 days 00:04:19</td>\n",
       "      <td>259</td>\n",
       "    </tr>\n",
       "  </tbody>\n",
       "</table>\n",
       "<p>254 rows × 8 columns</p>\n",
       "</div>"
      ],
      "text/plain": [
       "      trip_id stop_time  stop_sequence  route_id  \\\n",
       "0    43005604  26:52:20             53     64914   \n",
       "1    43005605   5:16:41             53     64914   \n",
       "2    43005606   4:46:41             53     64914   \n",
       "3    43005600  27:52:20             53     64914   \n",
       "4    43005602  27:22:20             53     64914   \n",
       "..        ...       ...            ...       ...   \n",
       "249  43029329  17:56:47             21     65018   \n",
       "250  43029330  17:45:47             21     65018   \n",
       "251  43029331  17:34:47             21     65018   \n",
       "252  43029332  17:23:47             21     65018   \n",
       "253  43029333  17:12:47             21     65018   \n",
       "\n",
       "                                         trip_headsign next_stop_id  \\\n",
       "0     WEST - 395 YORK MILLS towards YORK MILLS STATION         5191   \n",
       "1     WEST - 395 YORK MILLS towards YORK MILLS STATION         5191   \n",
       "2     WEST - 395 YORK MILLS towards YORK MILLS STATION         5191   \n",
       "3     WEST - 395 YORK MILLS towards YORK MILLS STATION         5191   \n",
       "4     WEST - 395 YORK MILLS towards YORK MILLS STATION         5191   \n",
       "..                                                 ...          ...   \n",
       "249  WEST - 995 YORK MILLS EXPRESS towards YORK MIL...         9834   \n",
       "250  WEST - 995 YORK MILLS EXPRESS towards YORK MIL...         9834   \n",
       "251  WEST - 995 YORK MILLS EXPRESS towards YORK MIL...         9834   \n",
       "252  WEST - 995 YORK MILLS EXPRESS towards YORK MIL...         9834   \n",
       "253  WEST - 995 YORK MILLS EXPRESS towards YORK MIL...         9834   \n",
       "\n",
       "           duration  seconds  \n",
       "0   0 days 00:00:22       22  \n",
       "1   0 days 00:00:27       27  \n",
       "2   0 days 00:00:27       27  \n",
       "3   0 days 00:00:22       22  \n",
       "4   0 days 00:00:22       22  \n",
       "..              ...      ...  \n",
       "249 0 days 00:04:19      259  \n",
       "250 0 days 00:04:19      259  \n",
       "251 0 days 00:04:19      259  \n",
       "252 0 days 00:04:19      259  \n",
       "253 0 days 00:04:19      259  \n",
       "\n",
       "[254 rows x 8 columns]"
      ]
     },
     "execution_count": 58,
     "metadata": {},
     "output_type": "execute_result"
    }
   ],
   "source": [
    "current_stop_trip_times"
   ]
  },
  {
   "cell_type": "code",
   "execution_count": 59,
   "metadata": {},
   "outputs": [
    {
     "data": {
      "text/plain": [
       "5191"
      ]
     },
     "execution_count": 59,
     "metadata": {},
     "output_type": "execute_result"
    }
   ],
   "source": [
    "# confirm the next stop_id in sequence for the test trip\n",
    "stop_times.loc[((stop_times.trip_id == 43005604) & (stop_times.stop_sequence == 54)), 'stop_id'].item()"
   ]
  },
  {
   "cell_type": "code",
   "execution_count": 60,
   "metadata": {},
   "outputs": [
    {
     "data": {
      "text/plain": [
       "5191    196\n",
       "9834     58\n",
       "Name: next_stop_id, dtype: int64"
      ]
     },
     "execution_count": 60,
     "metadata": {},
     "output_type": "execute_result"
    }
   ],
   "source": [
    "# unique values of next_stop_id which also acts as the list of nearest neighbors (by transit)\n",
    "current_stop_trip_times.next_stop_id.value_counts()"
   ]
  },
  {
   "cell_type": "markdown",
   "metadata": {},
   "source": [
    "---\n",
    "### Experiment with converting stop times over 24 hours into the correct 24 hour time"
   ]
  },
  {
   "cell_type": "code",
   "execution_count": 61,
   "metadata": {},
   "outputs": [],
   "source": [
    "t_series = pd.to_timedelta(current_stop_trip_times.stop_time).sort_values()"
   ]
  },
  {
   "cell_type": "code",
   "execution_count": 62,
   "metadata": {},
   "outputs": [],
   "source": [
    "day_plus = t_series > td(days = 1)"
   ]
  },
  {
   "cell_type": "code",
   "execution_count": 63,
   "metadata": {},
   "outputs": [],
   "source": [
    "t_series[day_plus] = t_series[day_plus] - td(days = 1)"
   ]
  },
  {
   "cell_type": "code",
   "execution_count": 64,
   "metadata": {},
   "outputs": [
    {
     "data": {
      "text/plain": [
       "189   0 days 00:04:48\n",
       "188   0 days 00:14:48\n",
       "187   0 days 00:24:48\n",
       "186   0 days 00:34:48\n",
       "185   0 days 00:44:48\n",
       "184   0 days 00:54:48\n",
       "183   0 days 01:04:48\n",
       "182   0 days 01:14:48\n",
       "181   0 days 01:24:48\n",
       "195   0 days 01:34:48\n",
       "194   0 days 01:44:48\n",
       "193   0 days 01:54:48\n",
       "192   0 days 02:04:48\n",
       "191   0 days 02:14:48\n",
       "190   0 days 02:24:48\n",
       "0     0 days 02:52:20\n",
       "4     0 days 03:22:20\n",
       "3     0 days 03:52:20\n",
       "5     0 days 04:22:20\n",
       "Name: stop_time, dtype: timedelta64[ns]"
      ]
     },
     "execution_count": 64,
     "metadata": {},
     "output_type": "execute_result"
    }
   ],
   "source": [
    "t_series[day_plus]"
   ]
  },
  {
   "cell_type": "markdown",
   "metadata": {},
   "source": [
    "---\n",
    "### Question: Is every stop available on the list of trips filtered to only those with regular weekday service? Are there any stops that don't have a stop_time?"
   ]
  },
  {
   "cell_type": "code",
   "execution_count": 65,
   "metadata": {},
   "outputs": [
    {
     "data": {
      "text/plain": [
       "((4311631, 8), (1304782, 4), (9476, 6))"
      ]
     },
     "execution_count": 65,
     "metadata": {},
     "output_type": "execute_result"
    }
   ],
   "source": [
    "stop_times.shape, my_stop_times.shape, stops.shape"
   ]
  },
  {
   "cell_type": "code",
   "execution_count": 66,
   "metadata": {},
   "outputs": [],
   "source": [
    "stops_in_service = stops[stops.stop_id.isin(my_stop_times.stop_id)]\n",
    "stops_out_of_service = stops[~stops.stop_id.isin(my_stop_times.stop_id)]"
   ]
  },
  {
   "cell_type": "code",
   "execution_count": 67,
   "metadata": {},
   "outputs": [
    {
     "data": {
      "text/plain": [
       "4       520\n",
       "2       436\n",
       "3       416\n",
       "401      44\n",
       "4501     16\n",
       "4401     14\n",
       "Name: service_id, dtype: int64"
      ]
     },
     "execution_count": 67,
     "metadata": {},
     "output_type": "execute_result"
    }
   ],
   "source": [
    "trips[trips.trip_id.isin(stop_times[stop_times.stop_id.isin(stops_out_of_service.stop_id)].trip_id.to_list())].service_id.value_counts()\n",
    "\n",
    "# distribution of service_id for all stops marked as out of regular weekday service\n",
    "# confirms the lack of service_id = 1"
   ]
  },
  {
   "cell_type": "markdown",
   "metadata": {},
   "source": [
    "---\n",
    "### Update shortest_path_df to disregard stops that are out of service"
   ]
  },
  {
   "cell_type": "code",
   "execution_count": 68,
   "metadata": {},
   "outputs": [],
   "source": [
    "shortest_path_df = shortest_path_df[shortest_path_df.stop_id.isin(stops_in_service.stop_id)].reset_index(drop = True)"
   ]
  },
  {
   "cell_type": "code",
   "execution_count": 69,
   "metadata": {},
   "outputs": [
    {
     "data": {
      "text/html": [
       "<div>\n",
       "<style scoped>\n",
       "    .dataframe tbody tr th:only-of-type {\n",
       "        vertical-align: middle;\n",
       "    }\n",
       "\n",
       "    .dataframe tbody tr th {\n",
       "        vertical-align: top;\n",
       "    }\n",
       "\n",
       "    .dataframe thead th {\n",
       "        text-align: right;\n",
       "    }\n",
       "</style>\n",
       "<table border=\"1\" class=\"dataframe\">\n",
       "  <thead>\n",
       "    <tr style=\"text-align: right;\">\n",
       "      <th></th>\n",
       "      <th>stop_id</th>\n",
       "      <th>stop_name</th>\n",
       "      <th>stop_lat</th>\n",
       "      <th>stop_lon</th>\n",
       "      <th>distance</th>\n",
       "      <th>duration</th>\n",
       "      <th>seconds</th>\n",
       "      <th>previous_stop</th>\n",
       "      <th>visited</th>\n",
       "    </tr>\n",
       "  </thead>\n",
       "  <tbody>\n",
       "    <tr>\n",
       "      <th>0</th>\n",
       "      <td>917</td>\n",
       "      <td>York Mills Rd at Sandover Dr (1222 York Mills)</td>\n",
       "      <td>43.759813</td>\n",
       "      <td>-79.331751</td>\n",
       "      <td>0.000000</td>\n",
       "      <td>0:00:00</td>\n",
       "      <td>0</td>\n",
       "      <td>0</td>\n",
       "      <td>False</td>\n",
       "    </tr>\n",
       "    <tr>\n",
       "      <th>1</th>\n",
       "      <td>8081</td>\n",
       "      <td>York Mills Rd at Valley Woods Rd East Side</td>\n",
       "      <td>43.759595</td>\n",
       "      <td>-79.332036</td>\n",
       "      <td>0.000503</td>\n",
       "      <td>0:00:35</td>\n",
       "      <td>35</td>\n",
       "      <td>0</td>\n",
       "      <td>False</td>\n",
       "    </tr>\n",
       "    <tr>\n",
       "      <th>2</th>\n",
       "      <td>10256</td>\n",
       "      <td>113 Valley Woods Rd</td>\n",
       "      <td>43.758960</td>\n",
       "      <td>-79.332778</td>\n",
       "      <td>0.001880</td>\n",
       "      <td>0:02:12</td>\n",
       "      <td>132</td>\n",
       "      <td>0</td>\n",
       "      <td>False</td>\n",
       "    </tr>\n",
       "  </tbody>\n",
       "</table>\n",
       "</div>"
      ],
      "text/plain": [
       "   stop_id                                       stop_name   stop_lat  \\\n",
       "0      917  York Mills Rd at Sandover Dr (1222 York Mills)  43.759813   \n",
       "1     8081      York Mills Rd at Valley Woods Rd East Side  43.759595   \n",
       "2    10256                             113 Valley Woods Rd  43.758960   \n",
       "\n",
       "    stop_lon  distance duration  seconds  previous_stop  visited  \n",
       "0 -79.331751  0.000000  0:00:00        0              0    False  \n",
       "1 -79.332036  0.000503  0:00:35       35              0    False  \n",
       "2 -79.332778  0.001880  0:02:12      132              0    False  "
      ]
     },
     "execution_count": 69,
     "metadata": {},
     "output_type": "execute_result"
    }
   ],
   "source": [
    "shortest_path_df.head(3)"
   ]
  },
  {
   "cell_type": "markdown",
   "metadata": {},
   "source": [
    "---\n",
    "### Search for all times on current_stop_trips that are closest to current_time\n",
    "\n",
    "#### Create and sort by new time delta column"
   ]
  },
  {
   "cell_type": "code",
   "execution_count": 70,
   "metadata": {},
   "outputs": [],
   "source": [
    "# convert to time delta format\n",
    "current_stop_trip_times['start_td'] = pd.to_timedelta(current_stop_trip_times.stop_time)"
   ]
  },
  {
   "cell_type": "code",
   "execution_count": 71,
   "metadata": {},
   "outputs": [],
   "source": [
    "current_stop_trip_times['end_td'] = current_stop_trip_times.start_td + current_stop_trip_times.duration"
   ]
  },
  {
   "cell_type": "code",
   "execution_count": 72,
   "metadata": {},
   "outputs": [],
   "source": [
    "# sort values by time delta, low to high\n",
    "current_stop_trip_times = current_stop_trip_times.sort_values(by = 'end_td')\n",
    "# reset index\n",
    "current_stop_trip_times = current_stop_trip_times.reset_index(drop = True)"
   ]
  },
  {
   "cell_type": "code",
   "execution_count": 73,
   "metadata": {},
   "outputs": [],
   "source": [
    "next_trips = current_stop_trip_times.loc[current_stop_trip_times.start_td > td(hours = 19)]"
   ]
  },
  {
   "cell_type": "code",
   "execution_count": 74,
   "metadata": {},
   "outputs": [
    {
     "data": {
      "text/html": [
       "<div>\n",
       "<style scoped>\n",
       "    .dataframe tbody tr th:only-of-type {\n",
       "        vertical-align: middle;\n",
       "    }\n",
       "\n",
       "    .dataframe tbody tr th {\n",
       "        vertical-align: top;\n",
       "    }\n",
       "\n",
       "    .dataframe thead th {\n",
       "        text-align: right;\n",
       "    }\n",
       "</style>\n",
       "<table border=\"1\" class=\"dataframe\">\n",
       "  <thead>\n",
       "    <tr style=\"text-align: right;\">\n",
       "      <th></th>\n",
       "      <th>trip_id</th>\n",
       "      <th>stop_time</th>\n",
       "      <th>stop_sequence</th>\n",
       "      <th>route_id</th>\n",
       "      <th>trip_headsign</th>\n",
       "      <th>next_stop_id</th>\n",
       "      <th>duration</th>\n",
       "      <th>seconds</th>\n",
       "      <th>start_td</th>\n",
       "      <th>end_td</th>\n",
       "    </tr>\n",
       "  </thead>\n",
       "  <tbody>\n",
       "    <tr>\n",
       "      <th>195</th>\n",
       "      <td>43027160</td>\n",
       "      <td>19:00:42</td>\n",
       "      <td>48</td>\n",
       "      <td>65004</td>\n",
       "      <td>WEST - 95 YORK MILLS towards YORK MILLS STATION</td>\n",
       "      <td>5191</td>\n",
       "      <td>0 days 00:00:33</td>\n",
       "      <td>33</td>\n",
       "      <td>0 days 19:00:42</td>\n",
       "      <td>0 days 19:01:15</td>\n",
       "    </tr>\n",
       "    <tr>\n",
       "      <th>196</th>\n",
       "      <td>43029300</td>\n",
       "      <td>19:02:47</td>\n",
       "      <td>21</td>\n",
       "      <td>65018</td>\n",
       "      <td>WEST - 995 YORK MILLS EXPRESS towards YORK MIL...</td>\n",
       "      <td>9834</td>\n",
       "      <td>0 days 00:04:19</td>\n",
       "      <td>259</td>\n",
       "      <td>0 days 19:02:47</td>\n",
       "      <td>0 days 19:07:06</td>\n",
       "    </tr>\n",
       "    <tr>\n",
       "      <th>197</th>\n",
       "      <td>43027159</td>\n",
       "      <td>19:07:45</td>\n",
       "      <td>17</td>\n",
       "      <td>65004</td>\n",
       "      <td>WEST - 95C YORK MILLS towards YORK MILLS STATION</td>\n",
       "      <td>5191</td>\n",
       "      <td>0 days 00:00:30</td>\n",
       "      <td>30</td>\n",
       "      <td>0 days 19:07:45</td>\n",
       "      <td>0 days 19:08:15</td>\n",
       "    </tr>\n",
       "  </tbody>\n",
       "</table>\n",
       "</div>"
      ],
      "text/plain": [
       "      trip_id stop_time  stop_sequence  route_id  \\\n",
       "195  43027160  19:00:42             48     65004   \n",
       "196  43029300  19:02:47             21     65018   \n",
       "197  43027159  19:07:45             17     65004   \n",
       "\n",
       "                                         trip_headsign next_stop_id  \\\n",
       "195    WEST - 95 YORK MILLS towards YORK MILLS STATION         5191   \n",
       "196  WEST - 995 YORK MILLS EXPRESS towards YORK MIL...         9834   \n",
       "197   WEST - 95C YORK MILLS towards YORK MILLS STATION         5191   \n",
       "\n",
       "           duration  seconds        start_td          end_td  \n",
       "195 0 days 00:00:33       33 0 days 19:00:42 0 days 19:01:15  \n",
       "196 0 days 00:04:19      259 0 days 19:02:47 0 days 19:07:06  \n",
       "197 0 days 00:00:30       30 0 days 19:07:45 0 days 19:08:15  "
      ]
     },
     "execution_count": 74,
     "metadata": {},
     "output_type": "execute_result"
    }
   ],
   "source": [
    "next_trips.head(3)"
   ]
  },
  {
   "cell_type": "markdown",
   "metadata": {},
   "source": [
    "#### Create list of nearest neighbors"
   ]
  },
  {
   "cell_type": "code",
   "execution_count": 75,
   "metadata": {},
   "outputs": [],
   "source": [
    "nearest_neighbors = list(current_stop_trip_times.next_stop_id.unique())"
   ]
  },
  {
   "cell_type": "code",
   "execution_count": 76,
   "metadata": {},
   "outputs": [
    {
     "data": {
      "text/plain": [
       "[5191, 9834]"
      ]
     },
     "execution_count": 76,
     "metadata": {},
     "output_type": "execute_result"
    }
   ],
   "source": [
    "nearest_neighbors"
   ]
  },
  {
   "cell_type": "markdown",
   "metadata": {},
   "source": [
    "#### Instantiate Current Time"
   ]
  },
  {
   "cell_type": "code",
   "execution_count": 77,
   "metadata": {},
   "outputs": [],
   "source": [
    "current_datetime = dt(1900, 1, 1, 19, 0, 0)"
   ]
  },
  {
   "cell_type": "code",
   "execution_count": 78,
   "metadata": {},
   "outputs": [],
   "source": [
    "current_timedelta = td(hours = 19)"
   ]
  },
  {
   "cell_type": "markdown",
   "metadata": {},
   "source": [
    "#### Update shortest_path_df to include timedelta from current_time"
   ]
  },
  {
   "cell_type": "code",
   "execution_count": 79,
   "metadata": {},
   "outputs": [],
   "source": [
    "current_hour = int(str(current_datetime.time())[0:2])"
   ]
  },
  {
   "cell_type": "code",
   "execution_count": 80,
   "metadata": {},
   "outputs": [],
   "source": [
    "shortest_path_df['arrival_time'] = shortest_path_df.duration + td(hours = current_hour)"
   ]
  },
  {
   "cell_type": "markdown",
   "metadata": {},
   "source": [
    "#### Loop over list of nearest neighbors, and find the next trip time for each"
   ]
  },
  {
   "cell_type": "code",
   "execution_count": 81,
   "metadata": {},
   "outputs": [],
   "source": [
    "# alternative 1 to build selected_next_trips\n",
    "\n",
    "next_trips_to_neighbors = []\n",
    "for current_neighbor in nearest_neighbors:\n",
    "    next_trip = next_trips[next_trips.next_stop_id == current_neighbor].head(1)\n",
    "    next_trips_to_neighbors.append(next_trip)\n",
    "selected_next_trips = pd.concat(next_trips_to_neighbors)"
   ]
  },
  {
   "cell_type": "code",
   "execution_count": 82,
   "metadata": {},
   "outputs": [],
   "source": [
    "# alternative 2 to build selected_next_trips\n",
    "\n",
    "next_trips_to_neighbors = []\n",
    "for i in range(0, len(nearest_neighbors)):\n",
    "    for j in range(0, len(next_trips)):\n",
    "        if (next_trips.iloc[j, 5] == nearest_neighbors[i]):\n",
    "            next_trips_to_neighbors.append(j)\n",
    "            break\n",
    "selected_next_trips = next_trips.iloc[next_trips_to_neighbors]"
   ]
  },
  {
   "cell_type": "code",
   "execution_count": 83,
   "metadata": {},
   "outputs": [
    {
     "data": {
      "text/html": [
       "<div>\n",
       "<style scoped>\n",
       "    .dataframe tbody tr th:only-of-type {\n",
       "        vertical-align: middle;\n",
       "    }\n",
       "\n",
       "    .dataframe tbody tr th {\n",
       "        vertical-align: top;\n",
       "    }\n",
       "\n",
       "    .dataframe thead th {\n",
       "        text-align: right;\n",
       "    }\n",
       "</style>\n",
       "<table border=\"1\" class=\"dataframe\">\n",
       "  <thead>\n",
       "    <tr style=\"text-align: right;\">\n",
       "      <th></th>\n",
       "      <th>trip_id</th>\n",
       "      <th>stop_time</th>\n",
       "      <th>stop_sequence</th>\n",
       "      <th>route_id</th>\n",
       "      <th>trip_headsign</th>\n",
       "      <th>next_stop_id</th>\n",
       "      <th>duration</th>\n",
       "      <th>seconds</th>\n",
       "      <th>start_td</th>\n",
       "      <th>end_td</th>\n",
       "    </tr>\n",
       "  </thead>\n",
       "  <tbody>\n",
       "    <tr>\n",
       "      <th>195</th>\n",
       "      <td>43027160</td>\n",
       "      <td>19:00:42</td>\n",
       "      <td>48</td>\n",
       "      <td>65004</td>\n",
       "      <td>WEST - 95 YORK MILLS towards YORK MILLS STATION</td>\n",
       "      <td>5191</td>\n",
       "      <td>0 days 00:00:33</td>\n",
       "      <td>33</td>\n",
       "      <td>0 days 19:00:42</td>\n",
       "      <td>0 days 19:01:15</td>\n",
       "    </tr>\n",
       "    <tr>\n",
       "      <th>196</th>\n",
       "      <td>43029300</td>\n",
       "      <td>19:02:47</td>\n",
       "      <td>21</td>\n",
       "      <td>65018</td>\n",
       "      <td>WEST - 995 YORK MILLS EXPRESS towards YORK MIL...</td>\n",
       "      <td>9834</td>\n",
       "      <td>0 days 00:04:19</td>\n",
       "      <td>259</td>\n",
       "      <td>0 days 19:02:47</td>\n",
       "      <td>0 days 19:07:06</td>\n",
       "    </tr>\n",
       "  </tbody>\n",
       "</table>\n",
       "</div>"
      ],
      "text/plain": [
       "      trip_id stop_time  stop_sequence  route_id  \\\n",
       "195  43027160  19:00:42             48     65004   \n",
       "196  43029300  19:02:47             21     65018   \n",
       "\n",
       "                                         trip_headsign next_stop_id  \\\n",
       "195    WEST - 95 YORK MILLS towards YORK MILLS STATION         5191   \n",
       "196  WEST - 995 YORK MILLS EXPRESS towards YORK MIL...         9834   \n",
       "\n",
       "           duration  seconds        start_td          end_td  \n",
       "195 0 days 00:00:33       33 0 days 19:00:42 0 days 19:01:15  \n",
       "196 0 days 00:04:19      259 0 days 19:02:47 0 days 19:07:06  "
      ]
     },
     "execution_count": 83,
     "metadata": {},
     "output_type": "execute_result"
    }
   ],
   "source": [
    "selected_next_trips"
   ]
  },
  {
   "cell_type": "markdown",
   "metadata": {},
   "source": [
    "#### Use selected_next_trips to update shortest_path_df and hence close the loop on having 'visited' the current stop"
   ]
  },
  {
   "cell_type": "markdown",
   "metadata": {},
   "source": [
    "1. update the shortest_path_df.arrival_time with selected_next_trips.end_td\n",
    "1. update the shortest_path_df.duration with difference between current_timedelta & shortest_path_df.arrival_time\n",
    "1. update the seconds by converting the duration time delta into seconds\n",
    "1. update previous stop as the current stop id"
   ]
  },
  {
   "cell_type": "code",
   "execution_count": 84,
   "metadata": {},
   "outputs": [
    {
     "name": "stdout",
     "output_type": "stream",
     "text": [
      "917\n",
      "19:00:00\n"
     ]
    }
   ],
   "source": [
    "print(current_stop_id)\n",
    "print(current_timedelta)"
   ]
  },
  {
   "cell_type": "code",
   "execution_count": 85,
   "metadata": {},
   "outputs": [
    {
     "data": {
      "text/plain": [
       "195    5191\n",
       "196    9834\n",
       "Name: next_stop_id, dtype: object"
      ]
     },
     "execution_count": 85,
     "metadata": {},
     "output_type": "execute_result"
    }
   ],
   "source": [
    "selected_next_trips.next_stop_id"
   ]
  },
  {
   "cell_type": "code",
   "execution_count": 86,
   "metadata": {},
   "outputs": [
    {
     "name": "stdout",
     "output_type": "stream",
     "text": [
      "5191 0 days 19:01:15\n",
      "9834 0 days 19:07:06\n"
     ]
    }
   ],
   "source": [
    "for i in range(0, len(selected_next_trips)):\n",
    "    n_stop = selected_next_trips.next_stop_id.iloc[i]\n",
    "    n_arrival = selected_next_trips.end_td.iloc[i]\n",
    "    print(n_stop, n_arrival)\n",
    "    match_stop = shortest_path_df.stop_id == n_stop\n",
    "    shortest_path_df.loc[match_stop, 'arrival_time'] = n_arrival\n",
    "    time_diff = n_arrival - current_timedelta\n",
    "    shortest_path_df.loc[match_stop, 'duration'] = time_diff\n",
    "    shortest_path_df.loc[match_stop, 'seconds'] = int(time_diff.total_seconds())\n",
    "    shortest_path_df.loc[match_stop, 'previous_stop'] = current_stop_id"
   ]
  },
  {
   "cell_type": "markdown",
   "metadata": {},
   "source": [
    "#### Mark current stop as having been visited and reset the shortest_path_df by sorting by arrival time"
   ]
  },
  {
   "cell_type": "code",
   "execution_count": 87,
   "metadata": {},
   "outputs": [],
   "source": [
    "shortest_path_df.loc[shortest_path_df.stop_id == current_stop_id, 'visited'] = True"
   ]
  },
  {
   "cell_type": "code",
   "execution_count": 88,
   "metadata": {},
   "outputs": [],
   "source": [
    "shortest_path_df = shortest_path_df.sort_values(by = 'arrival_time').reset_index(drop = True)"
   ]
  },
  {
   "cell_type": "markdown",
   "metadata": {},
   "source": [
    "# Manually work through the 2nd loop"
   ]
  },
  {
   "cell_type": "markdown",
   "metadata": {},
   "source": [
    "---\n",
    "### Switch to the next stop in loop\n",
    "\n",
    "- Update the current stop to the next closest stop on the shortest path df\n",
    "- Update the current time to the arrival time at the new current stop"
   ]
  },
  {
   "cell_type": "code",
   "execution_count": 89,
   "metadata": {},
   "outputs": [
    {
     "data": {
      "text/plain": [
       "8081"
      ]
     },
     "execution_count": 89,
     "metadata": {},
     "output_type": "execute_result"
    }
   ],
   "source": [
    "shortest_path_df[shortest_path_df.visited == False].stop_id.iloc[0]"
   ]
  },
  {
   "cell_type": "code",
   "execution_count": 90,
   "metadata": {},
   "outputs": [],
   "source": [
    "current_stop_id = shortest_path_df[shortest_path_df.visited == False].stop_id.iloc[0]\n",
    "\n",
    "current_stop = current_stop_id # this is redundant and will have to be fixed later"
   ]
  },
  {
   "cell_type": "code",
   "execution_count": 91,
   "metadata": {},
   "outputs": [],
   "source": [
    "current_timedelta = shortest_path_df[shortest_path_df.visited == False].arrival_time.iloc[0]"
   ]
  },
  {
   "cell_type": "code",
   "execution_count": 92,
   "metadata": {},
   "outputs": [
    {
     "name": "stdout",
     "output_type": "stream",
     "text": [
      "8081\n",
      "0 days 19:00:35\n"
     ]
    }
   ],
   "source": [
    "print(current_stop_id)\n",
    "print(current_timedelta)"
   ]
  },
  {
   "cell_type": "markdown",
   "metadata": {},
   "source": [
    "---\n",
    "### Calculate the walking distance from the new current stop to all other unvisited stops"
   ]
  },
  {
   "cell_type": "code",
   "execution_count": 93,
   "metadata": {},
   "outputs": [
    {
     "data": {
      "text/plain": [
       "(8081, 1.4267500000002541e-05, Timedelta('0 days 19:00:35'))"
      ]
     },
     "execution_count": 93,
     "metadata": {},
     "output_type": "execute_result"
    }
   ],
   "source": [
    "current_stop_id, walk_speed_sec, current_timedelta"
   ]
  },
  {
   "cell_type": "code",
   "execution_count": 94,
   "metadata": {},
   "outputs": [],
   "source": [
    "start_timedelta = td(hours = 19)"
   ]
  },
  {
   "cell_type": "code",
   "execution_count": 95,
   "metadata": {},
   "outputs": [],
   "source": [
    "current_stop_lat = stops.loc[stops.stop_id == current_stop_id, 'stop_lat'].item()\n",
    "current_stop_lon = stops.loc[stops.stop_id == current_stop_id, 'stop_lon'].item()"
   ]
  },
  {
   "cell_type": "code",
   "execution_count": 96,
   "metadata": {},
   "outputs": [
    {
     "data": {
      "text/plain": [
       "(43.759595000000004, -79.332036)"
      ]
     },
     "execution_count": 96,
     "metadata": {},
     "output_type": "execute_result"
    }
   ],
   "source": [
    "current_stop_lat, current_stop_lon"
   ]
  },
  {
   "cell_type": "code",
   "execution_count": 97,
   "metadata": {},
   "outputs": [],
   "source": [
    "# build walking distance reference table based of shortest path pf but only considering univisted neighbors\n",
    "walking_distance = shortest_path_df.loc[shortest_path_df.visited == False]\n",
    "walking_distance = walking_distance.loc[:, ['stop_id', 'stop_name', 'stop_lat', 'stop_lon']]"
   ]
  },
  {
   "cell_type": "code",
   "execution_count": 98,
   "metadata": {},
   "outputs": [],
   "source": [
    "walking_distance['distance'] = abs(current_stop_lat - walking_distance['stop_lat']) + abs(current_stop_lon - walking_distance['stop_lon'])"
   ]
  },
  {
   "cell_type": "code",
   "execution_count": 99,
   "metadata": {},
   "outputs": [],
   "source": [
    "walking_distance = walking_distance.sort_values(by = 'distance').reset_index(drop = True)"
   ]
  },
  {
   "cell_type": "code",
   "execution_count": 100,
   "metadata": {},
   "outputs": [],
   "source": [
    "# loop through every stop record on the walking_distance\n",
    "for i in range(0, len(walking_distance)):\n",
    "    \n",
    "    # calculate walking time based on distance\n",
    "    walking_time = round(walking_distance.loc[i, 'distance'] / walk_speed_sec, 0)\n",
    "    \n",
    "    arrival_time = current_timedelta + td(seconds = walking_time)\n",
    "    \n",
    "    # update the duration and seconds column using walking time\n",
    "    walking_distance.loc[i, 'arrival_time'] = arrival_time\n",
    "    walking_distance.loc[i, 'seconds'] = (arrival_time - start_timedelta).total_seconds()\n",
    "    \n",
    "# convert the seconds column into integer type (removing all decimal points)\n",
    "# walking_distance.seconds = walking_distance.seconds.astype('int')"
   ]
  },
  {
   "cell_type": "code",
   "execution_count": 101,
   "metadata": {},
   "outputs": [
    {
     "data": {
      "text/html": [
       "<div>\n",
       "<style scoped>\n",
       "    .dataframe tbody tr th:only-of-type {\n",
       "        vertical-align: middle;\n",
       "    }\n",
       "\n",
       "    .dataframe tbody tr th {\n",
       "        vertical-align: top;\n",
       "    }\n",
       "\n",
       "    .dataframe thead th {\n",
       "        text-align: right;\n",
       "    }\n",
       "</style>\n",
       "<table border=\"1\" class=\"dataframe\">\n",
       "  <thead>\n",
       "    <tr style=\"text-align: right;\">\n",
       "      <th></th>\n",
       "      <th>stop_id</th>\n",
       "      <th>stop_name</th>\n",
       "      <th>stop_lat</th>\n",
       "      <th>stop_lon</th>\n",
       "      <th>distance</th>\n",
       "      <th>arrival_time</th>\n",
       "      <th>seconds</th>\n",
       "    </tr>\n",
       "  </thead>\n",
       "  <tbody>\n",
       "    <tr>\n",
       "      <th>0</th>\n",
       "      <td>8081</td>\n",
       "      <td>York Mills Rd at Valley Woods Rd East Side</td>\n",
       "      <td>43.759595</td>\n",
       "      <td>-79.332036</td>\n",
       "      <td>0.000000</td>\n",
       "      <td>0 days 19:00:35</td>\n",
       "      <td>35.0</td>\n",
       "    </tr>\n",
       "    <tr>\n",
       "      <th>1</th>\n",
       "      <td>10256</td>\n",
       "      <td>113 Valley Woods Rd</td>\n",
       "      <td>43.758960</td>\n",
       "      <td>-79.332778</td>\n",
       "      <td>0.001377</td>\n",
       "      <td>0 days 19:02:12</td>\n",
       "      <td>132.0</td>\n",
       "    </tr>\n",
       "    <tr>\n",
       "      <th>2</th>\n",
       "      <td>6913</td>\n",
       "      <td>Valley Woods Rd at York Mills Rd</td>\n",
       "      <td>43.758994</td>\n",
       "      <td>-79.333070</td>\n",
       "      <td>0.001635</td>\n",
       "      <td>0 days 19:02:30</td>\n",
       "      <td>150.0</td>\n",
       "    </tr>\n",
       "    <tr>\n",
       "      <th>3</th>\n",
       "      <td>5191</td>\n",
       "      <td>1200-1202 York Mills Rd</td>\n",
       "      <td>43.759132</td>\n",
       "      <td>-79.333893</td>\n",
       "      <td>0.002320</td>\n",
       "      <td>0 days 19:03:18</td>\n",
       "      <td>198.0</td>\n",
       "    </tr>\n",
       "    <tr>\n",
       "      <th>4</th>\n",
       "      <td>4880</td>\n",
       "      <td>York Mills Rd at Fenside Dr</td>\n",
       "      <td>43.760561</td>\n",
       "      <td>-79.327819</td>\n",
       "      <td>0.005183</td>\n",
       "      <td>0 days 19:06:38</td>\n",
       "      <td>398.0</td>\n",
       "    </tr>\n",
       "    <tr>\n",
       "      <th>...</th>\n",
       "      <td>...</td>\n",
       "      <td>...</td>\n",
       "      <td>...</td>\n",
       "      <td>...</td>\n",
       "      <td>...</td>\n",
       "      <td>...</td>\n",
       "      <td>...</td>\n",
       "    </tr>\n",
       "    <tr>\n",
       "      <th>9413</th>\n",
       "      <td>4305</td>\n",
       "      <td>The West Mall at Sherway Dr North Side</td>\n",
       "      <td>43.609781</td>\n",
       "      <td>-79.560638</td>\n",
       "      <td>0.378416</td>\n",
       "      <td>1 days 02:22:38</td>\n",
       "      <td>26558.0</td>\n",
       "    </tr>\n",
       "    <tr>\n",
       "      <th>9414</th>\n",
       "      <td>7093</td>\n",
       "      <td>The West Mall at Trillium Health Centre (North...</td>\n",
       "      <td>43.610381</td>\n",
       "      <td>-79.561480</td>\n",
       "      <td>0.378658</td>\n",
       "      <td>1 days 02:22:55</td>\n",
       "      <td>26575.0</td>\n",
       "    </tr>\n",
       "    <tr>\n",
       "      <th>9415</th>\n",
       "      <td>880</td>\n",
       "      <td>The West Mall at Sherway Dr (Trillium Health C...</td>\n",
       "      <td>43.609464</td>\n",
       "      <td>-79.560579</td>\n",
       "      <td>0.378674</td>\n",
       "      <td>1 days 02:22:56</td>\n",
       "      <td>26576.0</td>\n",
       "    </tr>\n",
       "    <tr>\n",
       "      <th>9416</th>\n",
       "      <td>477</td>\n",
       "      <td>Long Branch Loop</td>\n",
       "      <td>43.592111</td>\n",
       "      <td>-79.543700</td>\n",
       "      <td>0.379148</td>\n",
       "      <td>1 days 02:23:29</td>\n",
       "      <td>26609.0</td>\n",
       "    </tr>\n",
       "    <tr>\n",
       "      <th>9417</th>\n",
       "      <td>1750</td>\n",
       "      <td>Long Branch Loop</td>\n",
       "      <td>43.591811</td>\n",
       "      <td>-79.544124</td>\n",
       "      <td>0.379872</td>\n",
       "      <td>1 days 02:24:20</td>\n",
       "      <td>26660.0</td>\n",
       "    </tr>\n",
       "  </tbody>\n",
       "</table>\n",
       "<p>9418 rows × 7 columns</p>\n",
       "</div>"
      ],
      "text/plain": [
       "      stop_id                                          stop_name   stop_lat  \\\n",
       "0        8081         York Mills Rd at Valley Woods Rd East Side  43.759595   \n",
       "1       10256                                113 Valley Woods Rd  43.758960   \n",
       "2        6913                   Valley Woods Rd at York Mills Rd  43.758994   \n",
       "3        5191                            1200-1202 York Mills Rd  43.759132   \n",
       "4        4880                        York Mills Rd at Fenside Dr  43.760561   \n",
       "...       ...                                                ...        ...   \n",
       "9413     4305             The West Mall at Sherway Dr North Side  43.609781   \n",
       "9414     7093  The West Mall at Trillium Health Centre (North...  43.610381   \n",
       "9415      880  The West Mall at Sherway Dr (Trillium Health C...  43.609464   \n",
       "9416      477                                   Long Branch Loop  43.592111   \n",
       "9417     1750                                   Long Branch Loop  43.591811   \n",
       "\n",
       "       stop_lon  distance    arrival_time  seconds  \n",
       "0    -79.332036  0.000000 0 days 19:00:35     35.0  \n",
       "1    -79.332778  0.001377 0 days 19:02:12    132.0  \n",
       "2    -79.333070  0.001635 0 days 19:02:30    150.0  \n",
       "3    -79.333893  0.002320 0 days 19:03:18    198.0  \n",
       "4    -79.327819  0.005183 0 days 19:06:38    398.0  \n",
       "...         ...       ...             ...      ...  \n",
       "9413 -79.560638  0.378416 1 days 02:22:38  26558.0  \n",
       "9414 -79.561480  0.378658 1 days 02:22:55  26575.0  \n",
       "9415 -79.560579  0.378674 1 days 02:22:56  26576.0  \n",
       "9416 -79.543700  0.379148 1 days 02:23:29  26609.0  \n",
       "9417 -79.544124  0.379872 1 days 02:24:20  26660.0  \n",
       "\n",
       "[9418 rows x 7 columns]"
      ]
     },
     "execution_count": 101,
     "metadata": {},
     "output_type": "execute_result"
    }
   ],
   "source": [
    "walking_distance"
   ]
  },
  {
   "cell_type": "code",
   "execution_count": 102,
   "metadata": {},
   "outputs": [],
   "source": [
    "stops_to_update = []\n",
    "for i in range(0, len(walking_distance)):\n",
    "    n_stop = walking_distance.stop_id.loc[i]\n",
    "    new_arrival_time = walking_distance.arrival_time.loc[i]\n",
    "    old_arrival_time = shortest_path_df[shortest_path_df.stop_id == n_stop].arrival_time.item()\n",
    "    if new_arrival_time < old_arrival_time:\n",
    "        stops_to_update.append(i)"
   ]
  },
  {
   "cell_type": "code",
   "execution_count": 103,
   "metadata": {},
   "outputs": [],
   "source": [
    "stops_to_update_df = walking_distance.loc[stops_to_update].reset_index(drop = True)"
   ]
  },
  {
   "cell_type": "markdown",
   "metadata": {},
   "source": [
    "---\n",
    "### Compare the walking time from current stop vs shortest path table"
   ]
  },
  {
   "cell_type": "code",
   "execution_count": 104,
   "metadata": {},
   "outputs": [
    {
     "data": {
      "text/html": [
       "<div>\n",
       "<style scoped>\n",
       "    .dataframe tbody tr th:only-of-type {\n",
       "        vertical-align: middle;\n",
       "    }\n",
       "\n",
       "    .dataframe tbody tr th {\n",
       "        vertical-align: top;\n",
       "    }\n",
       "\n",
       "    .dataframe thead th {\n",
       "        text-align: right;\n",
       "    }\n",
       "</style>\n",
       "<table border=\"1\" class=\"dataframe\">\n",
       "  <thead>\n",
       "    <tr style=\"text-align: right;\">\n",
       "      <th></th>\n",
       "      <th>stop_id</th>\n",
       "      <th>stop_name</th>\n",
       "      <th>stop_lat</th>\n",
       "      <th>stop_lon</th>\n",
       "      <th>distance</th>\n",
       "      <th>arrival_time</th>\n",
       "      <th>seconds</th>\n",
       "    </tr>\n",
       "  </thead>\n",
       "  <tbody>\n",
       "    <tr>\n",
       "      <th>0</th>\n",
       "      <td>5056</td>\n",
       "      <td>44 Valley Woods Rd</td>\n",
       "      <td>43.755137</td>\n",
       "      <td>-79.333446</td>\n",
       "      <td>0.005868</td>\n",
       "      <td>0 days 19:07:26</td>\n",
       "      <td>446.0</td>\n",
       "    </tr>\n",
       "    <tr>\n",
       "      <th>1</th>\n",
       "      <td>2549</td>\n",
       "      <td>29 Valley Woods Rd</td>\n",
       "      <td>43.753958</td>\n",
       "      <td>-79.332910</td>\n",
       "      <td>0.006511</td>\n",
       "      <td>0 days 19:08:11</td>\n",
       "      <td>491.0</td>\n",
       "    </tr>\n",
       "    <tr>\n",
       "      <th>2</th>\n",
       "      <td>5738</td>\n",
       "      <td>York Mills Rd at Valentine Dr</td>\n",
       "      <td>43.757207</td>\n",
       "      <td>-79.341181</td>\n",
       "      <td>0.011533</td>\n",
       "      <td>0 days 19:14:03</td>\n",
       "      <td>843.0</td>\n",
       "    </tr>\n",
       "  </tbody>\n",
       "</table>\n",
       "</div>"
      ],
      "text/plain": [
       "   stop_id                      stop_name   stop_lat   stop_lon  distance  \\\n",
       "0     5056             44 Valley Woods Rd  43.755137 -79.333446  0.005868   \n",
       "1     2549             29 Valley Woods Rd  43.753958 -79.332910  0.006511   \n",
       "2     5738  York Mills Rd at Valentine Dr  43.757207 -79.341181  0.011533   \n",
       "\n",
       "     arrival_time  seconds  \n",
       "0 0 days 19:07:26    446.0  \n",
       "1 0 days 19:08:11    491.0  \n",
       "2 0 days 19:14:03    843.0  "
      ]
     },
     "execution_count": 104,
     "metadata": {},
     "output_type": "execute_result"
    }
   ],
   "source": [
    "stops_to_update_df.head(3)"
   ]
  },
  {
   "cell_type": "code",
   "execution_count": 105,
   "metadata": {},
   "outputs": [],
   "source": [
    "for i in range(0, len(stops_to_update_df)):\n",
    "    i_stop_id = stops_to_update_df.stop_id.iloc[i]\n",
    "    i_arrival_time = stops_to_update_df.arrival_time.iloc[i]\n",
    "    \n",
    "    shortest_path_df.loc[shortest_path_df.stop_id == i_stop_id, 'arrival_time'] = i_arrival_time\n",
    "    shortest_path_df.loc[shortest_path_df.stop_id == i_stop_id, 'previous_stop'] = current_stop_id\n",
    "    \n",
    "    time_diff = i_arrival_time - start_timedelta\n",
    "    shortest_path_df.loc[shortest_path_df.stop_id == i_stop_id, 'duration'] = time_diff\n",
    "    shortest_path_df.loc[shortest_path_df.stop_id == i_stop_id, 'seconds'] = int(time_diff.total_seconds())"
   ]
  },
  {
   "cell_type": "markdown",
   "metadata": {},
   "source": [
    "---\n",
    "### Update shortest path table with formatting and mostly to create a column which indicates whether the journey from the previous stop was by transit or walking"
   ]
  },
  {
   "cell_type": "code",
   "execution_count": 106,
   "metadata": {},
   "outputs": [],
   "source": [
    "shortest_path_df.drop(columns = ['distance', 'duration', 'seconds'], inplace = True)"
   ]
  },
  {
   "cell_type": "code",
   "execution_count": 107,
   "metadata": {},
   "outputs": [],
   "source": [
    "shortest_path_df['previous_mode'] = 'W'"
   ]
  },
  {
   "cell_type": "code",
   "execution_count": 108,
   "metadata": {},
   "outputs": [
    {
     "data": {
      "text/plain": [
       "0       8038\n",
       "8081    1379\n",
       "917        2\n",
       "Name: previous_stop, dtype: int64"
      ]
     },
     "execution_count": 108,
     "metadata": {},
     "output_type": "execute_result"
    }
   ],
   "source": [
    "shortest_path_df.previous_stop.value_counts()"
   ]
  },
  {
   "cell_type": "code",
   "execution_count": 109,
   "metadata": {},
   "outputs": [],
   "source": [
    "shortest_path_df.loc[shortest_path_df.previous_stop == 917, 'previous_mode'] = 'T'"
   ]
  },
  {
   "cell_type": "code",
   "execution_count": 110,
   "metadata": {},
   "outputs": [
    {
     "data": {
      "text/plain": [
       "2    T\n",
       "8    T\n",
       "Name: previous_mode, dtype: object"
      ]
     },
     "execution_count": 110,
     "metadata": {},
     "output_type": "execute_result"
    }
   ],
   "source": [
    "shortest_path_df.loc[shortest_path_df.previous_stop == 917, 'previous_mode']"
   ]
  },
  {
   "cell_type": "markdown",
   "metadata": {},
   "source": [
    "---\n",
    "### Scan all available trips from current stop to select the next available trip to each nearest neighbor"
   ]
  },
  {
   "cell_type": "code",
   "execution_count": 111,
   "metadata": {},
   "outputs": [
    {
     "data": {
      "text/html": [
       "<div>\n",
       "<style scoped>\n",
       "    .dataframe tbody tr th:only-of-type {\n",
       "        vertical-align: middle;\n",
       "    }\n",
       "\n",
       "    .dataframe tbody tr th {\n",
       "        vertical-align: top;\n",
       "    }\n",
       "\n",
       "    .dataframe thead th {\n",
       "        text-align: right;\n",
       "    }\n",
       "</style>\n",
       "<table border=\"1\" class=\"dataframe\">\n",
       "  <thead>\n",
       "    <tr style=\"text-align: right;\">\n",
       "      <th></th>\n",
       "      <th>trip_id</th>\n",
       "      <th>stop_time</th>\n",
       "      <th>stop_id</th>\n",
       "      <th>stop_sequence</th>\n",
       "    </tr>\n",
       "  </thead>\n",
       "  <tbody>\n",
       "    <tr>\n",
       "      <th>0</th>\n",
       "      <td>42990004</td>\n",
       "      <td>7:00:29</td>\n",
       "      <td>14155</td>\n",
       "      <td>1</td>\n",
       "    </tr>\n",
       "    <tr>\n",
       "      <th>1</th>\n",
       "      <td>42990004</td>\n",
       "      <td>7:01:19</td>\n",
       "      <td>3807</td>\n",
       "      <td>2</td>\n",
       "    </tr>\n",
       "    <tr>\n",
       "      <th>2</th>\n",
       "      <td>42990004</td>\n",
       "      <td>7:02:12</td>\n",
       "      <td>6904</td>\n",
       "      <td>3</td>\n",
       "    </tr>\n",
       "  </tbody>\n",
       "</table>\n",
       "</div>"
      ],
      "text/plain": [
       "    trip_id stop_time  stop_id  stop_sequence\n",
       "0  42990004   7:00:29    14155              1\n",
       "1  42990004   7:01:19     3807              2\n",
       "2  42990004   7:02:12     6904              3"
      ]
     },
     "execution_count": 111,
     "metadata": {},
     "output_type": "execute_result"
    }
   ],
   "source": [
    "my_stop_times.head(3)"
   ]
  },
  {
   "cell_type": "code",
   "execution_count": 112,
   "metadata": {},
   "outputs": [
    {
     "data": {
      "text/html": [
       "<div>\n",
       "<style scoped>\n",
       "    .dataframe tbody tr th:only-of-type {\n",
       "        vertical-align: middle;\n",
       "    }\n",
       "\n",
       "    .dataframe tbody tr th {\n",
       "        vertical-align: top;\n",
       "    }\n",
       "\n",
       "    .dataframe thead th {\n",
       "        text-align: right;\n",
       "    }\n",
       "</style>\n",
       "<table border=\"1\" class=\"dataframe\">\n",
       "  <thead>\n",
       "    <tr style=\"text-align: right;\">\n",
       "      <th></th>\n",
       "      <th>route_id</th>\n",
       "      <th>trip_id</th>\n",
       "      <th>trip_headsign</th>\n",
       "      <th>direction_id</th>\n",
       "    </tr>\n",
       "  </thead>\n",
       "  <tbody>\n",
       "    <tr>\n",
       "      <th>0</th>\n",
       "      <td>64815</td>\n",
       "      <td>42990014</td>\n",
       "      <td>EAST - 10 VAN HORNE towards VICTORIA PARK</td>\n",
       "      <td>0</td>\n",
       "    </tr>\n",
       "    <tr>\n",
       "      <th>1</th>\n",
       "      <td>64815</td>\n",
       "      <td>42990036</td>\n",
       "      <td>EAST - 10 VAN HORNE towards VICTORIA PARK</td>\n",
       "      <td>0</td>\n",
       "    </tr>\n",
       "    <tr>\n",
       "      <th>2</th>\n",
       "      <td>64815</td>\n",
       "      <td>42990015</td>\n",
       "      <td>EAST - 10 VAN HORNE towards VICTORIA PARK</td>\n",
       "      <td>0</td>\n",
       "    </tr>\n",
       "  </tbody>\n",
       "</table>\n",
       "</div>"
      ],
      "text/plain": [
       "   route_id   trip_id                              trip_headsign  direction_id\n",
       "0     64815  42990014  EAST - 10 VAN HORNE towards VICTORIA PARK             0\n",
       "1     64815  42990036  EAST - 10 VAN HORNE towards VICTORIA PARK             0\n",
       "2     64815  42990015  EAST - 10 VAN HORNE towards VICTORIA PARK             0"
      ]
     },
     "execution_count": 112,
     "metadata": {},
     "output_type": "execute_result"
    }
   ],
   "source": [
    "my_trips.head(3)"
   ]
  },
  {
   "cell_type": "code",
   "execution_count": 113,
   "metadata": {},
   "outputs": [],
   "source": [
    "my_schedule = pd.merge(my_stop_times, my_trips, on = 'trip_id', how = 'inner')"
   ]
  },
  {
   "cell_type": "code",
   "execution_count": 114,
   "metadata": {},
   "outputs": [],
   "source": [
    "my_schedule['time_delta'] = pd.to_timedelta(my_schedule.stop_time)"
   ]
  },
  {
   "cell_type": "code",
   "execution_count": 115,
   "metadata": {},
   "outputs": [],
   "source": [
    "current_stop_trips = my_schedule.loc[my_schedule.stop_id == current_stop_id]"
   ]
  },
  {
   "cell_type": "code",
   "execution_count": 116,
   "metadata": {},
   "outputs": [],
   "source": [
    "current_stop_trips = current_stop_trips.drop(columns = ['stop_id', 'direction_id'])"
   ]
  },
  {
   "cell_type": "code",
   "execution_count": 117,
   "metadata": {},
   "outputs": [],
   "source": [
    "current_stop_trips = current_stop_trips.reset_index(drop = True)"
   ]
  },
  {
   "cell_type": "markdown",
   "metadata": {},
   "source": [
    "#### Start here > current objective > keep building current_stop_trips to mimic how we built current_stop_trip_times for the first manual round using the home stop. Next step is to build the 'next_stop_id' and 'next_stop_arrival_time' instead of 'end_td' (full use of delta from start time vs just measuring the duration). Once that's done: for each next_stop_id find the earliest available trip and use this info to update the shortest path table. Consider at what point to include the 1 minute buffer time for transfers"
   ]
  },
  {
   "cell_type": "code",
   "execution_count": 118,
   "metadata": {},
   "outputs": [],
   "source": [
    "current_stop_trips['next_stop_id'] = None\n",
    "current_stop_trips['arrival_time'] = td(seconds = 0)"
   ]
  },
  {
   "cell_type": "code",
   "execution_count": 119,
   "metadata": {},
   "outputs": [
    {
     "data": {
      "text/html": [
       "<div>\n",
       "<style scoped>\n",
       "    .dataframe tbody tr th:only-of-type {\n",
       "        vertical-align: middle;\n",
       "    }\n",
       "\n",
       "    .dataframe tbody tr th {\n",
       "        vertical-align: top;\n",
       "    }\n",
       "\n",
       "    .dataframe thead th {\n",
       "        text-align: right;\n",
       "    }\n",
       "</style>\n",
       "<table border=\"1\" class=\"dataframe\">\n",
       "  <thead>\n",
       "    <tr style=\"text-align: right;\">\n",
       "      <th></th>\n",
       "      <th>trip_id</th>\n",
       "      <th>stop_time</th>\n",
       "      <th>stop_id</th>\n",
       "      <th>stop_sequence</th>\n",
       "      <th>route_id</th>\n",
       "      <th>trip_headsign</th>\n",
       "      <th>direction_id</th>\n",
       "      <th>time_delta</th>\n",
       "    </tr>\n",
       "  </thead>\n",
       "  <tbody>\n",
       "    <tr>\n",
       "      <th>0</th>\n",
       "      <td>42990004</td>\n",
       "      <td>7:00:29</td>\n",
       "      <td>14155</td>\n",
       "      <td>1</td>\n",
       "      <td>64815</td>\n",
       "      <td>EAST - 10 VAN HORNE towards VICTORIA PARK</td>\n",
       "      <td>0</td>\n",
       "      <td>0 days 07:00:29</td>\n",
       "    </tr>\n",
       "    <tr>\n",
       "      <th>1</th>\n",
       "      <td>42990004</td>\n",
       "      <td>7:01:19</td>\n",
       "      <td>3807</td>\n",
       "      <td>2</td>\n",
       "      <td>64815</td>\n",
       "      <td>EAST - 10 VAN HORNE towards VICTORIA PARK</td>\n",
       "      <td>0</td>\n",
       "      <td>0 days 07:01:19</td>\n",
       "    </tr>\n",
       "    <tr>\n",
       "      <th>2</th>\n",
       "      <td>42990004</td>\n",
       "      <td>7:02:12</td>\n",
       "      <td>6904</td>\n",
       "      <td>3</td>\n",
       "      <td>64815</td>\n",
       "      <td>EAST - 10 VAN HORNE towards VICTORIA PARK</td>\n",
       "      <td>0</td>\n",
       "      <td>0 days 07:02:12</td>\n",
       "    </tr>\n",
       "  </tbody>\n",
       "</table>\n",
       "</div>"
      ],
      "text/plain": [
       "    trip_id stop_time  stop_id  stop_sequence  route_id  \\\n",
       "0  42990004   7:00:29    14155              1     64815   \n",
       "1  42990004   7:01:19     3807              2     64815   \n",
       "2  42990004   7:02:12     6904              3     64815   \n",
       "\n",
       "                               trip_headsign  direction_id      time_delta  \n",
       "0  EAST - 10 VAN HORNE towards VICTORIA PARK             0 0 days 07:00:29  \n",
       "1  EAST - 10 VAN HORNE towards VICTORIA PARK             0 0 days 07:01:19  \n",
       "2  EAST - 10 VAN HORNE towards VICTORIA PARK             0 0 days 07:02:12  "
      ]
     },
     "execution_count": 119,
     "metadata": {},
     "output_type": "execute_result"
    }
   ],
   "source": [
    "my_schedule.head(3)"
   ]
  },
  {
   "cell_type": "code",
   "execution_count": 120,
   "metadata": {},
   "outputs": [],
   "source": [
    "for i in range(0, len(current_stop_trips)):\n",
    "    \n",
    "    i_trip_id = current_stop_trips.loc[i, 'trip_id']\n",
    "    i_stop_sequence = int(current_stop_trips.loc[i, 'stop_sequence'])\n",
    "    next_stop_sequence = i_stop_sequence + 1\n",
    "    \n",
    "    # pull a list of all stops on the current trip\n",
    "    i_trip_stops = my_schedule[my_schedule.trip_id == trip_id]\n",
    "    \n",
    "    # returns true if there is a next stop available for the current trip\n",
    "    next_stop_exists = next_stop_sequence in i_trip_stops.stop_sequence.unique()\n",
    "    \n",
    "    if (next_stop_exists):\n",
    "        # grab data from my_schedule\n",
    "        next_stop_id = my_schedule.loc[((my_schedule.trip_id == i_trip_id) & (my_schedule.stop_sequence == next_stop_sequence)), 'stop_id'].item()\n",
    "        arrival_time = my_schedule.loc[((my_schedule.trip_id == i_trip_id) & (my_schedule.stop_sequence == next_stop_sequence)), 'time_delta'].item()\n",
    "        # and then transfer to current_stop_trips\n",
    "        current_stop_trips.loc[i, 'next_stop_id'] = next_stop_id\n",
    "        current_stop_trips.loc[i, 'arrival_time'] = arrival_time\n",
    "    else:\n",
    "        # if no data, mark data as blank\n",
    "        current_stop_trips.loc[i, 'next_stop_id'] = 0\n",
    "        current_stop_trips.loc[i, 'arrival_time'] = td(seconds = 0)"
   ]
  },
  {
   "cell_type": "code",
   "execution_count": 121,
   "metadata": {},
   "outputs": [
    {
     "data": {
      "text/plain": [
       "4880    182\n",
       "3177     56\n",
       "Name: next_stop_id, dtype: int64"
      ]
     },
     "execution_count": 121,
     "metadata": {},
     "output_type": "execute_result"
    }
   ],
   "source": [
    "current_stop_trips.next_stop_id.value_counts()"
   ]
  },
  {
   "cell_type": "code",
   "execution_count": 122,
   "metadata": {},
   "outputs": [
    {
     "data": {
      "text/plain": [
       "(8081, Timedelta('0 days 19:00:35'))"
      ]
     },
     "execution_count": 122,
     "metadata": {},
     "output_type": "execute_result"
    }
   ],
   "source": [
    "current_stop_id, current_timedelta"
   ]
  },
  {
   "cell_type": "code",
   "execution_count": 123,
   "metadata": {},
   "outputs": [],
   "source": [
    "transfer_timedelta = current_timedelta + td(minutes = 1)"
   ]
  },
  {
   "cell_type": "code",
   "execution_count": 124,
   "metadata": {},
   "outputs": [
    {
     "data": {
      "text/plain": [
       "Timedelta('0 days 19:01:35')"
      ]
     },
     "execution_count": 124,
     "metadata": {},
     "output_type": "execute_result"
    }
   ],
   "source": [
    "transfer_timedelta"
   ]
  },
  {
   "cell_type": "code",
   "execution_count": 125,
   "metadata": {},
   "outputs": [],
   "source": [
    "next_trips = current_stop_trips.loc[current_stop_trips.time_delta > transfer_timedelta].sort_values(by = 'arrival_time')"
   ]
  },
  {
   "cell_type": "code",
   "execution_count": 126,
   "metadata": {},
   "outputs": [
    {
     "data": {
      "text/plain": [
       "(56, 8)"
      ]
     },
     "execution_count": 126,
     "metadata": {},
     "output_type": "execute_result"
    }
   ],
   "source": [
    "next_trips.shape"
   ]
  },
  {
   "cell_type": "code",
   "execution_count": 127,
   "metadata": {},
   "outputs": [
    {
     "data": {
      "text/html": [
       "<div>\n",
       "<style scoped>\n",
       "    .dataframe tbody tr th:only-of-type {\n",
       "        vertical-align: middle;\n",
       "    }\n",
       "\n",
       "    .dataframe tbody tr th {\n",
       "        vertical-align: top;\n",
       "    }\n",
       "\n",
       "    .dataframe thead th {\n",
       "        text-align: right;\n",
       "    }\n",
       "</style>\n",
       "<table border=\"1\" class=\"dataframe\">\n",
       "  <thead>\n",
       "    <tr style=\"text-align: right;\">\n",
       "      <th></th>\n",
       "      <th>trip_id</th>\n",
       "      <th>stop_time</th>\n",
       "      <th>stop_sequence</th>\n",
       "      <th>route_id</th>\n",
       "      <th>trip_headsign</th>\n",
       "      <th>time_delta</th>\n",
       "      <th>next_stop_id</th>\n",
       "      <th>arrival_time</th>\n",
       "    </tr>\n",
       "  </thead>\n",
       "  <tbody>\n",
       "    <tr>\n",
       "      <th>134</th>\n",
       "      <td>43027071</td>\n",
       "      <td>19:05:09</td>\n",
       "      <td>20</td>\n",
       "      <td>65004</td>\n",
       "      <td>EAST - 95C YORK MILLS towards ELLESMERE STATION</td>\n",
       "      <td>0 days 19:05:09</td>\n",
       "      <td>4880</td>\n",
       "      <td>0 days 19:06:16</td>\n",
       "    </tr>\n",
       "  </tbody>\n",
       "</table>\n",
       "</div>"
      ],
      "text/plain": [
       "      trip_id stop_time  stop_sequence  route_id  \\\n",
       "134  43027071  19:05:09             20     65004   \n",
       "\n",
       "                                       trip_headsign      time_delta  \\\n",
       "134  EAST - 95C YORK MILLS towards ELLESMERE STATION 0 days 19:05:09   \n",
       "\n",
       "    next_stop_id    arrival_time  \n",
       "134         4880 0 days 19:06:16  "
      ]
     },
     "execution_count": 127,
     "metadata": {},
     "output_type": "execute_result"
    }
   ],
   "source": [
    "next_trips.head(1)"
   ]
  },
  {
   "cell_type": "code",
   "execution_count": 128,
   "metadata": {},
   "outputs": [],
   "source": [
    "nearest_neighbors = next_trips.next_stop_id.value_counts().index.to_list()"
   ]
  },
  {
   "cell_type": "code",
   "execution_count": 129,
   "metadata": {},
   "outputs": [
    {
     "data": {
      "text/plain": [
       "[4880, 3177]"
      ]
     },
     "execution_count": 129,
     "metadata": {},
     "output_type": "execute_result"
    }
   ],
   "source": [
    "nearest_neighbors"
   ]
  },
  {
   "cell_type": "code",
   "execution_count": 130,
   "metadata": {},
   "outputs": [],
   "source": [
    "next_trips_to_neighbors = []\n",
    "for i in range(0, len(nearest_neighbors)):\n",
    "    for j in range(0, len(next_trips)):\n",
    "        if (next_trips.iloc[j, 6] == nearest_neighbors[i]):\n",
    "            next_trips_to_neighbors.append(j)\n",
    "            break\n",
    "selected_next_trips = next_trips.iloc[next_trips_to_neighbors]"
   ]
  },
  {
   "cell_type": "code",
   "execution_count": 131,
   "metadata": {},
   "outputs": [],
   "source": [
    "save_record = shortest_path_df[shortest_path_df.stop_id.isin(nearest_neighbors)].copy()"
   ]
  },
  {
   "cell_type": "code",
   "execution_count": 132,
   "metadata": {},
   "outputs": [
    {
     "data": {
      "text/html": [
       "<div>\n",
       "<style scoped>\n",
       "    .dataframe tbody tr th:only-of-type {\n",
       "        vertical-align: middle;\n",
       "    }\n",
       "\n",
       "    .dataframe tbody tr th {\n",
       "        vertical-align: top;\n",
       "    }\n",
       "\n",
       "    .dataframe thead th {\n",
       "        text-align: right;\n",
       "    }\n",
       "</style>\n",
       "<table border=\"1\" class=\"dataframe\">\n",
       "  <thead>\n",
       "    <tr style=\"text-align: right;\">\n",
       "      <th></th>\n",
       "      <th>stop_id</th>\n",
       "      <th>stop_name</th>\n",
       "      <th>stop_lat</th>\n",
       "      <th>stop_lon</th>\n",
       "      <th>previous_stop</th>\n",
       "      <th>visited</th>\n",
       "      <th>arrival_time</th>\n",
       "      <th>previous_mode</th>\n",
       "    </tr>\n",
       "  </thead>\n",
       "  <tbody>\n",
       "    <tr>\n",
       "      <th>5</th>\n",
       "      <td>4880</td>\n",
       "      <td>York Mills Rd at Fenside Dr</td>\n",
       "      <td>43.760561</td>\n",
       "      <td>-79.327819</td>\n",
       "      <td>0</td>\n",
       "      <td>False</td>\n",
       "      <td>0 days 19:05:28</td>\n",
       "      <td>W</td>\n",
       "    </tr>\n",
       "    <tr>\n",
       "      <th>26</th>\n",
       "      <td>3177</td>\n",
       "      <td>Parkwoods Village Dr at Brookbanks Dr</td>\n",
       "      <td>43.760930</td>\n",
       "      <td>-79.323736</td>\n",
       "      <td>0</td>\n",
       "      <td>False</td>\n",
       "      <td>0 days 19:10:40</td>\n",
       "      <td>W</td>\n",
       "    </tr>\n",
       "  </tbody>\n",
       "</table>\n",
       "</div>"
      ],
      "text/plain": [
       "    stop_id                              stop_name   stop_lat   stop_lon  \\\n",
       "5      4880            York Mills Rd at Fenside Dr  43.760561 -79.327819   \n",
       "26     3177  Parkwoods Village Dr at Brookbanks Dr  43.760930 -79.323736   \n",
       "\n",
       "    previous_stop  visited    arrival_time previous_mode  \n",
       "5               0    False 0 days 19:05:28             W  \n",
       "26              0    False 0 days 19:10:40             W  "
      ]
     },
     "execution_count": 132,
     "metadata": {},
     "output_type": "execute_result"
    }
   ],
   "source": [
    "save_record"
   ]
  },
  {
   "cell_type": "code",
   "execution_count": 133,
   "metadata": {},
   "outputs": [
    {
     "data": {
      "text/html": [
       "<div>\n",
       "<style scoped>\n",
       "    .dataframe tbody tr th:only-of-type {\n",
       "        vertical-align: middle;\n",
       "    }\n",
       "\n",
       "    .dataframe tbody tr th {\n",
       "        vertical-align: top;\n",
       "    }\n",
       "\n",
       "    .dataframe thead th {\n",
       "        text-align: right;\n",
       "    }\n",
       "</style>\n",
       "<table border=\"1\" class=\"dataframe\">\n",
       "  <thead>\n",
       "    <tr style=\"text-align: right;\">\n",
       "      <th></th>\n",
       "      <th>trip_id</th>\n",
       "      <th>stop_time</th>\n",
       "      <th>stop_sequence</th>\n",
       "      <th>route_id</th>\n",
       "      <th>trip_headsign</th>\n",
       "      <th>time_delta</th>\n",
       "      <th>next_stop_id</th>\n",
       "      <th>arrival_time</th>\n",
       "    </tr>\n",
       "  </thead>\n",
       "  <tbody>\n",
       "    <tr>\n",
       "      <th>134</th>\n",
       "      <td>43027071</td>\n",
       "      <td>19:05:09</td>\n",
       "      <td>20</td>\n",
       "      <td>65004</td>\n",
       "      <td>EAST - 95C YORK MILLS towards ELLESMERE STATION</td>\n",
       "      <td>0 days 19:05:09</td>\n",
       "      <td>4880</td>\n",
       "      <td>0 days 19:06:16</td>\n",
       "    </tr>\n",
       "    <tr>\n",
       "      <th>234</th>\n",
       "      <td>43029266</td>\n",
       "      <td>19:12:11</td>\n",
       "      <td>5</td>\n",
       "      <td>65018</td>\n",
       "      <td>EAST - 995 YORK MILLS EXPRESS towards U OF T S...</td>\n",
       "      <td>0 days 19:12:11</td>\n",
       "      <td>3177</td>\n",
       "      <td>0 days 19:14:52</td>\n",
       "    </tr>\n",
       "  </tbody>\n",
       "</table>\n",
       "</div>"
      ],
      "text/plain": [
       "      trip_id stop_time  stop_sequence  route_id  \\\n",
       "134  43027071  19:05:09             20     65004   \n",
       "234  43029266  19:12:11              5     65018   \n",
       "\n",
       "                                         trip_headsign      time_delta  \\\n",
       "134    EAST - 95C YORK MILLS towards ELLESMERE STATION 0 days 19:05:09   \n",
       "234  EAST - 995 YORK MILLS EXPRESS towards U OF T S... 0 days 19:12:11   \n",
       "\n",
       "    next_stop_id    arrival_time  \n",
       "134         4880 0 days 19:06:16  \n",
       "234         3177 0 days 19:14:52  "
      ]
     },
     "execution_count": 133,
     "metadata": {},
     "output_type": "execute_result"
    }
   ],
   "source": [
    "selected_next_trips"
   ]
  },
  {
   "cell_type": "code",
   "execution_count": 134,
   "metadata": {},
   "outputs": [
    {
     "data": {
      "text/html": [
       "<div>\n",
       "<style scoped>\n",
       "    .dataframe tbody tr th:only-of-type {\n",
       "        vertical-align: middle;\n",
       "    }\n",
       "\n",
       "    .dataframe tbody tr th {\n",
       "        vertical-align: top;\n",
       "    }\n",
       "\n",
       "    .dataframe thead th {\n",
       "        text-align: right;\n",
       "    }\n",
       "</style>\n",
       "<table border=\"1\" class=\"dataframe\">\n",
       "  <thead>\n",
       "    <tr style=\"text-align: right;\">\n",
       "      <th></th>\n",
       "      <th>trip_id</th>\n",
       "      <th>stop_time</th>\n",
       "      <th>stop_id</th>\n",
       "      <th>stop_sequence</th>\n",
       "      <th>pickup_type</th>\n",
       "      <th>drop_off_type</th>\n",
       "      <th>shape_dist_traveled</th>\n",
       "      <th>time_delta</th>\n",
       "    </tr>\n",
       "  </thead>\n",
       "  <tbody>\n",
       "    <tr>\n",
       "      <th>1185474</th>\n",
       "      <td>43027071</td>\n",
       "      <td>19:05:09</td>\n",
       "      <td>8081</td>\n",
       "      <td>20</td>\n",
       "      <td>0</td>\n",
       "      <td>0</td>\n",
       "      <td>6.5650</td>\n",
       "      <td>0 days 19:05:09</td>\n",
       "    </tr>\n",
       "    <tr>\n",
       "      <th>1185475</th>\n",
       "      <td>43027071</td>\n",
       "      <td>19:06:16</td>\n",
       "      <td>4880</td>\n",
       "      <td>21</td>\n",
       "      <td>0</td>\n",
       "      <td>0</td>\n",
       "      <td>6.9199</td>\n",
       "      <td>0 days 19:06:16</td>\n",
       "    </tr>\n",
       "    <tr>\n",
       "      <th>1185476</th>\n",
       "      <td>43027071</td>\n",
       "      <td>19:07:23</td>\n",
       "      <td>3177</td>\n",
       "      <td>22</td>\n",
       "      <td>0</td>\n",
       "      <td>0</td>\n",
       "      <td>7.2766</td>\n",
       "      <td>0 days 19:07:23</td>\n",
       "    </tr>\n",
       "    <tr>\n",
       "      <th>1185477</th>\n",
       "      <td>43027071</td>\n",
       "      <td>19:08:15</td>\n",
       "      <td>8969</td>\n",
       "      <td>23</td>\n",
       "      <td>0</td>\n",
       "      <td>0</td>\n",
       "      <td>7.5523</td>\n",
       "      <td>0 days 19:08:15</td>\n",
       "    </tr>\n",
       "    <tr>\n",
       "      <th>1185478</th>\n",
       "      <td>43027071</td>\n",
       "      <td>19:08:53</td>\n",
       "      <td>8855</td>\n",
       "      <td>24</td>\n",
       "      <td>0</td>\n",
       "      <td>0</td>\n",
       "      <td>7.7533</td>\n",
       "      <td>0 days 19:08:53</td>\n",
       "    </tr>\n",
       "    <tr>\n",
       "      <th>1185479</th>\n",
       "      <td>43027071</td>\n",
       "      <td>19:10:09</td>\n",
       "      <td>9291</td>\n",
       "      <td>25</td>\n",
       "      <td>0</td>\n",
       "      <td>0</td>\n",
       "      <td>8.1448</td>\n",
       "      <td>0 days 19:10:09</td>\n",
       "    </tr>\n",
       "    <tr>\n",
       "      <th>1185480</th>\n",
       "      <td>43027071</td>\n",
       "      <td>19:11:22</td>\n",
       "      <td>352</td>\n",
       "      <td>26</td>\n",
       "      <td>0</td>\n",
       "      <td>0</td>\n",
       "      <td>8.4965</td>\n",
       "      <td>0 days 19:11:22</td>\n",
       "    </tr>\n",
       "    <tr>\n",
       "      <th>1185481</th>\n",
       "      <td>43027071</td>\n",
       "      <td>19:12:04</td>\n",
       "      <td>5921</td>\n",
       "      <td>27</td>\n",
       "      <td>0</td>\n",
       "      <td>0</td>\n",
       "      <td>8.7018</td>\n",
       "      <td>0 days 19:12:04</td>\n",
       "    </tr>\n",
       "    <tr>\n",
       "      <th>1185482</th>\n",
       "      <td>43027071</td>\n",
       "      <td>19:13:04</td>\n",
       "      <td>9155</td>\n",
       "      <td>28</td>\n",
       "      <td>0</td>\n",
       "      <td>0</td>\n",
       "      <td>8.9926</td>\n",
       "      <td>0 days 19:13:04</td>\n",
       "    </tr>\n",
       "    <tr>\n",
       "      <th>1185483</th>\n",
       "      <td>43027071</td>\n",
       "      <td>19:14:05</td>\n",
       "      <td>4465</td>\n",
       "      <td>29</td>\n",
       "      <td>0</td>\n",
       "      <td>0</td>\n",
       "      <td>9.2852</td>\n",
       "      <td>0 days 19:14:05</td>\n",
       "    </tr>\n",
       "    <tr>\n",
       "      <th>1185484</th>\n",
       "      <td>43027071</td>\n",
       "      <td>19:15:05</td>\n",
       "      <td>8766</td>\n",
       "      <td>30</td>\n",
       "      <td>0</td>\n",
       "      <td>0</td>\n",
       "      <td>9.5744</td>\n",
       "      <td>0 days 19:15:05</td>\n",
       "    </tr>\n",
       "    <tr>\n",
       "      <th>1185485</th>\n",
       "      <td>43027071</td>\n",
       "      <td>19:16:04</td>\n",
       "      <td>9532</td>\n",
       "      <td>31</td>\n",
       "      <td>0</td>\n",
       "      <td>0</td>\n",
       "      <td>9.8594</td>\n",
       "      <td>0 days 19:16:04</td>\n",
       "    </tr>\n",
       "    <tr>\n",
       "      <th>1185486</th>\n",
       "      <td>43027071</td>\n",
       "      <td>19:16:50</td>\n",
       "      <td>1307</td>\n",
       "      <td>32</td>\n",
       "      <td>0</td>\n",
       "      <td>0</td>\n",
       "      <td>10.0830</td>\n",
       "      <td>0 days 19:16:50</td>\n",
       "    </tr>\n",
       "    <tr>\n",
       "      <th>1185487</th>\n",
       "      <td>43027071</td>\n",
       "      <td>19:18:19</td>\n",
       "      <td>5694</td>\n",
       "      <td>33</td>\n",
       "      <td>0</td>\n",
       "      <td>0</td>\n",
       "      <td>10.3983</td>\n",
       "      <td>0 days 19:18:19</td>\n",
       "    </tr>\n",
       "    <tr>\n",
       "      <th>1185488</th>\n",
       "      <td>43027071</td>\n",
       "      <td>19:19:46</td>\n",
       "      <td>5286</td>\n",
       "      <td>34</td>\n",
       "      <td>0</td>\n",
       "      <td>0</td>\n",
       "      <td>10.7139</td>\n",
       "      <td>0 days 19:19:46</td>\n",
       "    </tr>\n",
       "    <tr>\n",
       "      <th>1185489</th>\n",
       "      <td>43027071</td>\n",
       "      <td>19:20:49</td>\n",
       "      <td>4461</td>\n",
       "      <td>35</td>\n",
       "      <td>0</td>\n",
       "      <td>0</td>\n",
       "      <td>10.9420</td>\n",
       "      <td>0 days 19:20:49</td>\n",
       "    </tr>\n",
       "    <tr>\n",
       "      <th>1185490</th>\n",
       "      <td>43027071</td>\n",
       "      <td>19:22:08</td>\n",
       "      <td>15015</td>\n",
       "      <td>36</td>\n",
       "      <td>0</td>\n",
       "      <td>0</td>\n",
       "      <td>11.4265</td>\n",
       "      <td>0 days 19:22:08</td>\n",
       "    </tr>\n",
       "  </tbody>\n",
       "</table>\n",
       "</div>"
      ],
      "text/plain": [
       "          trip_id stop_time  stop_id  stop_sequence  pickup_type  \\\n",
       "1185474  43027071  19:05:09     8081             20            0   \n",
       "1185475  43027071  19:06:16     4880             21            0   \n",
       "1185476  43027071  19:07:23     3177             22            0   \n",
       "1185477  43027071  19:08:15     8969             23            0   \n",
       "1185478  43027071  19:08:53     8855             24            0   \n",
       "1185479  43027071  19:10:09     9291             25            0   \n",
       "1185480  43027071  19:11:22      352             26            0   \n",
       "1185481  43027071  19:12:04     5921             27            0   \n",
       "1185482  43027071  19:13:04     9155             28            0   \n",
       "1185483  43027071  19:14:05     4465             29            0   \n",
       "1185484  43027071  19:15:05     8766             30            0   \n",
       "1185485  43027071  19:16:04     9532             31            0   \n",
       "1185486  43027071  19:16:50     1307             32            0   \n",
       "1185487  43027071  19:18:19     5694             33            0   \n",
       "1185488  43027071  19:19:46     5286             34            0   \n",
       "1185489  43027071  19:20:49     4461             35            0   \n",
       "1185490  43027071  19:22:08    15015             36            0   \n",
       "\n",
       "         drop_off_type  shape_dist_traveled      time_delta  \n",
       "1185474              0               6.5650 0 days 19:05:09  \n",
       "1185475              0               6.9199 0 days 19:06:16  \n",
       "1185476              0               7.2766 0 days 19:07:23  \n",
       "1185477              0               7.5523 0 days 19:08:15  \n",
       "1185478              0               7.7533 0 days 19:08:53  \n",
       "1185479              0               8.1448 0 days 19:10:09  \n",
       "1185480              0               8.4965 0 days 19:11:22  \n",
       "1185481              0               8.7018 0 days 19:12:04  \n",
       "1185482              0               8.9926 0 days 19:13:04  \n",
       "1185483              0               9.2852 0 days 19:14:05  \n",
       "1185484              0               9.5744 0 days 19:15:05  \n",
       "1185485              0               9.8594 0 days 19:16:04  \n",
       "1185486              0              10.0830 0 days 19:16:50  \n",
       "1185487              0              10.3983 0 days 19:18:19  \n",
       "1185488              0              10.7139 0 days 19:19:46  \n",
       "1185489              0              10.9420 0 days 19:20:49  \n",
       "1185490              0              11.4265 0 days 19:22:08  "
      ]
     },
     "execution_count": 134,
     "metadata": {},
     "output_type": "execute_result"
    }
   ],
   "source": [
    "stop_times.query('trip_id == 43027071 and stop_sequence > 19')"
   ]
  },
  {
   "cell_type": "code",
   "execution_count": 135,
   "metadata": {},
   "outputs": [
    {
     "name": "stdout",
     "output_type": "stream",
     "text": [
      "4880 0 days 19:06:16\n",
      "3177 0 days 19:14:52\n"
     ]
    }
   ],
   "source": [
    "for i in range(0, len(selected_next_trips)):\n",
    "    n_stop = selected_next_trips.next_stop_id.iloc[i]\n",
    "    n_arrival = selected_next_trips.arrival_time.iloc[i]\n",
    "    print(n_stop, n_arrival)\n",
    "    match_stop = shortest_path_df.stop_id == n_stop\n",
    "    update_condition = shortest_path_df.loc[match_stop, 'arrival_time'].iloc[0] > n_arrival\n",
    "    if (update_condition):\n",
    "        shortest_path_df.loc[match_stop, 'arrival_time'] = n_arrival\n",
    "        shortest_path_df.loc[match_stop, 'previous_stop'] = current_stop_id\n",
    "        shortest_path_df.loc[match_stop, 'previous_mode'] = 'T'"
   ]
  },
  {
   "cell_type": "code",
   "execution_count": 136,
   "metadata": {},
   "outputs": [
    {
     "data": {
      "text/html": [
       "<div>\n",
       "<style scoped>\n",
       "    .dataframe tbody tr th:only-of-type {\n",
       "        vertical-align: middle;\n",
       "    }\n",
       "\n",
       "    .dataframe tbody tr th {\n",
       "        vertical-align: top;\n",
       "    }\n",
       "\n",
       "    .dataframe thead th {\n",
       "        text-align: right;\n",
       "    }\n",
       "</style>\n",
       "<table border=\"1\" class=\"dataframe\">\n",
       "  <thead>\n",
       "    <tr style=\"text-align: right;\">\n",
       "      <th></th>\n",
       "      <th>stop_id</th>\n",
       "      <th>stop_name</th>\n",
       "      <th>stop_lat</th>\n",
       "      <th>stop_lon</th>\n",
       "      <th>previous_stop</th>\n",
       "      <th>visited</th>\n",
       "      <th>arrival_time</th>\n",
       "      <th>previous_mode</th>\n",
       "    </tr>\n",
       "  </thead>\n",
       "  <tbody>\n",
       "    <tr>\n",
       "      <th>5</th>\n",
       "      <td>4880</td>\n",
       "      <td>York Mills Rd at Fenside Dr</td>\n",
       "      <td>43.760561</td>\n",
       "      <td>-79.327819</td>\n",
       "      <td>0</td>\n",
       "      <td>False</td>\n",
       "      <td>0 days 19:05:28</td>\n",
       "      <td>W</td>\n",
       "    </tr>\n",
       "    <tr>\n",
       "      <th>26</th>\n",
       "      <td>3177</td>\n",
       "      <td>Parkwoods Village Dr at Brookbanks Dr</td>\n",
       "      <td>43.760930</td>\n",
       "      <td>-79.323736</td>\n",
       "      <td>0</td>\n",
       "      <td>False</td>\n",
       "      <td>0 days 19:10:40</td>\n",
       "      <td>W</td>\n",
       "    </tr>\n",
       "  </tbody>\n",
       "</table>\n",
       "</div>"
      ],
      "text/plain": [
       "    stop_id                              stop_name   stop_lat   stop_lon  \\\n",
       "5      4880            York Mills Rd at Fenside Dr  43.760561 -79.327819   \n",
       "26     3177  Parkwoods Village Dr at Brookbanks Dr  43.760930 -79.323736   \n",
       "\n",
       "    previous_stop  visited    arrival_time previous_mode  \n",
       "5               0    False 0 days 19:05:28             W  \n",
       "26              0    False 0 days 19:10:40             W  "
      ]
     },
     "execution_count": 136,
     "metadata": {},
     "output_type": "execute_result"
    }
   ],
   "source": [
    "shortest_path_df[shortest_path_df.stop_id.isin(nearest_neighbors)]"
   ]
  },
  {
   "cell_type": "markdown",
   "metadata": {},
   "source": [
    "### Finish the 2nd loop and switch over to the next unvisited stop"
   ]
  },
  {
   "cell_type": "code",
   "execution_count": 137,
   "metadata": {},
   "outputs": [],
   "source": [
    "shortest_path_df.loc[shortest_path_df.stop_id == current_stop_id, 'visited'] = True"
   ]
  },
  {
   "cell_type": "code",
   "execution_count": 138,
   "metadata": {},
   "outputs": [],
   "source": [
    "shortest_path_df = shortest_path_df.sort_values(by = 'arrival_time').reset_index(drop = True)"
   ]
  },
  {
   "cell_type": "code",
   "execution_count": 139,
   "metadata": {},
   "outputs": [],
   "source": [
    "current_stop_id = shortest_path_df[shortest_path_df.visited == False].stop_id.iloc[0]"
   ]
  },
  {
   "cell_type": "code",
   "execution_count": 140,
   "metadata": {},
   "outputs": [
    {
     "data": {
      "text/plain": [
       "5191"
      ]
     },
     "execution_count": 140,
     "metadata": {},
     "output_type": "execute_result"
    }
   ],
   "source": [
    "current_stop_id"
   ]
  },
  {
   "cell_type": "code",
   "execution_count": 141,
   "metadata": {},
   "outputs": [],
   "source": [
    "current_timedelta = shortest_path_df[shortest_path_df.stop_id == current_stop_id].arrival_time.iloc[0]\n",
    "transfer_timedelta = current_timedelta + td(minutes = 1)"
   ]
  },
  {
   "cell_type": "code",
   "execution_count": 142,
   "metadata": {},
   "outputs": [
    {
     "data": {
      "text/plain": [
       "(Timedelta('0 days 19:01:15'), Timedelta('0 days 19:02:15'))"
      ]
     },
     "execution_count": 142,
     "metadata": {},
     "output_type": "execute_result"
    }
   ],
   "source": [
    "current_timedelta, transfer_timedelta"
   ]
  },
  {
   "cell_type": "markdown",
   "metadata": {},
   "source": [
    "##### Insight: Transfers should only matter when exiting the current trip/route; otherwise I will be forcing users to inefficiently get the off the bus and get on the next bus just to get to the next stop on the same route. Perhaps it would be a good idea to remove transfer time completely from the MVP, and optimize for it later. If anything, when transferring to another route there will most likely be a delay before the next bus comes for most times anyways. When implementing transfer time, consider to only add transfer time when the previous_mode is W or when the route/trip from the previous stop changes onto the next stop"
   ]
  },
  {
   "cell_type": "code",
   "execution_count": 143,
   "metadata": {},
   "outputs": [
    {
     "data": {
      "text/html": [
       "<div>\n",
       "<style scoped>\n",
       "    .dataframe tbody tr th:only-of-type {\n",
       "        vertical-align: middle;\n",
       "    }\n",
       "\n",
       "    .dataframe tbody tr th {\n",
       "        vertical-align: top;\n",
       "    }\n",
       "\n",
       "    .dataframe thead th {\n",
       "        text-align: right;\n",
       "    }\n",
       "</style>\n",
       "<table border=\"1\" class=\"dataframe\">\n",
       "  <thead>\n",
       "    <tr style=\"text-align: right;\">\n",
       "      <th></th>\n",
       "      <th>stop_id</th>\n",
       "      <th>stop_name</th>\n",
       "      <th>stop_lat</th>\n",
       "      <th>stop_lon</th>\n",
       "      <th>previous_stop</th>\n",
       "      <th>visited</th>\n",
       "      <th>arrival_time</th>\n",
       "      <th>previous_mode</th>\n",
       "    </tr>\n",
       "  </thead>\n",
       "  <tbody>\n",
       "    <tr>\n",
       "      <th>0</th>\n",
       "      <td>917</td>\n",
       "      <td>York Mills Rd at Sandover Dr (1222 York Mills)</td>\n",
       "      <td>43.759813</td>\n",
       "      <td>-79.331751</td>\n",
       "      <td>0</td>\n",
       "      <td>True</td>\n",
       "      <td>0 days 19:00:00</td>\n",
       "      <td>W</td>\n",
       "    </tr>\n",
       "    <tr>\n",
       "      <th>1</th>\n",
       "      <td>8081</td>\n",
       "      <td>York Mills Rd at Valley Woods Rd East Side</td>\n",
       "      <td>43.759595</td>\n",
       "      <td>-79.332036</td>\n",
       "      <td>0</td>\n",
       "      <td>True</td>\n",
       "      <td>0 days 19:00:35</td>\n",
       "      <td>W</td>\n",
       "    </tr>\n",
       "    <tr>\n",
       "      <th>2</th>\n",
       "      <td>5191</td>\n",
       "      <td>1200-1202 York Mills Rd</td>\n",
       "      <td>43.759132</td>\n",
       "      <td>-79.333893</td>\n",
       "      <td>917</td>\n",
       "      <td>False</td>\n",
       "      <td>0 days 19:01:15</td>\n",
       "      <td>T</td>\n",
       "    </tr>\n",
       "    <tr>\n",
       "      <th>3</th>\n",
       "      <td>10256</td>\n",
       "      <td>113 Valley Woods Rd</td>\n",
       "      <td>43.758960</td>\n",
       "      <td>-79.332778</td>\n",
       "      <td>0</td>\n",
       "      <td>False</td>\n",
       "      <td>0 days 19:02:12</td>\n",
       "      <td>W</td>\n",
       "    </tr>\n",
       "    <tr>\n",
       "      <th>4</th>\n",
       "      <td>6913</td>\n",
       "      <td>Valley Woods Rd at York Mills Rd</td>\n",
       "      <td>43.758994</td>\n",
       "      <td>-79.333070</td>\n",
       "      <td>0</td>\n",
       "      <td>False</td>\n",
       "      <td>0 days 19:02:30</td>\n",
       "      <td>W</td>\n",
       "    </tr>\n",
       "  </tbody>\n",
       "</table>\n",
       "</div>"
      ],
      "text/plain": [
       "   stop_id                                       stop_name   stop_lat  \\\n",
       "0      917  York Mills Rd at Sandover Dr (1222 York Mills)  43.759813   \n",
       "1     8081      York Mills Rd at Valley Woods Rd East Side  43.759595   \n",
       "2     5191                         1200-1202 York Mills Rd  43.759132   \n",
       "3    10256                             113 Valley Woods Rd  43.758960   \n",
       "4     6913                Valley Woods Rd at York Mills Rd  43.758994   \n",
       "\n",
       "    stop_lon  previous_stop  visited    arrival_time previous_mode  \n",
       "0 -79.331751              0     True 0 days 19:00:00             W  \n",
       "1 -79.332036              0     True 0 days 19:00:35             W  \n",
       "2 -79.333893            917    False 0 days 19:01:15             T  \n",
       "3 -79.332778              0    False 0 days 19:02:12             W  \n",
       "4 -79.333070              0    False 0 days 19:02:30             W  "
      ]
     },
     "execution_count": 143,
     "metadata": {},
     "output_type": "execute_result"
    }
   ],
   "source": [
    "shortest_path_df.head(5)"
   ]
  },
  {
   "cell_type": "markdown",
   "metadata": {},
   "source": [
    "### Question: consider what would happen if there was infact no next stop or next stop sequence for the current trip in question? How would that impact the shortest path table?"
   ]
  },
  {
   "cell_type": "markdown",
   "metadata": {},
   "source": [
    "Since the earliest possible trip ever (including those outside regular weekday service) starts around 3 AM, there is no trip that starts on the schedule between 12 AM and 3 AM.\n",
    "\n",
    "Therefore, when no next stop id or stop sequence is found for a given trip that stops at the current stop id in question, the values for next stop id will be None (empty) and the value for arrival_time will be blank or 0 or 00:00:00.\n",
    "\n",
    "At the point when current stop trips is converted to next trips to figure out the next applicable valid trip as per the current time, all trips that are at 0 seconds will automatically be filtered out and never be considered for an update to the shortest path table. To make this more airtight, we could add a filter that confirms that the next_stop_id is a valid stop_id i.e. anything integer number that is not zero."
   ]
  },
  {
   "cell_type": "code",
   "execution_count": 144,
   "metadata": {},
   "outputs": [
    {
     "data": {
      "text/html": [
       "<div>\n",
       "<style scoped>\n",
       "    .dataframe tbody tr th:only-of-type {\n",
       "        vertical-align: middle;\n",
       "    }\n",
       "\n",
       "    .dataframe tbody tr th {\n",
       "        vertical-align: top;\n",
       "    }\n",
       "\n",
       "    .dataframe thead th {\n",
       "        text-align: right;\n",
       "    }\n",
       "</style>\n",
       "<table border=\"1\" class=\"dataframe\">\n",
       "  <thead>\n",
       "    <tr style=\"text-align: right;\">\n",
       "      <th></th>\n",
       "      <th>trip_id</th>\n",
       "      <th>stop_time</th>\n",
       "      <th>stop_id</th>\n",
       "      <th>stop_sequence</th>\n",
       "      <th>pickup_type</th>\n",
       "      <th>drop_off_type</th>\n",
       "      <th>shape_dist_traveled</th>\n",
       "      <th>time_delta</th>\n",
       "    </tr>\n",
       "  </thead>\n",
       "  <tbody>\n",
       "    <tr>\n",
       "      <th>1645997</th>\n",
       "      <td>43039136</td>\n",
       "      <td>3:07:19</td>\n",
       "      <td>7363</td>\n",
       "      <td>1</td>\n",
       "      <td>0</td>\n",
       "      <td>0</td>\n",
       "      <td>0.0984</td>\n",
       "      <td>0 days 03:07:19</td>\n",
       "    </tr>\n",
       "    <tr>\n",
       "      <th>1645998</th>\n",
       "      <td>43039136</td>\n",
       "      <td>3:08:50</td>\n",
       "      <td>903</td>\n",
       "      <td>2</td>\n",
       "      <td>0</td>\n",
       "      <td>0</td>\n",
       "      <td>0.5683</td>\n",
       "      <td>0 days 03:08:50</td>\n",
       "    </tr>\n",
       "    <tr>\n",
       "      <th>1645999</th>\n",
       "      <td>43039136</td>\n",
       "      <td>3:09:04</td>\n",
       "      <td>902</td>\n",
       "      <td>3</td>\n",
       "      <td>0</td>\n",
       "      <td>0</td>\n",
       "      <td>0.6401</td>\n",
       "      <td>0 days 03:09:04</td>\n",
       "    </tr>\n",
       "  </tbody>\n",
       "</table>\n",
       "</div>"
      ],
      "text/plain": [
       "          trip_id stop_time  stop_id  stop_sequence  pickup_type  \\\n",
       "1645997  43039136   3:07:19     7363              1            0   \n",
       "1645998  43039136   3:08:50      903              2            0   \n",
       "1645999  43039136   3:09:04      902              3            0   \n",
       "\n",
       "         drop_off_type  shape_dist_traveled      time_delta  \n",
       "1645997              0               0.0984 0 days 03:07:19  \n",
       "1645998              0               0.5683 0 days 03:08:50  \n",
       "1645999              0               0.6401 0 days 03:09:04  "
      ]
     },
     "execution_count": 144,
     "metadata": {},
     "output_type": "execute_result"
    }
   ],
   "source": [
    "stop_times.sort_values(by = 'time_delta').head(3)"
   ]
  },
  {
   "cell_type": "markdown",
   "metadata": {},
   "source": [
    "##### Question: should I avoid using a reduced stop list (by only fitlering on those trips in service) as I can still walk over to each stop and have them be included in the model. Perhaps the stops out of service might be easily walkable from another stop in service?"
   ]
  },
  {
   "cell_type": "markdown",
   "metadata": {},
   "source": [
    "# Manually work through loop 3 \n",
    "Reuse and refine code from loop 2; then consolidate all loop 3 work into master function"
   ]
  },
  {
   "cell_type": "code",
   "execution_count": 145,
   "metadata": {},
   "outputs": [],
   "source": [
    "# rename variables for refinement\n",
    "current_time = current_timedelta\n",
    "start_time = start_timedelta\n",
    "walking_speed = walk_speed_sec\n",
    "shortest_path = shortest_path_df"
   ]
  },
  {
   "cell_type": "code",
   "execution_count": 146,
   "metadata": {},
   "outputs": [
    {
     "name": "stdout",
     "output_type": "stream",
     "text": [
      "5191 0 days 19:01:15 19:00:00 1.4267500000002541e-05\n"
     ]
    }
   ],
   "source": [
    "# global variables in use\n",
    "print(current_stop_id, current_time, start_time, walking_speed)"
   ]
  },
  {
   "cell_type": "code",
   "execution_count": 147,
   "metadata": {},
   "outputs": [
    {
     "data": {
      "text/html": [
       "<div>\n",
       "<style scoped>\n",
       "    .dataframe tbody tr th:only-of-type {\n",
       "        vertical-align: middle;\n",
       "    }\n",
       "\n",
       "    .dataframe tbody tr th {\n",
       "        vertical-align: top;\n",
       "    }\n",
       "\n",
       "    .dataframe thead th {\n",
       "        text-align: right;\n",
       "    }\n",
       "</style>\n",
       "<table border=\"1\" class=\"dataframe\">\n",
       "  <thead>\n",
       "    <tr style=\"text-align: right;\">\n",
       "      <th></th>\n",
       "      <th>stop_id</th>\n",
       "      <th>stop_name</th>\n",
       "      <th>stop_lat</th>\n",
       "      <th>stop_lon</th>\n",
       "      <th>previous_stop</th>\n",
       "      <th>visited</th>\n",
       "      <th>arrival_time</th>\n",
       "      <th>previous_mode</th>\n",
       "    </tr>\n",
       "  </thead>\n",
       "  <tbody>\n",
       "    <tr>\n",
       "      <th>0</th>\n",
       "      <td>917</td>\n",
       "      <td>York Mills Rd at Sandover Dr (1222 York Mills)</td>\n",
       "      <td>43.759813</td>\n",
       "      <td>-79.331751</td>\n",
       "      <td>0</td>\n",
       "      <td>True</td>\n",
       "      <td>0 days 19:00:00</td>\n",
       "      <td>W</td>\n",
       "    </tr>\n",
       "  </tbody>\n",
       "</table>\n",
       "</div>"
      ],
      "text/plain": [
       "   stop_id                                       stop_name   stop_lat  \\\n",
       "0      917  York Mills Rd at Sandover Dr (1222 York Mills)  43.759813   \n",
       "\n",
       "    stop_lon  previous_stop  visited    arrival_time previous_mode  \n",
       "0 -79.331751              0     True 0 days 19:00:00             W  "
      ]
     },
     "metadata": {},
     "output_type": "display_data"
    }
   ],
   "source": [
    "# dataframes in use\n",
    "display(shortest_path.head(1))"
   ]
  },
  {
   "cell_type": "markdown",
   "metadata": {},
   "source": [
    "#### Calculate walking distance to all other stops from current stop"
   ]
  },
  {
   "cell_type": "code",
   "execution_count": 148,
   "metadata": {},
   "outputs": [],
   "source": [
    "# grab the current stop geocoordinates to calculate walking distance\n",
    "current_stop_lat = shortest_path.loc[shortest_path.stop_id == current_stop_id, 'stop_lat'].iloc[0]\n",
    "current_stop_lon = shortest_path.loc[shortest_path.stop_id == current_stop_id, 'stop_lon'].iloc[0]"
   ]
  },
  {
   "cell_type": "code",
   "execution_count": 149,
   "metadata": {},
   "outputs": [
    {
     "name": "stdout",
     "output_type": "stream",
     "text": [
      "43.759132 -79.333893\n"
     ]
    }
   ],
   "source": [
    "print(current_stop_lat, current_stop_lon)"
   ]
  },
  {
   "cell_type": "code",
   "execution_count": 150,
   "metadata": {},
   "outputs": [],
   "source": [
    "# create a table of unvisited stops to calculate walking distance\n",
    "walking_distance = shortest_path.loc[shortest_path.visited == False]\n",
    "walking_distance = walking_distance.loc[:, ['stop_id', 'stop_name', 'stop_lat', 'stop_lon']]\n",
    "walking_distance['distance'] = abs(current_stop_lat - walking_distance['stop_lat']) + abs(current_stop_lon - walking_distance['stop_lon'])\n",
    "walking_distance['arrival_time'] = current_time + pd.to_timedelta((walking_distance.distance / walking_speed).round(0).astype(int), 'seconds')\n",
    "walking_distance = walking_distance.sort_values(by = 'arrival_time').reset_index(drop = True)"
   ]
  },
  {
   "cell_type": "code",
   "execution_count": 151,
   "metadata": {},
   "outputs": [],
   "source": [
    "stops_to_update = []\n",
    "for i in range(0, len(walking_distance)):\n",
    "    n_stop = walking_distance.stop_id.loc[i]\n",
    "    new_arrival_time = walking_distance.arrival_time.loc[i]\n",
    "    old_arrival_time = shortest_path_df[shortest_path_df.stop_id == n_stop].arrival_time.item()\n",
    "    if new_arrival_time < old_arrival_time:\n",
    "        stops_to_update.append(i)"
   ]
  },
  {
   "cell_type": "markdown",
   "metadata": {},
   "source": [
    "---"
   ]
  },
  {
   "cell_type": "code",
   "execution_count": 152,
   "metadata": {},
   "outputs": [
    {
     "data": {
      "text/html": [
       "<div>\n",
       "<style scoped>\n",
       "    .dataframe tbody tr th:only-of-type {\n",
       "        vertical-align: middle;\n",
       "    }\n",
       "\n",
       "    .dataframe tbody tr th {\n",
       "        vertical-align: top;\n",
       "    }\n",
       "\n",
       "    .dataframe thead th {\n",
       "        text-align: right;\n",
       "    }\n",
       "</style>\n",
       "<table border=\"1\" class=\"dataframe\">\n",
       "  <thead>\n",
       "    <tr style=\"text-align: right;\">\n",
       "      <th></th>\n",
       "      <th>stop_id</th>\n",
       "      <th>stop_name</th>\n",
       "      <th>stop_lat</th>\n",
       "      <th>stop_lon</th>\n",
       "      <th>distance</th>\n",
       "      <th>arrival_time</th>\n",
       "      <th>seconds</th>\n",
       "    </tr>\n",
       "  </thead>\n",
       "  <tbody>\n",
       "    <tr>\n",
       "      <th>0</th>\n",
       "      <td>5056</td>\n",
       "      <td>44 Valley Woods Rd</td>\n",
       "      <td>43.755137</td>\n",
       "      <td>-79.333446</td>\n",
       "      <td>0.005868</td>\n",
       "      <td>0 days 19:07:26</td>\n",
       "      <td>446.0</td>\n",
       "    </tr>\n",
       "    <tr>\n",
       "      <th>1</th>\n",
       "      <td>2549</td>\n",
       "      <td>29 Valley Woods Rd</td>\n",
       "      <td>43.753958</td>\n",
       "      <td>-79.332910</td>\n",
       "      <td>0.006511</td>\n",
       "      <td>0 days 19:08:11</td>\n",
       "      <td>491.0</td>\n",
       "    </tr>\n",
       "    <tr>\n",
       "      <th>2</th>\n",
       "      <td>5738</td>\n",
       "      <td>York Mills Rd at Valentine Dr</td>\n",
       "      <td>43.757207</td>\n",
       "      <td>-79.341181</td>\n",
       "      <td>0.011533</td>\n",
       "      <td>0 days 19:14:03</td>\n",
       "      <td>843.0</td>\n",
       "    </tr>\n",
       "    <tr>\n",
       "      <th>3</th>\n",
       "      <td>4022</td>\n",
       "      <td>Silverdale Cres at York Mills Rd</td>\n",
       "      <td>43.756875</td>\n",
       "      <td>-79.341192</td>\n",
       "      <td>0.011876</td>\n",
       "      <td>0 days 19:14:27</td>\n",
       "      <td>867.0</td>\n",
       "    </tr>\n",
       "    <tr>\n",
       "      <th>4</th>\n",
       "      <td>3167</td>\n",
       "      <td>Laurentide Dr at Tetbury Cres</td>\n",
       "      <td>43.753215</td>\n",
       "      <td>-79.338987</td>\n",
       "      <td>0.013331</td>\n",
       "      <td>0 days 19:16:09</td>\n",
       "      <td>969.0</td>\n",
       "    </tr>\n",
       "    <tr>\n",
       "      <th>...</th>\n",
       "      <td>...</td>\n",
       "      <td>...</td>\n",
       "      <td>...</td>\n",
       "      <td>...</td>\n",
       "      <td>...</td>\n",
       "      <td>...</td>\n",
       "      <td>...</td>\n",
       "    </tr>\n",
       "    <tr>\n",
       "      <th>1374</th>\n",
       "      <td>7836</td>\n",
       "      <td>Evans Ave at Sherway Gate West Side</td>\n",
       "      <td>43.609022</td>\n",
       "      <td>-79.556933</td>\n",
       "      <td>0.375470</td>\n",
       "      <td>1 days 02:19:11</td>\n",
       "      <td>26351.0</td>\n",
       "    </tr>\n",
       "    <tr>\n",
       "      <th>1375</th>\n",
       "      <td>542</td>\n",
       "      <td>Sherway Gardens Rd at Sherway Gate (Mall)</td>\n",
       "      <td>43.609785</td>\n",
       "      <td>-79.558022</td>\n",
       "      <td>0.375796</td>\n",
       "      <td>1 days 02:19:34</td>\n",
       "      <td>26374.0</td>\n",
       "    </tr>\n",
       "    <tr>\n",
       "      <th>1376</th>\n",
       "      <td>540</td>\n",
       "      <td>Sherway Gardens Rd at Sherway Gate (Mall)</td>\n",
       "      <td>43.609729</td>\n",
       "      <td>-79.558438</td>\n",
       "      <td>0.376268</td>\n",
       "      <td>1 days 02:20:07</td>\n",
       "      <td>26407.0</td>\n",
       "    </tr>\n",
       "    <tr>\n",
       "      <th>1377</th>\n",
       "      <td>15260</td>\n",
       "      <td>Lake Shore Blvd West at Fortieth St</td>\n",
       "      <td>43.592468</td>\n",
       "      <td>-79.541863</td>\n",
       "      <td>0.376954</td>\n",
       "      <td>1 days 02:20:55</td>\n",
       "      <td>26455.0</td>\n",
       "    </tr>\n",
       "    <tr>\n",
       "      <th>1378</th>\n",
       "      <td>9397</td>\n",
       "      <td>The West Mall at The Queensway</td>\n",
       "      <td>43.611806</td>\n",
       "      <td>-79.562012</td>\n",
       "      <td>0.377765</td>\n",
       "      <td>1 days 02:21:52</td>\n",
       "      <td>26512.0</td>\n",
       "    </tr>\n",
       "  </tbody>\n",
       "</table>\n",
       "<p>1379 rows × 7 columns</p>\n",
       "</div>"
      ],
      "text/plain": [
       "      stop_id                                  stop_name   stop_lat  \\\n",
       "0        5056                         44 Valley Woods Rd  43.755137   \n",
       "1        2549                         29 Valley Woods Rd  43.753958   \n",
       "2        5738              York Mills Rd at Valentine Dr  43.757207   \n",
       "3        4022           Silverdale Cres at York Mills Rd  43.756875   \n",
       "4        3167              Laurentide Dr at Tetbury Cres  43.753215   \n",
       "...       ...                                        ...        ...   \n",
       "1374     7836        Evans Ave at Sherway Gate West Side  43.609022   \n",
       "1375      542  Sherway Gardens Rd at Sherway Gate (Mall)  43.609785   \n",
       "1376      540  Sherway Gardens Rd at Sherway Gate (Mall)  43.609729   \n",
       "1377    15260        Lake Shore Blvd West at Fortieth St  43.592468   \n",
       "1378     9397             The West Mall at The Queensway  43.611806   \n",
       "\n",
       "       stop_lon  distance    arrival_time  seconds  \n",
       "0    -79.333446  0.005868 0 days 19:07:26    446.0  \n",
       "1    -79.332910  0.006511 0 days 19:08:11    491.0  \n",
       "2    -79.341181  0.011533 0 days 19:14:03    843.0  \n",
       "3    -79.341192  0.011876 0 days 19:14:27    867.0  \n",
       "4    -79.338987  0.013331 0 days 19:16:09    969.0  \n",
       "...         ...       ...             ...      ...  \n",
       "1374 -79.556933  0.375470 1 days 02:19:11  26351.0  \n",
       "1375 -79.558022  0.375796 1 days 02:19:34  26374.0  \n",
       "1376 -79.558438  0.376268 1 days 02:20:07  26407.0  \n",
       "1377 -79.541863  0.376954 1 days 02:20:55  26455.0  \n",
       "1378 -79.562012  0.377765 1 days 02:21:52  26512.0  \n",
       "\n",
       "[1379 rows x 7 columns]"
      ]
     },
     "execution_count": 152,
     "metadata": {},
     "output_type": "execute_result"
    }
   ],
   "source": [
    "stops_to_update_df"
   ]
  },
  {
   "cell_type": "code",
   "execution_count": 153,
   "metadata": {},
   "outputs": [],
   "source": [
    "stops_to_update_df = walking_distance.loc[stops_to_update].reset_index(drop = True)"
   ]
  },
  {
   "cell_type": "code",
   "execution_count": 154,
   "metadata": {},
   "outputs": [
    {
     "data": {
      "text/html": [
       "<div>\n",
       "<style scoped>\n",
       "    .dataframe tbody tr th:only-of-type {\n",
       "        vertical-align: middle;\n",
       "    }\n",
       "\n",
       "    .dataframe tbody tr th {\n",
       "        vertical-align: top;\n",
       "    }\n",
       "\n",
       "    .dataframe thead th {\n",
       "        text-align: right;\n",
       "    }\n",
       "</style>\n",
       "<table border=\"1\" class=\"dataframe\">\n",
       "  <thead>\n",
       "    <tr style=\"text-align: right;\">\n",
       "      <th></th>\n",
       "      <th>stop_id</th>\n",
       "      <th>stop_name</th>\n",
       "      <th>stop_lat</th>\n",
       "      <th>stop_lon</th>\n",
       "      <th>distance</th>\n",
       "      <th>arrival_time</th>\n",
       "    </tr>\n",
       "  </thead>\n",
       "  <tbody>\n",
       "    <tr>\n",
       "      <th>0</th>\n",
       "      <td>5191</td>\n",
       "      <td>1200-1202 York Mills Rd</td>\n",
       "      <td>43.759132</td>\n",
       "      <td>-79.333893</td>\n",
       "      <td>0.000000</td>\n",
       "      <td>0 days 19:01:15</td>\n",
       "    </tr>\n",
       "    <tr>\n",
       "      <th>1</th>\n",
       "      <td>6913</td>\n",
       "      <td>Valley Woods Rd at York Mills Rd</td>\n",
       "      <td>43.758994</td>\n",
       "      <td>-79.333070</td>\n",
       "      <td>0.000961</td>\n",
       "      <td>0 days 19:02:22</td>\n",
       "    </tr>\n",
       "    <tr>\n",
       "      <th>2</th>\n",
       "      <td>10256</td>\n",
       "      <td>113 Valley Woods Rd</td>\n",
       "      <td>43.758960</td>\n",
       "      <td>-79.332778</td>\n",
       "      <td>0.001287</td>\n",
       "      <td>0 days 19:02:45</td>\n",
       "    </tr>\n",
       "    <tr>\n",
       "      <th>3</th>\n",
       "      <td>5056</td>\n",
       "      <td>44 Valley Woods Rd</td>\n",
       "      <td>43.755137</td>\n",
       "      <td>-79.333446</td>\n",
       "      <td>0.004442</td>\n",
       "      <td>0 days 19:06:26</td>\n",
       "    </tr>\n",
       "    <tr>\n",
       "      <th>4</th>\n",
       "      <td>10406</td>\n",
       "      <td>Opposite 44 Valley Woods Rd</td>\n",
       "      <td>43.755229</td>\n",
       "      <td>-79.333336</td>\n",
       "      <td>0.004460</td>\n",
       "      <td>0 days 19:06:28</td>\n",
       "    </tr>\n",
       "  </tbody>\n",
       "</table>\n",
       "</div>"
      ],
      "text/plain": [
       "   stop_id                         stop_name   stop_lat   stop_lon  distance  \\\n",
       "0     5191           1200-1202 York Mills Rd  43.759132 -79.333893  0.000000   \n",
       "1     6913  Valley Woods Rd at York Mills Rd  43.758994 -79.333070  0.000961   \n",
       "2    10256               113 Valley Woods Rd  43.758960 -79.332778  0.001287   \n",
       "3     5056                44 Valley Woods Rd  43.755137 -79.333446  0.004442   \n",
       "4    10406       Opposite 44 Valley Woods Rd  43.755229 -79.333336  0.004460   \n",
       "\n",
       "     arrival_time  \n",
       "0 0 days 19:01:15  \n",
       "1 0 days 19:02:22  \n",
       "2 0 days 19:02:45  \n",
       "3 0 days 19:06:26  \n",
       "4 0 days 19:06:28  "
      ]
     },
     "execution_count": 154,
     "metadata": {},
     "output_type": "execute_result"
    }
   ],
   "source": [
    "walking_distance.head(5)"
   ]
  },
  {
   "cell_type": "code",
   "execution_count": 155,
   "metadata": {},
   "outputs": [
    {
     "data": {
      "text/html": [
       "<div>\n",
       "<style scoped>\n",
       "    .dataframe tbody tr th:only-of-type {\n",
       "        vertical-align: middle;\n",
       "    }\n",
       "\n",
       "    .dataframe tbody tr th {\n",
       "        vertical-align: top;\n",
       "    }\n",
       "\n",
       "    .dataframe thead th {\n",
       "        text-align: right;\n",
       "    }\n",
       "</style>\n",
       "<table border=\"1\" class=\"dataframe\">\n",
       "  <thead>\n",
       "    <tr style=\"text-align: right;\">\n",
       "      <th></th>\n",
       "      <th>stop_id</th>\n",
       "      <th>stop_name</th>\n",
       "      <th>stop_lat</th>\n",
       "      <th>stop_lon</th>\n",
       "      <th>previous_stop</th>\n",
       "      <th>visited</th>\n",
       "      <th>arrival_time</th>\n",
       "      <th>previous_mode</th>\n",
       "    </tr>\n",
       "  </thead>\n",
       "  <tbody>\n",
       "    <tr>\n",
       "      <th>0</th>\n",
       "      <td>917</td>\n",
       "      <td>York Mills Rd at Sandover Dr (1222 York Mills)</td>\n",
       "      <td>43.759813</td>\n",
       "      <td>-79.331751</td>\n",
       "      <td>0</td>\n",
       "      <td>True</td>\n",
       "      <td>0 days 19:00:00</td>\n",
       "      <td>W</td>\n",
       "    </tr>\n",
       "    <tr>\n",
       "      <th>1</th>\n",
       "      <td>8081</td>\n",
       "      <td>York Mills Rd at Valley Woods Rd East Side</td>\n",
       "      <td>43.759595</td>\n",
       "      <td>-79.332036</td>\n",
       "      <td>0</td>\n",
       "      <td>True</td>\n",
       "      <td>0 days 19:00:35</td>\n",
       "      <td>W</td>\n",
       "    </tr>\n",
       "    <tr>\n",
       "      <th>2</th>\n",
       "      <td>5191</td>\n",
       "      <td>1200-1202 York Mills Rd</td>\n",
       "      <td>43.759132</td>\n",
       "      <td>-79.333893</td>\n",
       "      <td>917</td>\n",
       "      <td>False</td>\n",
       "      <td>0 days 19:01:15</td>\n",
       "      <td>T</td>\n",
       "    </tr>\n",
       "    <tr>\n",
       "      <th>3</th>\n",
       "      <td>10256</td>\n",
       "      <td>113 Valley Woods Rd</td>\n",
       "      <td>43.758960</td>\n",
       "      <td>-79.332778</td>\n",
       "      <td>0</td>\n",
       "      <td>False</td>\n",
       "      <td>0 days 19:02:12</td>\n",
       "      <td>W</td>\n",
       "    </tr>\n",
       "    <tr>\n",
       "      <th>4</th>\n",
       "      <td>6913</td>\n",
       "      <td>Valley Woods Rd at York Mills Rd</td>\n",
       "      <td>43.758994</td>\n",
       "      <td>-79.333070</td>\n",
       "      <td>0</td>\n",
       "      <td>False</td>\n",
       "      <td>0 days 19:02:30</td>\n",
       "      <td>W</td>\n",
       "    </tr>\n",
       "    <tr>\n",
       "      <th>5</th>\n",
       "      <td>4880</td>\n",
       "      <td>York Mills Rd at Fenside Dr</td>\n",
       "      <td>43.760561</td>\n",
       "      <td>-79.327819</td>\n",
       "      <td>0</td>\n",
       "      <td>False</td>\n",
       "      <td>0 days 19:05:28</td>\n",
       "      <td>W</td>\n",
       "    </tr>\n",
       "    <tr>\n",
       "      <th>6</th>\n",
       "      <td>6061</td>\n",
       "      <td>York Mills Rd at Fenside Dr</td>\n",
       "      <td>43.760782</td>\n",
       "      <td>-79.327546</td>\n",
       "      <td>0</td>\n",
       "      <td>False</td>\n",
       "      <td>0 days 19:06:03</td>\n",
       "      <td>W</td>\n",
       "    </tr>\n",
       "    <tr>\n",
       "      <th>7</th>\n",
       "      <td>6223</td>\n",
       "      <td>Lynedock Cres at Fenside Dr East Side</td>\n",
       "      <td>43.761865</td>\n",
       "      <td>-79.328158</td>\n",
       "      <td>0</td>\n",
       "      <td>False</td>\n",
       "      <td>0 days 19:06:36</td>\n",
       "      <td>W</td>\n",
       "    </tr>\n",
       "    <tr>\n",
       "      <th>8</th>\n",
       "      <td>9834</td>\n",
       "      <td>York Mills Rd at Don Mills Rd</td>\n",
       "      <td>43.756053</td>\n",
       "      <td>-79.346600</td>\n",
       "      <td>917</td>\n",
       "      <td>False</td>\n",
       "      <td>0 days 19:07:06</td>\n",
       "      <td>T</td>\n",
       "    </tr>\n",
       "    <tr>\n",
       "      <th>9</th>\n",
       "      <td>10406</td>\n",
       "      <td>Opposite 44 Valley Woods Rd</td>\n",
       "      <td>43.755229</td>\n",
       "      <td>-79.333336</td>\n",
       "      <td>0</td>\n",
       "      <td>False</td>\n",
       "      <td>0 days 19:07:12</td>\n",
       "      <td>W</td>\n",
       "    </tr>\n",
       "  </tbody>\n",
       "</table>\n",
       "</div>"
      ],
      "text/plain": [
       "   stop_id                                       stop_name   stop_lat  \\\n",
       "0      917  York Mills Rd at Sandover Dr (1222 York Mills)  43.759813   \n",
       "1     8081      York Mills Rd at Valley Woods Rd East Side  43.759595   \n",
       "2     5191                         1200-1202 York Mills Rd  43.759132   \n",
       "3    10256                             113 Valley Woods Rd  43.758960   \n",
       "4     6913                Valley Woods Rd at York Mills Rd  43.758994   \n",
       "5     4880                     York Mills Rd at Fenside Dr  43.760561   \n",
       "6     6061                     York Mills Rd at Fenside Dr  43.760782   \n",
       "7     6223           Lynedock Cres at Fenside Dr East Side  43.761865   \n",
       "8     9834                   York Mills Rd at Don Mills Rd  43.756053   \n",
       "9    10406                     Opposite 44 Valley Woods Rd  43.755229   \n",
       "\n",
       "    stop_lon  previous_stop  visited    arrival_time previous_mode  \n",
       "0 -79.331751              0     True 0 days 19:00:00             W  \n",
       "1 -79.332036              0     True 0 days 19:00:35             W  \n",
       "2 -79.333893            917    False 0 days 19:01:15             T  \n",
       "3 -79.332778              0    False 0 days 19:02:12             W  \n",
       "4 -79.333070              0    False 0 days 19:02:30             W  \n",
       "5 -79.327819              0    False 0 days 19:05:28             W  \n",
       "6 -79.327546              0    False 0 days 19:06:03             W  \n",
       "7 -79.328158              0    False 0 days 19:06:36             W  \n",
       "8 -79.346600            917    False 0 days 19:07:06             T  \n",
       "9 -79.333336              0    False 0 days 19:07:12             W  "
      ]
     },
     "execution_count": 155,
     "metadata": {},
     "output_type": "execute_result"
    }
   ],
   "source": [
    "shortest_path.head(10)"
   ]
  },
  {
   "cell_type": "markdown",
   "metadata": {},
   "source": [
    "### Perhaps previous stop by default should be updated to the starting spot 917 since the initiating shortest path durations are based on walking distance from that stop!!!"
   ]
  },
  {
   "cell_type": "code",
   "execution_count": 156,
   "metadata": {},
   "outputs": [
    {
     "data": {
      "text/plain": [
       "previous_stop  previous_mode\n",
       "0              W                8038\n",
       "8081           W                1379\n",
       "917            T                   2\n",
       "dtype: int64"
      ]
     },
     "execution_count": 156,
     "metadata": {},
     "output_type": "execute_result"
    }
   ],
   "source": [
    "shortest_path.loc[:, ['previous_stop', 'previous_mode']].value_counts()"
   ]
  },
  {
   "cell_type": "code",
   "execution_count": 157,
   "metadata": {},
   "outputs": [],
   "source": [
    "shortest_path.loc[shortest_path.previous_stop == 0, 'previous_stop'] = 917"
   ]
  },
  {
   "cell_type": "code",
   "execution_count": 158,
   "metadata": {},
   "outputs": [
    {
     "data": {
      "text/html": [
       "<div>\n",
       "<style scoped>\n",
       "    .dataframe tbody tr th:only-of-type {\n",
       "        vertical-align: middle;\n",
       "    }\n",
       "\n",
       "    .dataframe tbody tr th {\n",
       "        vertical-align: top;\n",
       "    }\n",
       "\n",
       "    .dataframe thead th {\n",
       "        text-align: right;\n",
       "    }\n",
       "</style>\n",
       "<table border=\"1\" class=\"dataframe\">\n",
       "  <thead>\n",
       "    <tr style=\"text-align: right;\">\n",
       "      <th></th>\n",
       "      <th>stop_id</th>\n",
       "      <th>stop_name</th>\n",
       "      <th>stop_lat</th>\n",
       "      <th>stop_lon</th>\n",
       "      <th>previous_stop</th>\n",
       "      <th>visited</th>\n",
       "      <th>arrival_time</th>\n",
       "      <th>previous_mode</th>\n",
       "    </tr>\n",
       "  </thead>\n",
       "  <tbody>\n",
       "    <tr>\n",
       "      <th>2</th>\n",
       "      <td>5191</td>\n",
       "      <td>1200-1202 York Mills Rd</td>\n",
       "      <td>43.759132</td>\n",
       "      <td>-79.333893</td>\n",
       "      <td>917</td>\n",
       "      <td>False</td>\n",
       "      <td>0 days 19:01:15</td>\n",
       "      <td>T</td>\n",
       "    </tr>\n",
       "    <tr>\n",
       "      <th>8</th>\n",
       "      <td>9834</td>\n",
       "      <td>York Mills Rd at Don Mills Rd</td>\n",
       "      <td>43.756053</td>\n",
       "      <td>-79.346600</td>\n",
       "      <td>917</td>\n",
       "      <td>False</td>\n",
       "      <td>0 days 19:07:06</td>\n",
       "      <td>T</td>\n",
       "    </tr>\n",
       "  </tbody>\n",
       "</table>\n",
       "</div>"
      ],
      "text/plain": [
       "   stop_id                      stop_name   stop_lat   stop_lon  \\\n",
       "2     5191        1200-1202 York Mills Rd  43.759132 -79.333893   \n",
       "8     9834  York Mills Rd at Don Mills Rd  43.756053 -79.346600   \n",
       "\n",
       "   previous_stop  visited    arrival_time previous_mode  \n",
       "2            917    False 0 days 19:01:15             T  \n",
       "8            917    False 0 days 19:07:06             T  "
      ]
     },
     "execution_count": 158,
     "metadata": {},
     "output_type": "execute_result"
    }
   ],
   "source": [
    "shortest_path.query('previous_mode == \"T\"')"
   ]
  },
  {
   "cell_type": "code",
   "execution_count": 159,
   "metadata": {},
   "outputs": [
    {
     "data": {
      "text/html": [
       "<div>\n",
       "<style scoped>\n",
       "    .dataframe tbody tr th:only-of-type {\n",
       "        vertical-align: middle;\n",
       "    }\n",
       "\n",
       "    .dataframe tbody tr th {\n",
       "        vertical-align: top;\n",
       "    }\n",
       "\n",
       "    .dataframe thead th {\n",
       "        text-align: right;\n",
       "    }\n",
       "</style>\n",
       "<table border=\"1\" class=\"dataframe\">\n",
       "  <thead>\n",
       "    <tr style=\"text-align: right;\">\n",
       "      <th></th>\n",
       "      <th>stop_id</th>\n",
       "      <th>stop_name</th>\n",
       "      <th>stop_lat</th>\n",
       "      <th>stop_lon</th>\n",
       "      <th>previous_stop</th>\n",
       "      <th>visited</th>\n",
       "      <th>arrival_time</th>\n",
       "      <th>previous_mode</th>\n",
       "    </tr>\n",
       "  </thead>\n",
       "  <tbody>\n",
       "    <tr>\n",
       "      <th>0</th>\n",
       "      <td>917</td>\n",
       "      <td>York Mills Rd at Sandover Dr (1222 York Mills)</td>\n",
       "      <td>43.759813</td>\n",
       "      <td>-79.331751</td>\n",
       "      <td>917</td>\n",
       "      <td>True</td>\n",
       "      <td>0 days 19:00:00</td>\n",
       "      <td>W</td>\n",
       "    </tr>\n",
       "    <tr>\n",
       "      <th>1</th>\n",
       "      <td>8081</td>\n",
       "      <td>York Mills Rd at Valley Woods Rd East Side</td>\n",
       "      <td>43.759595</td>\n",
       "      <td>-79.332036</td>\n",
       "      <td>917</td>\n",
       "      <td>True</td>\n",
       "      <td>0 days 19:00:35</td>\n",
       "      <td>W</td>\n",
       "    </tr>\n",
       "    <tr>\n",
       "      <th>2</th>\n",
       "      <td>5191</td>\n",
       "      <td>1200-1202 York Mills Rd</td>\n",
       "      <td>43.759132</td>\n",
       "      <td>-79.333893</td>\n",
       "      <td>917</td>\n",
       "      <td>False</td>\n",
       "      <td>0 days 19:01:15</td>\n",
       "      <td>T</td>\n",
       "    </tr>\n",
       "    <tr>\n",
       "      <th>3</th>\n",
       "      <td>10256</td>\n",
       "      <td>113 Valley Woods Rd</td>\n",
       "      <td>43.758960</td>\n",
       "      <td>-79.332778</td>\n",
       "      <td>917</td>\n",
       "      <td>False</td>\n",
       "      <td>0 days 19:02:12</td>\n",
       "      <td>W</td>\n",
       "    </tr>\n",
       "    <tr>\n",
       "      <th>4</th>\n",
       "      <td>6913</td>\n",
       "      <td>Valley Woods Rd at York Mills Rd</td>\n",
       "      <td>43.758994</td>\n",
       "      <td>-79.333070</td>\n",
       "      <td>917</td>\n",
       "      <td>False</td>\n",
       "      <td>0 days 19:02:30</td>\n",
       "      <td>W</td>\n",
       "    </tr>\n",
       "    <tr>\n",
       "      <th>...</th>\n",
       "      <td>...</td>\n",
       "      <td>...</td>\n",
       "      <td>...</td>\n",
       "      <td>...</td>\n",
       "      <td>...</td>\n",
       "      <td>...</td>\n",
       "      <td>...</td>\n",
       "      <td>...</td>\n",
       "    </tr>\n",
       "    <tr>\n",
       "      <th>9414</th>\n",
       "      <td>4305</td>\n",
       "      <td>The West Mall at Sherway Dr North Side</td>\n",
       "      <td>43.609781</td>\n",
       "      <td>-79.560638</td>\n",
       "      <td>917</td>\n",
       "      <td>False</td>\n",
       "      <td>1 days 02:22:38</td>\n",
       "      <td>W</td>\n",
       "    </tr>\n",
       "    <tr>\n",
       "      <th>9415</th>\n",
       "      <td>7093</td>\n",
       "      <td>The West Mall at Trillium Health Centre (North...</td>\n",
       "      <td>43.610381</td>\n",
       "      <td>-79.561480</td>\n",
       "      <td>917</td>\n",
       "      <td>False</td>\n",
       "      <td>1 days 02:22:55</td>\n",
       "      <td>W</td>\n",
       "    </tr>\n",
       "    <tr>\n",
       "      <th>9416</th>\n",
       "      <td>880</td>\n",
       "      <td>The West Mall at Sherway Dr (Trillium Health C...</td>\n",
       "      <td>43.609464</td>\n",
       "      <td>-79.560579</td>\n",
       "      <td>917</td>\n",
       "      <td>False</td>\n",
       "      <td>1 days 02:22:56</td>\n",
       "      <td>W</td>\n",
       "    </tr>\n",
       "    <tr>\n",
       "      <th>9417</th>\n",
       "      <td>477</td>\n",
       "      <td>Long Branch Loop</td>\n",
       "      <td>43.592111</td>\n",
       "      <td>-79.543700</td>\n",
       "      <td>917</td>\n",
       "      <td>False</td>\n",
       "      <td>1 days 02:23:29</td>\n",
       "      <td>W</td>\n",
       "    </tr>\n",
       "    <tr>\n",
       "      <th>9418</th>\n",
       "      <td>1750</td>\n",
       "      <td>Long Branch Loop</td>\n",
       "      <td>43.591811</td>\n",
       "      <td>-79.544124</td>\n",
       "      <td>917</td>\n",
       "      <td>False</td>\n",
       "      <td>1 days 02:24:20</td>\n",
       "      <td>W</td>\n",
       "    </tr>\n",
       "  </tbody>\n",
       "</table>\n",
       "<p>9419 rows × 8 columns</p>\n",
       "</div>"
      ],
      "text/plain": [
       "      stop_id                                          stop_name   stop_lat  \\\n",
       "0         917     York Mills Rd at Sandover Dr (1222 York Mills)  43.759813   \n",
       "1        8081         York Mills Rd at Valley Woods Rd East Side  43.759595   \n",
       "2        5191                            1200-1202 York Mills Rd  43.759132   \n",
       "3       10256                                113 Valley Woods Rd  43.758960   \n",
       "4        6913                   Valley Woods Rd at York Mills Rd  43.758994   \n",
       "...       ...                                                ...        ...   \n",
       "9414     4305             The West Mall at Sherway Dr North Side  43.609781   \n",
       "9415     7093  The West Mall at Trillium Health Centre (North...  43.610381   \n",
       "9416      880  The West Mall at Sherway Dr (Trillium Health C...  43.609464   \n",
       "9417      477                                   Long Branch Loop  43.592111   \n",
       "9418     1750                                   Long Branch Loop  43.591811   \n",
       "\n",
       "       stop_lon  previous_stop  visited    arrival_time previous_mode  \n",
       "0    -79.331751            917     True 0 days 19:00:00             W  \n",
       "1    -79.332036            917     True 0 days 19:00:35             W  \n",
       "2    -79.333893            917    False 0 days 19:01:15             T  \n",
       "3    -79.332778            917    False 0 days 19:02:12             W  \n",
       "4    -79.333070            917    False 0 days 19:02:30             W  \n",
       "...         ...            ...      ...             ...           ...  \n",
       "9414 -79.560638            917    False 1 days 02:22:38             W  \n",
       "9415 -79.561480            917    False 1 days 02:22:55             W  \n",
       "9416 -79.560579            917    False 1 days 02:22:56             W  \n",
       "9417 -79.543700            917    False 1 days 02:23:29             W  \n",
       "9418 -79.544124            917    False 1 days 02:24:20             W  \n",
       "\n",
       "[9419 rows x 8 columns]"
      ]
     },
     "execution_count": 159,
     "metadata": {},
     "output_type": "execute_result"
    }
   ],
   "source": [
    "shortest_path"
   ]
  },
  {
   "cell_type": "markdown",
   "metadata": {},
   "source": [
    "#### Insight\n",
    "\n",
    "##### Problem: as it stands, the algo will suggest that you to walk to stop B from A, and then thru B walk to C as the fastest way to get from A to C, when there is a faster and direct transit route from A to C.\n",
    "\n",
    "##### Solution: If the previous_mode is W then a different walk distance should not be updated? There should never be more than 2 walk to walk nodes? (The next walk node after the starting stop walking baseline must follow a transit mode first). Alternatively, once a trip has been accessed, update the duration to all other stops and update the connections accordingly. "
   ]
  },
  {
   "cell_type": "markdown",
   "metadata": {},
   "source": [
    "---\n",
    "# ARCHIVE"
   ]
  },
  {
   "cell_type": "markdown",
   "metadata": {},
   "source": [
    "---"
   ]
  },
  {
   "cell_type": "code",
   "execution_count": 160,
   "metadata": {},
   "outputs": [],
   "source": [
    "stops_to_update_df = walking_distance.loc[stops_to_update].reset_index(drop = True)"
   ]
  },
  {
   "cell_type": "code",
   "execution_count": 161,
   "metadata": {},
   "outputs": [
    {
     "data": {
      "text/html": [
       "<div>\n",
       "<style scoped>\n",
       "    .dataframe tbody tr th:only-of-type {\n",
       "        vertical-align: middle;\n",
       "    }\n",
       "\n",
       "    .dataframe tbody tr th {\n",
       "        vertical-align: top;\n",
       "    }\n",
       "\n",
       "    .dataframe thead th {\n",
       "        text-align: right;\n",
       "    }\n",
       "</style>\n",
       "<table border=\"1\" class=\"dataframe\">\n",
       "  <thead>\n",
       "    <tr style=\"text-align: right;\">\n",
       "      <th></th>\n",
       "      <th>stop_id</th>\n",
       "      <th>stop_name</th>\n",
       "      <th>stop_lat</th>\n",
       "      <th>stop_lon</th>\n",
       "      <th>distance</th>\n",
       "      <th>arrival_time</th>\n",
       "    </tr>\n",
       "  </thead>\n",
       "  <tbody>\n",
       "    <tr>\n",
       "      <th>0</th>\n",
       "      <td>6913</td>\n",
       "      <td>Valley Woods Rd at York Mills Rd</td>\n",
       "      <td>43.758994</td>\n",
       "      <td>-79.333070</td>\n",
       "      <td>0.000961</td>\n",
       "      <td>0 days 19:02:22</td>\n",
       "    </tr>\n",
       "    <tr>\n",
       "      <th>1</th>\n",
       "      <td>5056</td>\n",
       "      <td>44 Valley Woods Rd</td>\n",
       "      <td>43.755137</td>\n",
       "      <td>-79.333446</td>\n",
       "      <td>0.004442</td>\n",
       "      <td>0 days 19:06:26</td>\n",
       "    </tr>\n",
       "    <tr>\n",
       "      <th>2</th>\n",
       "      <td>10406</td>\n",
       "      <td>Opposite 44 Valley Woods Rd</td>\n",
       "      <td>43.755229</td>\n",
       "      <td>-79.333336</td>\n",
       "      <td>0.004460</td>\n",
       "      <td>0 days 19:06:28</td>\n",
       "    </tr>\n",
       "  </tbody>\n",
       "</table>\n",
       "</div>"
      ],
      "text/plain": [
       "   stop_id                         stop_name   stop_lat   stop_lon  distance  \\\n",
       "0     6913  Valley Woods Rd at York Mills Rd  43.758994 -79.333070  0.000961   \n",
       "1     5056                44 Valley Woods Rd  43.755137 -79.333446  0.004442   \n",
       "2    10406       Opposite 44 Valley Woods Rd  43.755229 -79.333336  0.004460   \n",
       "\n",
       "     arrival_time  \n",
       "0 0 days 19:02:22  \n",
       "1 0 days 19:06:26  \n",
       "2 0 days 19:06:28  "
      ]
     },
     "execution_count": 161,
     "metadata": {},
     "output_type": "execute_result"
    }
   ],
   "source": [
    "stops_to_update_df.head(3)"
   ]
  },
  {
   "cell_type": "code",
   "execution_count": 162,
   "metadata": {},
   "outputs": [],
   "source": [
    "for i in range(0, len(stops_to_update_df)):\n",
    "    i_stop_id = stops_to_update_df.stop_id.iloc[i]\n",
    "    i_arrival_time = stops_to_update_df.arrival_time.iloc[i]\n",
    "    \n",
    "    shortest_path_df.loc[shortest_path_df.stop_id == i_stop_id, 'arrival_time'] = i_arrival_time\n",
    "    shortest_path_df.loc[shortest_path_df.stop_id == i_stop_id, 'previous_stop'] = current_stop_id\n",
    "    \n",
    "    time_diff = i_arrival_time - start_timedelta\n",
    "    shortest_path_df.loc[shortest_path_df.stop_id == i_stop_id, 'duration'] = time_diff\n",
    "    shortest_path_df.loc[shortest_path_df.stop_id == i_stop_id, 'seconds'] = int(time_diff.total_seconds())"
   ]
  },
  {
   "cell_type": "markdown",
   "metadata": {},
   "source": [
    "---\n",
    "### Update shortest path table with formatting and mostly to create a column which indicates whether the journey from the previous stop was by transit or walking"
   ]
  },
  {
   "cell_type": "code",
   "execution_count": 163,
   "metadata": {},
   "outputs": [
    {
     "ename": "KeyError",
     "evalue": "\"['distance'] not found in axis\"",
     "output_type": "error",
     "traceback": [
      "\u001b[0;31m---------------------------------------------------------------------------\u001b[0m",
      "\u001b[0;31mKeyError\u001b[0m                                  Traceback (most recent call last)",
      "\u001b[0;32m<ipython-input-163-9bf0ecd0a561>\u001b[0m in \u001b[0;36m<module>\u001b[0;34m\u001b[0m\n\u001b[0;32m----> 1\u001b[0;31m \u001b[0mshortest_path_df\u001b[0m\u001b[0;34m.\u001b[0m\u001b[0mdrop\u001b[0m\u001b[0;34m(\u001b[0m\u001b[0mcolumns\u001b[0m \u001b[0;34m=\u001b[0m \u001b[0;34m[\u001b[0m\u001b[0;34m'distance'\u001b[0m\u001b[0;34m,\u001b[0m \u001b[0;34m'duration'\u001b[0m\u001b[0;34m,\u001b[0m \u001b[0;34m'seconds'\u001b[0m\u001b[0;34m]\u001b[0m\u001b[0;34m,\u001b[0m \u001b[0minplace\u001b[0m \u001b[0;34m=\u001b[0m \u001b[0;32mTrue\u001b[0m\u001b[0;34m)\u001b[0m\u001b[0;34m\u001b[0m\u001b[0;34m\u001b[0m\u001b[0m\n\u001b[0m",
      "\u001b[0;32m/opt/anaconda3/lib/python3.8/site-packages/pandas/core/frame.py\u001b[0m in \u001b[0;36mdrop\u001b[0;34m(self, labels, axis, index, columns, level, inplace, errors)\u001b[0m\n\u001b[1;32m   4161\u001b[0m                 \u001b[0mweight\u001b[0m  \u001b[0;36m1.0\u001b[0m     \u001b[0;36m0.8\u001b[0m\u001b[0;34m\u001b[0m\u001b[0;34m\u001b[0m\u001b[0m\n\u001b[1;32m   4162\u001b[0m         \"\"\"\n\u001b[0;32m-> 4163\u001b[0;31m         return super().drop(\n\u001b[0m\u001b[1;32m   4164\u001b[0m             \u001b[0mlabels\u001b[0m\u001b[0;34m=\u001b[0m\u001b[0mlabels\u001b[0m\u001b[0;34m,\u001b[0m\u001b[0;34m\u001b[0m\u001b[0;34m\u001b[0m\u001b[0m\n\u001b[1;32m   4165\u001b[0m             \u001b[0maxis\u001b[0m\u001b[0;34m=\u001b[0m\u001b[0maxis\u001b[0m\u001b[0;34m,\u001b[0m\u001b[0;34m\u001b[0m\u001b[0;34m\u001b[0m\u001b[0m\n",
      "\u001b[0;32m/opt/anaconda3/lib/python3.8/site-packages/pandas/core/generic.py\u001b[0m in \u001b[0;36mdrop\u001b[0;34m(self, labels, axis, index, columns, level, inplace, errors)\u001b[0m\n\u001b[1;32m   3885\u001b[0m         \u001b[0;32mfor\u001b[0m \u001b[0maxis\u001b[0m\u001b[0;34m,\u001b[0m \u001b[0mlabels\u001b[0m \u001b[0;32min\u001b[0m \u001b[0maxes\u001b[0m\u001b[0;34m.\u001b[0m\u001b[0mitems\u001b[0m\u001b[0;34m(\u001b[0m\u001b[0;34m)\u001b[0m\u001b[0;34m:\u001b[0m\u001b[0;34m\u001b[0m\u001b[0;34m\u001b[0m\u001b[0m\n\u001b[1;32m   3886\u001b[0m             \u001b[0;32mif\u001b[0m \u001b[0mlabels\u001b[0m \u001b[0;32mis\u001b[0m \u001b[0;32mnot\u001b[0m \u001b[0;32mNone\u001b[0m\u001b[0;34m:\u001b[0m\u001b[0;34m\u001b[0m\u001b[0;34m\u001b[0m\u001b[0m\n\u001b[0;32m-> 3887\u001b[0;31m                 \u001b[0mobj\u001b[0m \u001b[0;34m=\u001b[0m \u001b[0mobj\u001b[0m\u001b[0;34m.\u001b[0m\u001b[0m_drop_axis\u001b[0m\u001b[0;34m(\u001b[0m\u001b[0mlabels\u001b[0m\u001b[0;34m,\u001b[0m \u001b[0maxis\u001b[0m\u001b[0;34m,\u001b[0m \u001b[0mlevel\u001b[0m\u001b[0;34m=\u001b[0m\u001b[0mlevel\u001b[0m\u001b[0;34m,\u001b[0m \u001b[0merrors\u001b[0m\u001b[0;34m=\u001b[0m\u001b[0merrors\u001b[0m\u001b[0;34m)\u001b[0m\u001b[0;34m\u001b[0m\u001b[0;34m\u001b[0m\u001b[0m\n\u001b[0m\u001b[1;32m   3888\u001b[0m \u001b[0;34m\u001b[0m\u001b[0m\n\u001b[1;32m   3889\u001b[0m         \u001b[0;32mif\u001b[0m \u001b[0minplace\u001b[0m\u001b[0;34m:\u001b[0m\u001b[0;34m\u001b[0m\u001b[0;34m\u001b[0m\u001b[0m\n",
      "\u001b[0;32m/opt/anaconda3/lib/python3.8/site-packages/pandas/core/generic.py\u001b[0m in \u001b[0;36m_drop_axis\u001b[0;34m(self, labels, axis, level, errors)\u001b[0m\n\u001b[1;32m   3919\u001b[0m                 \u001b[0mnew_axis\u001b[0m \u001b[0;34m=\u001b[0m \u001b[0maxis\u001b[0m\u001b[0;34m.\u001b[0m\u001b[0mdrop\u001b[0m\u001b[0;34m(\u001b[0m\u001b[0mlabels\u001b[0m\u001b[0;34m,\u001b[0m \u001b[0mlevel\u001b[0m\u001b[0;34m=\u001b[0m\u001b[0mlevel\u001b[0m\u001b[0;34m,\u001b[0m \u001b[0merrors\u001b[0m\u001b[0;34m=\u001b[0m\u001b[0merrors\u001b[0m\u001b[0;34m)\u001b[0m\u001b[0;34m\u001b[0m\u001b[0;34m\u001b[0m\u001b[0m\n\u001b[1;32m   3920\u001b[0m             \u001b[0;32melse\u001b[0m\u001b[0;34m:\u001b[0m\u001b[0;34m\u001b[0m\u001b[0;34m\u001b[0m\u001b[0m\n\u001b[0;32m-> 3921\u001b[0;31m                 \u001b[0mnew_axis\u001b[0m \u001b[0;34m=\u001b[0m \u001b[0maxis\u001b[0m\u001b[0;34m.\u001b[0m\u001b[0mdrop\u001b[0m\u001b[0;34m(\u001b[0m\u001b[0mlabels\u001b[0m\u001b[0;34m,\u001b[0m \u001b[0merrors\u001b[0m\u001b[0;34m=\u001b[0m\u001b[0merrors\u001b[0m\u001b[0;34m)\u001b[0m\u001b[0;34m\u001b[0m\u001b[0;34m\u001b[0m\u001b[0m\n\u001b[0m\u001b[1;32m   3922\u001b[0m             \u001b[0mresult\u001b[0m \u001b[0;34m=\u001b[0m \u001b[0mself\u001b[0m\u001b[0;34m.\u001b[0m\u001b[0mreindex\u001b[0m\u001b[0;34m(\u001b[0m\u001b[0;34m**\u001b[0m\u001b[0;34m{\u001b[0m\u001b[0maxis_name\u001b[0m\u001b[0;34m:\u001b[0m \u001b[0mnew_axis\u001b[0m\u001b[0;34m}\u001b[0m\u001b[0;34m)\u001b[0m\u001b[0;34m\u001b[0m\u001b[0;34m\u001b[0m\u001b[0m\n\u001b[1;32m   3923\u001b[0m \u001b[0;34m\u001b[0m\u001b[0m\n",
      "\u001b[0;32m/opt/anaconda3/lib/python3.8/site-packages/pandas/core/indexes/base.py\u001b[0m in \u001b[0;36mdrop\u001b[0;34m(self, labels, errors)\u001b[0m\n\u001b[1;32m   5280\u001b[0m         \u001b[0;32mif\u001b[0m \u001b[0mmask\u001b[0m\u001b[0;34m.\u001b[0m\u001b[0many\u001b[0m\u001b[0;34m(\u001b[0m\u001b[0;34m)\u001b[0m\u001b[0;34m:\u001b[0m\u001b[0;34m\u001b[0m\u001b[0;34m\u001b[0m\u001b[0m\n\u001b[1;32m   5281\u001b[0m             \u001b[0;32mif\u001b[0m \u001b[0merrors\u001b[0m \u001b[0;34m!=\u001b[0m \u001b[0;34m\"ignore\"\u001b[0m\u001b[0;34m:\u001b[0m\u001b[0;34m\u001b[0m\u001b[0;34m\u001b[0m\u001b[0m\n\u001b[0;32m-> 5282\u001b[0;31m                 \u001b[0;32mraise\u001b[0m \u001b[0mKeyError\u001b[0m\u001b[0;34m(\u001b[0m\u001b[0;34mf\"{labels[mask]} not found in axis\"\u001b[0m\u001b[0;34m)\u001b[0m\u001b[0;34m\u001b[0m\u001b[0;34m\u001b[0m\u001b[0m\n\u001b[0m\u001b[1;32m   5283\u001b[0m             \u001b[0mindexer\u001b[0m \u001b[0;34m=\u001b[0m \u001b[0mindexer\u001b[0m\u001b[0;34m[\u001b[0m\u001b[0;34m~\u001b[0m\u001b[0mmask\u001b[0m\u001b[0;34m]\u001b[0m\u001b[0;34m\u001b[0m\u001b[0;34m\u001b[0m\u001b[0m\n\u001b[1;32m   5284\u001b[0m         \u001b[0;32mreturn\u001b[0m \u001b[0mself\u001b[0m\u001b[0;34m.\u001b[0m\u001b[0mdelete\u001b[0m\u001b[0;34m(\u001b[0m\u001b[0mindexer\u001b[0m\u001b[0;34m)\u001b[0m\u001b[0;34m\u001b[0m\u001b[0;34m\u001b[0m\u001b[0m\n",
      "\u001b[0;31mKeyError\u001b[0m: \"['distance'] not found in axis\""
     ]
    }
   ],
   "source": [
    "shortest_path_df.drop(columns = ['distance', 'duration', 'seconds'], inplace = True)"
   ]
  },
  {
   "cell_type": "code",
   "execution_count": null,
   "metadata": {},
   "outputs": [],
   "source": [
    "shortest_path_df['previous_mode'] = 'W'"
   ]
  },
  {
   "cell_type": "code",
   "execution_count": null,
   "metadata": {},
   "outputs": [],
   "source": [
    "shortest_path_df.previous_stop.value_counts()"
   ]
  },
  {
   "cell_type": "code",
   "execution_count": null,
   "metadata": {},
   "outputs": [],
   "source": [
    "shortest_path_df.loc[shortest_path_df.previous_stop == 917, 'previous_mode'] = 'T'"
   ]
  },
  {
   "cell_type": "code",
   "execution_count": null,
   "metadata": {},
   "outputs": [],
   "source": [
    "shortest_path_df.loc[shortest_path_df.previous_stop == 917, 'previous_mode']"
   ]
  },
  {
   "cell_type": "markdown",
   "metadata": {},
   "source": [
    "---\n",
    "### Scan all available trips from current stop to select the next available trip to each nearest neighbor"
   ]
  },
  {
   "cell_type": "code",
   "execution_count": null,
   "metadata": {},
   "outputs": [],
   "source": [
    "my_stop_times.head(3)"
   ]
  },
  {
   "cell_type": "code",
   "execution_count": null,
   "metadata": {},
   "outputs": [],
   "source": [
    "my_trips.head(3)"
   ]
  },
  {
   "cell_type": "code",
   "execution_count": null,
   "metadata": {},
   "outputs": [],
   "source": [
    "my_schedule = pd.merge(my_stop_times, my_trips, on = 'trip_id', how = 'inner')"
   ]
  },
  {
   "cell_type": "code",
   "execution_count": null,
   "metadata": {},
   "outputs": [],
   "source": [
    "my_schedule['time_delta'] = pd.to_timedelta(my_schedule.stop_time)"
   ]
  },
  {
   "cell_type": "code",
   "execution_count": null,
   "metadata": {},
   "outputs": [],
   "source": [
    "current_stop_trips = my_schedule.loc[my_schedule.stop_id == current_stop_id]"
   ]
  },
  {
   "cell_type": "code",
   "execution_count": null,
   "metadata": {},
   "outputs": [],
   "source": [
    "current_stop_trips = current_stop_trips.drop(columns = ['stop_id', 'direction_id'])"
   ]
  },
  {
   "cell_type": "code",
   "execution_count": null,
   "metadata": {},
   "outputs": [],
   "source": [
    "current_stop_trips = current_stop_trips.reset_index(drop = True)"
   ]
  },
  {
   "cell_type": "markdown",
   "metadata": {},
   "source": [
    "#### Start here > current objective > keep building current_stop_trips to mimic how we built current_stop_trip_times for the first manual round using the home stop. Next step is to build the 'next_stop_id' and 'next_stop_arrival_time' instead of 'end_td' (full use of delta from start time vs just measuring the duration). Once that's done: for each next_stop_id find the earliest available trip and use this info to update the shortest path table. Consider at what point to include the 1 minute buffer time for transfers"
   ]
  },
  {
   "cell_type": "code",
   "execution_count": null,
   "metadata": {},
   "outputs": [],
   "source": [
    "current_stop_trips['next_stop_id'] = None\n",
    "current_stop_trips['arrival_time'] = td(seconds = 0)"
   ]
  },
  {
   "cell_type": "code",
   "execution_count": null,
   "metadata": {},
   "outputs": [],
   "source": [
    "my_schedule.head(3)"
   ]
  },
  {
   "cell_type": "code",
   "execution_count": null,
   "metadata": {},
   "outputs": [],
   "source": [
    "for i in range(0, len(current_stop_trips)):\n",
    "    \n",
    "    i_trip_id = current_stop_trips.loc[i, 'trip_id']\n",
    "    i_stop_sequence = int(current_stop_trips.loc[i, 'stop_sequence'])\n",
    "    next_stop_sequence = i_stop_sequence + 1\n",
    "    \n",
    "    # pull a list of all stops on the current trip\n",
    "    i_trip_stops = my_schedule[my_schedule.trip_id == trip_id]\n",
    "    \n",
    "    # returns true if there is a next stop available for the current trip\n",
    "    next_stop_exists = next_stop_sequence in i_trip_stops.stop_sequence.unique()\n",
    "    \n",
    "    if (next_stop_exists):\n",
    "        # grab data from my_schedule\n",
    "        next_stop_id = my_schedule.loc[((my_schedule.trip_id == i_trip_id) & (my_schedule.stop_sequence == next_stop_sequence)), 'stop_id'].item()\n",
    "        arrival_time = my_schedule.loc[((my_schedule.trip_id == i_trip_id) & (my_schedule.stop_sequence == next_stop_sequence)), 'time_delta'].item()\n",
    "        # and then transfer to current_stop_trips\n",
    "        current_stop_trips.loc[i, 'next_stop_id'] = next_stop_id\n",
    "        current_stop_trips.loc[i, 'arrival_time'] = arrival_time\n",
    "    else:\n",
    "        # if no data, mark data as blank\n",
    "        current_stop_trips.loc[i, 'next_stop_id'] = 0\n",
    "        current_stop_trips.loc[i, 'arrival_time'] = td(seconds = 0)"
   ]
  },
  {
   "cell_type": "code",
   "execution_count": null,
   "metadata": {},
   "outputs": [],
   "source": [
    "current_stop_trips.next_stop_id.value_counts()"
   ]
  },
  {
   "cell_type": "code",
   "execution_count": null,
   "metadata": {},
   "outputs": [],
   "source": [
    "current_stop_id, current_timedelta"
   ]
  },
  {
   "cell_type": "code",
   "execution_count": null,
   "metadata": {},
   "outputs": [],
   "source": [
    "transfer_timedelta = current_timedelta + td(minutes = 1)"
   ]
  },
  {
   "cell_type": "code",
   "execution_count": null,
   "metadata": {},
   "outputs": [],
   "source": [
    "transfer_timedelta"
   ]
  },
  {
   "cell_type": "code",
   "execution_count": null,
   "metadata": {},
   "outputs": [],
   "source": [
    "next_trips = current_stop_trips.loc[current_stop_trips.time_delta > transfer_timedelta].sort_values(by = 'arrival_time')"
   ]
  },
  {
   "cell_type": "code",
   "execution_count": null,
   "metadata": {},
   "outputs": [],
   "source": [
    "next_trips.shape"
   ]
  },
  {
   "cell_type": "code",
   "execution_count": null,
   "metadata": {},
   "outputs": [],
   "source": [
    "next_trips.head(1)"
   ]
  },
  {
   "cell_type": "code",
   "execution_count": null,
   "metadata": {},
   "outputs": [],
   "source": [
    "nearest_neighbors = next_trips.next_stop_id.value_counts().index.to_list()"
   ]
  },
  {
   "cell_type": "code",
   "execution_count": null,
   "metadata": {},
   "outputs": [],
   "source": [
    "nearest_neighbors"
   ]
  },
  {
   "cell_type": "code",
   "execution_count": null,
   "metadata": {},
   "outputs": [],
   "source": [
    "next_trips_to_neighbors = []\n",
    "for i in range(0, len(nearest_neighbors)):\n",
    "    for j in range(0, len(next_trips)):\n",
    "        if (next_trips.iloc[j, 6] == nearest_neighbors[i]):\n",
    "            next_trips_to_neighbors.append(j)\n",
    "            break\n",
    "selected_next_trips = next_trips.iloc[next_trips_to_neighbors]"
   ]
  },
  {
   "cell_type": "code",
   "execution_count": null,
   "metadata": {},
   "outputs": [],
   "source": [
    "save_record = shortest_path_df[shortest_path_df.stop_id.isin(nearest_neighbors)].copy()"
   ]
  },
  {
   "cell_type": "code",
   "execution_count": null,
   "metadata": {},
   "outputs": [],
   "source": [
    "save_record"
   ]
  },
  {
   "cell_type": "code",
   "execution_count": null,
   "metadata": {},
   "outputs": [],
   "source": [
    "selected_next_trips"
   ]
  },
  {
   "cell_type": "code",
   "execution_count": null,
   "metadata": {},
   "outputs": [],
   "source": [
    "for i in range(0, len(selected_next_trips)):\n",
    "    n_stop = selected_next_trips.next_stop_id.iloc[i]\n",
    "    n_arrival = selected_next_trips.arrival_time.iloc[i]\n",
    "    print(n_stop, n_arrival)\n",
    "    match_stop = shortest_path_df.stop_id == n_stop\n",
    "    update_condition = shortest_path_df.loc[match_stop, 'arrival_time'].iloc[0] > n_arrival\n",
    "    if (update_condition):\n",
    "        shortest_path_df.loc[match_stop, 'arrival_time'] = n_arrival\n",
    "        shortest_path_df.loc[match_stop, 'previous_stop'] = current_stop_id\n",
    "        shortest_path_df.loc[match_stop, 'previous_mode'] = 'T'"
   ]
  },
  {
   "cell_type": "code",
   "execution_count": null,
   "metadata": {},
   "outputs": [],
   "source": [
    "shortest_path_df[shortest_path_df.stop_id.isin(nearest_neighbors)]"
   ]
  },
  {
   "cell_type": "markdown",
   "metadata": {},
   "source": [
    "### Finish the 2nd loop and switch over to the next unvisited stop"
   ]
  },
  {
   "cell_type": "code",
   "execution_count": null,
   "metadata": {},
   "outputs": [],
   "source": [
    "shortest_path_df.loc[shortest_path_df.stop_id == current_stop_id, 'visited'] = True"
   ]
  },
  {
   "cell_type": "code",
   "execution_count": null,
   "metadata": {},
   "outputs": [],
   "source": [
    "shortest_path_df = shortest_path_df.sort_values(by = 'arrival_time').reset_index(drop = True)"
   ]
  },
  {
   "cell_type": "code",
   "execution_count": null,
   "metadata": {},
   "outputs": [],
   "source": [
    "current_stop_id = shortest_path_df[shortest_path_df.visited == False].stop_id.iloc[0]"
   ]
  },
  {
   "cell_type": "code",
   "execution_count": null,
   "metadata": {},
   "outputs": [],
   "source": [
    "current_stop_id"
   ]
  },
  {
   "cell_type": "code",
   "execution_count": null,
   "metadata": {},
   "outputs": [],
   "source": [
    "current_timedelta = shortest_path_df[shortest_path_df.stop_id == current_stop_id].arrival_time.iloc[0]\n",
    "transfer_timedelta = current_timedelta + td(minutes = 1)"
   ]
  },
  {
   "cell_type": "code",
   "execution_count": null,
   "metadata": {},
   "outputs": [],
   "source": [
    "current_timedelta, transfer_timedelta"
   ]
  },
  {
   "cell_type": "markdown",
   "metadata": {},
   "source": [
    "##### Insight: Transfers should only matter when exiting the current trip/route; otherwise I will be forcing users to inefficiently get the off the bus and get on the next bus just to get to the next stop on the same route. Perhaps it would be a good idea to remove transfer time completely from the MVP, and optimize for it later. If anything, when transferring to another route there will most likely be a delay before the next bus comes for most times anyways. When implementing transfer time, consider to only add transfer time when the previous_mode is W or when the route/trip from the previous stop changes onto the next stop"
   ]
  },
  {
   "cell_type": "code",
   "execution_count": null,
   "metadata": {},
   "outputs": [],
   "source": [
    "shortest_path_df.head(5)"
   ]
  },
  {
   "cell_type": "markdown",
   "metadata": {},
   "source": [
    "### Question: consider what would happen if there was infact no next stop or next stop sequence for the current trip in question? How would that impact the shortest path table?"
   ]
  },
  {
   "cell_type": "markdown",
   "metadata": {},
   "source": [
    "Since the earliest possible trip ever (including those outside regular weekday service) starts around 3 AM, there is no trip that starts on the schedule between 12 AM and 3 AM.\n",
    "\n",
    "Therefore, when no next stop id or stop sequence is found for a given trip that stops at the current stop id in question, the values for next stop id will be None (empty) and the value for arrival_time will be blank or 0 or 00:00:00.\n",
    "\n",
    "At the point when current stop trips is converted to next trips to figure out the next applicable valid trip as per the current time, all trips that are at 0 seconds will automatically be filtered out and never be considered for an update to the shortest path table. To make this more airtight, we could add a filter that confirms that the next_stop_id is a valid stop_id i.e. anything integer number that is not zero."
   ]
  },
  {
   "cell_type": "code",
   "execution_count": null,
   "metadata": {},
   "outputs": [],
   "source": [
    "stop_times.sort_values(by = 'time_delta').head(3)"
   ]
  },
  {
   "cell_type": "code",
   "execution_count": null,
   "metadata": {},
   "outputs": [],
   "source": []
  }
 ],
 "metadata": {
  "kernelspec": {
   "display_name": "Python 3",
   "language": "python",
   "name": "python3"
  },
  "language_info": {
   "codemirror_mode": {
    "name": "ipython",
    "version": 3
   },
   "file_extension": ".py",
   "mimetype": "text/x-python",
   "name": "python",
   "nbconvert_exporter": "python",
   "pygments_lexer": "ipython3",
   "version": "3.8.5"
  }
 },
 "nbformat": 4,
 "nbformat_minor": 4
}
