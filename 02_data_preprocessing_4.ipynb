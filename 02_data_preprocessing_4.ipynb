{
 "cells": [
  {
   "cell_type": "markdown",
   "metadata": {},
   "source": [
    "# Build the W-walk Reference Table\n",
    "---"
   ]
  },
  {
   "cell_type": "code",
   "execution_count": 2,
   "metadata": {},
   "outputs": [],
   "source": [
    "import pandas as pd"
   ]
  },
  {
   "cell_type": "code",
   "execution_count": 3,
   "metadata": {},
   "outputs": [],
   "source": [
    "f = pd.read_pickle('data/model/f.pickle')\n",
    "stops = pd.read_feather('data/model/stops.ftr')"
   ]
  },
  {
   "cell_type": "code",
   "execution_count": 4,
   "metadata": {},
   "outputs": [],
   "source": [
    "# Spreadsheet re-ran with only those stops used to build transit weights & neighbors data\n",
    "stops = pd.read_pickle('data/model/model_stops.pickle')"
   ]
  },
  {
   "cell_type": "code",
   "execution_count": 5,
   "metadata": {},
   "outputs": [
    {
     "data": {
      "text/plain": [
       "1.4267500000002541e-05"
      ]
     },
     "execution_count": 5,
     "metadata": {},
     "output_type": "execute_result"
    }
   ],
   "source": [
    "f"
   ]
  },
  {
   "cell_type": "code",
   "execution_count": 6,
   "metadata": {},
   "outputs": [
    {
     "data": {
      "text/html": [
       "<div>\n",
       "<style scoped>\n",
       "    .dataframe tbody tr th:only-of-type {\n",
       "        vertical-align: middle;\n",
       "    }\n",
       "\n",
       "    .dataframe tbody tr th {\n",
       "        vertical-align: top;\n",
       "    }\n",
       "\n",
       "    .dataframe thead th {\n",
       "        text-align: right;\n",
       "    }\n",
       "</style>\n",
       "<table border=\"1\" class=\"dataframe\">\n",
       "  <thead>\n",
       "    <tr style=\"text-align: right;\">\n",
       "      <th></th>\n",
       "      <th>stop_id</th>\n",
       "      <th>stop_code</th>\n",
       "      <th>stop_name</th>\n",
       "      <th>stop_lat</th>\n",
       "      <th>stop_lon</th>\n",
       "    </tr>\n",
       "  </thead>\n",
       "  <tbody>\n",
       "    <tr>\n",
       "      <th>1</th>\n",
       "      <td>263</td>\n",
       "      <td>929</td>\n",
       "      <td>Davenport Rd at Bedford Rd</td>\n",
       "      <td>43.674448</td>\n",
       "      <td>-79.399659</td>\n",
       "    </tr>\n",
       "  </tbody>\n",
       "</table>\n",
       "</div>"
      ],
      "text/plain": [
       "   stop_id  stop_code                   stop_name   stop_lat   stop_lon\n",
       "1      263        929  Davenport Rd at Bedford Rd  43.674448 -79.399659"
      ]
     },
     "execution_count": 6,
     "metadata": {},
     "output_type": "execute_result"
    }
   ],
   "source": [
    "stops.head(1)"
   ]
  },
  {
   "cell_type": "code",
   "execution_count": 7,
   "metadata": {},
   "outputs": [],
   "source": [
    "stops = stops.set_index('stop_id')"
   ]
  },
  {
   "cell_type": "code",
   "execution_count": 8,
   "metadata": {},
   "outputs": [
    {
     "data": {
      "text/html": [
       "<div>\n",
       "<style scoped>\n",
       "    .dataframe tbody tr th:only-of-type {\n",
       "        vertical-align: middle;\n",
       "    }\n",
       "\n",
       "    .dataframe tbody tr th {\n",
       "        vertical-align: top;\n",
       "    }\n",
       "\n",
       "    .dataframe thead th {\n",
       "        text-align: right;\n",
       "    }\n",
       "</style>\n",
       "<table border=\"1\" class=\"dataframe\">\n",
       "  <thead>\n",
       "    <tr style=\"text-align: right;\">\n",
       "      <th></th>\n",
       "      <th>stop_code</th>\n",
       "      <th>stop_name</th>\n",
       "      <th>stop_lat</th>\n",
       "      <th>stop_lon</th>\n",
       "    </tr>\n",
       "    <tr>\n",
       "      <th>stop_id</th>\n",
       "      <th></th>\n",
       "      <th></th>\n",
       "      <th></th>\n",
       "      <th></th>\n",
       "    </tr>\n",
       "  </thead>\n",
       "  <tbody>\n",
       "    <tr>\n",
       "      <th>263</th>\n",
       "      <td>929</td>\n",
       "      <td>Davenport Rd at Bedford Rd</td>\n",
       "      <td>43.674448</td>\n",
       "      <td>-79.399659</td>\n",
       "    </tr>\n",
       "  </tbody>\n",
       "</table>\n",
       "</div>"
      ],
      "text/plain": [
       "         stop_code                   stop_name   stop_lat   stop_lon\n",
       "stop_id                                                             \n",
       "263            929  Davenport Rd at Bedford Rd  43.674448 -79.399659"
      ]
     },
     "execution_count": 8,
     "metadata": {},
     "output_type": "execute_result"
    }
   ],
   "source": [
    "stops.head(1)"
   ]
  },
  {
   "cell_type": "code",
   "execution_count": 9,
   "metadata": {},
   "outputs": [],
   "source": [
    "stop_list = tuple(stops.index.to_list())"
   ]
  },
  {
   "cell_type": "code",
   "execution_count": 12,
   "metadata": {},
   "outputs": [],
   "source": [
    "r = f * 60 * 5"
   ]
  },
  {
   "cell_type": "code",
   "execution_count": 13,
   "metadata": {},
   "outputs": [],
   "source": [
    "stops['walk'] = None\n",
    "stops['len'] = 0"
   ]
  },
  {
   "cell_type": "code",
   "execution_count": 14,
   "metadata": {},
   "outputs": [],
   "source": [
    "for stop in stop_list:\n",
    "    lat = stops.loc[stop, 'stop_lat']\n",
    "    lon = stops.loc[stop, 'stop_lon']\n",
    "    range_filter = ( (stops.stop_lat < (lat + r) ) & (stops.stop_lat > (lat - r) ) & (stops.stop_lon < (lon + r) ) & (stops.stop_lon > (lon - r) ) )\n",
    "    walkable_neighbors = tuple(stops.loc[range_filter].index)\n",
    "    stops.at[stop, 'walk'] = walkable_neighbors\n",
    "    stops.at[stop, 'len'] = len(walkable_neighbors)"
   ]
  },
  {
   "cell_type": "code",
   "execution_count": 15,
   "metadata": {},
   "outputs": [
    {
     "data": {
      "text/plain": [
       "<AxesSubplot:>"
      ]
     },
     "execution_count": 15,
     "metadata": {},
     "output_type": "execute_result"
    },
    {
     "data": {
      "image/png": "[encoded data removed]",
      "text/plain": [
       "<Figure size 1440x720 with 1 Axes>"
      ]
     },
     "metadata": {
      "needs_background": "light"
     },
     "output_type": "display_data"
    }
   ],
   "source": [
    "stops.len.value_counts().sort_index().plot(kind = 'barh', figsize = (20, 10))"
   ]
  },
  {
   "cell_type": "code",
   "execution_count": 16,
   "metadata": {},
   "outputs": [
    {
     "data": {
      "text/html": [
       "<div>\n",
       "<style scoped>\n",
       "    .dataframe tbody tr th:only-of-type {\n",
       "        vertical-align: middle;\n",
       "    }\n",
       "\n",
       "    .dataframe tbody tr th {\n",
       "        vertical-align: top;\n",
       "    }\n",
       "\n",
       "    .dataframe thead th {\n",
       "        text-align: right;\n",
       "    }\n",
       "</style>\n",
       "<table border=\"1\" class=\"dataframe\">\n",
       "  <thead>\n",
       "    <tr style=\"text-align: right;\">\n",
       "      <th></th>\n",
       "      <th>stop_code</th>\n",
       "      <th>stop_name</th>\n",
       "      <th>stop_lat</th>\n",
       "      <th>stop_lon</th>\n",
       "      <th>walk</th>\n",
       "      <th>len</th>\n",
       "    </tr>\n",
       "    <tr>\n",
       "      <th>stop_id</th>\n",
       "      <th></th>\n",
       "      <th></th>\n",
       "      <th></th>\n",
       "      <th></th>\n",
       "      <th></th>\n",
       "      <th></th>\n",
       "    </tr>\n",
       "  </thead>\n",
       "  <tbody>\n",
       "    <tr>\n",
       "      <th>263</th>\n",
       "      <td>929</td>\n",
       "      <td>Davenport Rd at Bedford Rd</td>\n",
       "      <td>43.674448</td>\n",
       "      <td>-79.399659</td>\n",
       "      <td>(263, 264, 751, 1405, 1642, 1646, 1937, 2106, ...</td>\n",
       "      <td>21</td>\n",
       "    </tr>\n",
       "    <tr>\n",
       "      <th>264</th>\n",
       "      <td>940</td>\n",
       "      <td>Davenport Rd at Dupont St</td>\n",
       "      <td>43.675511</td>\n",
       "      <td>-79.401938</td>\n",
       "      <td>(263, 264, 751, 1642, 3631, 4165, 4968, 5616, ...</td>\n",
       "      <td>18</td>\n",
       "    </tr>\n",
       "    <tr>\n",
       "      <th>265</th>\n",
       "      <td>1871</td>\n",
       "      <td>Davisville Ave at Cleveland St</td>\n",
       "      <td>43.702088</td>\n",
       "      <td>-79.378112</td>\n",
       "      <td>(265, 3463, 4995, 5177, 7466, 7942, 8013, 10375)</td>\n",
       "      <td>8</td>\n",
       "    </tr>\n",
       "    <tr>\n",
       "      <th>266</th>\n",
       "      <td>11700</td>\n",
       "      <td>Disco Rd at Attwell Dr</td>\n",
       "      <td>43.701362</td>\n",
       "      <td>-79.594843</td>\n",
       "      <td>(266, 267, 375, 376, 4040, 5109, 7076, 7641)</td>\n",
       "      <td>8</td>\n",
       "    </tr>\n",
       "    <tr>\n",
       "      <th>267</th>\n",
       "      <td>3478</td>\n",
       "      <td>Disco Rd at Attwell Dr</td>\n",
       "      <td>43.701043</td>\n",
       "      <td>-79.595806</td>\n",
       "      <td>(266, 267, 375, 376, 4040, 5109, 7076, 7641, 7...</td>\n",
       "      <td>9</td>\n",
       "    </tr>\n",
       "    <tr>\n",
       "      <th>...</th>\n",
       "      <td>...</td>\n",
       "      <td>...</td>\n",
       "      <td>...</td>\n",
       "      <td>...</td>\n",
       "      <td>...</td>\n",
       "      <td>...</td>\n",
       "    </tr>\n",
       "    <tr>\n",
       "      <th>24418</th>\n",
       "      <td>16031</td>\n",
       "      <td>Gerrard St East at River St</td>\n",
       "      <td>43.663948</td>\n",
       "      <td>-79.358666</td>\n",
       "      <td>(688, 1061, 2676, 2976, 6259, 7379, 8991, 2427...</td>\n",
       "      <td>14</td>\n",
       "    </tr>\n",
       "    <tr>\n",
       "      <th>24419</th>\n",
       "      <td>16032</td>\n",
       "      <td>Broadview Ave at Gerrard St East North Side</td>\n",
       "      <td>43.665766</td>\n",
       "      <td>-79.352651</td>\n",
       "      <td>(688, 1966, 3446, 3886, 3903, 4197, 4575, 4891...</td>\n",
       "      <td>21</td>\n",
       "    </tr>\n",
       "    <tr>\n",
       "      <th>24420</th>\n",
       "      <td>16033</td>\n",
       "      <td>Jack Layton Way at St Matthews Rd</td>\n",
       "      <td>43.665695</td>\n",
       "      <td>-79.354843</td>\n",
       "      <td>(688, 1966, 3446, 3886, 3903, 4197, 4575, 4891...</td>\n",
       "      <td>22</td>\n",
       "    </tr>\n",
       "    <tr>\n",
       "      <th>24421</th>\n",
       "      <td>16034</td>\n",
       "      <td>St Matthews Rd at Gerrard St East</td>\n",
       "      <td>43.664960</td>\n",
       "      <td>-79.355329</td>\n",
       "      <td>(688, 1061, 1966, 3446, 3886, 3903, 4197, 4575...</td>\n",
       "      <td>24</td>\n",
       "    </tr>\n",
       "    <tr>\n",
       "      <th>24422</th>\n",
       "      <td>16035</td>\n",
       "      <td>Birmingham St at Kipling Ave</td>\n",
       "      <td>43.600805</td>\n",
       "      <td>-79.517877</td>\n",
       "      <td>(1060, 1593, 1926, 2102, 3764, 4779, 5188, 798...</td>\n",
       "      <td>11</td>\n",
       "    </tr>\n",
       "  </tbody>\n",
       "</table>\n",
       "<p>8901 rows × 6 columns</p>\n",
       "</div>"
      ],
      "text/plain": [
       "         stop_code                                    stop_name   stop_lat  \\\n",
       "stop_id                                                                      \n",
       "263            929                   Davenport Rd at Bedford Rd  43.674448   \n",
       "264            940                    Davenport Rd at Dupont St  43.675511   \n",
       "265           1871               Davisville Ave at Cleveland St  43.702088   \n",
       "266          11700                       Disco Rd at Attwell Dr  43.701362   \n",
       "267           3478                       Disco Rd at Attwell Dr  43.701043   \n",
       "...            ...                                          ...        ...   \n",
       "24418        16031                  Gerrard St East at River St  43.663948   \n",
       "24419        16032  Broadview Ave at Gerrard St East North Side  43.665766   \n",
       "24420        16033            Jack Layton Way at St Matthews Rd  43.665695   \n",
       "24421        16034            St Matthews Rd at Gerrard St East  43.664960   \n",
       "24422        16035                 Birmingham St at Kipling Ave  43.600805   \n",
       "\n",
       "          stop_lon                                               walk  len  \n",
       "stop_id                                                                     \n",
       "263     -79.399659  (263, 264, 751, 1405, 1642, 1646, 1937, 2106, ...   21  \n",
       "264     -79.401938  (263, 264, 751, 1642, 3631, 4165, 4968, 5616, ...   18  \n",
       "265     -79.378112   (265, 3463, 4995, 5177, 7466, 7942, 8013, 10375)    8  \n",
       "266     -79.594843       (266, 267, 375, 376, 4040, 5109, 7076, 7641)    8  \n",
       "267     -79.595806  (266, 267, 375, 376, 4040, 5109, 7076, 7641, 7...    9  \n",
       "...            ...                                                ...  ...  \n",
       "24418   -79.358666  (688, 1061, 2676, 2976, 6259, 7379, 8991, 2427...   14  \n",
       "24419   -79.352651  (688, 1966, 3446, 3886, 3903, 4197, 4575, 4891...   21  \n",
       "24420   -79.354843  (688, 1966, 3446, 3886, 3903, 4197, 4575, 4891...   22  \n",
       "24421   -79.355329  (688, 1061, 1966, 3446, 3886, 3903, 4197, 4575...   24  \n",
       "24422   -79.517877  (1060, 1593, 1926, 2102, 3764, 4779, 5188, 798...   11  \n",
       "\n",
       "[8901 rows x 6 columns]"
      ]
     },
     "execution_count": 16,
     "metadata": {},
     "output_type": "execute_result"
    }
   ],
   "source": [
    "stops"
   ]
  },
  {
   "cell_type": "code",
   "execution_count": 21,
   "metadata": {},
   "outputs": [
    {
     "data": {
      "text/plain": [
       "1     6\n",
       "2    58\n",
       "3    62\n",
       "Name: len, dtype: int64"
      ]
     },
     "execution_count": 21,
     "metadata": {},
     "output_type": "execute_result"
    }
   ],
   "source": [
    "# Making sure that every stop has at least one neighbor within walking distance\n",
    "stops.len.value_counts().sort_index().head(3)"
   ]
  },
  {
   "cell_type": "code",
   "execution_count": 22,
   "metadata": {},
   "outputs": [
    {
     "data": {
      "text/plain": [
       "43    4\n",
       "44    5\n",
       "45    1\n",
       "Name: len, dtype: int64"
      ]
     },
     "execution_count": 22,
     "metadata": {},
     "output_type": "execute_result"
    }
   ],
   "source": [
    "# The max number of neighbors for any given stop\n",
    "stops.len.value_counts().sort_index().tail(3)"
   ]
  },
  {
   "cell_type": "code",
   "execution_count": 17,
   "metadata": {},
   "outputs": [],
   "source": [
    "stops.to_pickle('data/model/weights_walking.pickle')"
   ]
  }
 ],
 "metadata": {
  "kernelspec": {
   "display_name": "Python 3",
   "language": "python",
   "name": "python3"
  },
  "language_info": {
   "codemirror_mode": {
    "name": "ipython",
    "version": 3
   },
   "file_extension": ".py",
   "mimetype": "text/x-python",
   "name": "python",
   "nbconvert_exporter": "python",
   "pygments_lexer": "ipython3",
   "version": "3.8.5"
  }
 },
 "nbformat": 4,
 "nbformat_minor": 4
}
