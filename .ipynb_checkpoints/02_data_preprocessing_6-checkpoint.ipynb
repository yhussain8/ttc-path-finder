{
 "cells": [
  {
   "cell_type": "markdown",
   "metadata": {},
   "source": [
    "# Build the reference table containing the weights between all connected stops"
   ]
  },
  {
   "cell_type": "code",
   "execution_count": 1,
   "metadata": {},
   "outputs": [],
   "source": [
    "import numpy as np\n",
    "import pandas as pd"
   ]
  },
  {
   "cell_type": "code",
   "execution_count": 2,
   "metadata": {},
   "outputs": [],
   "source": [
    "from datetime import timedelta as td"
   ]
  },
  {
   "cell_type": "code",
   "execution_count": 3,
   "metadata": {},
   "outputs": [],
   "source": [
    "stops = pd.read_feather('data/model/stops.ftr')\n",
    "schedule = pd.read_feather('data/model/schedule.ftr')"
   ]
  },
  {
   "cell_type": "code",
   "execution_count": 4,
   "metadata": {},
   "outputs": [],
   "source": [
    "seq = pd.read_feather('data/model/shape_sequence_durations.ftr')"
   ]
  },
  {
   "cell_type": "code",
   "execution_count": 5,
   "metadata": {},
   "outputs": [],
   "source": [
    "s = schedule.copy()\n",
    "s = s[~s.route_long_name.str.lower().str.contains('night')]\n",
    "s = s[~s.route_long_name.str.lower().str.contains('express')]"
   ]
  },
  {
   "cell_type": "markdown",
   "metadata": {},
   "source": [
    "---"
   ]
  },
  {
   "cell_type": "code",
   "execution_count": 6,
   "metadata": {},
   "outputs": [
    {
     "data": {
      "text/html": [
       "<div>\n",
       "<style scoped>\n",
       "    .dataframe tbody tr th:only-of-type {\n",
       "        vertical-align: middle;\n",
       "    }\n",
       "\n",
       "    .dataframe tbody tr th {\n",
       "        vertical-align: top;\n",
       "    }\n",
       "\n",
       "    .dataframe thead th {\n",
       "        text-align: right;\n",
       "    }\n",
       "</style>\n",
       "<table border=\"1\" class=\"dataframe\">\n",
       "  <thead>\n",
       "    <tr style=\"text-align: right;\">\n",
       "      <th></th>\n",
       "      <th>stop_id</th>\n",
       "      <th>stop_code</th>\n",
       "      <th>stop_name</th>\n",
       "      <th>stop_lat</th>\n",
       "      <th>stop_lon</th>\n",
       "    </tr>\n",
       "  </thead>\n",
       "  <tbody>\n",
       "    <tr>\n",
       "      <th>0</th>\n",
       "      <td>262</td>\n",
       "      <td>662</td>\n",
       "      <td>Danforth Rd at Kennedy Rd</td>\n",
       "      <td>43.714379</td>\n",
       "      <td>-79.260939</td>\n",
       "    </tr>\n",
       "    <tr>\n",
       "      <th>1</th>\n",
       "      <td>263</td>\n",
       "      <td>929</td>\n",
       "      <td>Davenport Rd at Bedford Rd</td>\n",
       "      <td>43.674448</td>\n",
       "      <td>-79.399659</td>\n",
       "    </tr>\n",
       "    <tr>\n",
       "      <th>2</th>\n",
       "      <td>264</td>\n",
       "      <td>940</td>\n",
       "      <td>Davenport Rd at Dupont St</td>\n",
       "      <td>43.675511</td>\n",
       "      <td>-79.401938</td>\n",
       "    </tr>\n",
       "  </tbody>\n",
       "</table>\n",
       "</div>"
      ],
      "text/plain": [
       "   stop_id  stop_code                   stop_name   stop_lat   stop_lon\n",
       "0      262        662   Danforth Rd at Kennedy Rd  43.714379 -79.260939\n",
       "1      263        929  Davenport Rd at Bedford Rd  43.674448 -79.399659\n",
       "2      264        940   Davenport Rd at Dupont St  43.675511 -79.401938"
      ]
     },
     "execution_count": 6,
     "metadata": {},
     "output_type": "execute_result"
    }
   ],
   "source": [
    "stops.head(3)"
   ]
  },
  {
   "cell_type": "code",
   "execution_count": 7,
   "metadata": {},
   "outputs": [
    {
     "data": {
      "text/html": [
       "<div>\n",
       "<style scoped>\n",
       "    .dataframe tbody tr th:only-of-type {\n",
       "        vertical-align: middle;\n",
       "    }\n",
       "\n",
       "    .dataframe tbody tr th {\n",
       "        vertical-align: top;\n",
       "    }\n",
       "\n",
       "    .dataframe thead th {\n",
       "        text-align: right;\n",
       "    }\n",
       "</style>\n",
       "<table border=\"1\" class=\"dataframe\">\n",
       "  <thead>\n",
       "    <tr style=\"text-align: right;\">\n",
       "      <th></th>\n",
       "      <th>trip_id</th>\n",
       "      <th>route_short_name</th>\n",
       "      <th>route_long_name</th>\n",
       "      <th>shape_id</th>\n",
       "      <th>trip_headsign</th>\n",
       "      <th>stop_sequence</th>\n",
       "      <th>stop_time</th>\n",
       "      <th>stop_time_delta</th>\n",
       "      <th>stop_id</th>\n",
       "      <th>stop_code</th>\n",
       "      <th>stop_name</th>\n",
       "      <th>stop_lat</th>\n",
       "      <th>stop_lon</th>\n",
       "    </tr>\n",
       "  </thead>\n",
       "  <tbody>\n",
       "    <tr>\n",
       "      <th>0</th>\n",
       "      <td>42990004</td>\n",
       "      <td>10</td>\n",
       "      <td>VAN HORNE</td>\n",
       "      <td>886387</td>\n",
       "      <td>EAST - 10 VAN HORNE towards VICTORIA PARK</td>\n",
       "      <td>1</td>\n",
       "      <td>7:00:29</td>\n",
       "      <td>0 days 07:00:29</td>\n",
       "      <td>14155</td>\n",
       "      <td>14633</td>\n",
       "      <td>Don Mills Station</td>\n",
       "      <td>43.776222</td>\n",
       "      <td>-79.347048</td>\n",
       "    </tr>\n",
       "    <tr>\n",
       "      <th>1</th>\n",
       "      <td>42990004</td>\n",
       "      <td>10</td>\n",
       "      <td>VAN HORNE</td>\n",
       "      <td>886387</td>\n",
       "      <td>EAST - 10 VAN HORNE towards VICTORIA PARK</td>\n",
       "      <td>2</td>\n",
       "      <td>7:01:19</td>\n",
       "      <td>0 days 07:01:19</td>\n",
       "      <td>3807</td>\n",
       "      <td>1949</td>\n",
       "      <td>Don Mills Rd at Leith Hill Rd North Side</td>\n",
       "      <td>43.777534</td>\n",
       "      <td>-79.347811</td>\n",
       "    </tr>\n",
       "    <tr>\n",
       "      <th>2</th>\n",
       "      <td>42990004</td>\n",
       "      <td>10</td>\n",
       "      <td>VAN HORNE</td>\n",
       "      <td>886387</td>\n",
       "      <td>EAST - 10 VAN HORNE towards VICTORIA PARK</td>\n",
       "      <td>3</td>\n",
       "      <td>7:02:12</td>\n",
       "      <td>0 days 07:02:12</td>\n",
       "      <td>6904</td>\n",
       "      <td>1929</td>\n",
       "      <td>Don Mills Rd at Fairview Mall Dr North Side</td>\n",
       "      <td>43.779530</td>\n",
       "      <td>-79.348701</td>\n",
       "    </tr>\n",
       "  </tbody>\n",
       "</table>\n",
       "</div>"
      ],
      "text/plain": [
       "    trip_id  route_short_name route_long_name  shape_id  \\\n",
       "0  42990004                10       VAN HORNE    886387   \n",
       "1  42990004                10       VAN HORNE    886387   \n",
       "2  42990004                10       VAN HORNE    886387   \n",
       "\n",
       "                               trip_headsign  stop_sequence stop_time  \\\n",
       "0  EAST - 10 VAN HORNE towards VICTORIA PARK              1   7:00:29   \n",
       "1  EAST - 10 VAN HORNE towards VICTORIA PARK              2   7:01:19   \n",
       "2  EAST - 10 VAN HORNE towards VICTORIA PARK              3   7:02:12   \n",
       "\n",
       "  stop_time_delta  stop_id  stop_code  \\\n",
       "0 0 days 07:00:29    14155      14633   \n",
       "1 0 days 07:01:19     3807       1949   \n",
       "2 0 days 07:02:12     6904       1929   \n",
       "\n",
       "                                     stop_name   stop_lat   stop_lon  \n",
       "0                            Don Mills Station  43.776222 -79.347048  \n",
       "1     Don Mills Rd at Leith Hill Rd North Side  43.777534 -79.347811  \n",
       "2  Don Mills Rd at Fairview Mall Dr North Side  43.779530 -79.348701  "
      ]
     },
     "execution_count": 7,
     "metadata": {},
     "output_type": "execute_result"
    }
   ],
   "source": [
    "s.head(3)"
   ]
  },
  {
   "cell_type": "code",
   "execution_count": 8,
   "metadata": {},
   "outputs": [
    {
     "data": {
      "text/html": [
       "<div>\n",
       "<style scoped>\n",
       "    .dataframe tbody tr th:only-of-type {\n",
       "        vertical-align: middle;\n",
       "    }\n",
       "\n",
       "    .dataframe tbody tr th {\n",
       "        vertical-align: top;\n",
       "    }\n",
       "\n",
       "    .dataframe thead th {\n",
       "        text-align: right;\n",
       "    }\n",
       "</style>\n",
       "<table border=\"1\" class=\"dataframe\">\n",
       "  <thead>\n",
       "    <tr style=\"text-align: right;\">\n",
       "      <th></th>\n",
       "      <th>shape_id</th>\n",
       "      <th>stop_sequence</th>\n",
       "      <th>next_stop_duration</th>\n",
       "      <th>next_stop_seconds</th>\n",
       "    </tr>\n",
       "  </thead>\n",
       "  <tbody>\n",
       "    <tr>\n",
       "      <th>0</th>\n",
       "      <td>886387</td>\n",
       "      <td>1</td>\n",
       "      <td>0 days 00:00:50</td>\n",
       "      <td>50.0</td>\n",
       "    </tr>\n",
       "    <tr>\n",
       "      <th>1</th>\n",
       "      <td>886387</td>\n",
       "      <td>2</td>\n",
       "      <td>0 days 00:00:53</td>\n",
       "      <td>53.0</td>\n",
       "    </tr>\n",
       "    <tr>\n",
       "      <th>2</th>\n",
       "      <td>886387</td>\n",
       "      <td>3</td>\n",
       "      <td>0 days 00:01:23</td>\n",
       "      <td>83.0</td>\n",
       "    </tr>\n",
       "  </tbody>\n",
       "</table>\n",
       "</div>"
      ],
      "text/plain": [
       "   shape_id  stop_sequence next_stop_duration  next_stop_seconds\n",
       "0    886387              1    0 days 00:00:50               50.0\n",
       "1    886387              2    0 days 00:00:53               53.0\n",
       "2    886387              3    0 days 00:01:23               83.0"
      ]
     },
     "execution_count": 8,
     "metadata": {},
     "output_type": "execute_result"
    }
   ],
   "source": [
    "seq.head(3)"
   ]
  },
  {
   "cell_type": "markdown",
   "metadata": {},
   "source": [
    "---"
   ]
  },
  {
   "cell_type": "code",
   "execution_count": 9,
   "metadata": {},
   "outputs": [
    {
     "data": {
      "text/plain": [
       "859"
      ]
     },
     "execution_count": 9,
     "metadata": {},
     "output_type": "execute_result"
    }
   ],
   "source": [
    "s.shape_id.nunique()"
   ]
  },
  {
   "cell_type": "code",
   "execution_count": 10,
   "metadata": {},
   "outputs": [],
   "source": [
    "x = s.copy()"
   ]
  },
  {
   "cell_type": "code",
   "execution_count": 11,
   "metadata": {},
   "outputs": [],
   "source": [
    "x = s[(s.stop_sequence == 1) & (s.stop_time_delta > td(hours = 17)) & (s.stop_time_delta < td(hours = 19))]"
   ]
  },
  {
   "cell_type": "code",
   "execution_count": 12,
   "metadata": {},
   "outputs": [],
   "source": [
    "x = x.sort_values(['shape_id', 'stop_time_delta'])"
   ]
  },
  {
   "cell_type": "code",
   "execution_count": 13,
   "metadata": {},
   "outputs": [],
   "source": [
    "x = x.drop_duplicates(['shape_id'])"
   ]
  },
  {
   "cell_type": "code",
   "execution_count": 14,
   "metadata": {},
   "outputs": [
    {
     "data": {
      "text/html": [
       "<div>\n",
       "<style scoped>\n",
       "    .dataframe tbody tr th:only-of-type {\n",
       "        vertical-align: middle;\n",
       "    }\n",
       "\n",
       "    .dataframe tbody tr th {\n",
       "        vertical-align: top;\n",
       "    }\n",
       "\n",
       "    .dataframe thead th {\n",
       "        text-align: right;\n",
       "    }\n",
       "</style>\n",
       "<table border=\"1\" class=\"dataframe\">\n",
       "  <thead>\n",
       "    <tr style=\"text-align: right;\">\n",
       "      <th></th>\n",
       "      <th>trip_id</th>\n",
       "      <th>route_short_name</th>\n",
       "      <th>route_long_name</th>\n",
       "      <th>shape_id</th>\n",
       "      <th>trip_headsign</th>\n",
       "      <th>stop_sequence</th>\n",
       "      <th>stop_time</th>\n",
       "      <th>stop_time_delta</th>\n",
       "      <th>stop_id</th>\n",
       "      <th>stop_code</th>\n",
       "      <th>stop_name</th>\n",
       "      <th>stop_lat</th>\n",
       "      <th>stop_lon</th>\n",
       "    </tr>\n",
       "  </thead>\n",
       "  <tbody>\n",
       "    <tr>\n",
       "      <th>1178760</th>\n",
       "      <td>43027037</td>\n",
       "      <td>95</td>\n",
       "      <td>YORK MILLS</td>\n",
       "      <td>888270</td>\n",
       "      <td>EAST - 95C YORK MILLS towards ELLESMERE STATION</td>\n",
       "      <td>1</td>\n",
       "      <td>17:01:58</td>\n",
       "      <td>0 days 17:01:58</td>\n",
       "      <td>24357</td>\n",
       "      <td>15974</td>\n",
       "      <td>York Mills Temporary Bus Loop</td>\n",
       "      <td>43.744303</td>\n",
       "      <td>-79.407324</td>\n",
       "    </tr>\n",
       "    <tr>\n",
       "      <th>1180436</th>\n",
       "      <td>43027064</td>\n",
       "      <td>95</td>\n",
       "      <td>YORK MILLS</td>\n",
       "      <td>888272</td>\n",
       "      <td>EAST - 95A YORK MILLS towards PORT UNION</td>\n",
       "      <td>1</td>\n",
       "      <td>17:06:58</td>\n",
       "      <td>0 days 17:06:58</td>\n",
       "      <td>24357</td>\n",
       "      <td>15974</td>\n",
       "      <td>York Mills Temporary Bus Loop</td>\n",
       "      <td>43.744303</td>\n",
       "      <td>-79.407324</td>\n",
       "    </tr>\n",
       "    <tr>\n",
       "      <th>1191951</th>\n",
       "      <td>43027266</td>\n",
       "      <td>95</td>\n",
       "      <td>YORK MILLS</td>\n",
       "      <td>888274</td>\n",
       "      <td>WEST - 95 YORK MILLS towards YORK MILLS STATION</td>\n",
       "      <td>1</td>\n",
       "      <td>17:09:40</td>\n",
       "      <td>0 days 17:09:40</td>\n",
       "      <td>10122</td>\n",
       "      <td>10521</td>\n",
       "      <td>Cul De Sac (Loop) at Ellesmere Rd</td>\n",
       "      <td>43.794687</td>\n",
       "      <td>-79.154799</td>\n",
       "    </tr>\n",
       "    <tr>\n",
       "      <th>1191382</th>\n",
       "      <td>43027253</td>\n",
       "      <td>95</td>\n",
       "      <td>YORK MILLS</td>\n",
       "      <td>888280</td>\n",
       "      <td>WEST - 95C YORK MILLS towards YORK MILLS STATION</td>\n",
       "      <td>1</td>\n",
       "      <td>17:00:09</td>\n",
       "      <td>0 days 17:00:09</td>\n",
       "      <td>15015</td>\n",
       "      <td>15189</td>\n",
       "      <td>Ellesmere Station</td>\n",
       "      <td>43.766958</td>\n",
       "      <td>-79.277486</td>\n",
       "    </tr>\n",
       "  </tbody>\n",
       "</table>\n",
       "</div>"
      ],
      "text/plain": [
       "          trip_id  route_short_name route_long_name  shape_id  \\\n",
       "1178760  43027037                95      YORK MILLS    888270   \n",
       "1180436  43027064                95      YORK MILLS    888272   \n",
       "1191951  43027266                95      YORK MILLS    888274   \n",
       "1191382  43027253                95      YORK MILLS    888280   \n",
       "\n",
       "                                            trip_headsign  stop_sequence  \\\n",
       "1178760   EAST - 95C YORK MILLS towards ELLESMERE STATION              1   \n",
       "1180436          EAST - 95A YORK MILLS towards PORT UNION              1   \n",
       "1191951   WEST - 95 YORK MILLS towards YORK MILLS STATION              1   \n",
       "1191382  WEST - 95C YORK MILLS towards YORK MILLS STATION              1   \n",
       "\n",
       "        stop_time stop_time_delta  stop_id  stop_code  \\\n",
       "1178760  17:01:58 0 days 17:01:58    24357      15974   \n",
       "1180436  17:06:58 0 days 17:06:58    24357      15974   \n",
       "1191951  17:09:40 0 days 17:09:40    10122      10521   \n",
       "1191382  17:00:09 0 days 17:00:09    15015      15189   \n",
       "\n",
       "                                 stop_name   stop_lat   stop_lon  \n",
       "1178760      York Mills Temporary Bus Loop  43.744303 -79.407324  \n",
       "1180436      York Mills Temporary Bus Loop  43.744303 -79.407324  \n",
       "1191951  Cul De Sac (Loop) at Ellesmere Rd  43.794687 -79.154799  \n",
       "1191382                  Ellesmere Station  43.766958 -79.277486  "
      ]
     },
     "execution_count": 14,
     "metadata": {},
     "output_type": "execute_result"
    }
   ],
   "source": [
    "x[x.route_short_name == 95]"
   ]
  },
  {
   "cell_type": "code",
   "execution_count": 15,
   "metadata": {},
   "outputs": [],
   "source": [
    "t = x.trip_id.values"
   ]
  },
  {
   "cell_type": "code",
   "execution_count": 16,
   "metadata": {},
   "outputs": [
    {
     "data": {
      "text/plain": [
       "465"
      ]
     },
     "execution_count": 16,
     "metadata": {},
     "output_type": "execute_result"
    }
   ],
   "source": [
    "len(t)"
   ]
  },
  {
   "cell_type": "code",
   "execution_count": 17,
   "metadata": {},
   "outputs": [],
   "source": [
    "y = s.loc[s.trip_id.isin(t)].copy()"
   ]
  },
  {
   "cell_type": "code",
   "execution_count": 18,
   "metadata": {},
   "outputs": [],
   "source": [
    "y = y.sort_values(['shape_id', 'trip_id', 'stop_sequence'])"
   ]
  },
  {
   "cell_type": "code",
   "execution_count": 19,
   "metadata": {},
   "outputs": [],
   "source": [
    "y['next_stop_id'] = y.stop_id.shift(-1)\n",
    "y['next_stop_time_delta'] = y.stop_time_delta.shift(-1)\n",
    "y['trip_id_test'] = y.trip_id.shift(-1)"
   ]
  },
  {
   "cell_type": "code",
   "execution_count": 20,
   "metadata": {},
   "outputs": [],
   "source": [
    "y['trip_id_compare'] = y.trip_id.astype(float)"
   ]
  },
  {
   "cell_type": "code",
   "execution_count": 21,
   "metadata": {},
   "outputs": [],
   "source": [
    "y['last_stop_sequence'] = ~(y.trip_id_test == y.trip_id_compare)"
   ]
  },
  {
   "cell_type": "code",
   "execution_count": 22,
   "metadata": {},
   "outputs": [],
   "source": [
    "y['duration_td'] = y.next_stop_time_delta - y.stop_time_delta"
   ]
  },
  {
   "cell_type": "code",
   "execution_count": 23,
   "metadata": {},
   "outputs": [],
   "source": [
    "z = y[y.last_stop_sequence == False].copy()"
   ]
  },
  {
   "cell_type": "code",
   "execution_count": 24,
   "metadata": {},
   "outputs": [],
   "source": [
    "z.next_stop_id = z.next_stop_id.astype(int)"
   ]
  },
  {
   "cell_type": "code",
   "execution_count": 25,
   "metadata": {},
   "outputs": [],
   "source": [
    "z['duration'] = z.duration_td.dt.total_seconds().astype(int)"
   ]
  },
  {
   "cell_type": "code",
   "execution_count": 26,
   "metadata": {},
   "outputs": [
    {
     "data": {
      "text/html": [
       "<div>\n",
       "<style scoped>\n",
       "    .dataframe tbody tr th:only-of-type {\n",
       "        vertical-align: middle;\n",
       "    }\n",
       "\n",
       "    .dataframe tbody tr th {\n",
       "        vertical-align: top;\n",
       "    }\n",
       "\n",
       "    .dataframe thead th {\n",
       "        text-align: right;\n",
       "    }\n",
       "</style>\n",
       "<table border=\"1\" class=\"dataframe\">\n",
       "  <thead>\n",
       "    <tr style=\"text-align: right;\">\n",
       "      <th></th>\n",
       "      <th>trip_id</th>\n",
       "      <th>route_short_name</th>\n",
       "      <th>route_long_name</th>\n",
       "      <th>shape_id</th>\n",
       "      <th>trip_headsign</th>\n",
       "      <th>stop_sequence</th>\n",
       "      <th>stop_time</th>\n",
       "      <th>stop_time_delta</th>\n",
       "      <th>stop_id</th>\n",
       "      <th>stop_code</th>\n",
       "      <th>stop_name</th>\n",
       "      <th>stop_lat</th>\n",
       "      <th>stop_lon</th>\n",
       "      <th>next_stop_id</th>\n",
       "      <th>next_stop_time_delta</th>\n",
       "      <th>trip_id_test</th>\n",
       "      <th>trip_id_compare</th>\n",
       "      <th>last_stop_sequence</th>\n",
       "      <th>duration_td</th>\n",
       "      <th>duration</th>\n",
       "    </tr>\n",
       "  </thead>\n",
       "  <tbody>\n",
       "    <tr>\n",
       "      <th>1191998</th>\n",
       "      <td>43027266</td>\n",
       "      <td>95</td>\n",
       "      <td>YORK MILLS</td>\n",
       "      <td>888274</td>\n",
       "      <td>WEST - 95 YORK MILLS towards YORK MILLS STATION</td>\n",
       "      <td>48</td>\n",
       "      <td>17:54:42</td>\n",
       "      <td>0 days 17:54:42</td>\n",
       "      <td>917</td>\n",
       "      <td>9083</td>\n",
       "      <td>York Mills Rd at Sandover Dr (1222 York Mills)</td>\n",
       "      <td>43.759813</td>\n",
       "      <td>-79.331751</td>\n",
       "      <td>5191</td>\n",
       "      <td>0 days 17:55:15</td>\n",
       "      <td>43027266.0</td>\n",
       "      <td>43027266.0</td>\n",
       "      <td>False</td>\n",
       "      <td>0 days 00:00:33</td>\n",
       "      <td>33</td>\n",
       "    </tr>\n",
       "    <tr>\n",
       "      <th>1191398</th>\n",
       "      <td>43027253</td>\n",
       "      <td>95</td>\n",
       "      <td>YORK MILLS</td>\n",
       "      <td>888280</td>\n",
       "      <td>WEST - 95C YORK MILLS towards YORK MILLS STATION</td>\n",
       "      <td>17</td>\n",
       "      <td>17:15:42</td>\n",
       "      <td>0 days 17:15:42</td>\n",
       "      <td>917</td>\n",
       "      <td>9083</td>\n",
       "      <td>York Mills Rd at Sandover Dr (1222 York Mills)</td>\n",
       "      <td>43.759813</td>\n",
       "      <td>-79.331751</td>\n",
       "      <td>5191</td>\n",
       "      <td>0 days 17:16:15</td>\n",
       "      <td>43027253.0</td>\n",
       "      <td>43027253.0</td>\n",
       "      <td>False</td>\n",
       "      <td>0 days 00:00:33</td>\n",
       "      <td>33</td>\n",
       "    </tr>\n",
       "  </tbody>\n",
       "</table>\n",
       "</div>"
      ],
      "text/plain": [
       "          trip_id  route_short_name route_long_name  shape_id  \\\n",
       "1191998  43027266                95      YORK MILLS    888274   \n",
       "1191398  43027253                95      YORK MILLS    888280   \n",
       "\n",
       "                                            trip_headsign  stop_sequence  \\\n",
       "1191998   WEST - 95 YORK MILLS towards YORK MILLS STATION             48   \n",
       "1191398  WEST - 95C YORK MILLS towards YORK MILLS STATION             17   \n",
       "\n",
       "        stop_time stop_time_delta  stop_id  stop_code  \\\n",
       "1191998  17:54:42 0 days 17:54:42      917       9083   \n",
       "1191398  17:15:42 0 days 17:15:42      917       9083   \n",
       "\n",
       "                                              stop_name   stop_lat   stop_lon  \\\n",
       "1191998  York Mills Rd at Sandover Dr (1222 York Mills)  43.759813 -79.331751   \n",
       "1191398  York Mills Rd at Sandover Dr (1222 York Mills)  43.759813 -79.331751   \n",
       "\n",
       "         next_stop_id next_stop_time_delta  trip_id_test  trip_id_compare  \\\n",
       "1191998          5191      0 days 17:55:15    43027266.0       43027266.0   \n",
       "1191398          5191      0 days 17:16:15    43027253.0       43027253.0   \n",
       "\n",
       "         last_stop_sequence     duration_td  duration  \n",
       "1191998               False 0 days 00:00:33        33  \n",
       "1191398               False 0 days 00:00:33        33  "
      ]
     },
     "execution_count": 26,
     "metadata": {},
     "output_type": "execute_result"
    }
   ],
   "source": [
    "z[z.stop_id == 917]"
   ]
  },
  {
   "cell_type": "code",
   "execution_count": 27,
   "metadata": {},
   "outputs": [],
   "source": [
    "a = z[['stop_id', 'next_stop_id', 'duration']].groupby(['stop_id', 'next_stop_id']).mean()"
   ]
  },
  {
   "cell_type": "code",
   "execution_count": 28,
   "metadata": {},
   "outputs": [],
   "source": [
    "a.duration = a.duration.astype(int)"
   ]
  },
  {
   "cell_type": "code",
   "execution_count": 29,
   "metadata": {},
   "outputs": [
    {
     "data": {
      "text/html": [
       "<div>\n",
       "<style scoped>\n",
       "    .dataframe tbody tr th:only-of-type {\n",
       "        vertical-align: middle;\n",
       "    }\n",
       "\n",
       "    .dataframe tbody tr th {\n",
       "        vertical-align: top;\n",
       "    }\n",
       "\n",
       "    .dataframe thead th {\n",
       "        text-align: right;\n",
       "    }\n",
       "</style>\n",
       "<table border=\"1\" class=\"dataframe\">\n",
       "  <thead>\n",
       "    <tr style=\"text-align: right;\">\n",
       "      <th></th>\n",
       "      <th>duration</th>\n",
       "    </tr>\n",
       "    <tr>\n",
       "      <th>next_stop_id</th>\n",
       "      <th></th>\n",
       "    </tr>\n",
       "  </thead>\n",
       "  <tbody>\n",
       "    <tr>\n",
       "      <th>5191</th>\n",
       "      <td>33</td>\n",
       "    </tr>\n",
       "  </tbody>\n",
       "</table>\n",
       "</div>"
      ],
      "text/plain": [
       "              duration\n",
       "next_stop_id          \n",
       "5191                33"
      ]
     },
     "execution_count": 29,
     "metadata": {},
     "output_type": "execute_result"
    }
   ],
   "source": [
    "a.loc[917]"
   ]
  },
  {
   "cell_type": "code",
   "execution_count": 30,
   "metadata": {},
   "outputs": [
    {
     "data": {
      "text/html": [
       "<div>\n",
       "<style scoped>\n",
       "    .dataframe tbody tr th:only-of-type {\n",
       "        vertical-align: middle;\n",
       "    }\n",
       "\n",
       "    .dataframe tbody tr th {\n",
       "        vertical-align: top;\n",
       "    }\n",
       "\n",
       "    .dataframe thead th {\n",
       "        text-align: right;\n",
       "    }\n",
       "</style>\n",
       "<table border=\"1\" class=\"dataframe\">\n",
       "  <thead>\n",
       "    <tr style=\"text-align: right;\">\n",
       "      <th></th>\n",
       "      <th></th>\n",
       "      <th>duration</th>\n",
       "    </tr>\n",
       "    <tr>\n",
       "      <th>stop_id</th>\n",
       "      <th>next_stop_id</th>\n",
       "      <th></th>\n",
       "    </tr>\n",
       "  </thead>\n",
       "  <tbody>\n",
       "    <tr>\n",
       "      <th>263</th>\n",
       "      <th>264</th>\n",
       "      <td>76</td>\n",
       "    </tr>\n",
       "    <tr>\n",
       "      <th>264</th>\n",
       "      <th>4165</th>\n",
       "      <td>69</td>\n",
       "    </tr>\n",
       "    <tr>\n",
       "      <th>265</th>\n",
       "      <th>10375</th>\n",
       "      <td>63</td>\n",
       "    </tr>\n",
       "    <tr>\n",
       "      <th>266</th>\n",
       "      <th>7773</th>\n",
       "      <td>47</td>\n",
       "    </tr>\n",
       "    <tr>\n",
       "      <th>267</th>\n",
       "      <th>4040</th>\n",
       "      <td>91</td>\n",
       "    </tr>\n",
       "    <tr>\n",
       "      <th>...</th>\n",
       "      <th>...</th>\n",
       "      <td>...</td>\n",
       "    </tr>\n",
       "    <tr>\n",
       "      <th>24418</th>\n",
       "      <th>24416</th>\n",
       "      <td>154</td>\n",
       "    </tr>\n",
       "    <tr>\n",
       "      <th>24419</th>\n",
       "      <th>24420</th>\n",
       "      <td>73</td>\n",
       "    </tr>\n",
       "    <tr>\n",
       "      <th>24420</th>\n",
       "      <th>24421</th>\n",
       "      <td>154</td>\n",
       "    </tr>\n",
       "    <tr>\n",
       "      <th>24421</th>\n",
       "      <th>24418</th>\n",
       "      <td>176</td>\n",
       "    </tr>\n",
       "    <tr>\n",
       "      <th>24422</th>\n",
       "      <th>3764</th>\n",
       "      <td>64</td>\n",
       "    </tr>\n",
       "  </tbody>\n",
       "</table>\n",
       "<p>9426 rows × 1 columns</p>\n",
       "</div>"
      ],
      "text/plain": [
       "                      duration\n",
       "stop_id next_stop_id          \n",
       "263     264                 76\n",
       "264     4165                69\n",
       "265     10375               63\n",
       "266     7773                47\n",
       "267     4040                91\n",
       "...                        ...\n",
       "24418   24416              154\n",
       "24419   24420               73\n",
       "24420   24421              154\n",
       "24421   24418              176\n",
       "24422   3764                64\n",
       "\n",
       "[9426 rows x 1 columns]"
      ]
     },
     "execution_count": 30,
     "metadata": {},
     "output_type": "execute_result"
    }
   ],
   "source": [
    "a"
   ]
  },
  {
   "cell_type": "code",
   "execution_count": 31,
   "metadata": {},
   "outputs": [],
   "source": [
    "b = a.copy()\n",
    "b = b.reset_index()"
   ]
  },
  {
   "cell_type": "code",
   "execution_count": 32,
   "metadata": {},
   "outputs": [
    {
     "data": {
      "text/plain": [
       "False    8439\n",
       "True      462\n",
       "Name: stop_id, dtype: int64"
      ]
     },
     "execution_count": 32,
     "metadata": {},
     "output_type": "execute_result"
    }
   ],
   "source": [
    "(b.stop_id.value_counts() > 1).value_counts()\n",
    "\n",
    "# Only 462 stops connect to more than one stop!\n",
    "# The remaining 8439 stops only lead to one other stop by transit"
   ]
  },
  {
   "cell_type": "code",
   "execution_count": 33,
   "metadata": {},
   "outputs": [],
   "source": [
    "stop_index = a.index.get_level_values(0).unique().sort_values().values"
   ]
  },
  {
   "cell_type": "code",
   "execution_count": 34,
   "metadata": {},
   "outputs": [
    {
     "data": {
      "text/plain": [
       "numpy.ndarray"
      ]
     },
     "execution_count": 34,
     "metadata": {},
     "output_type": "execute_result"
    }
   ],
   "source": [
    "type(stop_index)"
   ]
  },
  {
   "cell_type": "code",
   "execution_count": 35,
   "metadata": {},
   "outputs": [],
   "source": [
    "df = pd.DataFrame(stop_index, columns = ['stop_id'])"
   ]
  },
  {
   "cell_type": "code",
   "execution_count": 36,
   "metadata": {},
   "outputs": [],
   "source": [
    "df['neighbors'] = None\n",
    "df['num'] = 0"
   ]
  },
  {
   "cell_type": "code",
   "execution_count": 37,
   "metadata": {},
   "outputs": [],
   "source": [
    "df = df.set_index('stop_id')"
   ]
  },
  {
   "cell_type": "code",
   "execution_count": 38,
   "metadata": {},
   "outputs": [
    {
     "data": {
      "text/html": [
       "<div>\n",
       "<style scoped>\n",
       "    .dataframe tbody tr th:only-of-type {\n",
       "        vertical-align: middle;\n",
       "    }\n",
       "\n",
       "    .dataframe tbody tr th {\n",
       "        vertical-align: top;\n",
       "    }\n",
       "\n",
       "    .dataframe thead th {\n",
       "        text-align: right;\n",
       "    }\n",
       "</style>\n",
       "<table border=\"1\" class=\"dataframe\">\n",
       "  <thead>\n",
       "    <tr style=\"text-align: right;\">\n",
       "      <th></th>\n",
       "      <th>neighbors</th>\n",
       "      <th>num</th>\n",
       "    </tr>\n",
       "    <tr>\n",
       "      <th>stop_id</th>\n",
       "      <th></th>\n",
       "      <th></th>\n",
       "    </tr>\n",
       "  </thead>\n",
       "  <tbody>\n",
       "    <tr>\n",
       "      <th>263</th>\n",
       "      <td>None</td>\n",
       "      <td>0</td>\n",
       "    </tr>\n",
       "    <tr>\n",
       "      <th>264</th>\n",
       "      <td>None</td>\n",
       "      <td>0</td>\n",
       "    </tr>\n",
       "    <tr>\n",
       "      <th>265</th>\n",
       "      <td>None</td>\n",
       "      <td>0</td>\n",
       "    </tr>\n",
       "    <tr>\n",
       "      <th>266</th>\n",
       "      <td>None</td>\n",
       "      <td>0</td>\n",
       "    </tr>\n",
       "    <tr>\n",
       "      <th>267</th>\n",
       "      <td>None</td>\n",
       "      <td>0</td>\n",
       "    </tr>\n",
       "    <tr>\n",
       "      <th>...</th>\n",
       "      <td>...</td>\n",
       "      <td>...</td>\n",
       "    </tr>\n",
       "    <tr>\n",
       "      <th>24418</th>\n",
       "      <td>None</td>\n",
       "      <td>0</td>\n",
       "    </tr>\n",
       "    <tr>\n",
       "      <th>24419</th>\n",
       "      <td>None</td>\n",
       "      <td>0</td>\n",
       "    </tr>\n",
       "    <tr>\n",
       "      <th>24420</th>\n",
       "      <td>None</td>\n",
       "      <td>0</td>\n",
       "    </tr>\n",
       "    <tr>\n",
       "      <th>24421</th>\n",
       "      <td>None</td>\n",
       "      <td>0</td>\n",
       "    </tr>\n",
       "    <tr>\n",
       "      <th>24422</th>\n",
       "      <td>None</td>\n",
       "      <td>0</td>\n",
       "    </tr>\n",
       "  </tbody>\n",
       "</table>\n",
       "<p>8901 rows × 2 columns</p>\n",
       "</div>"
      ],
      "text/plain": [
       "        neighbors  num\n",
       "stop_id               \n",
       "263          None    0\n",
       "264          None    0\n",
       "265          None    0\n",
       "266          None    0\n",
       "267          None    0\n",
       "...           ...  ...\n",
       "24418        None    0\n",
       "24419        None    0\n",
       "24420        None    0\n",
       "24421        None    0\n",
       "24422        None    0\n",
       "\n",
       "[8901 rows x 2 columns]"
      ]
     },
     "execution_count": 38,
     "metadata": {},
     "output_type": "execute_result"
    }
   ],
   "source": [
    "df"
   ]
  },
  {
   "cell_type": "code",
   "execution_count": 39,
   "metadata": {},
   "outputs": [
    {
     "data": {
      "text/plain": [
       "[264]"
      ]
     },
     "execution_count": 39,
     "metadata": {},
     "output_type": "execute_result"
    }
   ],
   "source": [
    "a.loc[stop_index[0]].index.to_list()"
   ]
  },
  {
   "cell_type": "code",
   "execution_count": 41,
   "metadata": {},
   "outputs": [],
   "source": [
    "for stop in stop_index:\n",
    "    n = tuple(a.loc[stop].index.values)\n",
    "    df.at[stop, 'neighbors'] = n\n",
    "    df.loc[stop, 'num'] = len(n)"
   ]
  },
  {
   "cell_type": "code",
   "execution_count": 42,
   "metadata": {},
   "outputs": [
    {
     "data": {
      "text/html": [
       "<div>\n",
       "<style scoped>\n",
       "    .dataframe tbody tr th:only-of-type {\n",
       "        vertical-align: middle;\n",
       "    }\n",
       "\n",
       "    .dataframe tbody tr th {\n",
       "        vertical-align: top;\n",
       "    }\n",
       "\n",
       "    .dataframe thead th {\n",
       "        text-align: right;\n",
       "    }\n",
       "</style>\n",
       "<table border=\"1\" class=\"dataframe\">\n",
       "  <thead>\n",
       "    <tr style=\"text-align: right;\">\n",
       "      <th></th>\n",
       "      <th>neighbors</th>\n",
       "      <th>num</th>\n",
       "    </tr>\n",
       "    <tr>\n",
       "      <th>stop_id</th>\n",
       "      <th></th>\n",
       "      <th></th>\n",
       "    </tr>\n",
       "  </thead>\n",
       "  <tbody>\n",
       "    <tr>\n",
       "      <th>3355</th>\n",
       "      <td>(14173, 14176, 14177, 14178, 14181)</td>\n",
       "      <td>5</td>\n",
       "    </tr>\n",
       "    <tr>\n",
       "      <th>5626</th>\n",
       "      <td>(14306, 14307, 14308, 14310, 14312)</td>\n",
       "      <td>5</td>\n",
       "    </tr>\n",
       "    <tr>\n",
       "      <th>9949</th>\n",
       "      <td>(14227, 14228, 14229, 14231, 14232)</td>\n",
       "      <td>5</td>\n",
       "    </tr>\n",
       "  </tbody>\n",
       "</table>\n",
       "</div>"
      ],
      "text/plain": [
       "                                   neighbors  num\n",
       "stop_id                                          \n",
       "3355     (14173, 14176, 14177, 14178, 14181)    5\n",
       "5626     (14306, 14307, 14308, 14310, 14312)    5\n",
       "9949     (14227, 14228, 14229, 14231, 14232)    5"
      ]
     },
     "execution_count": 42,
     "metadata": {},
     "output_type": "execute_result"
    }
   ],
   "source": [
    "df[df.num > 4]"
   ]
  },
  {
   "cell_type": "code",
   "execution_count": 43,
   "metadata": {},
   "outputs": [
    {
     "data": {
      "text/plain": [
       "1    8439\n",
       "2     414\n",
       "3      36\n",
       "4       9\n",
       "5       3\n",
       "Name: num, dtype: int64"
      ]
     },
     "execution_count": 43,
     "metadata": {},
     "output_type": "execute_result"
    }
   ],
   "source": [
    "df.num.value_counts()"
   ]
  },
  {
   "cell_type": "code",
   "execution_count": 44,
   "metadata": {},
   "outputs": [
    {
     "data": {
      "text/html": [
       "<div>\n",
       "<style scoped>\n",
       "    .dataframe tbody tr th:only-of-type {\n",
       "        vertical-align: middle;\n",
       "    }\n",
       "\n",
       "    .dataframe tbody tr th {\n",
       "        vertical-align: top;\n",
       "    }\n",
       "\n",
       "    .dataframe thead th {\n",
       "        text-align: right;\n",
       "    }\n",
       "</style>\n",
       "<table border=\"1\" class=\"dataframe\">\n",
       "  <thead>\n",
       "    <tr style=\"text-align: right;\">\n",
       "      <th></th>\n",
       "      <th>neighbors</th>\n",
       "      <th>num</th>\n",
       "    </tr>\n",
       "    <tr>\n",
       "      <th>stop_id</th>\n",
       "      <th></th>\n",
       "      <th></th>\n",
       "    </tr>\n",
       "  </thead>\n",
       "  <tbody>\n",
       "    <tr>\n",
       "      <th>263</th>\n",
       "      <td>(264,)</td>\n",
       "      <td>1</td>\n",
       "    </tr>\n",
       "    <tr>\n",
       "      <th>264</th>\n",
       "      <td>(4165,)</td>\n",
       "      <td>1</td>\n",
       "    </tr>\n",
       "    <tr>\n",
       "      <th>265</th>\n",
       "      <td>(10375,)</td>\n",
       "      <td>1</td>\n",
       "    </tr>\n",
       "    <tr>\n",
       "      <th>266</th>\n",
       "      <td>(7773,)</td>\n",
       "      <td>1</td>\n",
       "    </tr>\n",
       "    <tr>\n",
       "      <th>267</th>\n",
       "      <td>(4040,)</td>\n",
       "      <td>1</td>\n",
       "    </tr>\n",
       "    <tr>\n",
       "      <th>...</th>\n",
       "      <td>...</td>\n",
       "      <td>...</td>\n",
       "    </tr>\n",
       "    <tr>\n",
       "      <th>24418</th>\n",
       "      <td>(24416,)</td>\n",
       "      <td>1</td>\n",
       "    </tr>\n",
       "    <tr>\n",
       "      <th>24419</th>\n",
       "      <td>(24420,)</td>\n",
       "      <td>1</td>\n",
       "    </tr>\n",
       "    <tr>\n",
       "      <th>24420</th>\n",
       "      <td>(24421,)</td>\n",
       "      <td>1</td>\n",
       "    </tr>\n",
       "    <tr>\n",
       "      <th>24421</th>\n",
       "      <td>(24418,)</td>\n",
       "      <td>1</td>\n",
       "    </tr>\n",
       "    <tr>\n",
       "      <th>24422</th>\n",
       "      <td>(3764,)</td>\n",
       "      <td>1</td>\n",
       "    </tr>\n",
       "  </tbody>\n",
       "</table>\n",
       "<p>8901 rows × 2 columns</p>\n",
       "</div>"
      ],
      "text/plain": [
       "        neighbors  num\n",
       "stop_id               \n",
       "263        (264,)    1\n",
       "264       (4165,)    1\n",
       "265      (10375,)    1\n",
       "266       (7773,)    1\n",
       "267       (4040,)    1\n",
       "...           ...  ...\n",
       "24418    (24416,)    1\n",
       "24419    (24420,)    1\n",
       "24420    (24421,)    1\n",
       "24421    (24418,)    1\n",
       "24422     (3764,)    1\n",
       "\n",
       "[8901 rows x 2 columns]"
      ]
     },
     "execution_count": 44,
     "metadata": {},
     "output_type": "execute_result"
    }
   ],
   "source": [
    "df"
   ]
  },
  {
   "cell_type": "code",
   "execution_count": 45,
   "metadata": {},
   "outputs": [
    {
     "data": {
      "text/html": [
       "<div>\n",
       "<style scoped>\n",
       "    .dataframe tbody tr th:only-of-type {\n",
       "        vertical-align: middle;\n",
       "    }\n",
       "\n",
       "    .dataframe tbody tr th {\n",
       "        vertical-align: top;\n",
       "    }\n",
       "\n",
       "    .dataframe thead th {\n",
       "        text-align: right;\n",
       "    }\n",
       "</style>\n",
       "<table border=\"1\" class=\"dataframe\">\n",
       "  <thead>\n",
       "    <tr style=\"text-align: right;\">\n",
       "      <th></th>\n",
       "      <th></th>\n",
       "      <th>duration</th>\n",
       "    </tr>\n",
       "    <tr>\n",
       "      <th>stop_id</th>\n",
       "      <th>next_stop_id</th>\n",
       "      <th></th>\n",
       "    </tr>\n",
       "  </thead>\n",
       "  <tbody>\n",
       "    <tr>\n",
       "      <th>263</th>\n",
       "      <th>264</th>\n",
       "      <td>76</td>\n",
       "    </tr>\n",
       "    <tr>\n",
       "      <th>264</th>\n",
       "      <th>4165</th>\n",
       "      <td>69</td>\n",
       "    </tr>\n",
       "    <tr>\n",
       "      <th>265</th>\n",
       "      <th>10375</th>\n",
       "      <td>63</td>\n",
       "    </tr>\n",
       "    <tr>\n",
       "      <th>266</th>\n",
       "      <th>7773</th>\n",
       "      <td>47</td>\n",
       "    </tr>\n",
       "    <tr>\n",
       "      <th>267</th>\n",
       "      <th>4040</th>\n",
       "      <td>91</td>\n",
       "    </tr>\n",
       "    <tr>\n",
       "      <th>...</th>\n",
       "      <th>...</th>\n",
       "      <td>...</td>\n",
       "    </tr>\n",
       "    <tr>\n",
       "      <th>24418</th>\n",
       "      <th>24416</th>\n",
       "      <td>154</td>\n",
       "    </tr>\n",
       "    <tr>\n",
       "      <th>24419</th>\n",
       "      <th>24420</th>\n",
       "      <td>73</td>\n",
       "    </tr>\n",
       "    <tr>\n",
       "      <th>24420</th>\n",
       "      <th>24421</th>\n",
       "      <td>154</td>\n",
       "    </tr>\n",
       "    <tr>\n",
       "      <th>24421</th>\n",
       "      <th>24418</th>\n",
       "      <td>176</td>\n",
       "    </tr>\n",
       "    <tr>\n",
       "      <th>24422</th>\n",
       "      <th>3764</th>\n",
       "      <td>64</td>\n",
       "    </tr>\n",
       "  </tbody>\n",
       "</table>\n",
       "<p>9426 rows × 1 columns</p>\n",
       "</div>"
      ],
      "text/plain": [
       "                      duration\n",
       "stop_id next_stop_id          \n",
       "263     264                 76\n",
       "264     4165                69\n",
       "265     10375               63\n",
       "266     7773                47\n",
       "267     4040                91\n",
       "...                        ...\n",
       "24418   24416              154\n",
       "24419   24420               73\n",
       "24420   24421              154\n",
       "24421   24418              176\n",
       "24422   3764                64\n",
       "\n",
       "[9426 rows x 1 columns]"
      ]
     },
     "execution_count": 45,
     "metadata": {},
     "output_type": "execute_result"
    }
   ],
   "source": [
    "a"
   ]
  },
  {
   "cell_type": "code",
   "execution_count": 46,
   "metadata": {},
   "outputs": [],
   "source": [
    "pd.to_pickle(a, 'data/model/weights_transit.pickle')"
   ]
  },
  {
   "cell_type": "code",
   "execution_count": 47,
   "metadata": {},
   "outputs": [],
   "source": [
    "pd.to_pickle(df, 'data/model/neighbors_transit.pickle')"
   ]
  }
 ],
 "metadata": {
  "kernelspec": {
   "display_name": "Python 3",
   "language": "python",
   "name": "python3"
  },
  "language_info": {
   "codemirror_mode": {
    "name": "ipython",
    "version": 3
   },
   "file_extension": ".py",
   "mimetype": "text/x-python",
   "name": "python",
   "nbconvert_exporter": "python",
   "pygments_lexer": "ipython3",
   "version": "3.8.5"
  }
 },
 "nbformat": 4,
 "nbformat_minor": 4
}
