{
 "cells": [
  {
   "cell_type": "code",
   "execution_count": 1,
   "metadata": {},
   "outputs": [],
   "source": [
    "import pandas as pd"
   ]
  },
  {
   "cell_type": "markdown",
   "metadata": {},
   "source": [
    "# Reduce schedule to the # of unique shape_id values"
   ]
  },
  {
   "cell_type": "code",
   "execution_count": 2,
   "metadata": {},
   "outputs": [],
   "source": [
    "df = pd.read_feather('data/model/schedule.ftr')"
   ]
  },
  {
   "cell_type": "code",
   "execution_count": 3,
   "metadata": {},
   "outputs": [
    {
     "data": {
      "text/html": [
       "<div>\n",
       "<style scoped>\n",
       "    .dataframe tbody tr th:only-of-type {\n",
       "        vertical-align: middle;\n",
       "    }\n",
       "\n",
       "    .dataframe tbody tr th {\n",
       "        vertical-align: top;\n",
       "    }\n",
       "\n",
       "    .dataframe thead th {\n",
       "        text-align: right;\n",
       "    }\n",
       "</style>\n",
       "<table border=\"1\" class=\"dataframe\">\n",
       "  <thead>\n",
       "    <tr style=\"text-align: right;\">\n",
       "      <th></th>\n",
       "      <th>trip_id</th>\n",
       "      <th>route_short_name</th>\n",
       "      <th>route_long_name</th>\n",
       "      <th>shape_id</th>\n",
       "      <th>trip_headsign</th>\n",
       "      <th>stop_sequence</th>\n",
       "      <th>stop_time</th>\n",
       "      <th>stop_time_delta</th>\n",
       "      <th>stop_id</th>\n",
       "      <th>stop_code</th>\n",
       "      <th>stop_name</th>\n",
       "      <th>stop_lat</th>\n",
       "      <th>stop_lon</th>\n",
       "    </tr>\n",
       "  </thead>\n",
       "  <tbody>\n",
       "    <tr>\n",
       "      <th>0</th>\n",
       "      <td>42990004</td>\n",
       "      <td>10</td>\n",
       "      <td>VAN HORNE</td>\n",
       "      <td>886387</td>\n",
       "      <td>EAST - 10 VAN HORNE towards VICTORIA PARK</td>\n",
       "      <td>1</td>\n",
       "      <td>7:00:29</td>\n",
       "      <td>0 days 07:00:29</td>\n",
       "      <td>14155</td>\n",
       "      <td>14633</td>\n",
       "      <td>Don Mills Station</td>\n",
       "      <td>43.776222</td>\n",
       "      <td>-79.347048</td>\n",
       "    </tr>\n",
       "  </tbody>\n",
       "</table>\n",
       "</div>"
      ],
      "text/plain": [
       "    trip_id  route_short_name route_long_name  shape_id  \\\n",
       "0  42990004                10       VAN HORNE    886387   \n",
       "\n",
       "                               trip_headsign  stop_sequence stop_time  \\\n",
       "0  EAST - 10 VAN HORNE towards VICTORIA PARK              1   7:00:29   \n",
       "\n",
       "  stop_time_delta  stop_id  stop_code          stop_name   stop_lat   stop_lon  \n",
       "0 0 days 07:00:29    14155      14633  Don Mills Station  43.776222 -79.347048  "
      ]
     },
     "execution_count": 3,
     "metadata": {},
     "output_type": "execute_result"
    }
   ],
   "source": [
    "df.head(1)"
   ]
  },
  {
   "cell_type": "code",
   "execution_count": 4,
   "metadata": {},
   "outputs": [
    {
     "data": {
      "text/plain": [
       "1304782"
      ]
     },
     "execution_count": 4,
     "metadata": {},
     "output_type": "execute_result"
    }
   ],
   "source": [
    "# number of records\n",
    "len(df)"
   ]
  },
  {
   "cell_type": "code",
   "execution_count": 5,
   "metadata": {},
   "outputs": [
    {
     "data": {
      "text/plain": [
       "1082"
      ]
     },
     "execution_count": 5,
     "metadata": {},
     "output_type": "execute_result"
    }
   ],
   "source": [
    "# number of unique shape_id values\n",
    "df.shape_id.value_counts().count()"
   ]
  },
  {
   "cell_type": "code",
   "execution_count": 6,
   "metadata": {},
   "outputs": [
    {
     "data": {
      "text/plain": [
       "41016"
      ]
     },
     "execution_count": 6,
     "metadata": {},
     "output_type": "execute_result"
    }
   ],
   "source": [
    "# number of unique trip_id values\n",
    "df.trip_id.value_counts().count()"
   ]
  },
  {
   "cell_type": "code",
   "execution_count": 7,
   "metadata": {},
   "outputs": [],
   "source": [
    "# confirm values are sorted as needed (this may be redundant from preprocessing step)\n",
    "df = df.sort_values(['shape_id', 'trip_id', 'stop_sequence'])"
   ]
  },
  {
   "cell_type": "code",
   "execution_count": 8,
   "metadata": {},
   "outputs": [
    {
     "data": {
      "text/html": [
       "<div>\n",
       "<style scoped>\n",
       "    .dataframe tbody tr th:only-of-type {\n",
       "        vertical-align: middle;\n",
       "    }\n",
       "\n",
       "    .dataframe tbody tr th {\n",
       "        vertical-align: top;\n",
       "    }\n",
       "\n",
       "    .dataframe thead th {\n",
       "        text-align: right;\n",
       "    }\n",
       "</style>\n",
       "<table border=\"1\" class=\"dataframe\">\n",
       "  <thead>\n",
       "    <tr style=\"text-align: right;\">\n",
       "      <th></th>\n",
       "      <th>trip_id</th>\n",
       "      <th>route_short_name</th>\n",
       "      <th>route_long_name</th>\n",
       "      <th>shape_id</th>\n",
       "      <th>trip_headsign</th>\n",
       "      <th>stop_sequence</th>\n",
       "      <th>stop_time</th>\n",
       "      <th>stop_time_delta</th>\n",
       "      <th>stop_id</th>\n",
       "      <th>stop_code</th>\n",
       "      <th>stop_name</th>\n",
       "      <th>stop_lat</th>\n",
       "      <th>stop_lon</th>\n",
       "    </tr>\n",
       "  </thead>\n",
       "  <tbody>\n",
       "    <tr>\n",
       "      <th>0</th>\n",
       "      <td>42990004</td>\n",
       "      <td>10</td>\n",
       "      <td>VAN HORNE</td>\n",
       "      <td>886387</td>\n",
       "      <td>EAST - 10 VAN HORNE towards VICTORIA PARK</td>\n",
       "      <td>1</td>\n",
       "      <td>7:00:29</td>\n",
       "      <td>0 days 07:00:29</td>\n",
       "      <td>14155</td>\n",
       "      <td>14633</td>\n",
       "      <td>Don Mills Station</td>\n",
       "      <td>43.776222</td>\n",
       "      <td>-79.347048</td>\n",
       "    </tr>\n",
       "    <tr>\n",
       "      <th>1</th>\n",
       "      <td>42990004</td>\n",
       "      <td>10</td>\n",
       "      <td>VAN HORNE</td>\n",
       "      <td>886387</td>\n",
       "      <td>EAST - 10 VAN HORNE towards VICTORIA PARK</td>\n",
       "      <td>2</td>\n",
       "      <td>7:01:19</td>\n",
       "      <td>0 days 07:01:19</td>\n",
       "      <td>3807</td>\n",
       "      <td>1949</td>\n",
       "      <td>Don Mills Rd at Leith Hill Rd North Side</td>\n",
       "      <td>43.777534</td>\n",
       "      <td>-79.347811</td>\n",
       "    </tr>\n",
       "    <tr>\n",
       "      <th>2</th>\n",
       "      <td>42990004</td>\n",
       "      <td>10</td>\n",
       "      <td>VAN HORNE</td>\n",
       "      <td>886387</td>\n",
       "      <td>EAST - 10 VAN HORNE towards VICTORIA PARK</td>\n",
       "      <td>3</td>\n",
       "      <td>7:02:12</td>\n",
       "      <td>0 days 07:02:12</td>\n",
       "      <td>6904</td>\n",
       "      <td>1929</td>\n",
       "      <td>Don Mills Rd at Fairview Mall Dr North Side</td>\n",
       "      <td>43.779530</td>\n",
       "      <td>-79.348701</td>\n",
       "    </tr>\n",
       "    <tr>\n",
       "      <th>3</th>\n",
       "      <td>42990004</td>\n",
       "      <td>10</td>\n",
       "      <td>VAN HORNE</td>\n",
       "      <td>886387</td>\n",
       "      <td>EAST - 10 VAN HORNE towards VICTORIA PARK</td>\n",
       "      <td>4</td>\n",
       "      <td>7:03:35</td>\n",
       "      <td>0 days 07:03:35</td>\n",
       "      <td>1163</td>\n",
       "      <td>1938</td>\n",
       "      <td>Don Mills Rd at Godstone Rd</td>\n",
       "      <td>43.782682</td>\n",
       "      <td>-79.348922</td>\n",
       "    </tr>\n",
       "    <tr>\n",
       "      <th>4</th>\n",
       "      <td>42990004</td>\n",
       "      <td>10</td>\n",
       "      <td>VAN HORNE</td>\n",
       "      <td>886387</td>\n",
       "      <td>EAST - 10 VAN HORNE towards VICTORIA PARK</td>\n",
       "      <td>5</td>\n",
       "      <td>7:04:48</td>\n",
       "      <td>0 days 07:04:48</td>\n",
       "      <td>7723</td>\n",
       "      <td>1919</td>\n",
       "      <td>Don Mills Rd at Deerford Rd</td>\n",
       "      <td>43.785281</td>\n",
       "      <td>-79.350570</td>\n",
       "    </tr>\n",
       "    <tr>\n",
       "      <th>...</th>\n",
       "      <td>...</td>\n",
       "      <td>...</td>\n",
       "      <td>...</td>\n",
       "      <td>...</td>\n",
       "      <td>...</td>\n",
       "      <td>...</td>\n",
       "      <td>...</td>\n",
       "      <td>...</td>\n",
       "      <td>...</td>\n",
       "      <td>...</td>\n",
       "      <td>...</td>\n",
       "      <td>...</td>\n",
       "      <td>...</td>\n",
       "    </tr>\n",
       "    <tr>\n",
       "      <th>1304777</th>\n",
       "      <td>43128797</td>\n",
       "      <td>4</td>\n",
       "      <td>LINE 4 (SHEPPARD)</td>\n",
       "      <td>890357</td>\n",
       "      <td>LINE 4 (SHEPPARD) towards SHEPPARD-YONGE STATION</td>\n",
       "      <td>1</td>\n",
       "      <td>5:31:00</td>\n",
       "      <td>0 days 05:31:00</td>\n",
       "      <td>14535</td>\n",
       "      <td>14109</td>\n",
       "      <td>Don Mills Station - Westbound Platform</td>\n",
       "      <td>43.775248</td>\n",
       "      <td>-79.346189</td>\n",
       "    </tr>\n",
       "    <tr>\n",
       "      <th>1304778</th>\n",
       "      <td>43128797</td>\n",
       "      <td>4</td>\n",
       "      <td>LINE 4 (SHEPPARD)</td>\n",
       "      <td>890357</td>\n",
       "      <td>LINE 4 (SHEPPARD) towards SHEPPARD-YONGE STATION</td>\n",
       "      <td>2</td>\n",
       "      <td>5:33:05</td>\n",
       "      <td>0 days 05:33:05</td>\n",
       "      <td>14536</td>\n",
       "      <td>13847</td>\n",
       "      <td>Leslie Station - Westbound Platform</td>\n",
       "      <td>43.771248</td>\n",
       "      <td>-79.366790</td>\n",
       "    </tr>\n",
       "    <tr>\n",
       "      <th>1304779</th>\n",
       "      <td>43128797</td>\n",
       "      <td>4</td>\n",
       "      <td>LINE 4 (SHEPPARD)</td>\n",
       "      <td>890357</td>\n",
       "      <td>LINE 4 (SHEPPARD) towards SHEPPARD-YONGE STATION</td>\n",
       "      <td>3</td>\n",
       "      <td>5:34:50</td>\n",
       "      <td>0 days 05:34:50</td>\n",
       "      <td>14537</td>\n",
       "      <td>13846</td>\n",
       "      <td>Bessarion Station - Westbound Platform</td>\n",
       "      <td>43.769296</td>\n",
       "      <td>-79.376345</td>\n",
       "    </tr>\n",
       "    <tr>\n",
       "      <th>1304780</th>\n",
       "      <td>43128797</td>\n",
       "      <td>4</td>\n",
       "      <td>LINE 4 (SHEPPARD)</td>\n",
       "      <td>890357</td>\n",
       "      <td>LINE 4 (SHEPPARD) towards SHEPPARD-YONGE STATION</td>\n",
       "      <td>4</td>\n",
       "      <td>5:36:43</td>\n",
       "      <td>0 days 05:36:43</td>\n",
       "      <td>14538</td>\n",
       "      <td>13843</td>\n",
       "      <td>Bayview Station - Westbound Platform</td>\n",
       "      <td>43.766951</td>\n",
       "      <td>-79.386730</td>\n",
       "    </tr>\n",
       "    <tr>\n",
       "      <th>1304781</th>\n",
       "      <td>43128797</td>\n",
       "      <td>4</td>\n",
       "      <td>LINE 4 (SHEPPARD)</td>\n",
       "      <td>890357</td>\n",
       "      <td>LINE 4 (SHEPPARD) towards SHEPPARD-YONGE STATION</td>\n",
       "      <td>5</td>\n",
       "      <td>5:39:24</td>\n",
       "      <td>0 days 05:39:24</td>\n",
       "      <td>14539</td>\n",
       "      <td>13861</td>\n",
       "      <td>Sheppard-Yonge Station - Subway Platform</td>\n",
       "      <td>43.761648</td>\n",
       "      <td>-79.410091</td>\n",
       "    </tr>\n",
       "  </tbody>\n",
       "</table>\n",
       "<p>1304782 rows × 13 columns</p>\n",
       "</div>"
      ],
      "text/plain": [
       "          trip_id  route_short_name    route_long_name  shape_id  \\\n",
       "0        42990004                10          VAN HORNE    886387   \n",
       "1        42990004                10          VAN HORNE    886387   \n",
       "2        42990004                10          VAN HORNE    886387   \n",
       "3        42990004                10          VAN HORNE    886387   \n",
       "4        42990004                10          VAN HORNE    886387   \n",
       "...           ...               ...                ...       ...   \n",
       "1304777  43128797                 4  LINE 4 (SHEPPARD)    890357   \n",
       "1304778  43128797                 4  LINE 4 (SHEPPARD)    890357   \n",
       "1304779  43128797                 4  LINE 4 (SHEPPARD)    890357   \n",
       "1304780  43128797                 4  LINE 4 (SHEPPARD)    890357   \n",
       "1304781  43128797                 4  LINE 4 (SHEPPARD)    890357   \n",
       "\n",
       "                                            trip_headsign  stop_sequence  \\\n",
       "0               EAST - 10 VAN HORNE towards VICTORIA PARK              1   \n",
       "1               EAST - 10 VAN HORNE towards VICTORIA PARK              2   \n",
       "2               EAST - 10 VAN HORNE towards VICTORIA PARK              3   \n",
       "3               EAST - 10 VAN HORNE towards VICTORIA PARK              4   \n",
       "4               EAST - 10 VAN HORNE towards VICTORIA PARK              5   \n",
       "...                                                   ...            ...   \n",
       "1304777  LINE 4 (SHEPPARD) towards SHEPPARD-YONGE STATION              1   \n",
       "1304778  LINE 4 (SHEPPARD) towards SHEPPARD-YONGE STATION              2   \n",
       "1304779  LINE 4 (SHEPPARD) towards SHEPPARD-YONGE STATION              3   \n",
       "1304780  LINE 4 (SHEPPARD) towards SHEPPARD-YONGE STATION              4   \n",
       "1304781  LINE 4 (SHEPPARD) towards SHEPPARD-YONGE STATION              5   \n",
       "\n",
       "        stop_time stop_time_delta  stop_id  stop_code  \\\n",
       "0         7:00:29 0 days 07:00:29    14155      14633   \n",
       "1         7:01:19 0 days 07:01:19     3807       1949   \n",
       "2         7:02:12 0 days 07:02:12     6904       1929   \n",
       "3         7:03:35 0 days 07:03:35     1163       1938   \n",
       "4         7:04:48 0 days 07:04:48     7723       1919   \n",
       "...           ...             ...      ...        ...   \n",
       "1304777   5:31:00 0 days 05:31:00    14535      14109   \n",
       "1304778   5:33:05 0 days 05:33:05    14536      13847   \n",
       "1304779   5:34:50 0 days 05:34:50    14537      13846   \n",
       "1304780   5:36:43 0 days 05:36:43    14538      13843   \n",
       "1304781   5:39:24 0 days 05:39:24    14539      13861   \n",
       "\n",
       "                                           stop_name   stop_lat   stop_lon  \n",
       "0                                  Don Mills Station  43.776222 -79.347048  \n",
       "1           Don Mills Rd at Leith Hill Rd North Side  43.777534 -79.347811  \n",
       "2        Don Mills Rd at Fairview Mall Dr North Side  43.779530 -79.348701  \n",
       "3                        Don Mills Rd at Godstone Rd  43.782682 -79.348922  \n",
       "4                        Don Mills Rd at Deerford Rd  43.785281 -79.350570  \n",
       "...                                              ...        ...        ...  \n",
       "1304777       Don Mills Station - Westbound Platform  43.775248 -79.346189  \n",
       "1304778          Leslie Station - Westbound Platform  43.771248 -79.366790  \n",
       "1304779       Bessarion Station - Westbound Platform  43.769296 -79.376345  \n",
       "1304780         Bayview Station - Westbound Platform  43.766951 -79.386730  \n",
       "1304781     Sheppard-Yonge Station - Subway Platform  43.761648 -79.410091  \n",
       "\n",
       "[1304782 rows x 13 columns]"
      ]
     },
     "execution_count": 8,
     "metadata": {},
     "output_type": "execute_result"
    }
   ],
   "source": [
    "df"
   ]
  },
  {
   "cell_type": "markdown",
   "metadata": {},
   "source": [
    "## Objectives\n",
    "- Update the next stop sequence, next stop ID, and next stop time for each stop record\n",
    "- Calculate the time difference between the current and next stop (if available) for each record\n",
    "- Calculate the average duration between each two stop steps for each unique shape ID"
   ]
  },
  {
   "cell_type": "code",
   "execution_count": 9,
   "metadata": {},
   "outputs": [],
   "source": [
    "# saving the original df seperately as a backup\n",
    "master = df.copy()"
   ]
  },
  {
   "cell_type": "code",
   "execution_count": 10,
   "metadata": {},
   "outputs": [],
   "source": [
    "# start fresh from here\n",
    "df = master.copy()"
   ]
  },
  {
   "cell_type": "code",
   "execution_count": 11,
   "metadata": {},
   "outputs": [],
   "source": [
    "df['next_stop_sequence'] = df.stop_sequence.shift(-1).astype('Int64')\n",
    "df['next_stop_id'] = df.stop_id.shift(-1).astype('Int64')\n",
    "df['next_stop_time'] = df.stop_time_delta.shift(-1)\n",
    "df['next_stop_duration'] = df.next_stop_time - df.stop_time_delta"
   ]
  },
  {
   "cell_type": "code",
   "execution_count": 12,
   "metadata": {},
   "outputs": [
    {
     "data": {
      "text/plain": [
       "1"
      ]
     },
     "execution_count": 12,
     "metadata": {},
     "output_type": "execute_result"
    }
   ],
   "source": [
    "# number of unique duration values for any given shape_id + stop_sequence combo\n",
    "df[(df.shape_id == 886387) & (df.stop_sequence == 1)].next_stop_duration.nunique()"
   ]
  },
  {
   "cell_type": "code",
   "execution_count": 13,
   "metadata": {},
   "outputs": [
    {
     "data": {
      "text/plain": [
       "19"
      ]
     },
     "execution_count": 13,
     "metadata": {},
     "output_type": "execute_result"
    }
   ],
   "source": [
    "# number of stop sequences for a given shape_id\n",
    "df[df.shape_id == 886387].stop_sequence.nunique()"
   ]
  },
  {
   "cell_type": "code",
   "execution_count": 14,
   "metadata": {},
   "outputs": [
    {
     "data": {
      "text/plain": [
       "30"
      ]
     },
     "execution_count": 14,
     "metadata": {},
     "output_type": "execute_result"
    }
   ],
   "source": [
    "# note that the last stop_sequence for each shape_id has a unique value; however this value is invalid and must be cleared\n",
    "# this is because the duration has been calculated between the current record and the next record which belongs to another trip_id\n",
    "df[(df.shape_id == 886387) & (df.stop_sequence == 19)].next_stop_duration.nunique()"
   ]
  },
  {
   "cell_type": "code",
   "execution_count": 15,
   "metadata": {},
   "outputs": [
    {
     "data": {
      "text/html": [
       "<div>\n",
       "<style scoped>\n",
       "    .dataframe tbody tr th:only-of-type {\n",
       "        vertical-align: middle;\n",
       "    }\n",
       "\n",
       "    .dataframe tbody tr th {\n",
       "        vertical-align: top;\n",
       "    }\n",
       "\n",
       "    .dataframe thead th {\n",
       "        text-align: right;\n",
       "    }\n",
       "</style>\n",
       "<table border=\"1\" class=\"dataframe\">\n",
       "  <thead>\n",
       "    <tr style=\"text-align: right;\">\n",
       "      <th></th>\n",
       "      <th>trip_id</th>\n",
       "      <th>route_short_name</th>\n",
       "      <th>route_long_name</th>\n",
       "      <th>shape_id</th>\n",
       "      <th>trip_headsign</th>\n",
       "      <th>stop_sequence</th>\n",
       "      <th>stop_time</th>\n",
       "      <th>stop_time_delta</th>\n",
       "      <th>stop_id</th>\n",
       "      <th>stop_code</th>\n",
       "      <th>stop_name</th>\n",
       "      <th>stop_lat</th>\n",
       "      <th>stop_lon</th>\n",
       "      <th>next_stop_sequence</th>\n",
       "      <th>next_stop_id</th>\n",
       "      <th>next_stop_time</th>\n",
       "      <th>next_stop_duration</th>\n",
       "    </tr>\n",
       "  </thead>\n",
       "  <tbody>\n",
       "    <tr>\n",
       "      <th>525</th>\n",
       "      <td>42990033</td>\n",
       "      <td>10</td>\n",
       "      <td>VAN HORNE</td>\n",
       "      <td>886387</td>\n",
       "      <td>EAST - 10 VAN HORNE towards VICTORIA PARK</td>\n",
       "      <td>1</td>\n",
       "      <td>17:40:29</td>\n",
       "      <td>0 days 17:40:29</td>\n",
       "      <td>14155</td>\n",
       "      <td>14633</td>\n",
       "      <td>Don Mills Station</td>\n",
       "      <td>43.776222</td>\n",
       "      <td>-79.347048</td>\n",
       "      <td>2</td>\n",
       "      <td>3807</td>\n",
       "      <td>0 days 17:41:19</td>\n",
       "      <td>0 days 00:00:50</td>\n",
       "    </tr>\n",
       "    <tr>\n",
       "      <th>544</th>\n",
       "      <td>42990034</td>\n",
       "      <td>10</td>\n",
       "      <td>VAN HORNE</td>\n",
       "      <td>886387</td>\n",
       "      <td>EAST - 10 VAN HORNE towards VICTORIA PARK</td>\n",
       "      <td>1</td>\n",
       "      <td>17:30:29</td>\n",
       "      <td>0 days 17:30:29</td>\n",
       "      <td>14155</td>\n",
       "      <td>14633</td>\n",
       "      <td>Don Mills Station</td>\n",
       "      <td>43.776222</td>\n",
       "      <td>-79.347048</td>\n",
       "      <td>2</td>\n",
       "      <td>3807</td>\n",
       "      <td>0 days 17:31:19</td>\n",
       "      <td>0 days 00:00:50</td>\n",
       "    </tr>\n",
       "    <tr>\n",
       "      <th>563</th>\n",
       "      <td>42990035</td>\n",
       "      <td>10</td>\n",
       "      <td>VAN HORNE</td>\n",
       "      <td>886387</td>\n",
       "      <td>EAST - 10 VAN HORNE towards VICTORIA PARK</td>\n",
       "      <td>1</td>\n",
       "      <td>15:15:29</td>\n",
       "      <td>0 days 15:15:29</td>\n",
       "      <td>14155</td>\n",
       "      <td>14633</td>\n",
       "      <td>Don Mills Station</td>\n",
       "      <td>43.776222</td>\n",
       "      <td>-79.347048</td>\n",
       "      <td>2</td>\n",
       "      <td>3807</td>\n",
       "      <td>0 days 15:16:19</td>\n",
       "      <td>0 days 00:00:50</td>\n",
       "    </tr>\n",
       "    <tr>\n",
       "      <th>588</th>\n",
       "      <td>42990037</td>\n",
       "      <td>10</td>\n",
       "      <td>VAN HORNE</td>\n",
       "      <td>886387</td>\n",
       "      <td>EAST - 10 VAN HORNE towards VICTORIA PARK</td>\n",
       "      <td>1</td>\n",
       "      <td>17:20:29</td>\n",
       "      <td>0 days 17:20:29</td>\n",
       "      <td>14155</td>\n",
       "      <td>14633</td>\n",
       "      <td>Don Mills Station</td>\n",
       "      <td>43.776222</td>\n",
       "      <td>-79.347048</td>\n",
       "      <td>2</td>\n",
       "      <td>3807</td>\n",
       "      <td>0 days 17:21:19</td>\n",
       "      <td>0 days 00:00:50</td>\n",
       "    </tr>\n",
       "    <tr>\n",
       "      <th>607</th>\n",
       "      <td>42990038</td>\n",
       "      <td>10</td>\n",
       "      <td>VAN HORNE</td>\n",
       "      <td>886387</td>\n",
       "      <td>EAST - 10 VAN HORNE towards VICTORIA PARK</td>\n",
       "      <td>1</td>\n",
       "      <td>6:00:29</td>\n",
       "      <td>0 days 06:00:29</td>\n",
       "      <td>14155</td>\n",
       "      <td>14633</td>\n",
       "      <td>Don Mills Station</td>\n",
       "      <td>43.776222</td>\n",
       "      <td>-79.347048</td>\n",
       "      <td>2</td>\n",
       "      <td>3807</td>\n",
       "      <td>0 days 06:01:19</td>\n",
       "      <td>0 days 00:00:50</td>\n",
       "    </tr>\n",
       "    <tr>\n",
       "      <th>1</th>\n",
       "      <td>42990004</td>\n",
       "      <td>10</td>\n",
       "      <td>VAN HORNE</td>\n",
       "      <td>886387</td>\n",
       "      <td>EAST - 10 VAN HORNE towards VICTORIA PARK</td>\n",
       "      <td>2</td>\n",
       "      <td>7:01:19</td>\n",
       "      <td>0 days 07:01:19</td>\n",
       "      <td>3807</td>\n",
       "      <td>1949</td>\n",
       "      <td>Don Mills Rd at Leith Hill Rd North Side</td>\n",
       "      <td>43.777534</td>\n",
       "      <td>-79.347811</td>\n",
       "      <td>3</td>\n",
       "      <td>6904</td>\n",
       "      <td>0 days 07:02:12</td>\n",
       "      <td>0 days 00:00:53</td>\n",
       "    </tr>\n",
       "    <tr>\n",
       "      <th>20</th>\n",
       "      <td>42990005</td>\n",
       "      <td>10</td>\n",
       "      <td>VAN HORNE</td>\n",
       "      <td>886387</td>\n",
       "      <td>EAST - 10 VAN HORNE towards VICTORIA PARK</td>\n",
       "      <td>2</td>\n",
       "      <td>8:01:19</td>\n",
       "      <td>0 days 08:01:19</td>\n",
       "      <td>3807</td>\n",
       "      <td>1949</td>\n",
       "      <td>Don Mills Rd at Leith Hill Rd North Side</td>\n",
       "      <td>43.777534</td>\n",
       "      <td>-79.347811</td>\n",
       "      <td>3</td>\n",
       "      <td>6904</td>\n",
       "      <td>0 days 08:02:12</td>\n",
       "      <td>0 days 00:00:53</td>\n",
       "    </tr>\n",
       "    <tr>\n",
       "      <th>39</th>\n",
       "      <td>42990006</td>\n",
       "      <td>10</td>\n",
       "      <td>VAN HORNE</td>\n",
       "      <td>886387</td>\n",
       "      <td>EAST - 10 VAN HORNE towards VICTORIA PARK</td>\n",
       "      <td>2</td>\n",
       "      <td>16:41:19</td>\n",
       "      <td>0 days 16:41:19</td>\n",
       "      <td>3807</td>\n",
       "      <td>1949</td>\n",
       "      <td>Don Mills Rd at Leith Hill Rd North Side</td>\n",
       "      <td>43.777534</td>\n",
       "      <td>-79.347811</td>\n",
       "      <td>3</td>\n",
       "      <td>6904</td>\n",
       "      <td>0 days 16:42:12</td>\n",
       "      <td>0 days 00:00:53</td>\n",
       "    </tr>\n",
       "    <tr>\n",
       "      <th>58</th>\n",
       "      <td>42990007</td>\n",
       "      <td>10</td>\n",
       "      <td>VAN HORNE</td>\n",
       "      <td>886387</td>\n",
       "      <td>EAST - 10 VAN HORNE towards VICTORIA PARK</td>\n",
       "      <td>2</td>\n",
       "      <td>18:11:19</td>\n",
       "      <td>0 days 18:11:19</td>\n",
       "      <td>3807</td>\n",
       "      <td>1949</td>\n",
       "      <td>Don Mills Rd at Leith Hill Rd North Side</td>\n",
       "      <td>43.777534</td>\n",
       "      <td>-79.347811</td>\n",
       "      <td>3</td>\n",
       "      <td>6904</td>\n",
       "      <td>0 days 18:12:12</td>\n",
       "      <td>0 days 00:00:53</td>\n",
       "    </tr>\n",
       "    <tr>\n",
       "      <th>77</th>\n",
       "      <td>42990008</td>\n",
       "      <td>10</td>\n",
       "      <td>VAN HORNE</td>\n",
       "      <td>886387</td>\n",
       "      <td>EAST - 10 VAN HORNE towards VICTORIA PARK</td>\n",
       "      <td>2</td>\n",
       "      <td>7:46:19</td>\n",
       "      <td>0 days 07:46:19</td>\n",
       "      <td>3807</td>\n",
       "      <td>1949</td>\n",
       "      <td>Don Mills Rd at Leith Hill Rd North Side</td>\n",
       "      <td>43.777534</td>\n",
       "      <td>-79.347811</td>\n",
       "      <td>3</td>\n",
       "      <td>6904</td>\n",
       "      <td>0 days 07:47:12</td>\n",
       "      <td>0 days 00:00:53</td>\n",
       "    </tr>\n",
       "  </tbody>\n",
       "</table>\n",
       "</div>"
      ],
      "text/plain": [
       "      trip_id  route_short_name route_long_name  shape_id  \\\n",
       "525  42990033                10       VAN HORNE    886387   \n",
       "544  42990034                10       VAN HORNE    886387   \n",
       "563  42990035                10       VAN HORNE    886387   \n",
       "588  42990037                10       VAN HORNE    886387   \n",
       "607  42990038                10       VAN HORNE    886387   \n",
       "1    42990004                10       VAN HORNE    886387   \n",
       "20   42990005                10       VAN HORNE    886387   \n",
       "39   42990006                10       VAN HORNE    886387   \n",
       "58   42990007                10       VAN HORNE    886387   \n",
       "77   42990008                10       VAN HORNE    886387   \n",
       "\n",
       "                                 trip_headsign  stop_sequence stop_time  \\\n",
       "525  EAST - 10 VAN HORNE towards VICTORIA PARK              1  17:40:29   \n",
       "544  EAST - 10 VAN HORNE towards VICTORIA PARK              1  17:30:29   \n",
       "563  EAST - 10 VAN HORNE towards VICTORIA PARK              1  15:15:29   \n",
       "588  EAST - 10 VAN HORNE towards VICTORIA PARK              1  17:20:29   \n",
       "607  EAST - 10 VAN HORNE towards VICTORIA PARK              1   6:00:29   \n",
       "1    EAST - 10 VAN HORNE towards VICTORIA PARK              2   7:01:19   \n",
       "20   EAST - 10 VAN HORNE towards VICTORIA PARK              2   8:01:19   \n",
       "39   EAST - 10 VAN HORNE towards VICTORIA PARK              2  16:41:19   \n",
       "58   EAST - 10 VAN HORNE towards VICTORIA PARK              2  18:11:19   \n",
       "77   EAST - 10 VAN HORNE towards VICTORIA PARK              2   7:46:19   \n",
       "\n",
       "    stop_time_delta  stop_id  stop_code  \\\n",
       "525 0 days 17:40:29    14155      14633   \n",
       "544 0 days 17:30:29    14155      14633   \n",
       "563 0 days 15:15:29    14155      14633   \n",
       "588 0 days 17:20:29    14155      14633   \n",
       "607 0 days 06:00:29    14155      14633   \n",
       "1   0 days 07:01:19     3807       1949   \n",
       "20  0 days 08:01:19     3807       1949   \n",
       "39  0 days 16:41:19     3807       1949   \n",
       "58  0 days 18:11:19     3807       1949   \n",
       "77  0 days 07:46:19     3807       1949   \n",
       "\n",
       "                                    stop_name   stop_lat   stop_lon  \\\n",
       "525                         Don Mills Station  43.776222 -79.347048   \n",
       "544                         Don Mills Station  43.776222 -79.347048   \n",
       "563                         Don Mills Station  43.776222 -79.347048   \n",
       "588                         Don Mills Station  43.776222 -79.347048   \n",
       "607                         Don Mills Station  43.776222 -79.347048   \n",
       "1    Don Mills Rd at Leith Hill Rd North Side  43.777534 -79.347811   \n",
       "20   Don Mills Rd at Leith Hill Rd North Side  43.777534 -79.347811   \n",
       "39   Don Mills Rd at Leith Hill Rd North Side  43.777534 -79.347811   \n",
       "58   Don Mills Rd at Leith Hill Rd North Side  43.777534 -79.347811   \n",
       "77   Don Mills Rd at Leith Hill Rd North Side  43.777534 -79.347811   \n",
       "\n",
       "     next_stop_sequence  next_stop_id  next_stop_time next_stop_duration  \n",
       "525                   2          3807 0 days 17:41:19    0 days 00:00:50  \n",
       "544                   2          3807 0 days 17:31:19    0 days 00:00:50  \n",
       "563                   2          3807 0 days 15:16:19    0 days 00:00:50  \n",
       "588                   2          3807 0 days 17:21:19    0 days 00:00:50  \n",
       "607                   2          3807 0 days 06:01:19    0 days 00:00:50  \n",
       "1                     3          6904 0 days 07:02:12    0 days 00:00:53  \n",
       "20                    3          6904 0 days 08:02:12    0 days 00:00:53  \n",
       "39                    3          6904 0 days 16:42:12    0 days 00:00:53  \n",
       "58                    3          6904 0 days 18:12:12    0 days 00:00:53  \n",
       "77                    3          6904 0 days 07:47:12    0 days 00:00:53  "
      ]
     },
     "execution_count": 15,
     "metadata": {},
     "output_type": "execute_result"
    }
   ],
   "source": [
    "# trying to show that all stop_sequences for the same shape_id always have the same duration (at least at first glance)\n",
    "df.sort_values(['shape_id', 'stop_sequence', 'trip_id']).iloc[27:37]"
   ]
  },
  {
   "cell_type": "markdown",
   "metadata": {},
   "source": [
    "Looks like the duration between two stops with the same shape_id is always the same.\n",
    "\n",
    "## Test: The duration between each stop for each shape_id is always the same"
   ]
  },
  {
   "cell_type": "code",
   "execution_count": 16,
   "metadata": {},
   "outputs": [
    {
     "data": {
      "text/html": [
       "<div>\n",
       "<style scoped>\n",
       "    .dataframe tbody tr th:only-of-type {\n",
       "        vertical-align: middle;\n",
       "    }\n",
       "\n",
       "    .dataframe tbody tr th {\n",
       "        vertical-align: top;\n",
       "    }\n",
       "\n",
       "    .dataframe thead th {\n",
       "        text-align: right;\n",
       "    }\n",
       "</style>\n",
       "<table border=\"1\" class=\"dataframe\">\n",
       "  <thead>\n",
       "    <tr style=\"text-align: right;\">\n",
       "      <th></th>\n",
       "      <th>trip_id</th>\n",
       "      <th>route_short_name</th>\n",
       "      <th>route_long_name</th>\n",
       "      <th>shape_id</th>\n",
       "      <th>trip_headsign</th>\n",
       "      <th>stop_sequence</th>\n",
       "      <th>stop_time</th>\n",
       "      <th>stop_time_delta</th>\n",
       "      <th>stop_id</th>\n",
       "      <th>stop_code</th>\n",
       "      <th>stop_name</th>\n",
       "      <th>stop_lat</th>\n",
       "      <th>stop_lon</th>\n",
       "      <th>next_stop_sequence</th>\n",
       "      <th>next_stop_id</th>\n",
       "      <th>next_stop_time</th>\n",
       "      <th>next_stop_duration</th>\n",
       "    </tr>\n",
       "  </thead>\n",
       "  <tbody>\n",
       "    <tr>\n",
       "      <th>0</th>\n",
       "      <td>42990004</td>\n",
       "      <td>10</td>\n",
       "      <td>VAN HORNE</td>\n",
       "      <td>886387</td>\n",
       "      <td>EAST - 10 VAN HORNE towards VICTORIA PARK</td>\n",
       "      <td>1</td>\n",
       "      <td>7:00:29</td>\n",
       "      <td>0 days 07:00:29</td>\n",
       "      <td>14155</td>\n",
       "      <td>14633</td>\n",
       "      <td>Don Mills Station</td>\n",
       "      <td>43.776222</td>\n",
       "      <td>-79.347048</td>\n",
       "      <td>2</td>\n",
       "      <td>3807</td>\n",
       "      <td>0 days 07:01:19</td>\n",
       "      <td>0 days 00:00:50</td>\n",
       "    </tr>\n",
       "    <tr>\n",
       "      <th>1</th>\n",
       "      <td>42990004</td>\n",
       "      <td>10</td>\n",
       "      <td>VAN HORNE</td>\n",
       "      <td>886387</td>\n",
       "      <td>EAST - 10 VAN HORNE towards VICTORIA PARK</td>\n",
       "      <td>2</td>\n",
       "      <td>7:01:19</td>\n",
       "      <td>0 days 07:01:19</td>\n",
       "      <td>3807</td>\n",
       "      <td>1949</td>\n",
       "      <td>Don Mills Rd at Leith Hill Rd North Side</td>\n",
       "      <td>43.777534</td>\n",
       "      <td>-79.347811</td>\n",
       "      <td>3</td>\n",
       "      <td>6904</td>\n",
       "      <td>0 days 07:02:12</td>\n",
       "      <td>0 days 00:00:53</td>\n",
       "    </tr>\n",
       "    <tr>\n",
       "      <th>2</th>\n",
       "      <td>42990004</td>\n",
       "      <td>10</td>\n",
       "      <td>VAN HORNE</td>\n",
       "      <td>886387</td>\n",
       "      <td>EAST - 10 VAN HORNE towards VICTORIA PARK</td>\n",
       "      <td>3</td>\n",
       "      <td>7:02:12</td>\n",
       "      <td>0 days 07:02:12</td>\n",
       "      <td>6904</td>\n",
       "      <td>1929</td>\n",
       "      <td>Don Mills Rd at Fairview Mall Dr North Side</td>\n",
       "      <td>43.779530</td>\n",
       "      <td>-79.348701</td>\n",
       "      <td>4</td>\n",
       "      <td>1163</td>\n",
       "      <td>0 days 07:03:35</td>\n",
       "      <td>0 days 00:01:23</td>\n",
       "    </tr>\n",
       "    <tr>\n",
       "      <th>3</th>\n",
       "      <td>42990004</td>\n",
       "      <td>10</td>\n",
       "      <td>VAN HORNE</td>\n",
       "      <td>886387</td>\n",
       "      <td>EAST - 10 VAN HORNE towards VICTORIA PARK</td>\n",
       "      <td>4</td>\n",
       "      <td>7:03:35</td>\n",
       "      <td>0 days 07:03:35</td>\n",
       "      <td>1163</td>\n",
       "      <td>1938</td>\n",
       "      <td>Don Mills Rd at Godstone Rd</td>\n",
       "      <td>43.782682</td>\n",
       "      <td>-79.348922</td>\n",
       "      <td>5</td>\n",
       "      <td>7723</td>\n",
       "      <td>0 days 07:04:48</td>\n",
       "      <td>0 days 00:01:13</td>\n",
       "    </tr>\n",
       "    <tr>\n",
       "      <th>4</th>\n",
       "      <td>42990004</td>\n",
       "      <td>10</td>\n",
       "      <td>VAN HORNE</td>\n",
       "      <td>886387</td>\n",
       "      <td>EAST - 10 VAN HORNE towards VICTORIA PARK</td>\n",
       "      <td>5</td>\n",
       "      <td>7:04:48</td>\n",
       "      <td>0 days 07:04:48</td>\n",
       "      <td>7723</td>\n",
       "      <td>1919</td>\n",
       "      <td>Don Mills Rd at Deerford Rd</td>\n",
       "      <td>43.785281</td>\n",
       "      <td>-79.350570</td>\n",
       "      <td>6</td>\n",
       "      <td>2498</td>\n",
       "      <td>0 days 07:06:08</td>\n",
       "      <td>0 days 00:01:20</td>\n",
       "    </tr>\n",
       "    <tr>\n",
       "      <th>...</th>\n",
       "      <td>...</td>\n",
       "      <td>...</td>\n",
       "      <td>...</td>\n",
       "      <td>...</td>\n",
       "      <td>...</td>\n",
       "      <td>...</td>\n",
       "      <td>...</td>\n",
       "      <td>...</td>\n",
       "      <td>...</td>\n",
       "      <td>...</td>\n",
       "      <td>...</td>\n",
       "      <td>...</td>\n",
       "      <td>...</td>\n",
       "      <td>...</td>\n",
       "      <td>...</td>\n",
       "      <td>...</td>\n",
       "      <td>...</td>\n",
       "    </tr>\n",
       "    <tr>\n",
       "      <th>1304777</th>\n",
       "      <td>43128797</td>\n",
       "      <td>4</td>\n",
       "      <td>LINE 4 (SHEPPARD)</td>\n",
       "      <td>890357</td>\n",
       "      <td>LINE 4 (SHEPPARD) towards SHEPPARD-YONGE STATION</td>\n",
       "      <td>1</td>\n",
       "      <td>5:31:00</td>\n",
       "      <td>0 days 05:31:00</td>\n",
       "      <td>14535</td>\n",
       "      <td>14109</td>\n",
       "      <td>Don Mills Station - Westbound Platform</td>\n",
       "      <td>43.775248</td>\n",
       "      <td>-79.346189</td>\n",
       "      <td>2</td>\n",
       "      <td>14536</td>\n",
       "      <td>0 days 05:33:05</td>\n",
       "      <td>0 days 00:02:05</td>\n",
       "    </tr>\n",
       "    <tr>\n",
       "      <th>1304778</th>\n",
       "      <td>43128797</td>\n",
       "      <td>4</td>\n",
       "      <td>LINE 4 (SHEPPARD)</td>\n",
       "      <td>890357</td>\n",
       "      <td>LINE 4 (SHEPPARD) towards SHEPPARD-YONGE STATION</td>\n",
       "      <td>2</td>\n",
       "      <td>5:33:05</td>\n",
       "      <td>0 days 05:33:05</td>\n",
       "      <td>14536</td>\n",
       "      <td>13847</td>\n",
       "      <td>Leslie Station - Westbound Platform</td>\n",
       "      <td>43.771248</td>\n",
       "      <td>-79.366790</td>\n",
       "      <td>3</td>\n",
       "      <td>14537</td>\n",
       "      <td>0 days 05:34:50</td>\n",
       "      <td>0 days 00:01:45</td>\n",
       "    </tr>\n",
       "    <tr>\n",
       "      <th>1304779</th>\n",
       "      <td>43128797</td>\n",
       "      <td>4</td>\n",
       "      <td>LINE 4 (SHEPPARD)</td>\n",
       "      <td>890357</td>\n",
       "      <td>LINE 4 (SHEPPARD) towards SHEPPARD-YONGE STATION</td>\n",
       "      <td>3</td>\n",
       "      <td>5:34:50</td>\n",
       "      <td>0 days 05:34:50</td>\n",
       "      <td>14537</td>\n",
       "      <td>13846</td>\n",
       "      <td>Bessarion Station - Westbound Platform</td>\n",
       "      <td>43.769296</td>\n",
       "      <td>-79.376345</td>\n",
       "      <td>4</td>\n",
       "      <td>14538</td>\n",
       "      <td>0 days 05:36:43</td>\n",
       "      <td>0 days 00:01:53</td>\n",
       "    </tr>\n",
       "    <tr>\n",
       "      <th>1304780</th>\n",
       "      <td>43128797</td>\n",
       "      <td>4</td>\n",
       "      <td>LINE 4 (SHEPPARD)</td>\n",
       "      <td>890357</td>\n",
       "      <td>LINE 4 (SHEPPARD) towards SHEPPARD-YONGE STATION</td>\n",
       "      <td>4</td>\n",
       "      <td>5:36:43</td>\n",
       "      <td>0 days 05:36:43</td>\n",
       "      <td>14538</td>\n",
       "      <td>13843</td>\n",
       "      <td>Bayview Station - Westbound Platform</td>\n",
       "      <td>43.766951</td>\n",
       "      <td>-79.386730</td>\n",
       "      <td>5</td>\n",
       "      <td>14539</td>\n",
       "      <td>0 days 05:39:24</td>\n",
       "      <td>0 days 00:02:41</td>\n",
       "    </tr>\n",
       "    <tr>\n",
       "      <th>1304781</th>\n",
       "      <td>43128797</td>\n",
       "      <td>4</td>\n",
       "      <td>LINE 4 (SHEPPARD)</td>\n",
       "      <td>890357</td>\n",
       "      <td>LINE 4 (SHEPPARD) towards SHEPPARD-YONGE STATION</td>\n",
       "      <td>5</td>\n",
       "      <td>5:39:24</td>\n",
       "      <td>0 days 05:39:24</td>\n",
       "      <td>14539</td>\n",
       "      <td>13861</td>\n",
       "      <td>Sheppard-Yonge Station - Subway Platform</td>\n",
       "      <td>43.761648</td>\n",
       "      <td>-79.410091</td>\n",
       "      <td>&lt;NA&gt;</td>\n",
       "      <td>&lt;NA&gt;</td>\n",
       "      <td>NaT</td>\n",
       "      <td>NaT</td>\n",
       "    </tr>\n",
       "  </tbody>\n",
       "</table>\n",
       "<p>1304782 rows × 17 columns</p>\n",
       "</div>"
      ],
      "text/plain": [
       "          trip_id  route_short_name    route_long_name  shape_id  \\\n",
       "0        42990004                10          VAN HORNE    886387   \n",
       "1        42990004                10          VAN HORNE    886387   \n",
       "2        42990004                10          VAN HORNE    886387   \n",
       "3        42990004                10          VAN HORNE    886387   \n",
       "4        42990004                10          VAN HORNE    886387   \n",
       "...           ...               ...                ...       ...   \n",
       "1304777  43128797                 4  LINE 4 (SHEPPARD)    890357   \n",
       "1304778  43128797                 4  LINE 4 (SHEPPARD)    890357   \n",
       "1304779  43128797                 4  LINE 4 (SHEPPARD)    890357   \n",
       "1304780  43128797                 4  LINE 4 (SHEPPARD)    890357   \n",
       "1304781  43128797                 4  LINE 4 (SHEPPARD)    890357   \n",
       "\n",
       "                                            trip_headsign  stop_sequence  \\\n",
       "0               EAST - 10 VAN HORNE towards VICTORIA PARK              1   \n",
       "1               EAST - 10 VAN HORNE towards VICTORIA PARK              2   \n",
       "2               EAST - 10 VAN HORNE towards VICTORIA PARK              3   \n",
       "3               EAST - 10 VAN HORNE towards VICTORIA PARK              4   \n",
       "4               EAST - 10 VAN HORNE towards VICTORIA PARK              5   \n",
       "...                                                   ...            ...   \n",
       "1304777  LINE 4 (SHEPPARD) towards SHEPPARD-YONGE STATION              1   \n",
       "1304778  LINE 4 (SHEPPARD) towards SHEPPARD-YONGE STATION              2   \n",
       "1304779  LINE 4 (SHEPPARD) towards SHEPPARD-YONGE STATION              3   \n",
       "1304780  LINE 4 (SHEPPARD) towards SHEPPARD-YONGE STATION              4   \n",
       "1304781  LINE 4 (SHEPPARD) towards SHEPPARD-YONGE STATION              5   \n",
       "\n",
       "        stop_time stop_time_delta  stop_id  stop_code  \\\n",
       "0         7:00:29 0 days 07:00:29    14155      14633   \n",
       "1         7:01:19 0 days 07:01:19     3807       1949   \n",
       "2         7:02:12 0 days 07:02:12     6904       1929   \n",
       "3         7:03:35 0 days 07:03:35     1163       1938   \n",
       "4         7:04:48 0 days 07:04:48     7723       1919   \n",
       "...           ...             ...      ...        ...   \n",
       "1304777   5:31:00 0 days 05:31:00    14535      14109   \n",
       "1304778   5:33:05 0 days 05:33:05    14536      13847   \n",
       "1304779   5:34:50 0 days 05:34:50    14537      13846   \n",
       "1304780   5:36:43 0 days 05:36:43    14538      13843   \n",
       "1304781   5:39:24 0 days 05:39:24    14539      13861   \n",
       "\n",
       "                                           stop_name   stop_lat   stop_lon  \\\n",
       "0                                  Don Mills Station  43.776222 -79.347048   \n",
       "1           Don Mills Rd at Leith Hill Rd North Side  43.777534 -79.347811   \n",
       "2        Don Mills Rd at Fairview Mall Dr North Side  43.779530 -79.348701   \n",
       "3                        Don Mills Rd at Godstone Rd  43.782682 -79.348922   \n",
       "4                        Don Mills Rd at Deerford Rd  43.785281 -79.350570   \n",
       "...                                              ...        ...        ...   \n",
       "1304777       Don Mills Station - Westbound Platform  43.775248 -79.346189   \n",
       "1304778          Leslie Station - Westbound Platform  43.771248 -79.366790   \n",
       "1304779       Bessarion Station - Westbound Platform  43.769296 -79.376345   \n",
       "1304780         Bayview Station - Westbound Platform  43.766951 -79.386730   \n",
       "1304781     Sheppard-Yonge Station - Subway Platform  43.761648 -79.410091   \n",
       "\n",
       "         next_stop_sequence  next_stop_id  next_stop_time next_stop_duration  \n",
       "0                         2          3807 0 days 07:01:19    0 days 00:00:50  \n",
       "1                         3          6904 0 days 07:02:12    0 days 00:00:53  \n",
       "2                         4          1163 0 days 07:03:35    0 days 00:01:23  \n",
       "3                         5          7723 0 days 07:04:48    0 days 00:01:13  \n",
       "4                         6          2498 0 days 07:06:08    0 days 00:01:20  \n",
       "...                     ...           ...             ...                ...  \n",
       "1304777                   2         14536 0 days 05:33:05    0 days 00:02:05  \n",
       "1304778                   3         14537 0 days 05:34:50    0 days 00:01:45  \n",
       "1304779                   4         14538 0 days 05:36:43    0 days 00:01:53  \n",
       "1304780                   5         14539 0 days 05:39:24    0 days 00:02:41  \n",
       "1304781                <NA>          <NA>             NaT                NaT  \n",
       "\n",
       "[1304782 rows x 17 columns]"
      ]
     },
     "execution_count": 16,
     "metadata": {},
     "output_type": "execute_result"
    }
   ],
   "source": [
    "df"
   ]
  },
  {
   "cell_type": "markdown",
   "metadata": {},
   "source": [
    "### Clear out 'next' group of columns for each last stop in every shape_id sequence (since they are invalid)"
   ]
  },
  {
   "cell_type": "code",
   "execution_count": 17,
   "metadata": {},
   "outputs": [],
   "source": [
    "shape_seq = df.loc[:, ['shape_id', 'stop_sequence']]"
   ]
  },
  {
   "cell_type": "code",
   "execution_count": 18,
   "metadata": {},
   "outputs": [],
   "source": [
    "shape_seq = shape_seq.drop_duplicates()"
   ]
  },
  {
   "cell_type": "code",
   "execution_count": 19,
   "metadata": {},
   "outputs": [],
   "source": [
    "shape_seq = shape_seq.sort_values(['shape_id', 'stop_sequence'])"
   ]
  },
  {
   "cell_type": "code",
   "execution_count": 20,
   "metadata": {},
   "outputs": [],
   "source": [
    "shape_seq = shape_seq.drop_duplicates(subset = 'shape_id', keep = 'last')"
   ]
  },
  {
   "cell_type": "code",
   "execution_count": 21,
   "metadata": {},
   "outputs": [
    {
     "data": {
      "text/html": [
       "<div>\n",
       "<style scoped>\n",
       "    .dataframe tbody tr th:only-of-type {\n",
       "        vertical-align: middle;\n",
       "    }\n",
       "\n",
       "    .dataframe tbody tr th {\n",
       "        vertical-align: top;\n",
       "    }\n",
       "\n",
       "    .dataframe thead th {\n",
       "        text-align: right;\n",
       "    }\n",
       "</style>\n",
       "<table border=\"1\" class=\"dataframe\">\n",
       "  <thead>\n",
       "    <tr style=\"text-align: right;\">\n",
       "      <th></th>\n",
       "      <th>shape_id</th>\n",
       "      <th>stop_sequence</th>\n",
       "    </tr>\n",
       "  </thead>\n",
       "  <tbody>\n",
       "    <tr>\n",
       "      <th>18</th>\n",
       "      <td>886387</td>\n",
       "      <td>19</td>\n",
       "    </tr>\n",
       "    <tr>\n",
       "      <th>195</th>\n",
       "      <td>886388</td>\n",
       "      <td>6</td>\n",
       "    </tr>\n",
       "    <tr>\n",
       "      <th>636</th>\n",
       "      <td>886389</td>\n",
       "      <td>11</td>\n",
       "    </tr>\n",
       "  </tbody>\n",
       "</table>\n",
       "</div>"
      ],
      "text/plain": [
       "     shape_id  stop_sequence\n",
       "18     886387             19\n",
       "195    886388              6\n",
       "636    886389             11"
      ]
     },
     "execution_count": 21,
     "metadata": {},
     "output_type": "execute_result"
    }
   ],
   "source": [
    "# this should be a list of the last stop_sequence for each unique shape_id value\n",
    "shape_seq.head(3)"
   ]
  },
  {
   "cell_type": "code",
   "execution_count": 22,
   "metadata": {},
   "outputs": [],
   "source": [
    "df = pd.merge(df, shape_seq, on = 'shape_id')"
   ]
  },
  {
   "cell_type": "code",
   "execution_count": 23,
   "metadata": {},
   "outputs": [],
   "source": [
    "df = df.rename(columns = {'stop_sequence_x': 'stop_sequence', 'stop_sequence_y': 'final_stop_sequence'})"
   ]
  },
  {
   "cell_type": "code",
   "execution_count": 24,
   "metadata": {},
   "outputs": [],
   "source": [
    "df['last_stop_sequence'] = df.final_stop_sequence == df.stop_sequence"
   ]
  },
  {
   "cell_type": "code",
   "execution_count": 25,
   "metadata": {},
   "outputs": [],
   "source": [
    "df.loc[:, ['next_stop_sequence', 'next_stop_id', 'next_stop_time', 'next_stop_duration']] = df.loc[:, ['next_stop_sequence', 'next_stop_id', 'next_stop_time', 'next_stop_duration']].where(~df.last_stop_sequence)"
   ]
  },
  {
   "cell_type": "markdown",
   "metadata": {},
   "source": [
    "### Calculate the number of unique values (or delete all duplicates to determine uniqueness) for each shape_id + stop_sequence combo to determine if each combo has only one unique value"
   ]
  },
  {
   "cell_type": "code",
   "execution_count": 26,
   "metadata": {},
   "outputs": [],
   "source": [
    "test = df[~df.last_stop_sequence]"
   ]
  },
  {
   "cell_type": "code",
   "execution_count": 27,
   "metadata": {},
   "outputs": [
    {
     "data": {
      "text/plain": [
       "False    1263766\n",
       "Name: last_stop_sequence, dtype: int64"
      ]
     },
     "execution_count": 27,
     "metadata": {},
     "output_type": "execute_result"
    }
   ],
   "source": [
    "test.last_stop_sequence.value_counts()"
   ]
  },
  {
   "cell_type": "code",
   "execution_count": 28,
   "metadata": {},
   "outputs": [],
   "source": [
    "test = test[['shape_id', 'stop_sequence', 'next_stop_duration']].drop_duplicates()"
   ]
  },
  {
   "cell_type": "code",
   "execution_count": 29,
   "metadata": {},
   "outputs": [
    {
     "data": {
      "text/html": [
       "<div>\n",
       "<style scoped>\n",
       "    .dataframe tbody tr th:only-of-type {\n",
       "        vertical-align: middle;\n",
       "    }\n",
       "\n",
       "    .dataframe tbody tr th {\n",
       "        vertical-align: top;\n",
       "    }\n",
       "\n",
       "    .dataframe thead th {\n",
       "        text-align: right;\n",
       "    }\n",
       "</style>\n",
       "<table border=\"1\" class=\"dataframe\">\n",
       "  <thead>\n",
       "    <tr style=\"text-align: right;\">\n",
       "      <th></th>\n",
       "      <th>shape_id</th>\n",
       "      <th>stop_sequence</th>\n",
       "      <th>next_stop_duration</th>\n",
       "    </tr>\n",
       "  </thead>\n",
       "  <tbody>\n",
       "    <tr>\n",
       "      <th>0</th>\n",
       "      <td>886387</td>\n",
       "      <td>1</td>\n",
       "      <td>0 days 00:00:50</td>\n",
       "    </tr>\n",
       "    <tr>\n",
       "      <th>1</th>\n",
       "      <td>886387</td>\n",
       "      <td>2</td>\n",
       "      <td>0 days 00:00:53</td>\n",
       "    </tr>\n",
       "    <tr>\n",
       "      <th>2</th>\n",
       "      <td>886387</td>\n",
       "      <td>3</td>\n",
       "      <td>0 days 00:01:23</td>\n",
       "    </tr>\n",
       "    <tr>\n",
       "      <th>3</th>\n",
       "      <td>886387</td>\n",
       "      <td>4</td>\n",
       "      <td>0 days 00:01:13</td>\n",
       "    </tr>\n",
       "    <tr>\n",
       "      <th>4</th>\n",
       "      <td>886387</td>\n",
       "      <td>5</td>\n",
       "      <td>0 days 00:01:20</td>\n",
       "    </tr>\n",
       "    <tr>\n",
       "      <th>...</th>\n",
       "      <td>...</td>\n",
       "      <td>...</td>\n",
       "      <td>...</td>\n",
       "    </tr>\n",
       "    <tr>\n",
       "      <th>1303635</th>\n",
       "      <td>890356</td>\n",
       "      <td>3</td>\n",
       "      <td>0 days 00:02:39</td>\n",
       "    </tr>\n",
       "    <tr>\n",
       "      <th>1303637</th>\n",
       "      <td>890357</td>\n",
       "      <td>1</td>\n",
       "      <td>0 days 00:02:05</td>\n",
       "    </tr>\n",
       "    <tr>\n",
       "      <th>1303638</th>\n",
       "      <td>890357</td>\n",
       "      <td>2</td>\n",
       "      <td>0 days 00:01:45</td>\n",
       "    </tr>\n",
       "    <tr>\n",
       "      <th>1303639</th>\n",
       "      <td>890357</td>\n",
       "      <td>3</td>\n",
       "      <td>0 days 00:01:53</td>\n",
       "    </tr>\n",
       "    <tr>\n",
       "      <th>1303640</th>\n",
       "      <td>890357</td>\n",
       "      <td>4</td>\n",
       "      <td>0 days 00:02:41</td>\n",
       "    </tr>\n",
       "  </tbody>\n",
       "</table>\n",
       "<p>67037 rows × 3 columns</p>\n",
       "</div>"
      ],
      "text/plain": [
       "         shape_id  stop_sequence next_stop_duration\n",
       "0          886387              1    0 days 00:00:50\n",
       "1          886387              2    0 days 00:00:53\n",
       "2          886387              3    0 days 00:01:23\n",
       "3          886387              4    0 days 00:01:13\n",
       "4          886387              5    0 days 00:01:20\n",
       "...           ...            ...                ...\n",
       "1303635    890356              3    0 days 00:02:39\n",
       "1303637    890357              1    0 days 00:02:05\n",
       "1303638    890357              2    0 days 00:01:45\n",
       "1303639    890357              3    0 days 00:01:53\n",
       "1303640    890357              4    0 days 00:02:41\n",
       "\n",
       "[67037 rows x 3 columns]"
      ]
     },
     "execution_count": 29,
     "metadata": {},
     "output_type": "execute_result"
    }
   ],
   "source": [
    "test"
   ]
  },
  {
   "cell_type": "code",
   "execution_count": 30,
   "metadata": {},
   "outputs": [],
   "source": [
    "test['key'] = test.shape_id.astype(str) + test.stop_sequence.astype(str)"
   ]
  },
  {
   "cell_type": "code",
   "execution_count": 31,
   "metadata": {},
   "outputs": [
    {
     "data": {
      "text/plain": [
       "33920"
      ]
     },
     "execution_count": 31,
     "metadata": {},
     "output_type": "execute_result"
    }
   ],
   "source": [
    "test.key.value_counts().count()"
   ]
  },
  {
   "cell_type": "code",
   "execution_count": 43,
   "metadata": {},
   "outputs": [
    {
     "data": {
      "text/plain": [
       "88719519    15\n",
       "88719513    14\n",
       "88794716    13\n",
       "88793143    13\n",
       "88794726    13\n",
       "            ..\n",
       "88710031     1\n",
       "88710030     1\n",
       "88710029     1\n",
       "88710028     1\n",
       "8903574      1\n",
       "Name: key, Length: 33920, dtype: int64"
      ]
     },
     "execution_count": 43,
     "metadata": {},
     "output_type": "execute_result"
    }
   ],
   "source": [
    "test.key.value_counts()"
   ]
  },
  {
   "cell_type": "code",
   "execution_count": 32,
   "metadata": {},
   "outputs": [
    {
     "data": {
      "text/plain": [
       "False    17731\n",
       "True     16189\n",
       "Name: key, dtype: int64"
      ]
     },
     "execution_count": 32,
     "metadata": {},
     "output_type": "execute_result"
    }
   ],
   "source": [
    "# number of key values that are unique vs those that are duplicated\n",
    "(test.key.value_counts() > 1).value_counts()"
   ]
  },
  {
   "cell_type": "markdown",
   "metadata": {},
   "source": [
    "### Hence we need to calculate the average duration from each stop sequence to the next"
   ]
  },
  {
   "cell_type": "code",
   "execution_count": 34,
   "metadata": {},
   "outputs": [],
   "source": [
    "temp = df.copy()"
   ]
  },
  {
   "cell_type": "code",
   "execution_count": 38,
   "metadata": {},
   "outputs": [],
   "source": [
    "temp = temp[['shape_id', 'stop_sequence', 'next_stop_duration']].drop_duplicates()"
   ]
  },
  {
   "cell_type": "code",
   "execution_count": 41,
   "metadata": {},
   "outputs": [],
   "source": [
    "temp = temp.groupby(['shape_id', 'stop_sequence']).mean()"
   ]
  },
  {
   "cell_type": "code",
   "execution_count": 51,
   "metadata": {},
   "outputs": [
    {
     "data": {
      "text/html": [
       "<div>\n",
       "<style scoped>\n",
       "    .dataframe tbody tr th:only-of-type {\n",
       "        vertical-align: middle;\n",
       "    }\n",
       "\n",
       "    .dataframe tbody tr th {\n",
       "        vertical-align: top;\n",
       "    }\n",
       "\n",
       "    .dataframe thead th {\n",
       "        text-align: right;\n",
       "    }\n",
       "</style>\n",
       "<table border=\"1\" class=\"dataframe\">\n",
       "  <thead>\n",
       "    <tr style=\"text-align: right;\">\n",
       "      <th></th>\n",
       "      <th></th>\n",
       "      <th>next_stop_duration</th>\n",
       "    </tr>\n",
       "    <tr>\n",
       "      <th>shape_id</th>\n",
       "      <th>stop_sequence</th>\n",
       "      <th></th>\n",
       "    </tr>\n",
       "  </thead>\n",
       "  <tbody>\n",
       "    <tr>\n",
       "      <th rowspan=\"5\" valign=\"top\">886387</th>\n",
       "      <th>1</th>\n",
       "      <td>0 days 00:00:50</td>\n",
       "    </tr>\n",
       "    <tr>\n",
       "      <th>2</th>\n",
       "      <td>0 days 00:00:53</td>\n",
       "    </tr>\n",
       "    <tr>\n",
       "      <th>3</th>\n",
       "      <td>0 days 00:01:23</td>\n",
       "    </tr>\n",
       "    <tr>\n",
       "      <th>4</th>\n",
       "      <td>0 days 00:01:13</td>\n",
       "    </tr>\n",
       "    <tr>\n",
       "      <th>5</th>\n",
       "      <td>0 days 00:01:19</td>\n",
       "    </tr>\n",
       "    <tr>\n",
       "      <th>...</th>\n",
       "      <th>...</th>\n",
       "      <td>...</td>\n",
       "    </tr>\n",
       "    <tr>\n",
       "      <th rowspan=\"5\" valign=\"top\">890357</th>\n",
       "      <th>1</th>\n",
       "      <td>0 days 00:02:05</td>\n",
       "    </tr>\n",
       "    <tr>\n",
       "      <th>2</th>\n",
       "      <td>0 days 00:01:45</td>\n",
       "    </tr>\n",
       "    <tr>\n",
       "      <th>3</th>\n",
       "      <td>0 days 00:01:53</td>\n",
       "    </tr>\n",
       "    <tr>\n",
       "      <th>4</th>\n",
       "      <td>0 days 00:02:41</td>\n",
       "    </tr>\n",
       "    <tr>\n",
       "      <th>5</th>\n",
       "      <td>NaT</td>\n",
       "    </tr>\n",
       "  </tbody>\n",
       "</table>\n",
       "<p>35002 rows × 1 columns</p>\n",
       "</div>"
      ],
      "text/plain": [
       "                       next_stop_duration\n",
       "shape_id stop_sequence                   \n",
       "886387   1                0 days 00:00:50\n",
       "         2                0 days 00:00:53\n",
       "         3                0 days 00:01:23\n",
       "         4                0 days 00:01:13\n",
       "         5                0 days 00:01:19\n",
       "...                                   ...\n",
       "890357   1                0 days 00:02:05\n",
       "         2                0 days 00:01:45\n",
       "         3                0 days 00:01:53\n",
       "         4                0 days 00:02:41\n",
       "         5                            NaT\n",
       "\n",
       "[35002 rows x 1 columns]"
      ]
     },
     "execution_count": 51,
     "metadata": {},
     "output_type": "execute_result"
    }
   ],
   "source": [
    "temp"
   ]
  },
  {
   "cell_type": "code",
   "execution_count": 65,
   "metadata": {},
   "outputs": [
    {
     "data": {
      "text/plain": [
       "dtype('int64')"
      ]
     },
     "execution_count": 65,
     "metadata": {},
     "output_type": "execute_result"
    }
   ],
   "source": [
    "df.shape_id.dtype"
   ]
  },
  {
   "cell_type": "code",
   "execution_count": 66,
   "metadata": {},
   "outputs": [
    {
     "data": {
      "text/plain": [
       "dtype('int64')"
      ]
     },
     "execution_count": 66,
     "metadata": {},
     "output_type": "execute_result"
    }
   ],
   "source": [
    "df.stop_sequence.dtype"
   ]
  },
  {
   "cell_type": "code",
   "execution_count": 84,
   "metadata": {},
   "outputs": [
    {
     "data": {
      "text/html": [
       "<div>\n",
       "<style scoped>\n",
       "    .dataframe tbody tr th:only-of-type {\n",
       "        vertical-align: middle;\n",
       "    }\n",
       "\n",
       "    .dataframe tbody tr th {\n",
       "        vertical-align: top;\n",
       "    }\n",
       "\n",
       "    .dataframe thead th {\n",
       "        text-align: right;\n",
       "    }\n",
       "</style>\n",
       "<table border=\"1\" class=\"dataframe\">\n",
       "  <thead>\n",
       "    <tr style=\"text-align: right;\">\n",
       "      <th></th>\n",
       "      <th></th>\n",
       "      <th>next_stop_duration</th>\n",
       "    </tr>\n",
       "    <tr>\n",
       "      <th>shape_id</th>\n",
       "      <th>stop_sequence</th>\n",
       "      <th></th>\n",
       "    </tr>\n",
       "  </thead>\n",
       "  <tbody>\n",
       "    <tr>\n",
       "      <th>886387</th>\n",
       "      <th>9</th>\n",
       "      <td>0 days 00:01:10</td>\n",
       "    </tr>\n",
       "  </tbody>\n",
       "</table>\n",
       "</div>"
      ],
      "text/plain": [
       "                       next_stop_duration\n",
       "shape_id stop_sequence                   \n",
       "886387   9                0 days 00:01:10"
      ]
     },
     "execution_count": 84,
     "metadata": {},
     "output_type": "execute_result"
    }
   ],
   "source": [
    "temp.query('shape_id == 886387 & stop_sequence == 9')"
   ]
  },
  {
   "cell_type": "code",
   "execution_count": 91,
   "metadata": {},
   "outputs": [
    {
     "data": {
      "text/plain": [
       "Timedelta('0 days 00:01:10')"
      ]
     },
     "execution_count": 91,
     "metadata": {},
     "output_type": "execute_result"
    }
   ],
   "source": [
    "temp['next_stop_duration'][886387][9]"
   ]
  },
  {
   "cell_type": "code",
   "execution_count": 95,
   "metadata": {},
   "outputs": [
    {
     "data": {
      "text/plain": [
       "Timedelta('0 days 00:01:10')"
      ]
     },
     "execution_count": 95,
     "metadata": {},
     "output_type": "execute_result"
    }
   ],
   "source": [
    "temp.next_stop_duration[886387][9]"
   ]
  },
  {
   "cell_type": "code",
   "execution_count": 96,
   "metadata": {},
   "outputs": [
    {
     "data": {
      "text/plain": [
       "Timedelta('0 days 00:01:10')"
      ]
     },
     "execution_count": 96,
     "metadata": {},
     "output_type": "execute_result"
    }
   ],
   "source": [
    "temp.loc[(886387, 9), 'next_stop_duration']"
   ]
  },
  {
   "cell_type": "code",
   "execution_count": 100,
   "metadata": {},
   "outputs": [
    {
     "data": {
      "text/plain": [
       "Timedelta('0 days 00:01:10')"
      ]
     },
     "execution_count": 100,
     "metadata": {},
     "output_type": "execute_result"
    }
   ],
   "source": [
    "temp.loc[(886387, 9)][0]"
   ]
  },
  {
   "cell_type": "code",
   "execution_count": 102,
   "metadata": {},
   "outputs": [
    {
     "ename": "KeyboardInterrupt",
     "evalue": "",
     "output_type": "error",
     "traceback": [
      "\u001b[0;31m---------------------------------------------------------------------------\u001b[0m",
      "\u001b[0;31mTypeError\u001b[0m                                 Traceback (most recent call last)",
      "\u001b[0;32m/opt/anaconda3/lib/python3.8/site-packages/pandas/core/indexes/base.py\u001b[0m in \u001b[0;36mget_loc\u001b[0;34m(self, key, method, tolerance)\u001b[0m\n\u001b[1;32m   3620\u001b[0m             \u001b[0;32mtry\u001b[0m\u001b[0;34m:\u001b[0m\u001b[0;34m\u001b[0m\u001b[0;34m\u001b[0m\u001b[0m\n\u001b[0;32m-> 3621\u001b[0;31m                 \u001b[0;32mreturn\u001b[0m \u001b[0mself\u001b[0m\u001b[0;34m.\u001b[0m\u001b[0m_engine\u001b[0m\u001b[0;34m.\u001b[0m\u001b[0mget_loc\u001b[0m\u001b[0;34m(\u001b[0m\u001b[0mcasted_key\u001b[0m\u001b[0;34m)\u001b[0m\u001b[0;34m\u001b[0m\u001b[0;34m\u001b[0m\u001b[0m\n\u001b[0m\u001b[1;32m   3622\u001b[0m             \u001b[0;32mexcept\u001b[0m \u001b[0mKeyError\u001b[0m \u001b[0;32mas\u001b[0m \u001b[0merr\u001b[0m\u001b[0;34m:\u001b[0m\u001b[0;34m\u001b[0m\u001b[0;34m\u001b[0m\u001b[0m\n",
      "\u001b[0;32m/opt/anaconda3/lib/python3.8/site-packages/pandas/_libs/index.pyx\u001b[0m in \u001b[0;36mpandas._libs.index.IndexEngine.get_loc\u001b[0;34m()\u001b[0m\n",
      "\u001b[0;32m/opt/anaconda3/lib/python3.8/site-packages/pandas/_libs/index.pyx\u001b[0m in \u001b[0;36mpandas._libs.index.IndexEngine.get_loc\u001b[0;34m()\u001b[0m\n",
      "\u001b[0;31mTypeError\u001b[0m: '0          1\n1          2\n2          3\n3          4\n4          5\n          ..\n1304777    1\n1304778    2\n1304779    3\n1304780    4\n1304781    5\nName: stop_sequence, Length: 1304782, dtype: int64' is an invalid key",
      "\nDuring handling of the above exception, another exception occurred:\n",
      "\u001b[0;31mInvalidIndexError\u001b[0m                         Traceback (most recent call last)",
      "\u001b[0;32m/opt/anaconda3/lib/python3.8/site-packages/pandas/core/indexes/multi.py\u001b[0m in \u001b[0;36mget_locs\u001b[0;34m(self, seq)\u001b[0m\n\u001b[1;32m   3338\u001b[0m                     \u001b[0;31m# has incompatible type \"Index\"; expected \"Optional[Int64Index]\"\u001b[0m\u001b[0;34m\u001b[0m\u001b[0;34m\u001b[0m\u001b[0;34m\u001b[0m\u001b[0m\n\u001b[0;32m-> 3339\u001b[0;31m                     lev_loc = self._get_level_indexer(\n\u001b[0m\u001b[1;32m   3340\u001b[0m                         \u001b[0mk\u001b[0m\u001b[0;34m,\u001b[0m \u001b[0mlevel\u001b[0m\u001b[0;34m=\u001b[0m\u001b[0mi\u001b[0m\u001b[0;34m,\u001b[0m \u001b[0mindexer\u001b[0m\u001b[0;34m=\u001b[0m\u001b[0mindexer\u001b[0m  \u001b[0;31m# type: ignore[arg-type]\u001b[0m\u001b[0;34m\u001b[0m\u001b[0;34m\u001b[0m\u001b[0m\n",
      "\u001b[0;32m/opt/anaconda3/lib/python3.8/site-packages/pandas/core/indexes/multi.py\u001b[0m in \u001b[0;36m_get_level_indexer\u001b[0;34m(self, key, level, indexer)\u001b[0m\n\u001b[1;32m   3214\u001b[0m \u001b[0;34m\u001b[0m\u001b[0m\n\u001b[0;32m-> 3215\u001b[0;31m             \u001b[0midx\u001b[0m \u001b[0;34m=\u001b[0m \u001b[0mself\u001b[0m\u001b[0;34m.\u001b[0m\u001b[0m_get_loc_single_level_index\u001b[0m\u001b[0;34m(\u001b[0m\u001b[0mlevel_index\u001b[0m\u001b[0;34m,\u001b[0m \u001b[0mkey\u001b[0m\u001b[0;34m)\u001b[0m\u001b[0;34m\u001b[0m\u001b[0;34m\u001b[0m\u001b[0m\n\u001b[0m\u001b[1;32m   3216\u001b[0m \u001b[0;34m\u001b[0m\u001b[0m\n",
      "\u001b[0;32m/opt/anaconda3/lib/python3.8/site-packages/pandas/core/indexes/multi.py\u001b[0m in \u001b[0;36m_get_loc_single_level_index\u001b[0;34m(self, level_index, key)\u001b[0m\n\u001b[1;32m   2803\u001b[0m         \u001b[0;32melse\u001b[0m\u001b[0;34m:\u001b[0m\u001b[0;34m\u001b[0m\u001b[0;34m\u001b[0m\u001b[0m\n\u001b[0;32m-> 2804\u001b[0;31m             \u001b[0;32mreturn\u001b[0m \u001b[0mlevel_index\u001b[0m\u001b[0;34m.\u001b[0m\u001b[0mget_loc\u001b[0m\u001b[0;34m(\u001b[0m\u001b[0mkey\u001b[0m\u001b[0;34m)\u001b[0m\u001b[0;34m\u001b[0m\u001b[0;34m\u001b[0m\u001b[0m\n\u001b[0m\u001b[1;32m   2805\u001b[0m \u001b[0;34m\u001b[0m\u001b[0m\n",
      "\u001b[0;32m/opt/anaconda3/lib/python3.8/site-packages/pandas/core/indexes/base.py\u001b[0m in \u001b[0;36mget_loc\u001b[0;34m(self, key, method, tolerance)\u001b[0m\n\u001b[1;32m   3627\u001b[0m                 \u001b[0;31m#  the TypeError.\u001b[0m\u001b[0;34m\u001b[0m\u001b[0;34m\u001b[0m\u001b[0;34m\u001b[0m\u001b[0m\n\u001b[0;32m-> 3628\u001b[0;31m                 \u001b[0mself\u001b[0m\u001b[0;34m.\u001b[0m\u001b[0m_check_indexing_error\u001b[0m\u001b[0;34m(\u001b[0m\u001b[0mkey\u001b[0m\u001b[0;34m)\u001b[0m\u001b[0;34m\u001b[0m\u001b[0;34m\u001b[0m\u001b[0m\n\u001b[0m\u001b[1;32m   3629\u001b[0m                 \u001b[0;32mraise\u001b[0m\u001b[0;34m\u001b[0m\u001b[0;34m\u001b[0m\u001b[0m\n",
      "\u001b[0;32m/opt/anaconda3/lib/python3.8/site-packages/pandas/core/indexes/base.py\u001b[0m in \u001b[0;36m_check_indexing_error\u001b[0;34m(self, key)\u001b[0m\n\u001b[1;32m   5636\u001b[0m             \u001b[0;31m# would convert to numpy arrays and raise later any way) - GH29926\u001b[0m\u001b[0;34m\u001b[0m\u001b[0;34m\u001b[0m\u001b[0;34m\u001b[0m\u001b[0m\n\u001b[0;32m-> 5637\u001b[0;31m             \u001b[0;32mraise\u001b[0m \u001b[0mInvalidIndexError\u001b[0m\u001b[0;34m(\u001b[0m\u001b[0mkey\u001b[0m\u001b[0;34m)\u001b[0m\u001b[0;34m\u001b[0m\u001b[0;34m\u001b[0m\u001b[0m\n\u001b[0m\u001b[1;32m   5638\u001b[0m \u001b[0;34m\u001b[0m\u001b[0m\n",
      "\u001b[0;31mInvalidIndexError\u001b[0m: 0          1\n1          2\n2          3\n3          4\n4          5\n          ..\n1304777    1\n1304778    2\n1304779    3\n1304780    4\n1304781    5\nName: stop_sequence, Length: 1304782, dtype: int64",
      "\nDuring handling of the above exception, another exception occurred:\n",
      "\u001b[0;31mKeyboardInterrupt\u001b[0m                         Traceback (most recent call last)",
      "\u001b[0;32m<ipython-input-102-c701c74672b5>\u001b[0m in \u001b[0;36m<module>\u001b[0;34m\u001b[0m\n\u001b[0;32m----> 1\u001b[0;31m \u001b[0mdf\u001b[0m\u001b[0;34m[\u001b[0m\u001b[0;34m'avg_duration'\u001b[0m\u001b[0;34m]\u001b[0m \u001b[0;34m=\u001b[0m \u001b[0mtemp\u001b[0m\u001b[0;34m.\u001b[0m\u001b[0mloc\u001b[0m\u001b[0;34m[\u001b[0m\u001b[0;34m(\u001b[0m\u001b[0mdf\u001b[0m\u001b[0;34m.\u001b[0m\u001b[0mshape_id\u001b[0m\u001b[0;34m,\u001b[0m \u001b[0mdf\u001b[0m\u001b[0;34m.\u001b[0m\u001b[0mstop_sequence\u001b[0m\u001b[0;34m)\u001b[0m\u001b[0;34m,\u001b[0m \u001b[0;34m'next_stop_duration'\u001b[0m\u001b[0;34m]\u001b[0m\u001b[0;34m\u001b[0m\u001b[0;34m\u001b[0m\u001b[0m\n\u001b[0m",
      "\u001b[0;32m/opt/anaconda3/lib/python3.8/site-packages/pandas/core/indexing.py\u001b[0m in \u001b[0;36m__getitem__\u001b[0;34m(self, key)\u001b[0m\n\u001b[1;32m    959\u001b[0m             \u001b[0;32mif\u001b[0m \u001b[0mself\u001b[0m\u001b[0;34m.\u001b[0m\u001b[0m_is_scalar_access\u001b[0m\u001b[0;34m(\u001b[0m\u001b[0mkey\u001b[0m\u001b[0;34m)\u001b[0m\u001b[0;34m:\u001b[0m\u001b[0;34m\u001b[0m\u001b[0;34m\u001b[0m\u001b[0m\n\u001b[1;32m    960\u001b[0m                 \u001b[0;32mreturn\u001b[0m \u001b[0mself\u001b[0m\u001b[0;34m.\u001b[0m\u001b[0mobj\u001b[0m\u001b[0;34m.\u001b[0m\u001b[0m_get_value\u001b[0m\u001b[0;34m(\u001b[0m\u001b[0;34m*\u001b[0m\u001b[0mkey\u001b[0m\u001b[0;34m,\u001b[0m \u001b[0mtakeable\u001b[0m\u001b[0;34m=\u001b[0m\u001b[0mself\u001b[0m\u001b[0;34m.\u001b[0m\u001b[0m_takeable\u001b[0m\u001b[0;34m)\u001b[0m\u001b[0;34m\u001b[0m\u001b[0;34m\u001b[0m\u001b[0m\n\u001b[0;32m--> 961\u001b[0;31m             \u001b[0;32mreturn\u001b[0m \u001b[0mself\u001b[0m\u001b[0;34m.\u001b[0m\u001b[0m_getitem_tuple\u001b[0m\u001b[0;34m(\u001b[0m\u001b[0mkey\u001b[0m\u001b[0;34m)\u001b[0m\u001b[0;34m\u001b[0m\u001b[0;34m\u001b[0m\u001b[0m\n\u001b[0m\u001b[1;32m    962\u001b[0m         \u001b[0;32melse\u001b[0m\u001b[0;34m:\u001b[0m\u001b[0;34m\u001b[0m\u001b[0;34m\u001b[0m\u001b[0m\n\u001b[1;32m    963\u001b[0m             \u001b[0;31m# we by definition only have the 0th axis\u001b[0m\u001b[0;34m\u001b[0m\u001b[0;34m\u001b[0m\u001b[0;34m\u001b[0m\u001b[0m\n",
      "\u001b[0;32m/opt/anaconda3/lib/python3.8/site-packages/pandas/core/indexing.py\u001b[0m in \u001b[0;36m_getitem_tuple\u001b[0;34m(self, tup)\u001b[0m\n\u001b[1;32m   1138\u001b[0m         \u001b[0;32mwith\u001b[0m \u001b[0msuppress\u001b[0m\u001b[0;34m(\u001b[0m\u001b[0mIndexingError\u001b[0m\u001b[0;34m)\u001b[0m\u001b[0;34m:\u001b[0m\u001b[0;34m\u001b[0m\u001b[0;34m\u001b[0m\u001b[0m\n\u001b[1;32m   1139\u001b[0m             \u001b[0mtup\u001b[0m \u001b[0;34m=\u001b[0m \u001b[0mself\u001b[0m\u001b[0;34m.\u001b[0m\u001b[0m_expand_ellipsis\u001b[0m\u001b[0;34m(\u001b[0m\u001b[0mtup\u001b[0m\u001b[0;34m)\u001b[0m\u001b[0;34m\u001b[0m\u001b[0;34m\u001b[0m\u001b[0m\n\u001b[0;32m-> 1140\u001b[0;31m             \u001b[0;32mreturn\u001b[0m \u001b[0mself\u001b[0m\u001b[0;34m.\u001b[0m\u001b[0m_getitem_lowerdim\u001b[0m\u001b[0;34m(\u001b[0m\u001b[0mtup\u001b[0m\u001b[0;34m)\u001b[0m\u001b[0;34m\u001b[0m\u001b[0;34m\u001b[0m\u001b[0m\n\u001b[0m\u001b[1;32m   1141\u001b[0m \u001b[0;34m\u001b[0m\u001b[0m\n\u001b[1;32m   1142\u001b[0m         \u001b[0;31m# no multi-index, so validate all of the indexers\u001b[0m\u001b[0;34m\u001b[0m\u001b[0;34m\u001b[0m\u001b[0;34m\u001b[0m\u001b[0m\n",
      "\u001b[0;32m/opt/anaconda3/lib/python3.8/site-packages/pandas/core/indexing.py\u001b[0m in \u001b[0;36m_getitem_lowerdim\u001b[0;34m(self, tup)\u001b[0m\n\u001b[1;32m    841\u001b[0m         \u001b[0;31m# we may have a nested tuples indexer here\u001b[0m\u001b[0;34m\u001b[0m\u001b[0;34m\u001b[0m\u001b[0;34m\u001b[0m\u001b[0m\n\u001b[1;32m    842\u001b[0m         \u001b[0;32mif\u001b[0m \u001b[0mself\u001b[0m\u001b[0;34m.\u001b[0m\u001b[0m_is_nested_tuple_indexer\u001b[0m\u001b[0;34m(\u001b[0m\u001b[0mtup\u001b[0m\u001b[0;34m)\u001b[0m\u001b[0;34m:\u001b[0m\u001b[0;34m\u001b[0m\u001b[0;34m\u001b[0m\u001b[0m\n\u001b[0;32m--> 843\u001b[0;31m             \u001b[0;32mreturn\u001b[0m \u001b[0mself\u001b[0m\u001b[0;34m.\u001b[0m\u001b[0m_getitem_nested_tuple\u001b[0m\u001b[0;34m(\u001b[0m\u001b[0mtup\u001b[0m\u001b[0;34m)\u001b[0m\u001b[0;34m\u001b[0m\u001b[0;34m\u001b[0m\u001b[0m\n\u001b[0m\u001b[1;32m    844\u001b[0m \u001b[0;34m\u001b[0m\u001b[0m\n\u001b[1;32m    845\u001b[0m         \u001b[0;31m# we maybe be using a tuple to represent multiple dimensions here\u001b[0m\u001b[0;34m\u001b[0m\u001b[0;34m\u001b[0m\u001b[0;34m\u001b[0m\u001b[0m\n",
      "\u001b[0;32m/opt/anaconda3/lib/python3.8/site-packages/pandas/core/indexing.py\u001b[0m in \u001b[0;36m_getitem_nested_tuple\u001b[0;34m(self, tup)\u001b[0m\n\u001b[1;32m    940\u001b[0m                 \u001b[0;32mcontinue\u001b[0m\u001b[0;34m\u001b[0m\u001b[0;34m\u001b[0m\u001b[0m\n\u001b[1;32m    941\u001b[0m \u001b[0;34m\u001b[0m\u001b[0m\n\u001b[0;32m--> 942\u001b[0;31m             \u001b[0mobj\u001b[0m \u001b[0;34m=\u001b[0m \u001b[0mgetattr\u001b[0m\u001b[0;34m(\u001b[0m\u001b[0mobj\u001b[0m\u001b[0;34m,\u001b[0m \u001b[0mself\u001b[0m\u001b[0;34m.\u001b[0m\u001b[0mname\u001b[0m\u001b[0;34m)\u001b[0m\u001b[0;34m.\u001b[0m\u001b[0m_getitem_axis\u001b[0m\u001b[0;34m(\u001b[0m\u001b[0mkey\u001b[0m\u001b[0;34m,\u001b[0m \u001b[0maxis\u001b[0m\u001b[0;34m=\u001b[0m\u001b[0maxis\u001b[0m\u001b[0;34m)\u001b[0m\u001b[0;34m\u001b[0m\u001b[0;34m\u001b[0m\u001b[0m\n\u001b[0m\u001b[1;32m    943\u001b[0m             \u001b[0maxis\u001b[0m \u001b[0;34m-=\u001b[0m \u001b[0;36m1\u001b[0m\u001b[0;34m\u001b[0m\u001b[0;34m\u001b[0m\u001b[0m\n\u001b[1;32m    944\u001b[0m \u001b[0;34m\u001b[0m\u001b[0m\n",
      "\u001b[0;32m/opt/anaconda3/lib/python3.8/site-packages/pandas/core/indexing.py\u001b[0m in \u001b[0;36m_getitem_axis\u001b[0;34m(self, key, axis)\u001b[0m\n\u001b[1;32m   1193\u001b[0m             \u001b[0;31m# nested tuple slicing\u001b[0m\u001b[0;34m\u001b[0m\u001b[0;34m\u001b[0m\u001b[0;34m\u001b[0m\u001b[0m\n\u001b[1;32m   1194\u001b[0m             \u001b[0;32mif\u001b[0m \u001b[0mis_nested_tuple\u001b[0m\u001b[0;34m(\u001b[0m\u001b[0mkey\u001b[0m\u001b[0;34m,\u001b[0m \u001b[0mlabels\u001b[0m\u001b[0;34m)\u001b[0m\u001b[0;34m:\u001b[0m\u001b[0;34m\u001b[0m\u001b[0;34m\u001b[0m\u001b[0m\n\u001b[0;32m-> 1195\u001b[0;31m                 \u001b[0mlocs\u001b[0m \u001b[0;34m=\u001b[0m \u001b[0mlabels\u001b[0m\u001b[0;34m.\u001b[0m\u001b[0mget_locs\u001b[0m\u001b[0;34m(\u001b[0m\u001b[0mkey\u001b[0m\u001b[0;34m)\u001b[0m\u001b[0;34m\u001b[0m\u001b[0;34m\u001b[0m\u001b[0m\n\u001b[0m\u001b[1;32m   1196\u001b[0m                 \u001b[0mindexer\u001b[0m \u001b[0;34m=\u001b[0m \u001b[0;34m[\u001b[0m\u001b[0mslice\u001b[0m\u001b[0;34m(\u001b[0m\u001b[0;32mNone\u001b[0m\u001b[0;34m)\u001b[0m\u001b[0;34m]\u001b[0m \u001b[0;34m*\u001b[0m \u001b[0mself\u001b[0m\u001b[0;34m.\u001b[0m\u001b[0mndim\u001b[0m\u001b[0;34m\u001b[0m\u001b[0;34m\u001b[0m\u001b[0m\n\u001b[1;32m   1197\u001b[0m                 \u001b[0mindexer\u001b[0m\u001b[0;34m[\u001b[0m\u001b[0maxis\u001b[0m\u001b[0;34m]\u001b[0m \u001b[0;34m=\u001b[0m \u001b[0mlocs\u001b[0m\u001b[0;34m\u001b[0m\u001b[0;34m\u001b[0m\u001b[0m\n",
      "\u001b[0;32m/opt/anaconda3/lib/python3.8/site-packages/pandas/core/indexes/multi.py\u001b[0m in \u001b[0;36mget_locs\u001b[0;34m(self, seq)\u001b[0m\n\u001b[1;32m   3380\u001b[0m                                 \u001b[0mindexers\u001b[0m \u001b[0;34m=\u001b[0m \u001b[0midxrs\u001b[0m\u001b[0;34m\u001b[0m\u001b[0;34m\u001b[0m\u001b[0m\n\u001b[1;32m   3381\u001b[0m                             \u001b[0;32melse\u001b[0m\u001b[0;34m:\u001b[0m\u001b[0;34m\u001b[0m\u001b[0;34m\u001b[0m\u001b[0m\n\u001b[0;32m-> 3382\u001b[0;31m                                 \u001b[0mindexers\u001b[0m \u001b[0;34m=\u001b[0m \u001b[0mindexers\u001b[0m\u001b[0;34m.\u001b[0m\u001b[0munion\u001b[0m\u001b[0;34m(\u001b[0m\u001b[0midxrs\u001b[0m\u001b[0;34m,\u001b[0m \u001b[0msort\u001b[0m\u001b[0;34m=\u001b[0m\u001b[0;32mFalse\u001b[0m\u001b[0;34m)\u001b[0m\u001b[0;34m\u001b[0m\u001b[0;34m\u001b[0m\u001b[0m\n\u001b[0m\u001b[1;32m   3383\u001b[0m \u001b[0;34m\u001b[0m\u001b[0m\n\u001b[1;32m   3384\u001b[0m                 \u001b[0;32melse\u001b[0m\u001b[0;34m:\u001b[0m\u001b[0;34m\u001b[0m\u001b[0;34m\u001b[0m\u001b[0m\n",
      "\u001b[0;32m/opt/anaconda3/lib/python3.8/site-packages/pandas/core/indexes/base.py\u001b[0m in \u001b[0;36munion\u001b[0;34m(self, other, sort)\u001b[0m\n\u001b[1;32m   3183\u001b[0m             \u001b[0;32mreturn\u001b[0m \u001b[0mother\u001b[0m\u001b[0;34m.\u001b[0m\u001b[0m_get_reconciled_name_object\u001b[0m\u001b[0;34m(\u001b[0m\u001b[0mself\u001b[0m\u001b[0;34m)\u001b[0m\u001b[0;34m\u001b[0m\u001b[0;34m\u001b[0m\u001b[0m\n\u001b[1;32m   3184\u001b[0m \u001b[0;34m\u001b[0m\u001b[0m\n\u001b[0;32m-> 3185\u001b[0;31m         \u001b[0mresult\u001b[0m \u001b[0;34m=\u001b[0m \u001b[0mself\u001b[0m\u001b[0;34m.\u001b[0m\u001b[0m_union\u001b[0m\u001b[0;34m(\u001b[0m\u001b[0mother\u001b[0m\u001b[0;34m,\u001b[0m \u001b[0msort\u001b[0m\u001b[0;34m=\u001b[0m\u001b[0msort\u001b[0m\u001b[0;34m)\u001b[0m\u001b[0;34m\u001b[0m\u001b[0;34m\u001b[0m\u001b[0m\n\u001b[0m\u001b[1;32m   3186\u001b[0m \u001b[0;34m\u001b[0m\u001b[0m\n\u001b[1;32m   3187\u001b[0m         \u001b[0;32mreturn\u001b[0m \u001b[0mself\u001b[0m\u001b[0;34m.\u001b[0m\u001b[0m_wrap_setop_result\u001b[0m\u001b[0;34m(\u001b[0m\u001b[0mother\u001b[0m\u001b[0;34m,\u001b[0m \u001b[0mresult\u001b[0m\u001b[0;34m)\u001b[0m\u001b[0;34m\u001b[0m\u001b[0;34m\u001b[0m\u001b[0m\n",
      "\u001b[0;32m/opt/anaconda3/lib/python3.8/site-packages/pandas/core/indexes/base.py\u001b[0m in \u001b[0;36m_union\u001b[0;34m(self, other, sort)\u001b[0m\n\u001b[1;32m   3238\u001b[0m         \u001b[0;31m# Self may have duplicates; other already checked as unique\u001b[0m\u001b[0;34m\u001b[0m\u001b[0;34m\u001b[0m\u001b[0;34m\u001b[0m\u001b[0m\n\u001b[1;32m   3239\u001b[0m         \u001b[0;31m# find indexes of things in \"other\" that are not in \"self\"\u001b[0m\u001b[0;34m\u001b[0m\u001b[0;34m\u001b[0m\u001b[0;34m\u001b[0m\u001b[0m\n\u001b[0;32m-> 3240\u001b[0;31m         \u001b[0;32mif\u001b[0m \u001b[0mself\u001b[0m\u001b[0;34m.\u001b[0m\u001b[0m_index_as_unique\u001b[0m\u001b[0;34m:\u001b[0m\u001b[0;34m\u001b[0m\u001b[0;34m\u001b[0m\u001b[0m\n\u001b[0m\u001b[1;32m   3241\u001b[0m             \u001b[0mindexer\u001b[0m \u001b[0;34m=\u001b[0m \u001b[0mself\u001b[0m\u001b[0;34m.\u001b[0m\u001b[0mget_indexer\u001b[0m\u001b[0;34m(\u001b[0m\u001b[0mother\u001b[0m\u001b[0;34m)\u001b[0m\u001b[0;34m\u001b[0m\u001b[0;34m\u001b[0m\u001b[0m\n\u001b[1;32m   3242\u001b[0m             \u001b[0mmissing\u001b[0m \u001b[0;34m=\u001b[0m \u001b[0;34m(\u001b[0m\u001b[0mindexer\u001b[0m \u001b[0;34m==\u001b[0m \u001b[0;34m-\u001b[0m\u001b[0;36m1\u001b[0m\u001b[0;34m)\u001b[0m\u001b[0;34m.\u001b[0m\u001b[0mnonzero\u001b[0m\u001b[0;34m(\u001b[0m\u001b[0;34m)\u001b[0m\u001b[0;34m[\u001b[0m\u001b[0;36m0\u001b[0m\u001b[0;34m]\u001b[0m\u001b[0;34m\u001b[0m\u001b[0;34m\u001b[0m\u001b[0m\n",
      "\u001b[0;32m/opt/anaconda3/lib/python3.8/site-packages/pandas/core/indexes/base.py\u001b[0m in \u001b[0;36m_index_as_unique\u001b[0;34m(self)\u001b[0m\n\u001b[1;32m   5911\u001b[0m         \u001b[0mFor\u001b[0m \u001b[0mIntervalIndex\u001b[0m \u001b[0mcompat\u001b[0m\u001b[0;34m.\u001b[0m\u001b[0;34m\u001b[0m\u001b[0;34m\u001b[0m\u001b[0m\n\u001b[1;32m   5912\u001b[0m         \"\"\"\n\u001b[0;32m-> 5913\u001b[0;31m         \u001b[0;32mreturn\u001b[0m \u001b[0mself\u001b[0m\u001b[0;34m.\u001b[0m\u001b[0mis_unique\u001b[0m\u001b[0;34m\u001b[0m\u001b[0;34m\u001b[0m\u001b[0m\n\u001b[0m\u001b[1;32m   5914\u001b[0m \u001b[0;34m\u001b[0m\u001b[0m\n\u001b[1;32m   5915\u001b[0m     \u001b[0m_requires_unique_msg\u001b[0m \u001b[0;34m=\u001b[0m \u001b[0;34m\"Reindexing only valid with uniquely valued Index objects\"\u001b[0m\u001b[0;34m\u001b[0m\u001b[0;34m\u001b[0m\u001b[0m\n",
      "\u001b[0;32m/opt/anaconda3/lib/python3.8/site-packages/pandas/_libs/properties.pyx\u001b[0m in \u001b[0;36mpandas._libs.properties.CachedProperty.__get__\u001b[0;34m()\u001b[0m\n",
      "\u001b[0;32m/opt/anaconda3/lib/python3.8/site-packages/pandas/core/indexes/base.py\u001b[0m in \u001b[0;36mis_unique\u001b[0;34m(self)\u001b[0m\n\u001b[1;32m   2235\u001b[0m         \u001b[0mReturn\u001b[0m \u001b[0;32mif\u001b[0m \u001b[0mthe\u001b[0m \u001b[0mindex\u001b[0m \u001b[0mhas\u001b[0m \u001b[0munique\u001b[0m \u001b[0mvalues\u001b[0m\u001b[0;34m.\u001b[0m\u001b[0;34m\u001b[0m\u001b[0;34m\u001b[0m\u001b[0m\n\u001b[1;32m   2236\u001b[0m         \"\"\"\n\u001b[0;32m-> 2237\u001b[0;31m         \u001b[0;32mreturn\u001b[0m \u001b[0mself\u001b[0m\u001b[0;34m.\u001b[0m\u001b[0m_engine\u001b[0m\u001b[0;34m.\u001b[0m\u001b[0mis_unique\u001b[0m\u001b[0;34m\u001b[0m\u001b[0;34m\u001b[0m\u001b[0m\n\u001b[0m\u001b[1;32m   2238\u001b[0m \u001b[0;34m\u001b[0m\u001b[0m\n\u001b[1;32m   2239\u001b[0m     \u001b[0;34m@\u001b[0m\u001b[0mfinal\u001b[0m\u001b[0;34m\u001b[0m\u001b[0;34m\u001b[0m\u001b[0m\n",
      "\u001b[0;31mKeyboardInterrupt\u001b[0m: "
     ]
    }
   ],
   "source": [
    "df['avg_duration'] = temp.loc[(df.shape_id, df.stop_sequence), 'next_stop_duration']"
   ]
  },
  {
   "cell_type": "code",
   "execution_count": null,
   "metadata": {},
   "outputs": [],
   "source": [
    "df"
   ]
  },
  {
   "cell_type": "markdown",
   "metadata": {},
   "source": [
    "## Next: Remove all reference to stop time and drop all dups such that only one unique stop_sequence for each shape_id; then transpose the average duration as previously calculated"
   ]
  },
  {
   "cell_type": "code",
   "execution_count": null,
   "metadata": {},
   "outputs": [],
   "source": []
  }
 ],
 "metadata": {
  "kernelspec": {
   "display_name": "Python 3",
   "language": "python",
   "name": "python3"
  },
  "language_info": {
   "codemirror_mode": {
    "name": "ipython",
    "version": 3
   },
   "file_extension": ".py",
   "mimetype": "text/x-python",
   "name": "python",
   "nbconvert_exporter": "python",
   "pygments_lexer": "ipython3",
   "version": "3.8.5"
  }
 },
 "nbformat": 4,
 "nbformat_minor": 4
}
