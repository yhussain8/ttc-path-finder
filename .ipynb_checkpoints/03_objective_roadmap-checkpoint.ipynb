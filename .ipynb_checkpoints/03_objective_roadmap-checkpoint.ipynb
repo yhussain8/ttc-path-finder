{
 "cells": [
  {
   "cell_type": "markdown",
   "metadata": {},
   "source": [
    "## OBJECTIVE ROADMAP\n",
    "\n",
    "1. [x] User inputs two sets of lat/long coordinates; start/home location vs end/destination location\n",
    "1. [x] Find the stop with the closest distance from the starting coordinates\n",
    "1. [x] Assume that the closest stop can be used as the starting stop (later allow user to confirm)\n",
    "1. [x] Mark the starting stop also as the current stop\n",
    "1. [x] Assume that the arrival time at the current stop is 7 pm (and if necessary, Wed Oct 13 2021)\n",
    "1. [x] Calculate the estimated walking distance between every stop against the current stop\n",
    "1. [x] Develop and assume a factor to convert the distance into the estimated walking time\n",
    "1. [x] Convert each distance value into walking time\n",
    "1. [x] Build a table to hold the shortest path values\n",
    "1. [x] Update shortest path values with the walking time to each stop from the current stop\n",
    "1. [x] Create empty lists for Visited vs. Unvisited Neigbors\n",
    "1. [x] Filter down trips to only those where `service_id = 1`\n",
    "1. [x] Scan all trips that depart from the current stop\n",
    "1. [x] Search for the next stop in sequence for each trip found\n",
    "1. [x] Search for Nearest Neighbors - a list of unique stops that are the next available stops from any trip departing from current stop\n",
    "1. ~~Compare the list of Nearest Neighbors with the list of Visited and Unvisited Neighbors; if Visited, ignore/disregard; otherwise add to the list of Unvisited Neigbors~~\n",
    "1. [x] Calculate and find the trip with the shortest duration to each Unvisited Nearest Neighbor\n",
    "1. [x] Update the shortest path table with three values - Duration, Arrival Time, & Previous Stop\n",
    "1. [x] Transfer current stop from Unvisited to Visited Neigbors\n",
    "1. [x] Mark the Unvisited Neigbor with the shortest path as the next current stop; update the current time to the arrival time\n",
    "1. [x] Calculate the walking time to each Unvisited Neigbor\n",
    "1. [x] Compare and arrival time via walking against shortest path and update if necessary\n",
    "1. [x] Find and discover the list of Unvisited Neigbors connected to current stop via transit (upcoming trips)\n",
    "1. [x] Calculate the transit time to each Unvisited Neighbor\n",
    "1. [x] Move the current stop to the list of Visited Neighbors\n",
    "1. [x] Assume a 1 min delay at each point of transfer by adding this to the Duration & Arrival Time\n",
    "1. Loop current stop through all remaining Unvisited Neighbors\n"
   ]
  },
  {
   "cell_type": "markdown",
   "metadata": {},
   "source": [
    "## Ideas\n",
    "- Need to mark on shortest path whether the last trip came over from a transit trip or walk\n",
    "- ~~Can use direction ID on trips to determine intersection blocks. The closest 4 stops - one for each direction, can consist of an intersection.~~ (Direction id is not a spatial direction but inward vs outward). Could use a data science cateogrical search to locate intersectional data as well based on a Nearest Neighbors search.\n",
    "- There is definitely a relationship between shapes and stop sequence. Each seperately or perhaps together might be the answer to the unique set of trips (route-stop combinations). At least for York Mills stops... a unique stop sequence for all trips through home stop id 917 have a 1-1 relationship with a unique shape id\n",
    "- Perhaps can use time duration actual real-time or schedule vs the shape distance traveled metric and come up with some form of speed estimate, optimize pathfinding in the future for traffic delays."
   ]
  },
  {
   "cell_type": "markdown",
   "metadata": {},
   "source": [
    "# My own spin\n",
    "- Use time (seconds) as cost instead of distance or # of nodes\n",
    "- Add a comparison of walking duration to each stop to overcome difficulty of determinng the closest N/S/W/E"
   ]
  },
  {
   "cell_type": "markdown",
   "metadata": {},
   "source": [
    "# WHERE TO GO FROM HERE?\n",
    "\n",
    "- Finish my approach to vectorize and use non-index, non-sorted approach\n",
    "- Implement a priority queue\n",
    "- Implement an A* star approach"
   ]
  },
  {
   "cell_type": "markdown",
   "metadata": {},
   "source": [
    "# DIJIKSTRA"
   ]
  },
  {
   "cell_type": "code",
   "execution_count": null,
   "metadata": {},
   "outputs": [],
   "source": []
  }
 ],
 "metadata": {
  "kernelspec": {
   "display_name": "Python 3",
   "language": "python",
   "name": "python3"
  },
  "language_info": {
   "codemirror_mode": {
    "name": "ipython",
    "version": 3
   },
   "file_extension": ".py",
   "mimetype": "text/x-python",
   "name": "python",
   "nbconvert_exporter": "python",
   "pygments_lexer": "ipython3",
   "version": "3.8.5"
  }
 },
 "nbformat": 4,
 "nbformat_minor": 4
}
