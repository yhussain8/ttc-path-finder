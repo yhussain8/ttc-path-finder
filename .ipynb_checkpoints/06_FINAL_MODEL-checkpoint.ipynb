{
 "cells": [
  {
   "cell_type": "markdown",
   "metadata": {},
   "source": [
    "# Building the main pathfinding function\n",
    "---"
   ]
  },
  {
   "cell_type": "code",
   "execution_count": 1,
   "metadata": {},
   "outputs": [],
   "source": [
    "import numpy as np\n",
    "import pandas as pd"
   ]
  },
  {
   "cell_type": "code",
   "execution_count": 2,
   "metadata": {},
   "outputs": [],
   "source": [
    "import heapq as hq"
   ]
  },
  {
   "cell_type": "code",
   "execution_count": 3,
   "metadata": {},
   "outputs": [],
   "source": [
    "# table of stop data (prefiltered to those in service between regular weekdays from 5pm - 6pm)\n",
    "stops = pd.read_pickle('data/model/model_stops.pickle')"
   ]
  },
  {
   "cell_type": "code",
   "execution_count": 4,
   "metadata": {},
   "outputs": [],
   "source": [
    "# walking speed factor\n",
    "wsf = pd.read_pickle('data/model/f.pickle')"
   ]
  },
  {
   "cell_type": "code",
   "execution_count": 5,
   "metadata": {},
   "outputs": [],
   "source": [
    "# preprocessed reference tables\n",
    "E = pd.read_pickle('data/model/list_of_neighbors.pickle')\n",
    "W = pd.read_pickle('data/model/weights.pickle')"
   ]
  },
  {
   "cell_type": "code",
   "execution_count": 6,
   "metadata": {},
   "outputs": [
    {
     "data": {
      "text/html": [
       "<div>\n",
       "<style scoped>\n",
       "    .dataframe tbody tr th:only-of-type {\n",
       "        vertical-align: middle;\n",
       "    }\n",
       "\n",
       "    .dataframe tbody tr th {\n",
       "        vertical-align: top;\n",
       "    }\n",
       "\n",
       "    .dataframe thead th {\n",
       "        text-align: right;\n",
       "    }\n",
       "</style>\n",
       "<table border=\"1\" class=\"dataframe\">\n",
       "  <thead>\n",
       "    <tr style=\"text-align: right;\">\n",
       "      <th></th>\n",
       "      <th>stop_id</th>\n",
       "      <th>stop_code</th>\n",
       "      <th>stop_name</th>\n",
       "      <th>stop_lat</th>\n",
       "      <th>stop_lon</th>\n",
       "    </tr>\n",
       "  </thead>\n",
       "  <tbody>\n",
       "    <tr>\n",
       "      <th>1</th>\n",
       "      <td>263</td>\n",
       "      <td>929</td>\n",
       "      <td>Davenport Rd at Bedford Rd</td>\n",
       "      <td>43.674448</td>\n",
       "      <td>-79.399659</td>\n",
       "    </tr>\n",
       "    <tr>\n",
       "      <th>2</th>\n",
       "      <td>264</td>\n",
       "      <td>940</td>\n",
       "      <td>Davenport Rd at Dupont St</td>\n",
       "      <td>43.675511</td>\n",
       "      <td>-79.401938</td>\n",
       "    </tr>\n",
       "    <tr>\n",
       "      <th>3</th>\n",
       "      <td>265</td>\n",
       "      <td>1871</td>\n",
       "      <td>Davisville Ave at Cleveland St</td>\n",
       "      <td>43.702088</td>\n",
       "      <td>-79.378112</td>\n",
       "    </tr>\n",
       "  </tbody>\n",
       "</table>\n",
       "</div>"
      ],
      "text/plain": [
       "   stop_id  stop_code                       stop_name   stop_lat   stop_lon\n",
       "1      263        929      Davenport Rd at Bedford Rd  43.674448 -79.399659\n",
       "2      264        940       Davenport Rd at Dupont St  43.675511 -79.401938\n",
       "3      265       1871  Davisville Ave at Cleveland St  43.702088 -79.378112"
      ]
     },
     "execution_count": 6,
     "metadata": {},
     "output_type": "execute_result"
    }
   ],
   "source": [
    "stops.head(3)"
   ]
  },
  {
   "cell_type": "code",
   "execution_count": 7,
   "metadata": {},
   "outputs": [],
   "source": [
    "stop_id_array = stops.stop_id.unique()"
   ]
  },
  {
   "cell_type": "code",
   "execution_count": 8,
   "metadata": {},
   "outputs": [],
   "source": [
    "# search to stops df for the closest stop id given a set of geocoordinates\n",
    "def find_closest_stop_id(input_lat, input_lon):\n",
    "    stop_distance = stops.loc[:, ['stop_id', 'stop_lat', 'stop_lon']]\n",
    "    stop_distance['distance'] = ( abs(input_lat - stop_distance['stop_lat'])**2 + abs(input_lon - stop_distance['stop_lon'])**2 )**(1/2)\n",
    "    closest_stop_id = stop_distance.sort_values(by = 'distance').stop_id.iloc[0]\n",
    "    return closest_stop_id"
   ]
  },
  {
   "cell_type": "code",
   "execution_count": 9,
   "metadata": {},
   "outputs": [],
   "source": [
    "# currently set to home address\n",
    "s_location = (43.760442381532236, -79.33181073515874)"
   ]
  },
  {
   "cell_type": "code",
   "execution_count": 10,
   "metadata": {},
   "outputs": [],
   "source": [
    "# currently set to North York General Hospital near Leslie & Sheppard\n",
    "t_location = (43.769136021058905, -79.3627326936882)"
   ]
  },
  {
   "cell_type": "code",
   "execution_count": 11,
   "metadata": {},
   "outputs": [
    {
     "data": {
      "text/plain": [
       "(917, 2592)"
      ]
     },
     "execution_count": 11,
     "metadata": {},
     "output_type": "execute_result"
    }
   ],
   "source": [
    "# s => source, t => target\n",
    "s_stop_id = find_closest_stop_id(s_location[0], s_location[1])\n",
    "t_stop_id = find_closest_stop_id(t_location[0], t_location[1])\n",
    "\n",
    "s_stop_id, t_stop_id"
   ]
  },
  {
   "cell_type": "code",
   "execution_count": 12,
   "metadata": {},
   "outputs": [
    {
     "data": {
      "text/html": [
       "<div>\n",
       "<style scoped>\n",
       "    .dataframe tbody tr th:only-of-type {\n",
       "        vertical-align: middle;\n",
       "    }\n",
       "\n",
       "    .dataframe tbody tr th {\n",
       "        vertical-align: top;\n",
       "    }\n",
       "\n",
       "    .dataframe thead th {\n",
       "        text-align: right;\n",
       "    }\n",
       "</style>\n",
       "<table border=\"1\" class=\"dataframe\">\n",
       "  <thead>\n",
       "    <tr style=\"text-align: right;\">\n",
       "      <th></th>\n",
       "      <th>stop_id</th>\n",
       "      <th>stop_code</th>\n",
       "      <th>stop_name</th>\n",
       "      <th>stop_lat</th>\n",
       "      <th>stop_lon</th>\n",
       "    </tr>\n",
       "  </thead>\n",
       "  <tbody>\n",
       "    <tr>\n",
       "      <th>436</th>\n",
       "      <td>917</td>\n",
       "      <td>9083</td>\n",
       "      <td>York Mills Rd at Sandover Dr (1222 York Mills)</td>\n",
       "      <td>43.759813</td>\n",
       "      <td>-79.331751</td>\n",
       "    </tr>\n",
       "    <tr>\n",
       "      <th>1835</th>\n",
       "      <td>2592</td>\n",
       "      <td>13688</td>\n",
       "      <td>North York General Hospital - Main Entrance</td>\n",
       "      <td>43.769710</td>\n",
       "      <td>-79.363485</td>\n",
       "    </tr>\n",
       "  </tbody>\n",
       "</table>\n",
       "</div>"
      ],
      "text/plain": [
       "      stop_id  stop_code                                       stop_name  \\\n",
       "436       917       9083  York Mills Rd at Sandover Dr (1222 York Mills)   \n",
       "1835     2592      13688     North York General Hospital - Main Entrance   \n",
       "\n",
       "       stop_lat   stop_lon  \n",
       "436   43.759813 -79.331751  \n",
       "1835  43.769710 -79.363485  "
      ]
     },
     "execution_count": 12,
     "metadata": {},
     "output_type": "execute_result"
    }
   ],
   "source": [
    "# confirm the selection of s & t stops\n",
    "stops[(stops.stop_id == s_stop_id) | (stops.stop_id == t_stop_id)]"
   ]
  },
  {
   "cell_type": "code",
   "execution_count": 13,
   "metadata": {},
   "outputs": [],
   "source": [
    "# create an empty graph df for pathfinding model to build upon\n",
    "graph = stops.copy()\n",
    "graph = graph.set_index('stop_id')\n",
    "graph = graph.drop(columns = ['stop_code', 'stop_name'])\n",
    "graph['duration'] = np.nan\n",
    "graph['parent'] = np.nan\n",
    "graph['transit'] = False"
   ]
  },
  {
   "cell_type": "code",
   "execution_count": 14,
   "metadata": {},
   "outputs": [
    {
     "data": {
      "text/html": [
       "<div>\n",
       "<style scoped>\n",
       "    .dataframe tbody tr th:only-of-type {\n",
       "        vertical-align: middle;\n",
       "    }\n",
       "\n",
       "    .dataframe tbody tr th {\n",
       "        vertical-align: top;\n",
       "    }\n",
       "\n",
       "    .dataframe thead th {\n",
       "        text-align: right;\n",
       "    }\n",
       "</style>\n",
       "<table border=\"1\" class=\"dataframe\">\n",
       "  <thead>\n",
       "    <tr style=\"text-align: right;\">\n",
       "      <th></th>\n",
       "      <th>stop_lat</th>\n",
       "      <th>stop_lon</th>\n",
       "      <th>duration</th>\n",
       "      <th>parent</th>\n",
       "      <th>transit</th>\n",
       "    </tr>\n",
       "    <tr>\n",
       "      <th>stop_id</th>\n",
       "      <th></th>\n",
       "      <th></th>\n",
       "      <th></th>\n",
       "      <th></th>\n",
       "      <th></th>\n",
       "    </tr>\n",
       "  </thead>\n",
       "  <tbody>\n",
       "    <tr>\n",
       "      <th>263</th>\n",
       "      <td>43.674448</td>\n",
       "      <td>-79.399659</td>\n",
       "      <td>NaN</td>\n",
       "      <td>NaN</td>\n",
       "      <td>False</td>\n",
       "    </tr>\n",
       "    <tr>\n",
       "      <th>264</th>\n",
       "      <td>43.675511</td>\n",
       "      <td>-79.401938</td>\n",
       "      <td>NaN</td>\n",
       "      <td>NaN</td>\n",
       "      <td>False</td>\n",
       "    </tr>\n",
       "    <tr>\n",
       "      <th>265</th>\n",
       "      <td>43.702088</td>\n",
       "      <td>-79.378112</td>\n",
       "      <td>NaN</td>\n",
       "      <td>NaN</td>\n",
       "      <td>False</td>\n",
       "    </tr>\n",
       "  </tbody>\n",
       "</table>\n",
       "</div>"
      ],
      "text/plain": [
       "          stop_lat   stop_lon  duration  parent  transit\n",
       "stop_id                                                 \n",
       "263      43.674448 -79.399659       NaN     NaN    False\n",
       "264      43.675511 -79.401938       NaN     NaN    False\n",
       "265      43.702088 -79.378112       NaN     NaN    False"
      ]
     },
     "execution_count": 14,
     "metadata": {},
     "output_type": "execute_result"
    }
   ],
   "source": [
    "graph.head(3)"
   ]
  },
  {
   "cell_type": "code",
   "execution_count": 15,
   "metadata": {},
   "outputs": [],
   "source": [
    "# x = source, y = walking speed factor\n",
    "def initialize_graph(df, x, y):\n",
    "    df2 = df.copy()\n",
    "    lat = df.loc[x, 'stop_lat']\n",
    "    lon = df.loc[x, 'stop_lon']\n",
    "    distance = ((abs(df.stop_lat - lat)**2 + abs(df.stop_lon - lon)**2)**(1/2))\n",
    "    df.duration = distance / y\n",
    "    df2.duration = np.Inf\n",
    "    df2.loc[x, 'duration'] = 0\n",
    "    df2.parent = 0\n",
    "    return df2[['duration', 'parent', 'transit']], df.duration"
   ]
  },
  {
   "cell_type": "code",
   "execution_count": 16,
   "metadata": {},
   "outputs": [],
   "source": [
    "def initialize_priority_queue(graph):\n",
    "    duration = graph.duration.values\n",
    "    index = graph.index.values\n",
    "    counter = len(graph)\n",
    "    queue = list(list(l) for l in zip(duration, range(0, counter), index))\n",
    "    stop_lookup = dict(zip(index, queue))\n",
    "    hq.heapify(queue)\n",
    "    return queue, stop_lookup, counter"
   ]
  },
  {
   "cell_type": "code",
   "execution_count": 17,
   "metadata": {},
   "outputs": [],
   "source": [
    "def update_priority_queue(queue, stop_lookup, counter, stop, duration):\n",
    "    if stop in stop_lookup:\n",
    "        mark_stop_as_invalid(stop_lookup, stop)\n",
    "    counter += 1\n",
    "    stop_entry = [duration, counter, stop]\n",
    "    stop_lookup[stop] = stop_entry\n",
    "    hq.heappush(queue, stop_entry)\n",
    "    return queue, stop_lookup, counter"
   ]
  },
  {
   "cell_type": "code",
   "execution_count": 18,
   "metadata": {},
   "outputs": [],
   "source": [
    "def mark_stop_as_invalid(stop_lookup, stop):\n",
    "    stop_entry = stop_lookup.pop(stop)\n",
    "    stop_entry[-1] = 'invalid_entry'\n",
    "    return stop_lookup"
   ]
  },
  {
   "cell_type": "code",
   "execution_count": 19,
   "metadata": {},
   "outputs": [],
   "source": [
    "def extract_min_from_priority_queue(queue, stop_lookup):\n",
    "    while queue:\n",
    "        duration, count, stop = hq.heappop(queue)\n",
    "        if stop != 'invalid_entry':\n",
    "            del stop_lookup[stop]\n",
    "            return queue, stop_lookup, stop\n",
    "    else:\n",
    "        return queue, stop_lookup, 0"
   ]
  },
  {
   "cell_type": "markdown",
   "metadata": {},
   "source": [
    "# Next Steps to Finish Main Function\n",
    "- final preprocessing to produce E & W reference tables\n",
    "- create a function to calculate the H reference table\n",
    "- create the relax function"
   ]
  },
  {
   "cell_type": "code",
   "execution_count": 20,
   "metadata": {},
   "outputs": [],
   "source": [
    "def path_finder(G, s, t, f):\n",
    "    \n",
    "    G, H = initialize_graph(G, s, f)\n",
    "    \n",
    "    Q, Qd, c = initialize_priority_queue(G)\n",
    "    \n",
    "    while Q:\n",
    "        \n",
    "        Q, Qd, u = extract_min_from_priority_queue(Q, Qd)\n",
    "        \n",
    "        if u == t:\n",
    "            print('found t')\n",
    "            return G\n",
    "        \n",
    "        for v in E.loc[u]:\n",
    "            \n",
    "            w, m = W.loc[(u, v)]\n",
    "            \n",
    "            h = H.loc[u]\n",
    "            \n",
    "            G, Q, Qd, c = relax(u, v, w, m, h, G, Q, Qd, c)\n",
    "    \n",
    "    return G"
   ]
  },
  {
   "cell_type": "code",
   "execution_count": 21,
   "metadata": {},
   "outputs": [],
   "source": [
    "def relax(stop, neighbor, weight, transit, heuristic, graph, queue, stop_lookup, counter):\n",
    "    alternate = graph.loc[stop, 'duration'] + weight + heuristic\n",
    "    if alternate < graph.loc[neighbor, 'duration']:\n",
    "        graph.loc[neighbor, 'duration'] = alternate\n",
    "        graph.loc[neighbor, 'parent'] = stop\n",
    "        graph.loc[neighbor, 'transit'] = transit\n",
    "        queue, stop_lookup, counter = update_priority_queue(queue, stop_lookup, counter, neighbor, alternate)\n",
    "    return graph, queue, stop_lookup, counter"
   ]
  },
  {
   "cell_type": "code",
   "execution_count": 22,
   "metadata": {},
   "outputs": [
    {
     "name": "stdout",
     "output_type": "stream",
     "text": [
      "found t\n",
      "found t\n",
      "found t\n",
      "found t\n",
      "found t\n",
      "found t\n",
      "found t\n",
      "found t\n",
      "19.3 s ± 205 ms per loop (mean ± std. dev. of 7 runs, 1 loop each)\n"
     ]
    }
   ],
   "source": [
    "%%timeit\n",
    "g = path_finder(graph, s_stop_id, 0, wsf)"
   ]
  },
  {
   "cell_type": "code",
   "execution_count": 23,
   "metadata": {},
   "outputs": [],
   "source": [
    "%load_ext line_profiler"
   ]
  },
  {
   "cell_type": "code",
   "execution_count": 24,
   "metadata": {},
   "outputs": [
    {
     "name": "stdout",
     "output_type": "stream",
     "text": [
      "found t\n"
     ]
    },
    {
     "data": {
      "text/plain": [
       "Timer unit: 1e-06 s\n",
       "\n",
       "Total time: 46.7394 s\n",
       "File: <ipython-input-20-5ff2f2bc408b>\n",
       "Function: path_finder at line 1\n",
       "\n",
       "Line #      Hits         Time  Per Hit   % Time  Line Contents\n",
       "==============================================================\n",
       "     1                                           def path_finder(G, s, t, f):\n",
       "     2                                               \n",
       "     3         1       5386.0   5386.0      0.0      G, H = initialize_graph(G, s, f)\n",
       "     4                                               \n",
       "     5         1       6977.0   6977.0      0.0      Q, Qd, c = initialize_priority_queue(G)\n",
       "     6                                               \n",
       "     7      8902       3640.0      0.4      0.0      while Q:\n",
       "     8                                                   \n",
       "     9      8902      77226.0      8.7      0.2          Q, Qd, u = extract_min_from_priority_queue(Q, Qd)\n",
       "    10                                                   \n",
       "    11      8902       5064.0      0.6      0.0          if u == t:\n",
       "    12         1        155.0    155.0      0.0              print('found t')\n",
       "    13         1          0.0      0.0      0.0              return G\n",
       "    14                                                   \n",
       "    15    116793     411209.0      3.5      0.9          for v in E.loc[u]:\n",
       "    16                                                       \n",
       "    17    107892   30018014.0    278.2     64.2              w, m = W.loc[(u, v)]\n",
       "    18                                                       \n",
       "    19    107892    4516049.0     41.9      9.7              h = H.loc[u]\n",
       "    20                                                       \n",
       "    21    107892   11695670.0    108.4     25.0              G, Q, Qd, c = relax(u, v, w, m, h, G, Q, Qd, c)\n",
       "    22                                               \n",
       "    23                                               return G"
      ]
     },
     "metadata": {},
     "output_type": "display_data"
    }
   ],
   "source": [
    "%lprun -f path_finder path_finder(graph, s_stop_id, 0, wsf)"
   ]
  },
  {
   "cell_type": "code",
   "execution_count": 25,
   "metadata": {},
   "outputs": [],
   "source": [
    "def shortest_path(G, s, t):\n",
    "    S = []\n",
    "    u = t\n",
    "    if G.loc[u, 'parent'] != 0:\n",
    "        while u > 0:\n",
    "            S.insert(0, u)\n",
    "            u = G.loc[u, 'parent']\n",
    "    return S"
   ]
  },
  {
   "cell_type": "code",
   "execution_count": 26,
   "metadata": {},
   "outputs": [
    {
     "ename": "NameError",
     "evalue": "name 'g' is not defined",
     "output_type": "error",
     "traceback": [
      "\u001b[0;31m---------------------------------------------------------------------------\u001b[0m",
      "\u001b[0;31mNameError\u001b[0m                                 Traceback (most recent call last)",
      "\u001b[0;32m<ipython-input-26-819e20818711>\u001b[0m in \u001b[0;36m<module>\u001b[0;34m\u001b[0m\n\u001b[0;32m----> 1\u001b[0;31m \u001b[0ms\u001b[0m \u001b[0;34m=\u001b[0m \u001b[0mshortest_path\u001b[0m\u001b[0;34m(\u001b[0m\u001b[0mg\u001b[0m\u001b[0;34m,\u001b[0m \u001b[0ms_stop_id\u001b[0m\u001b[0;34m,\u001b[0m \u001b[0mt_stop_id\u001b[0m\u001b[0;34m)\u001b[0m\u001b[0;34m\u001b[0m\u001b[0;34m\u001b[0m\u001b[0m\n\u001b[0m",
      "\u001b[0;31mNameError\u001b[0m: name 'g' is not defined"
     ]
    }
   ],
   "source": [
    "s = shortest_path(g, s_stop_id, t_stop_id)"
   ]
  },
  {
   "cell_type": "code",
   "execution_count": null,
   "metadata": {},
   "outputs": [],
   "source": [
    "s"
   ]
  },
  {
   "cell_type": "code",
   "execution_count": null,
   "metadata": {},
   "outputs": [],
   "source": [
    "path = pd.DataFrame(columns=stops.columns)"
   ]
  },
  {
   "cell_type": "code",
   "execution_count": null,
   "metadata": {},
   "outputs": [],
   "source": [
    "path"
   ]
  },
  {
   "cell_type": "code",
   "execution_count": null,
   "metadata": {},
   "outputs": [],
   "source": [
    "for i in s:\n",
    "    path = pd.concat([path, stops.loc[stops.stop_id == i]])"
   ]
  },
  {
   "cell_type": "code",
   "execution_count": null,
   "metadata": {},
   "outputs": [],
   "source": [
    "path"
   ]
  }
 ],
 "metadata": {
  "kernelspec": {
   "display_name": "Python 3",
   "language": "python",
   "name": "python3"
  },
  "language_info": {
   "codemirror_mode": {
    "name": "ipython",
    "version": 3
   },
   "file_extension": ".py",
   "mimetype": "text/x-python",
   "name": "python",
   "nbconvert_exporter": "python",
   "pygments_lexer": "ipython3",
   "version": "3.8.5"
  }
 },
 "nbformat": 4,
 "nbformat_minor": 4
}
