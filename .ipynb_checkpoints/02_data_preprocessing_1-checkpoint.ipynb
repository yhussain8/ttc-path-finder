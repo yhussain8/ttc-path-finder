{
 "cells": [
  {
   "cell_type": "markdown",
   "metadata": {},
   "source": [
    "# Data Preprocessing\n",
    "\n",
    "- Working with data downloaded as of Jan 20, 2022\n",
    "- Source: https://open.toronto.ca/dataset/ttc-routes-and-schedules/\n",
    "- `agency` table from raw dataset is ignored as it only contains meta-data\n",
    "- raw data files are in text (.txt) format\n",
    "- processed data saved in feather (.ftr) format to reduce I/O speed and file size"
   ]
  },
  {
   "cell_type": "code",
   "execution_count": 1,
   "metadata": {},
   "outputs": [],
   "source": [
    "import pandas as pd"
   ]
  },
  {
   "cell_type": "code",
   "execution_count": 2,
   "metadata": {},
   "outputs": [],
   "source": [
    "# list of raw data file names\n",
    "\n",
    "data_tables = ['calendar_dates', 'calendar', 'routes', 'shapes', 'stop_times', 'stops', 'trips']"
   ]
  },
  {
   "cell_type": "code",
   "execution_count": 3,
   "metadata": {},
   "outputs": [],
   "source": [
    "# import csv data\n",
    "\n",
    "for table in data_tables:\n",
    "    globals()[table] = pd.read_csv(f'raw-data/ttc-schedule-data/{table}.txt')"
   ]
  },
  {
   "cell_type": "code",
   "execution_count": 4,
   "metadata": {},
   "outputs": [
    {
     "name": "stdout",
     "output_type": "stream",
     "text": [
      "Scanning table calendar_dates...\n",
      "\n",
      "Scanning table calendar...\n",
      "*\n",
      "Deleted column start_date for having only one unique value:\n",
      "20211010\n",
      "*\n",
      "Deleted column end_date for having only one unique value:\n",
      "20211120\n",
      "\n",
      "Scanning table routes...\n",
      "*\n",
      "Deleted column agency_id for having only one unique value:\n",
      "1\n",
      "*\n",
      "Deleted column route_desc for being empty\n",
      "*\n",
      "Deleted column route_url for being empty\n",
      "\n",
      "Scanning table shapes...\n",
      "\n",
      "Scanning table stop_times...\n",
      "*\n",
      "Deleted column stop_headsign for being empty\n",
      "\n",
      "Scanning table stops...\n",
      "*\n",
      "Deleted column stop_desc for being empty\n",
      "*\n",
      "Deleted column zone_id for being empty\n",
      "*\n",
      "Deleted column stop_url for being empty\n",
      "*\n",
      "Deleted column location_type for being empty\n",
      "*\n",
      "Deleted column parent_station for being empty\n",
      "*\n",
      "Deleted column stop_timezone for being empty\n",
      "\n",
      "Scanning table trips...\n",
      "*\n",
      "Deleted column trip_short_name for being empty\n",
      "*\n",
      "Deleted column wheelchair_accessible for having only one unique value:\n",
      "1\n",
      "\n"
     ]
    }
   ],
   "source": [
    "# delete redundant and empty columns (columns with one or none unique values)\n",
    "\n",
    "for table in data_tables:\n",
    "    print(f'Scanning table {table}...')\n",
    "    table_df = globals()[table]\n",
    "    for column in table_df:\n",
    "        num = table_df[column].nunique()\n",
    "        if (num == 0):\n",
    "            table_df.drop(columns = column, inplace = True)\n",
    "            print('*')\n",
    "            print('Deleted column', column, 'for being empty')\n",
    "        elif (num == 1):\n",
    "            unique_value = table_df[column].iloc[0]\n",
    "            table_df.drop(columns = column, inplace = True)\n",
    "            print('*')\n",
    "            print('Deleted column', column, 'for having only one unique value:')\n",
    "            print(unique_value)\n",
    "    print()"
   ]
  },
  {
   "cell_type": "markdown",
   "metadata": {},
   "source": [
    "## Export tables (original data with empty/redundant columns removed)"
   ]
  },
  {
   "cell_type": "code",
   "execution_count": 5,
   "metadata": {},
   "outputs": [],
   "source": [
    "# export dataframes\n",
    "\n",
    "for table in data_tables:\n",
    "    globals()[table].to_feather(f'data/store/{table}.ftr')"
   ]
  },
  {
   "cell_type": "markdown",
   "metadata": {},
   "source": [
    "# trips"
   ]
  },
  {
   "cell_type": "code",
   "execution_count": 6,
   "metadata": {},
   "outputs": [
    {
     "data": {
      "text/plain": [
       "1    113303\n",
       "2     18637\n",
       "Name: bikes_allowed, dtype: int64"
      ]
     },
     "execution_count": 6,
     "metadata": {},
     "output_type": "execute_result"
    }
   ],
   "source": [
    "trips.bikes_allowed.value_counts()\n",
    "\n",
    "# circle back to add a filter for bike access"
   ]
  },
  {
   "cell_type": "code",
   "execution_count": 7,
   "metadata": {},
   "outputs": [
    {
     "data": {
      "text/plain": [
       "5688"
      ]
     },
     "execution_count": 7,
     "metadata": {},
     "output_type": "execute_result"
    }
   ],
   "source": [
    "trips.block_id.value_counts().count()\n",
    "\n",
    "# each block_id represents trips made by a single vehicle"
   ]
  },
  {
   "cell_type": "code",
   "execution_count": 8,
   "metadata": {},
   "outputs": [
    {
     "data": {
      "text/plain": [
       "1    66115\n",
       "0    65825\n",
       "Name: direction_id, dtype: int64"
      ]
     },
     "execution_count": 8,
     "metadata": {},
     "output_type": "execute_result"
    }
   ],
   "source": [
    "trips.direction_id.value_counts()\n",
    "\n",
    "# 1 = opposite direction\n",
    "# 0 = default direction\n",
    "# this might be useful later, but not required for MVP"
   ]
  },
  {
   "cell_type": "code",
   "execution_count": 9,
   "metadata": {},
   "outputs": [
    {
     "data": {
      "text/plain": [
       "1375"
      ]
     },
     "execution_count": 9,
     "metadata": {},
     "output_type": "execute_result"
    }
   ],
   "source": [
    "trips.shape_id.value_counts().count()\n",
    "\n",
    "# each shape_id represents the line followed by vehicles\n",
    "# leave in for now as shape_id might represent the unique route-stop combinations"
   ]
  },
  {
   "cell_type": "code",
   "execution_count": 10,
   "metadata": {},
   "outputs": [],
   "source": [
    "# brute force check to confirm that each shape_id represents a unique combination of stop_id and stop_sequence\n",
    "# for i in trips.shape_id:\n",
    "#     if (stop_times[stop_times.trip_id.isin(trips[trips.shape_id == i].trip_id)].stop_sequence.value_counts().value_counts().count() != 1):\n",
    "#         print(i)\n",
    "\n",
    "# takes long to run, over 5 min+\n",
    "# but no records were found to match"
   ]
  },
  {
   "cell_type": "code",
   "execution_count": 11,
   "metadata": {},
   "outputs": [],
   "source": [
    "trips = trips.drop(columns = ['bikes_allowed', 'block_id', 'direction_id'])"
   ]
  },
  {
   "cell_type": "code",
   "execution_count": 12,
   "metadata": {},
   "outputs": [
    {
     "data": {
      "text/plain": [
       "(131940, 5)"
      ]
     },
     "execution_count": 12,
     "metadata": {},
     "output_type": "execute_result"
    }
   ],
   "source": [
    "trips.shape"
   ]
  },
  {
   "cell_type": "code",
   "execution_count": 13,
   "metadata": {},
   "outputs": [
    {
     "data": {
      "text/html": [
       "<div>\n",
       "<style scoped>\n",
       "    .dataframe tbody tr th:only-of-type {\n",
       "        vertical-align: middle;\n",
       "    }\n",
       "\n",
       "    .dataframe tbody tr th {\n",
       "        vertical-align: top;\n",
       "    }\n",
       "\n",
       "    .dataframe thead th {\n",
       "        text-align: right;\n",
       "    }\n",
       "</style>\n",
       "<table border=\"1\" class=\"dataframe\">\n",
       "  <thead>\n",
       "    <tr style=\"text-align: right;\">\n",
       "      <th></th>\n",
       "      <th>route_id</th>\n",
       "      <th>service_id</th>\n",
       "      <th>trip_id</th>\n",
       "      <th>trip_headsign</th>\n",
       "      <th>shape_id</th>\n",
       "    </tr>\n",
       "  </thead>\n",
       "  <tbody>\n",
       "    <tr>\n",
       "      <th>0</th>\n",
       "      <td>64815</td>\n",
       "      <td>1</td>\n",
       "      <td>42990014</td>\n",
       "      <td>EAST - 10 VAN HORNE towards VICTORIA PARK</td>\n",
       "      <td>886388</td>\n",
       "    </tr>\n",
       "  </tbody>\n",
       "</table>\n",
       "</div>"
      ],
      "text/plain": [
       "   route_id  service_id   trip_id                              trip_headsign  \\\n",
       "0     64815           1  42990014  EAST - 10 VAN HORNE towards VICTORIA PARK   \n",
       "\n",
       "   shape_id  \n",
       "0    886388  "
      ]
     },
     "execution_count": 13,
     "metadata": {},
     "output_type": "execute_result"
    }
   ],
   "source": [
    "trips.head(1)"
   ]
  },
  {
   "cell_type": "code",
   "execution_count": 14,
   "metadata": {},
   "outputs": [
    {
     "data": {
      "text/plain": [
       "(41016, 4)"
      ]
     },
     "execution_count": 14,
     "metadata": {},
     "output_type": "execute_result"
    }
   ],
   "source": [
    "# filter to trips only made during regular weekday service\n",
    "# is_trips => in service trips\n",
    "is_trips = trips[trips.service_id == 1].drop(columns = 'service_id').reset_index(drop = True)\n",
    "is_trips.shape"
   ]
  },
  {
   "cell_type": "code",
   "execution_count": 15,
   "metadata": {},
   "outputs": [
    {
     "data": {
      "text/html": [
       "<div>\n",
       "<style scoped>\n",
       "    .dataframe tbody tr th:only-of-type {\n",
       "        vertical-align: middle;\n",
       "    }\n",
       "\n",
       "    .dataframe tbody tr th {\n",
       "        vertical-align: top;\n",
       "    }\n",
       "\n",
       "    .dataframe thead th {\n",
       "        text-align: right;\n",
       "    }\n",
       "</style>\n",
       "<table border=\"1\" class=\"dataframe\">\n",
       "  <thead>\n",
       "    <tr style=\"text-align: right;\">\n",
       "      <th></th>\n",
       "      <th>route_id</th>\n",
       "      <th>trip_id</th>\n",
       "      <th>trip_headsign</th>\n",
       "      <th>shape_id</th>\n",
       "    </tr>\n",
       "  </thead>\n",
       "  <tbody>\n",
       "    <tr>\n",
       "      <th>0</th>\n",
       "      <td>64815</td>\n",
       "      <td>42990014</td>\n",
       "      <td>EAST - 10 VAN HORNE towards VICTORIA PARK</td>\n",
       "      <td>886388</td>\n",
       "    </tr>\n",
       "  </tbody>\n",
       "</table>\n",
       "</div>"
      ],
      "text/plain": [
       "   route_id   trip_id                              trip_headsign  shape_id\n",
       "0     64815  42990014  EAST - 10 VAN HORNE towards VICTORIA PARK    886388"
      ]
     },
     "execution_count": 15,
     "metadata": {},
     "output_type": "execute_result"
    }
   ],
   "source": [
    "is_trips.head(1)"
   ]
  },
  {
   "cell_type": "markdown",
   "metadata": {},
   "source": [
    "# stop_times"
   ]
  },
  {
   "cell_type": "code",
   "execution_count": 16,
   "metadata": {},
   "outputs": [
    {
     "data": {
      "text/plain": [
       "(4311631, 8)"
      ]
     },
     "execution_count": 16,
     "metadata": {},
     "output_type": "execute_result"
    }
   ],
   "source": [
    "stop_times.shape"
   ]
  },
  {
   "cell_type": "code",
   "execution_count": 17,
   "metadata": {},
   "outputs": [
    {
     "data": {
      "text/plain": [
       "True    4311631\n",
       "dtype: int64"
      ]
     },
     "execution_count": 17,
     "metadata": {},
     "output_type": "execute_result"
    }
   ],
   "source": [
    "# confirm that arrival time & departure time values are the same\n",
    "(stop_times.arrival_time == stop_times.departure_time).value_counts()"
   ]
  },
  {
   "cell_type": "code",
   "execution_count": 18,
   "metadata": {},
   "outputs": [
    {
     "data": {
      "text/plain": [
       "0.0003      212\n",
       "0.0019       47\n",
       "0.0036      112\n",
       "0.0051      136\n",
       "0.0054      189\n",
       "           ... \n",
       "37.3567      35\n",
       "37.4393     913\n",
       "37.5943     867\n",
       "38.2679       3\n",
       "38.9837    1780\n",
       "Name: shape_dist_traveled, Length: 26389, dtype: int64"
      ]
     },
     "execution_count": 18,
     "metadata": {},
     "output_type": "execute_result"
    }
   ],
   "source": [
    "stop_times.shape_dist_traveled.value_counts().sort_index()\n",
    "\n",
    "# represents the distance traveled for by the vehicle making this trip\n",
    "# might be useful for analysis later, but at the moment does not serve any purpose for our MVP"
   ]
  },
  {
   "cell_type": "code",
   "execution_count": 19,
   "metadata": {},
   "outputs": [
    {
     "data": {
      "text/plain": [
       "0    4306516\n",
       "1       5115\n",
       "Name: pickup_type, dtype: int64"
      ]
     },
     "metadata": {},
     "output_type": "display_data"
    },
    {
     "name": "stdout",
     "output_type": "stream",
     "text": [
      "\n"
     ]
    },
    {
     "data": {
      "text/plain": [
       "0    4310638\n",
       "1        993\n",
       "Name: drop_off_type, dtype: int64"
      ]
     },
     "metadata": {},
     "output_type": "display_data"
    }
   ],
   "source": [
    "display(stop_times.pickup_type.value_counts())\n",
    "print()\n",
    "display(stop_times.drop_off_type.value_counts())\n",
    "\n",
    "# 0 = regular service\n",
    "# 1 = no service\n",
    "# need to circle back and filter pathfinding around these stops which are marked as 1\n",
    "# perhaps it might be as simple as to remove these from stop_times table"
   ]
  },
  {
   "cell_type": "code",
   "execution_count": 20,
   "metadata": {},
   "outputs": [],
   "source": [
    "# keep only one of arrival/departure time since they are equal\n",
    "stop_times = stop_times.drop(columns = ['departure_time', 'shape_dist_traveled', 'pickup_type', 'drop_off_type'])\n",
    "stop_times = stop_times.rename(columns = {'arrival_time': 'stop_time'})"
   ]
  },
  {
   "cell_type": "code",
   "execution_count": 21,
   "metadata": {},
   "outputs": [
    {
     "data": {
      "text/html": [
       "<div>\n",
       "<style scoped>\n",
       "    .dataframe tbody tr th:only-of-type {\n",
       "        vertical-align: middle;\n",
       "    }\n",
       "\n",
       "    .dataframe tbody tr th {\n",
       "        vertical-align: top;\n",
       "    }\n",
       "\n",
       "    .dataframe thead th {\n",
       "        text-align: right;\n",
       "    }\n",
       "</style>\n",
       "<table border=\"1\" class=\"dataframe\">\n",
       "  <thead>\n",
       "    <tr style=\"text-align: right;\">\n",
       "      <th></th>\n",
       "      <th>trip_id</th>\n",
       "      <th>stop_time</th>\n",
       "      <th>stop_id</th>\n",
       "      <th>stop_sequence</th>\n",
       "    </tr>\n",
       "  </thead>\n",
       "  <tbody>\n",
       "    <tr>\n",
       "      <th>0</th>\n",
       "      <td>42990004</td>\n",
       "      <td>7:00:29</td>\n",
       "      <td>14155</td>\n",
       "      <td>1</td>\n",
       "    </tr>\n",
       "  </tbody>\n",
       "</table>\n",
       "</div>"
      ],
      "text/plain": [
       "    trip_id stop_time  stop_id  stop_sequence\n",
       "0  42990004   7:00:29    14155              1"
      ]
     },
     "execution_count": 21,
     "metadata": {},
     "output_type": "execute_result"
    }
   ],
   "source": [
    "stop_times.head(1)"
   ]
  },
  {
   "cell_type": "code",
   "execution_count": 22,
   "metadata": {},
   "outputs": [
    {
     "data": {
      "text/plain": [
       "(1304782, 4)"
      ]
     },
     "execution_count": 22,
     "metadata": {},
     "output_type": "execute_result"
    }
   ],
   "source": [
    "is_stop_times = stop_times[stop_times.trip_id.isin(is_trips.trip_id)].reset_index(drop = True)\n",
    "is_stop_times.shape"
   ]
  },
  {
   "cell_type": "markdown",
   "metadata": {},
   "source": [
    "# stops"
   ]
  },
  {
   "cell_type": "code",
   "execution_count": 23,
   "metadata": {},
   "outputs": [
    {
     "data": {
      "text/plain": [
       "(9476, 6)"
      ]
     },
     "execution_count": 23,
     "metadata": {},
     "output_type": "execute_result"
    }
   ],
   "source": [
    "stops.shape"
   ]
  },
  {
   "cell_type": "code",
   "execution_count": 24,
   "metadata": {},
   "outputs": [
    {
     "data": {
      "text/plain": [
       "1    8002\n",
       "2    1474\n",
       "Name: wheelchair_boarding, dtype: int64"
      ]
     },
     "execution_count": 24,
     "metadata": {},
     "output_type": "execute_result"
    }
   ],
   "source": [
    "stops.wheelchair_boarding.value_counts()\n",
    "\n",
    "# circle back to add a user filter for wheelchair access"
   ]
  },
  {
   "cell_type": "code",
   "execution_count": 25,
   "metadata": {},
   "outputs": [],
   "source": [
    "stops = stops.drop(columns = 'wheelchair_boarding')"
   ]
  },
  {
   "cell_type": "code",
   "execution_count": 26,
   "metadata": {},
   "outputs": [
    {
     "data": {
      "text/html": [
       "<div>\n",
       "<style scoped>\n",
       "    .dataframe tbody tr th:only-of-type {\n",
       "        vertical-align: middle;\n",
       "    }\n",
       "\n",
       "    .dataframe tbody tr th {\n",
       "        vertical-align: top;\n",
       "    }\n",
       "\n",
       "    .dataframe thead th {\n",
       "        text-align: right;\n",
       "    }\n",
       "</style>\n",
       "<table border=\"1\" class=\"dataframe\">\n",
       "  <thead>\n",
       "    <tr style=\"text-align: right;\">\n",
       "      <th></th>\n",
       "      <th>stop_id</th>\n",
       "      <th>stop_code</th>\n",
       "      <th>stop_name</th>\n",
       "      <th>stop_lat</th>\n",
       "      <th>stop_lon</th>\n",
       "    </tr>\n",
       "  </thead>\n",
       "  <tbody>\n",
       "    <tr>\n",
       "      <th>0</th>\n",
       "      <td>262</td>\n",
       "      <td>662</td>\n",
       "      <td>Danforth Rd at Kennedy Rd</td>\n",
       "      <td>43.714379</td>\n",
       "      <td>-79.260939</td>\n",
       "    </tr>\n",
       "  </tbody>\n",
       "</table>\n",
       "</div>"
      ],
      "text/plain": [
       "   stop_id  stop_code                  stop_name   stop_lat   stop_lon\n",
       "0      262        662  Danforth Rd at Kennedy Rd  43.714379 -79.260939"
      ]
     },
     "execution_count": 26,
     "metadata": {},
     "output_type": "execute_result"
    }
   ],
   "source": [
    "stops.head(1)"
   ]
  },
  {
   "cell_type": "code",
   "execution_count": 27,
   "metadata": {},
   "outputs": [
    {
     "data": {
      "text/plain": [
       "(9419, 5)"
      ]
     },
     "execution_count": 27,
     "metadata": {},
     "output_type": "execute_result"
    }
   ],
   "source": [
    "is_stops = stops[stops.stop_id.isin(is_stop_times.stop_id)].reset_index(drop = True)\n",
    "is_stops.shape"
   ]
  },
  {
   "cell_type": "markdown",
   "metadata": {},
   "source": [
    "# routes"
   ]
  },
  {
   "cell_type": "code",
   "execution_count": 28,
   "metadata": {},
   "outputs": [
    {
     "data": {
      "text/plain": [
       "(208, 6)"
      ]
     },
     "execution_count": 28,
     "metadata": {},
     "output_type": "execute_result"
    }
   ],
   "source": [
    "routes.shape"
   ]
  },
  {
   "cell_type": "code",
   "execution_count": 29,
   "metadata": {},
   "outputs": [
    {
     "data": {
      "text/plain": [
       "3    191\n",
       "0     13\n",
       "1      4\n",
       "Name: route_type, dtype: int64"
      ]
     },
     "execution_count": 29,
     "metadata": {},
     "output_type": "execute_result"
    }
   ],
   "source": [
    "routes.route_type.value_counts()\n",
    "\n",
    "# 3 = bus\n",
    "# 0 = streetcar / light rail\n",
    "# 1 = subway"
   ]
  },
  {
   "cell_type": "code",
   "execution_count": 30,
   "metadata": {},
   "outputs": [
    {
     "data": {
      "text/html": [
       "<div>\n",
       "<style scoped>\n",
       "    .dataframe tbody tr th:only-of-type {\n",
       "        vertical-align: middle;\n",
       "    }\n",
       "\n",
       "    .dataframe tbody tr th {\n",
       "        vertical-align: top;\n",
       "    }\n",
       "\n",
       "    .dataframe thead th {\n",
       "        text-align: right;\n",
       "    }\n",
       "</style>\n",
       "<table border=\"1\" class=\"dataframe\">\n",
       "  <thead>\n",
       "    <tr style=\"text-align: right;\">\n",
       "      <th></th>\n",
       "      <th>route_id</th>\n",
       "      <th>route_short_name</th>\n",
       "      <th>route_long_name</th>\n",
       "      <th>route_type</th>\n",
       "      <th>route_color</th>\n",
       "      <th>route_text_color</th>\n",
       "    </tr>\n",
       "  </thead>\n",
       "  <tbody>\n",
       "    <tr>\n",
       "      <th>0</th>\n",
       "      <td>65024</td>\n",
       "      <td>1</td>\n",
       "      <td>LINE 1 (YONGE-UNIVERSITY)</td>\n",
       "      <td>1</td>\n",
       "      <td>D5C82B</td>\n",
       "      <td>000000</td>\n",
       "    </tr>\n",
       "    <tr>\n",
       "      <th>52</th>\n",
       "      <td>65025</td>\n",
       "      <td>2</td>\n",
       "      <td>LINE 2 (BLOOR - DANFORTH)</td>\n",
       "      <td>1</td>\n",
       "      <td>008000</td>\n",
       "      <td>FFFFFF</td>\n",
       "    </tr>\n",
       "    <tr>\n",
       "      <th>62</th>\n",
       "      <td>65026</td>\n",
       "      <td>3</td>\n",
       "      <td>LINE 3 (SCARBOROUGH)</td>\n",
       "      <td>1</td>\n",
       "      <td>108BEF</td>\n",
       "      <td>FFFFFF</td>\n",
       "    </tr>\n",
       "    <tr>\n",
       "      <th>104</th>\n",
       "      <td>65027</td>\n",
       "      <td>4</td>\n",
       "      <td>LINE 4 (SHEPPARD)</td>\n",
       "      <td>1</td>\n",
       "      <td>B300B3</td>\n",
       "      <td>FFFFFF</td>\n",
       "    </tr>\n",
       "  </tbody>\n",
       "</table>\n",
       "</div>"
      ],
      "text/plain": [
       "     route_id  route_short_name            route_long_name  route_type  \\\n",
       "0       65024                 1  LINE 1 (YONGE-UNIVERSITY)           1   \n",
       "52      65025                 2  LINE 2 (BLOOR - DANFORTH)           1   \n",
       "62      65026                 3       LINE 3 (SCARBOROUGH)           1   \n",
       "104     65027                 4          LINE 4 (SHEPPARD)           1   \n",
       "\n",
       "    route_color route_text_color  \n",
       "0        D5C82B           000000  \n",
       "52       008000           FFFFFF  \n",
       "62       108BEF           FFFFFF  \n",
       "104      B300B3           FFFFFF  "
      ]
     },
     "execution_count": 30,
     "metadata": {},
     "output_type": "execute_result"
    }
   ],
   "source": [
    "routes[routes.route_type == 1]\n",
    "\n",
    "# note that Line 1 with yellow route_color is the only route \n",
    "# with text color as black, rest have their text color as white"
   ]
  },
  {
   "cell_type": "code",
   "execution_count": 31,
   "metadata": {},
   "outputs": [
    {
     "data": {
      "text/plain": [
       "FF0000    141\n",
       "0000FF     31\n",
       "008000     29\n",
       "00FF00      1\n",
       "D5C82B      1\n",
       "800080      1\n",
       "808000      1\n",
       "108BEF      1\n",
       "FF8040      1\n",
       "B300B3      1\n",
       "Name: route_color, dtype: int64"
      ]
     },
     "execution_count": 31,
     "metadata": {},
     "output_type": "execute_result"
    }
   ],
   "source": [
    "routes.route_color.value_counts()\n",
    "\n",
    "# color names in order: blue, green, light blue, dark purple, light purple, orange, yellow, olive, bright green"
   ]
  },
  {
   "cell_type": "code",
   "execution_count": 32,
   "metadata": {},
   "outputs": [
    {
     "data": {
      "text/plain": [
       "FFFFFF    207\n",
       "000000      1\n",
       "Name: route_text_color, dtype: int64"
      ]
     },
     "execution_count": 32,
     "metadata": {},
     "output_type": "execute_result"
    }
   ],
   "source": [
    "routes.route_text_color.value_counts()\n",
    "\n",
    "# color names in order: white, black"
   ]
  },
  {
   "cell_type": "code",
   "execution_count": 33,
   "metadata": {},
   "outputs": [],
   "source": [
    "routes = routes.drop(columns = ['route_type', 'route_color', 'route_text_color'])"
   ]
  },
  {
   "cell_type": "code",
   "execution_count": 34,
   "metadata": {},
   "outputs": [
    {
     "data": {
      "text/html": [
       "<div>\n",
       "<style scoped>\n",
       "    .dataframe tbody tr th:only-of-type {\n",
       "        vertical-align: middle;\n",
       "    }\n",
       "\n",
       "    .dataframe tbody tr th {\n",
       "        vertical-align: top;\n",
       "    }\n",
       "\n",
       "    .dataframe thead th {\n",
       "        text-align: right;\n",
       "    }\n",
       "</style>\n",
       "<table border=\"1\" class=\"dataframe\">\n",
       "  <thead>\n",
       "    <tr style=\"text-align: right;\">\n",
       "      <th></th>\n",
       "      <th>route_id</th>\n",
       "      <th>route_short_name</th>\n",
       "      <th>route_long_name</th>\n",
       "    </tr>\n",
       "  </thead>\n",
       "  <tbody>\n",
       "    <tr>\n",
       "      <th>0</th>\n",
       "      <td>65024</td>\n",
       "      <td>1</td>\n",
       "      <td>LINE 1 (YONGE-UNIVERSITY)</td>\n",
       "    </tr>\n",
       "  </tbody>\n",
       "</table>\n",
       "</div>"
      ],
      "text/plain": [
       "   route_id  route_short_name            route_long_name\n",
       "0     65024                 1  LINE 1 (YONGE-UNIVERSITY)"
      ]
     },
     "execution_count": 34,
     "metadata": {},
     "output_type": "execute_result"
    }
   ],
   "source": [
    "routes.head(1)"
   ]
  },
  {
   "cell_type": "code",
   "execution_count": 35,
   "metadata": {},
   "outputs": [
    {
     "data": {
      "text/plain": [
       "(205, 3)"
      ]
     },
     "execution_count": 35,
     "metadata": {},
     "output_type": "execute_result"
    }
   ],
   "source": [
    "is_routes = routes[routes.route_id.isin(is_trips.route_id)].reset_index(drop = True)\n",
    "is_routes.shape"
   ]
  },
  {
   "cell_type": "markdown",
   "metadata": {},
   "source": [
    "## Tables below not required for MVP"
   ]
  },
  {
   "cell_type": "code",
   "execution_count": 36,
   "metadata": {},
   "outputs": [
    {
     "data": {
      "text/html": [
       "<div>\n",
       "<style scoped>\n",
       "    .dataframe tbody tr th:only-of-type {\n",
       "        vertical-align: middle;\n",
       "    }\n",
       "\n",
       "    .dataframe tbody tr th {\n",
       "        vertical-align: top;\n",
       "    }\n",
       "\n",
       "    .dataframe thead th {\n",
       "        text-align: right;\n",
       "    }\n",
       "</style>\n",
       "<table border=\"1\" class=\"dataframe\">\n",
       "  <thead>\n",
       "    <tr style=\"text-align: right;\">\n",
       "      <th></th>\n",
       "      <th>service_id</th>\n",
       "      <th>monday</th>\n",
       "      <th>tuesday</th>\n",
       "      <th>wednesday</th>\n",
       "      <th>thursday</th>\n",
       "      <th>friday</th>\n",
       "      <th>saturday</th>\n",
       "      <th>sunday</th>\n",
       "    </tr>\n",
       "  </thead>\n",
       "  <tbody>\n",
       "    <tr>\n",
       "      <th>0</th>\n",
       "      <td>1</td>\n",
       "      <td>1</td>\n",
       "      <td>1</td>\n",
       "      <td>1</td>\n",
       "      <td>1</td>\n",
       "      <td>1</td>\n",
       "      <td>0</td>\n",
       "      <td>0</td>\n",
       "    </tr>\n",
       "  </tbody>\n",
       "</table>\n",
       "</div>"
      ],
      "text/plain": [
       "   service_id  monday  tuesday  wednesday  thursday  friday  saturday  sunday\n",
       "0           1       1        1          1         1       1         0       0"
      ]
     },
     "execution_count": 36,
     "metadata": {},
     "output_type": "execute_result"
    }
   ],
   "source": [
    "calendar.head(1)"
   ]
  },
  {
   "cell_type": "code",
   "execution_count": 37,
   "metadata": {},
   "outputs": [
    {
     "data": {
      "text/html": [
       "<div>\n",
       "<style scoped>\n",
       "    .dataframe tbody tr th:only-of-type {\n",
       "        vertical-align: middle;\n",
       "    }\n",
       "\n",
       "    .dataframe tbody tr th {\n",
       "        vertical-align: top;\n",
       "    }\n",
       "\n",
       "    .dataframe thead th {\n",
       "        text-align: right;\n",
       "    }\n",
       "</style>\n",
       "<table border=\"1\" class=\"dataframe\">\n",
       "  <thead>\n",
       "    <tr style=\"text-align: right;\">\n",
       "      <th></th>\n",
       "      <th>service_id</th>\n",
       "      <th>date</th>\n",
       "      <th>exception_type</th>\n",
       "    </tr>\n",
       "  </thead>\n",
       "  <tbody>\n",
       "    <tr>\n",
       "      <th>0</th>\n",
       "      <td>4</td>\n",
       "      <td>20211011</td>\n",
       "      <td>1</td>\n",
       "    </tr>\n",
       "  </tbody>\n",
       "</table>\n",
       "</div>"
      ],
      "text/plain": [
       "   service_id      date  exception_type\n",
       "0           4  20211011               1"
      ]
     },
     "execution_count": 37,
     "metadata": {},
     "output_type": "execute_result"
    }
   ],
   "source": [
    "calendar_dates.head(1)"
   ]
  },
  {
   "cell_type": "code",
   "execution_count": 38,
   "metadata": {},
   "outputs": [
    {
     "data": {
      "text/html": [
       "<div>\n",
       "<style scoped>\n",
       "    .dataframe tbody tr th:only-of-type {\n",
       "        vertical-align: middle;\n",
       "    }\n",
       "\n",
       "    .dataframe tbody tr th {\n",
       "        vertical-align: top;\n",
       "    }\n",
       "\n",
       "    .dataframe thead th {\n",
       "        text-align: right;\n",
       "    }\n",
       "</style>\n",
       "<table border=\"1\" class=\"dataframe\">\n",
       "  <thead>\n",
       "    <tr style=\"text-align: right;\">\n",
       "      <th></th>\n",
       "      <th>shape_id</th>\n",
       "      <th>shape_pt_lat</th>\n",
       "      <th>shape_pt_lon</th>\n",
       "      <th>shape_pt_sequence</th>\n",
       "      <th>shape_dist_traveled</th>\n",
       "    </tr>\n",
       "  </thead>\n",
       "  <tbody>\n",
       "    <tr>\n",
       "      <th>0</th>\n",
       "      <td>886387</td>\n",
       "      <td>43.775608</td>\n",
       "      <td>-79.346046</td>\n",
       "      <td>1</td>\n",
       "      <td>0.0</td>\n",
       "    </tr>\n",
       "  </tbody>\n",
       "</table>\n",
       "</div>"
      ],
      "text/plain": [
       "   shape_id  shape_pt_lat  shape_pt_lon  shape_pt_sequence  \\\n",
       "0    886387     43.775608    -79.346046                  1   \n",
       "\n",
       "   shape_dist_traveled  \n",
       "0                  0.0  "
      ]
     },
     "execution_count": 38,
     "metadata": {},
     "output_type": "execute_result"
    }
   ],
   "source": [
    "shapes.head(1)"
   ]
  },
  {
   "cell_type": "markdown",
   "metadata": {},
   "source": [
    "## Minimize routes table by merging with trips"
   ]
  },
  {
   "cell_type": "code",
   "execution_count": 39,
   "metadata": {},
   "outputs": [
    {
     "name": "stdout",
     "output_type": "stream",
     "text": [
      "(205, 3)\n"
     ]
    },
    {
     "data": {
      "text/html": [
       "<div>\n",
       "<style scoped>\n",
       "    .dataframe tbody tr th:only-of-type {\n",
       "        vertical-align: middle;\n",
       "    }\n",
       "\n",
       "    .dataframe tbody tr th {\n",
       "        vertical-align: top;\n",
       "    }\n",
       "\n",
       "    .dataframe thead th {\n",
       "        text-align: right;\n",
       "    }\n",
       "</style>\n",
       "<table border=\"1\" class=\"dataframe\">\n",
       "  <thead>\n",
       "    <tr style=\"text-align: right;\">\n",
       "      <th></th>\n",
       "      <th>route_id</th>\n",
       "      <th>route_short_name</th>\n",
       "      <th>route_long_name</th>\n",
       "    </tr>\n",
       "  </thead>\n",
       "  <tbody>\n",
       "    <tr>\n",
       "      <th>0</th>\n",
       "      <td>65024</td>\n",
       "      <td>1</td>\n",
       "      <td>LINE 1 (YONGE-UNIVERSITY)</td>\n",
       "    </tr>\n",
       "  </tbody>\n",
       "</table>\n",
       "</div>"
      ],
      "text/plain": [
       "   route_id  route_short_name            route_long_name\n",
       "0     65024                 1  LINE 1 (YONGE-UNIVERSITY)"
      ]
     },
     "execution_count": 39,
     "metadata": {},
     "output_type": "execute_result"
    }
   ],
   "source": [
    "print(is_routes.shape)\n",
    "is_routes.head(1)"
   ]
  },
  {
   "cell_type": "code",
   "execution_count": 40,
   "metadata": {},
   "outputs": [
    {
     "name": "stdout",
     "output_type": "stream",
     "text": [
      "(41016, 4)\n"
     ]
    },
    {
     "data": {
      "text/html": [
       "<div>\n",
       "<style scoped>\n",
       "    .dataframe tbody tr th:only-of-type {\n",
       "        vertical-align: middle;\n",
       "    }\n",
       "\n",
       "    .dataframe tbody tr th {\n",
       "        vertical-align: top;\n",
       "    }\n",
       "\n",
       "    .dataframe thead th {\n",
       "        text-align: right;\n",
       "    }\n",
       "</style>\n",
       "<table border=\"1\" class=\"dataframe\">\n",
       "  <thead>\n",
       "    <tr style=\"text-align: right;\">\n",
       "      <th></th>\n",
       "      <th>route_id</th>\n",
       "      <th>trip_id</th>\n",
       "      <th>trip_headsign</th>\n",
       "      <th>shape_id</th>\n",
       "    </tr>\n",
       "  </thead>\n",
       "  <tbody>\n",
       "    <tr>\n",
       "      <th>0</th>\n",
       "      <td>64815</td>\n",
       "      <td>42990014</td>\n",
       "      <td>EAST - 10 VAN HORNE towards VICTORIA PARK</td>\n",
       "      <td>886388</td>\n",
       "    </tr>\n",
       "  </tbody>\n",
       "</table>\n",
       "</div>"
      ],
      "text/plain": [
       "   route_id   trip_id                              trip_headsign  shape_id\n",
       "0     64815  42990014  EAST - 10 VAN HORNE towards VICTORIA PARK    886388"
      ]
     },
     "execution_count": 40,
     "metadata": {},
     "output_type": "execute_result"
    }
   ],
   "source": [
    "print(is_trips.shape)\n",
    "is_trips.head(1)"
   ]
  },
  {
   "cell_type": "code",
   "execution_count": 41,
   "metadata": {},
   "outputs": [],
   "source": [
    "is_trips = pd.merge(is_trips, is_routes, 'inner', 'route_id')"
   ]
  },
  {
   "cell_type": "code",
   "execution_count": 42,
   "metadata": {},
   "outputs": [],
   "source": [
    "is_trips = is_trips[['trip_id', 'shape_id', 'route_short_name', 'route_long_name', 'trip_headsign']]\n",
    "# rearrange columns and drop route_id as no longer required"
   ]
  },
  {
   "cell_type": "code",
   "execution_count": 43,
   "metadata": {},
   "outputs": [
    {
     "data": {
      "text/html": [
       "<div>\n",
       "<style scoped>\n",
       "    .dataframe tbody tr th:only-of-type {\n",
       "        vertical-align: middle;\n",
       "    }\n",
       "\n",
       "    .dataframe tbody tr th {\n",
       "        vertical-align: top;\n",
       "    }\n",
       "\n",
       "    .dataframe thead th {\n",
       "        text-align: right;\n",
       "    }\n",
       "</style>\n",
       "<table border=\"1\" class=\"dataframe\">\n",
       "  <thead>\n",
       "    <tr style=\"text-align: right;\">\n",
       "      <th></th>\n",
       "      <th>trip_id</th>\n",
       "      <th>shape_id</th>\n",
       "      <th>route_short_name</th>\n",
       "      <th>route_long_name</th>\n",
       "      <th>trip_headsign</th>\n",
       "    </tr>\n",
       "  </thead>\n",
       "  <tbody>\n",
       "    <tr>\n",
       "      <th>0</th>\n",
       "      <td>42990014</td>\n",
       "      <td>886388</td>\n",
       "      <td>10</td>\n",
       "      <td>VAN HORNE</td>\n",
       "      <td>EAST - 10 VAN HORNE towards VICTORIA PARK</td>\n",
       "    </tr>\n",
       "  </tbody>\n",
       "</table>\n",
       "</div>"
      ],
      "text/plain": [
       "    trip_id  shape_id  route_short_name route_long_name  \\\n",
       "0  42990014    886388                10       VAN HORNE   \n",
       "\n",
       "                               trip_headsign  \n",
       "0  EAST - 10 VAN HORNE towards VICTORIA PARK  "
      ]
     },
     "execution_count": 43,
     "metadata": {},
     "output_type": "execute_result"
    }
   ],
   "source": [
    "is_trips.head(1)"
   ]
  },
  {
   "cell_type": "markdown",
   "metadata": {},
   "source": [
    "## Create a master stop_times table with all data merged from trips & stops"
   ]
  },
  {
   "cell_type": "code",
   "execution_count": 44,
   "metadata": {},
   "outputs": [
    {
     "data": {
      "text/plain": [
       "((1304782, 4), (41016, 5), (9419, 5))"
      ]
     },
     "execution_count": 44,
     "metadata": {},
     "output_type": "execute_result"
    }
   ],
   "source": [
    "is_stop_times.shape, is_trips.shape, is_stops.shape"
   ]
  },
  {
   "cell_type": "code",
   "execution_count": 45,
   "metadata": {},
   "outputs": [],
   "source": [
    "schedule = pd.merge(is_stop_times, is_trips, 'inner', 'trip_id')"
   ]
  },
  {
   "cell_type": "code",
   "execution_count": 46,
   "metadata": {},
   "outputs": [],
   "source": [
    "schedule = pd.merge(schedule, stops, 'inner', 'stop_id')"
   ]
  },
  {
   "cell_type": "code",
   "execution_count": 47,
   "metadata": {},
   "outputs": [
    {
     "data": {
      "text/plain": [
       "trip_id   stop_sequence\n",
       "43128797  5                1\n",
       "43003167  39               1\n",
       "          32               1\n",
       "          33               1\n",
       "          34               1\n",
       "                          ..\n",
       "43015153  34               1\n",
       "          35               1\n",
       "          36               1\n",
       "          37               1\n",
       "42990004  1                1\n",
       "Length: 1304782, dtype: int64"
      ]
     },
     "execution_count": 47,
     "metadata": {},
     "output_type": "execute_result"
    }
   ],
   "source": [
    "schedule[['trip_id', 'stop_sequence']].value_counts()"
   ]
  },
  {
   "cell_type": "code",
   "execution_count": 48,
   "metadata": {},
   "outputs": [
    {
     "data": {
      "text/html": [
       "<div>\n",
       "<style scoped>\n",
       "    .dataframe tbody tr th:only-of-type {\n",
       "        vertical-align: middle;\n",
       "    }\n",
       "\n",
       "    .dataframe tbody tr th {\n",
       "        vertical-align: top;\n",
       "    }\n",
       "\n",
       "    .dataframe thead th {\n",
       "        text-align: right;\n",
       "    }\n",
       "</style>\n",
       "<table border=\"1\" class=\"dataframe\">\n",
       "  <thead>\n",
       "    <tr style=\"text-align: right;\">\n",
       "      <th></th>\n",
       "      <th>trip_id</th>\n",
       "      <th>stop_time</th>\n",
       "      <th>stop_id</th>\n",
       "      <th>stop_sequence</th>\n",
       "      <th>shape_id</th>\n",
       "      <th>route_short_name</th>\n",
       "      <th>route_long_name</th>\n",
       "      <th>trip_headsign</th>\n",
       "      <th>stop_code</th>\n",
       "      <th>stop_name</th>\n",
       "      <th>stop_lat</th>\n",
       "      <th>stop_lon</th>\n",
       "    </tr>\n",
       "  </thead>\n",
       "  <tbody>\n",
       "    <tr>\n",
       "      <th>0</th>\n",
       "      <td>42990004</td>\n",
       "      <td>7:00:29</td>\n",
       "      <td>14155</td>\n",
       "      <td>1</td>\n",
       "      <td>886387</td>\n",
       "      <td>10</td>\n",
       "      <td>VAN HORNE</td>\n",
       "      <td>EAST - 10 VAN HORNE towards VICTORIA PARK</td>\n",
       "      <td>14633</td>\n",
       "      <td>Don Mills Station</td>\n",
       "      <td>43.776222</td>\n",
       "      <td>-79.347048</td>\n",
       "    </tr>\n",
       "  </tbody>\n",
       "</table>\n",
       "</div>"
      ],
      "text/plain": [
       "    trip_id stop_time  stop_id  stop_sequence  shape_id  route_short_name  \\\n",
       "0  42990004   7:00:29    14155              1    886387                10   \n",
       "\n",
       "  route_long_name                              trip_headsign  stop_code  \\\n",
       "0       VAN HORNE  EAST - 10 VAN HORNE towards VICTORIA PARK      14633   \n",
       "\n",
       "           stop_name   stop_lat   stop_lon  \n",
       "0  Don Mills Station  43.776222 -79.347048  "
      ]
     },
     "execution_count": 48,
     "metadata": {},
     "output_type": "execute_result"
    }
   ],
   "source": [
    "schedule.head(1)"
   ]
  },
  {
   "cell_type": "code",
   "execution_count": 49,
   "metadata": {},
   "outputs": [],
   "source": [
    "schedule = schedule[['trip_id', 'shape_id', 'stop_sequence', 'stop_time', 'stop_id', 'stop_lat', 'stop_lon', 'stop_code', 'stop_name', 'route_short_name', 'route_long_name', 'trip_headsign']]\n",
    "# route_id removed as no longer relevant, no need for external reference as all data has been merged here (unlike stop_id which is required for model)\n",
    "# also route_id has a 1-1 relationship with route_short_name and can act as a key on its own"
   ]
  },
  {
   "cell_type": "code",
   "execution_count": 50,
   "metadata": {},
   "outputs": [],
   "source": [
    "schedule = schedule.sort_values(by = ['trip_id', 'shape_id', 'stop_sequence']).reset_index(drop = True)"
   ]
  },
  {
   "cell_type": "markdown",
   "metadata": {},
   "source": [
    "# Convert and save stop_time as a timedelta value"
   ]
  },
  {
   "cell_type": "code",
   "execution_count": 51,
   "metadata": {},
   "outputs": [],
   "source": [
    "# create new time delta value\n",
    "is_stop_times['stop_time_delta'] = pd.to_timedelta(is_stop_times.stop_time)\n",
    "schedule['stop_time_delta'] = pd.to_timedelta(schedule.stop_time)"
   ]
  },
  {
   "cell_type": "code",
   "execution_count": 52,
   "metadata": {},
   "outputs": [],
   "source": [
    "# reorder columns\n",
    "is_stop_times = is_stop_times[['trip_id', 'stop_sequence', 'stop_id', 'stop_time', 'stop_time_delta']]\n",
    "schedule = schedule[['trip_id', 'route_short_name', 'route_long_name', 'shape_id', 'trip_headsign', 'stop_sequence', 'stop_time', 'stop_time_delta', 'stop_id', 'stop_code', 'stop_name', 'stop_lat', 'stop_lon']]\n",
    "is_stops = is_stops[['stop_id', 'stop_code', 'stop_name', 'stop_lat', 'stop_lon']]"
   ]
  },
  {
   "cell_type": "code",
   "execution_count": 53,
   "metadata": {},
   "outputs": [],
   "source": [
    "is_trips = is_trips.sort_values(by = 'trip_id').reset_index(drop = True)\n",
    "is_stops = is_stops.sort_values(by = 'stop_id').reset_index(drop = True)\n",
    "is_stop_times = is_stop_times.sort_values(by = ['trip_id', 'stop_sequence']).reset_index(drop = True)\n",
    "schedule = schedule.sort_values(by = ['trip_id', 'stop_sequence']).reset_index(drop = True)"
   ]
  },
  {
   "cell_type": "markdown",
   "metadata": {},
   "source": [
    "## Final data format"
   ]
  },
  {
   "cell_type": "code",
   "execution_count": 54,
   "metadata": {},
   "outputs": [
    {
     "data": {
      "text/html": [
       "<div>\n",
       "<style scoped>\n",
       "    .dataframe tbody tr th:only-of-type {\n",
       "        vertical-align: middle;\n",
       "    }\n",
       "\n",
       "    .dataframe tbody tr th {\n",
       "        vertical-align: top;\n",
       "    }\n",
       "\n",
       "    .dataframe thead th {\n",
       "        text-align: right;\n",
       "    }\n",
       "</style>\n",
       "<table border=\"1\" class=\"dataframe\">\n",
       "  <thead>\n",
       "    <tr style=\"text-align: right;\">\n",
       "      <th></th>\n",
       "      <th>trip_id</th>\n",
       "      <th>route_short_name</th>\n",
       "      <th>route_long_name</th>\n",
       "      <th>shape_id</th>\n",
       "      <th>trip_headsign</th>\n",
       "      <th>stop_sequence</th>\n",
       "      <th>stop_time</th>\n",
       "      <th>stop_time_delta</th>\n",
       "      <th>stop_id</th>\n",
       "      <th>stop_code</th>\n",
       "      <th>stop_name</th>\n",
       "      <th>stop_lat</th>\n",
       "      <th>stop_lon</th>\n",
       "    </tr>\n",
       "  </thead>\n",
       "  <tbody>\n",
       "    <tr>\n",
       "      <th>0</th>\n",
       "      <td>42990004</td>\n",
       "      <td>10</td>\n",
       "      <td>VAN HORNE</td>\n",
       "      <td>886387</td>\n",
       "      <td>EAST - 10 VAN HORNE towards VICTORIA PARK</td>\n",
       "      <td>1</td>\n",
       "      <td>7:00:29</td>\n",
       "      <td>0 days 07:00:29</td>\n",
       "      <td>14155</td>\n",
       "      <td>14633</td>\n",
       "      <td>Don Mills Station</td>\n",
       "      <td>43.776222</td>\n",
       "      <td>-79.347048</td>\n",
       "    </tr>\n",
       "  </tbody>\n",
       "</table>\n",
       "</div>"
      ],
      "text/plain": [
       "    trip_id  route_short_name route_long_name  shape_id  \\\n",
       "0  42990004                10       VAN HORNE    886387   \n",
       "\n",
       "                               trip_headsign  stop_sequence stop_time  \\\n",
       "0  EAST - 10 VAN HORNE towards VICTORIA PARK              1   7:00:29   \n",
       "\n",
       "  stop_time_delta  stop_id  stop_code          stop_name   stop_lat   stop_lon  \n",
       "0 0 days 07:00:29    14155      14633  Don Mills Station  43.776222 -79.347048  "
      ]
     },
     "execution_count": 54,
     "metadata": {},
     "output_type": "execute_result"
    }
   ],
   "source": [
    "schedule.head(1)"
   ]
  },
  {
   "cell_type": "code",
   "execution_count": 55,
   "metadata": {},
   "outputs": [
    {
     "data": {
      "text/html": [
       "<div>\n",
       "<style scoped>\n",
       "    .dataframe tbody tr th:only-of-type {\n",
       "        vertical-align: middle;\n",
       "    }\n",
       "\n",
       "    .dataframe tbody tr th {\n",
       "        vertical-align: top;\n",
       "    }\n",
       "\n",
       "    .dataframe thead th {\n",
       "        text-align: right;\n",
       "    }\n",
       "</style>\n",
       "<table border=\"1\" class=\"dataframe\">\n",
       "  <thead>\n",
       "    <tr style=\"text-align: right;\">\n",
       "      <th></th>\n",
       "      <th>trip_id</th>\n",
       "      <th>stop_sequence</th>\n",
       "      <th>stop_id</th>\n",
       "      <th>stop_time</th>\n",
       "      <th>stop_time_delta</th>\n",
       "    </tr>\n",
       "  </thead>\n",
       "  <tbody>\n",
       "    <tr>\n",
       "      <th>0</th>\n",
       "      <td>42990004</td>\n",
       "      <td>1</td>\n",
       "      <td>14155</td>\n",
       "      <td>7:00:29</td>\n",
       "      <td>0 days 07:00:29</td>\n",
       "    </tr>\n",
       "  </tbody>\n",
       "</table>\n",
       "</div>"
      ],
      "text/plain": [
       "    trip_id  stop_sequence  stop_id stop_time stop_time_delta\n",
       "0  42990004              1    14155   7:00:29 0 days 07:00:29"
      ]
     },
     "execution_count": 55,
     "metadata": {},
     "output_type": "execute_result"
    }
   ],
   "source": [
    "is_stop_times.head(1)"
   ]
  },
  {
   "cell_type": "code",
   "execution_count": 56,
   "metadata": {},
   "outputs": [
    {
     "data": {
      "text/html": [
       "<div>\n",
       "<style scoped>\n",
       "    .dataframe tbody tr th:only-of-type {\n",
       "        vertical-align: middle;\n",
       "    }\n",
       "\n",
       "    .dataframe tbody tr th {\n",
       "        vertical-align: top;\n",
       "    }\n",
       "\n",
       "    .dataframe thead th {\n",
       "        text-align: right;\n",
       "    }\n",
       "</style>\n",
       "<table border=\"1\" class=\"dataframe\">\n",
       "  <thead>\n",
       "    <tr style=\"text-align: right;\">\n",
       "      <th></th>\n",
       "      <th>trip_id</th>\n",
       "      <th>shape_id</th>\n",
       "      <th>route_short_name</th>\n",
       "      <th>route_long_name</th>\n",
       "      <th>trip_headsign</th>\n",
       "    </tr>\n",
       "  </thead>\n",
       "  <tbody>\n",
       "    <tr>\n",
       "      <th>0</th>\n",
       "      <td>42990004</td>\n",
       "      <td>886387</td>\n",
       "      <td>10</td>\n",
       "      <td>VAN HORNE</td>\n",
       "      <td>EAST - 10 VAN HORNE towards VICTORIA PARK</td>\n",
       "    </tr>\n",
       "  </tbody>\n",
       "</table>\n",
       "</div>"
      ],
      "text/plain": [
       "    trip_id  shape_id  route_short_name route_long_name  \\\n",
       "0  42990004    886387                10       VAN HORNE   \n",
       "\n",
       "                               trip_headsign  \n",
       "0  EAST - 10 VAN HORNE towards VICTORIA PARK  "
      ]
     },
     "execution_count": 56,
     "metadata": {},
     "output_type": "execute_result"
    }
   ],
   "source": [
    "is_trips.head(1)"
   ]
  },
  {
   "cell_type": "code",
   "execution_count": 57,
   "metadata": {},
   "outputs": [
    {
     "data": {
      "text/html": [
       "<div>\n",
       "<style scoped>\n",
       "    .dataframe tbody tr th:only-of-type {\n",
       "        vertical-align: middle;\n",
       "    }\n",
       "\n",
       "    .dataframe tbody tr th {\n",
       "        vertical-align: top;\n",
       "    }\n",
       "\n",
       "    .dataframe thead th {\n",
       "        text-align: right;\n",
       "    }\n",
       "</style>\n",
       "<table border=\"1\" class=\"dataframe\">\n",
       "  <thead>\n",
       "    <tr style=\"text-align: right;\">\n",
       "      <th></th>\n",
       "      <th>stop_id</th>\n",
       "      <th>stop_code</th>\n",
       "      <th>stop_name</th>\n",
       "      <th>stop_lat</th>\n",
       "      <th>stop_lon</th>\n",
       "    </tr>\n",
       "  </thead>\n",
       "  <tbody>\n",
       "    <tr>\n",
       "      <th>0</th>\n",
       "      <td>262</td>\n",
       "      <td>662</td>\n",
       "      <td>Danforth Rd at Kennedy Rd</td>\n",
       "      <td>43.714379</td>\n",
       "      <td>-79.260939</td>\n",
       "    </tr>\n",
       "  </tbody>\n",
       "</table>\n",
       "</div>"
      ],
      "text/plain": [
       "   stop_id  stop_code                  stop_name   stop_lat   stop_lon\n",
       "0      262        662  Danforth Rd at Kennedy Rd  43.714379 -79.260939"
      ]
     },
     "execution_count": 57,
     "metadata": {},
     "output_type": "execute_result"
    }
   ],
   "source": [
    "is_stops.head(1)"
   ]
  },
  {
   "cell_type": "markdown",
   "metadata": {},
   "source": [
    "## Export data (as needed to build model)"
   ]
  },
  {
   "cell_type": "code",
   "execution_count": 58,
   "metadata": {},
   "outputs": [],
   "source": [
    "is_trips.to_feather('data/model/trips.ftr')\n",
    "is_stops.to_feather('data/model/stops.ftr')\n",
    "is_stop_times.to_feather('data/model/stop_times.ftr')\n",
    "schedule.to_feather('data/model/schedule.ftr')"
   ]
  }
 ],
 "metadata": {
  "kernelspec": {
   "display_name": "Python 3",
   "language": "python",
   "name": "python3"
  },
  "language_info": {
   "codemirror_mode": {
    "name": "ipython",
    "version": 3
   },
   "file_extension": ".py",
   "mimetype": "text/x-python",
   "name": "python",
   "nbconvert_exporter": "python",
   "pygments_lexer": "ipython3",
   "version": "3.8.5"
  }
 },
 "nbformat": 4,
 "nbformat_minor": 4
}
