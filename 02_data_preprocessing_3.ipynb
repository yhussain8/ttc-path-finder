{
 "cells": [
  {
   "cell_type": "markdown",
   "metadata": {},
   "source": [
    "# Build the H Reference Table\n",
    "- multi-index table which contains the estimated walking duration (in seconds) from each stop to the other\n",
    "---"
   ]
  },
  {
   "cell_type": "code",
   "execution_count": 3,
   "metadata": {},
   "outputs": [],
   "source": [
    "import numpy as np\n",
    "import pandas as pd\n",
    "from datetime import timedelta as td"
   ]
  },
  {
   "cell_type": "code",
   "execution_count": 4,
   "metadata": {},
   "outputs": [],
   "source": [
    "seq = pd.read_feather('data/model/shape_sequence_durations.ftr')"
   ]
  },
  {
   "cell_type": "code",
   "execution_count": 6,
   "metadata": {},
   "outputs": [],
   "source": [
    "stops = pd.read_feather('data/model/stops.ftr')"
   ]
  },
  {
   "cell_type": "code",
   "execution_count": 9,
   "metadata": {},
   "outputs": [],
   "source": [
    "f = pd.read_pickle('data/model/f.pickle')"
   ]
  },
  {
   "cell_type": "code",
   "execution_count": 10,
   "metadata": {},
   "outputs": [
    {
     "data": {
      "text/plain": [
       "1.4267500000002541e-05"
      ]
     },
     "execution_count": 10,
     "metadata": {},
     "output_type": "execute_result"
    }
   ],
   "source": [
    "f"
   ]
  },
  {
   "cell_type": "code",
   "execution_count": 11,
   "metadata": {},
   "outputs": [
    {
     "data": {
      "text/html": [
       "<div>\n",
       "<style scoped>\n",
       "    .dataframe tbody tr th:only-of-type {\n",
       "        vertical-align: middle;\n",
       "    }\n",
       "\n",
       "    .dataframe tbody tr th {\n",
       "        vertical-align: top;\n",
       "    }\n",
       "\n",
       "    .dataframe thead th {\n",
       "        text-align: right;\n",
       "    }\n",
       "</style>\n",
       "<table border=\"1\" class=\"dataframe\">\n",
       "  <thead>\n",
       "    <tr style=\"text-align: right;\">\n",
       "      <th></th>\n",
       "      <th>stop_id</th>\n",
       "      <th>stop_code</th>\n",
       "      <th>stop_name</th>\n",
       "      <th>stop_lat</th>\n",
       "      <th>stop_lon</th>\n",
       "    </tr>\n",
       "  </thead>\n",
       "  <tbody>\n",
       "    <tr>\n",
       "      <th>0</th>\n",
       "      <td>262</td>\n",
       "      <td>662</td>\n",
       "      <td>Danforth Rd at Kennedy Rd</td>\n",
       "      <td>43.714379</td>\n",
       "      <td>-79.260939</td>\n",
       "    </tr>\n",
       "  </tbody>\n",
       "</table>\n",
       "</div>"
      ],
      "text/plain": [
       "   stop_id  stop_code                  stop_name   stop_lat   stop_lon\n",
       "0      262        662  Danforth Rd at Kennedy Rd  43.714379 -79.260939"
      ]
     },
     "execution_count": 11,
     "metadata": {},
     "output_type": "execute_result"
    }
   ],
   "source": [
    "stops.head(1)"
   ]
  },
  {
   "cell_type": "code",
   "execution_count": 12,
   "metadata": {},
   "outputs": [
    {
     "data": {
      "text/html": [
       "<div>\n",
       "<style scoped>\n",
       "    .dataframe tbody tr th:only-of-type {\n",
       "        vertical-align: middle;\n",
       "    }\n",
       "\n",
       "    .dataframe tbody tr th {\n",
       "        vertical-align: top;\n",
       "    }\n",
       "\n",
       "    .dataframe thead th {\n",
       "        text-align: right;\n",
       "    }\n",
       "</style>\n",
       "<table border=\"1\" class=\"dataframe\">\n",
       "  <thead>\n",
       "    <tr style=\"text-align: right;\">\n",
       "      <th></th>\n",
       "      <th>shape_id</th>\n",
       "      <th>stop_sequence</th>\n",
       "      <th>next_stop_duration</th>\n",
       "      <th>next_stop_seconds</th>\n",
       "    </tr>\n",
       "  </thead>\n",
       "  <tbody>\n",
       "    <tr>\n",
       "      <th>0</th>\n",
       "      <td>886387</td>\n",
       "      <td>1</td>\n",
       "      <td>0 days 00:00:50</td>\n",
       "      <td>50.0</td>\n",
       "    </tr>\n",
       "  </tbody>\n",
       "</table>\n",
       "</div>"
      ],
      "text/plain": [
       "   shape_id  stop_sequence next_stop_duration  next_stop_seconds\n",
       "0    886387              1    0 days 00:00:50               50.0"
      ]
     },
     "execution_count": 12,
     "metadata": {},
     "output_type": "execute_result"
    }
   ],
   "source": [
    "seq.head(1)"
   ]
  },
  {
   "cell_type": "code",
   "execution_count": 8,
   "metadata": {},
   "outputs": [
    {
     "data": {
      "text/html": [
       "<div>\n",
       "<style scoped>\n",
       "    .dataframe tbody tr th:only-of-type {\n",
       "        vertical-align: middle;\n",
       "    }\n",
       "\n",
       "    .dataframe tbody tr th {\n",
       "        vertical-align: top;\n",
       "    }\n",
       "\n",
       "    .dataframe thead th {\n",
       "        text-align: right;\n",
       "    }\n",
       "</style>\n",
       "<table border=\"1\" class=\"dataframe\">\n",
       "  <thead>\n",
       "    <tr style=\"text-align: right;\">\n",
       "      <th></th>\n",
       "      <th>stop_id</th>\n",
       "      <th>stop_code</th>\n",
       "      <th>stop_name</th>\n",
       "      <th>stop_lat</th>\n",
       "      <th>stop_lon</th>\n",
       "    </tr>\n",
       "  </thead>\n",
       "  <tbody>\n",
       "    <tr>\n",
       "      <th>436</th>\n",
       "      <td>917</td>\n",
       "      <td>9083</td>\n",
       "      <td>York Mills Rd at Sandover Dr (1222 York Mills)</td>\n",
       "      <td>43.759813</td>\n",
       "      <td>-79.331751</td>\n",
       "    </tr>\n",
       "  </tbody>\n",
       "</table>\n",
       "</div>"
      ],
      "text/plain": [
       "     stop_id  stop_code                                       stop_name  \\\n",
       "436      917       9083  York Mills Rd at Sandover Dr (1222 York Mills)   \n",
       "\n",
       "      stop_lat   stop_lon  \n",
       "436  43.759813 -79.331751  "
      ]
     },
     "execution_count": 8,
     "metadata": {},
     "output_type": "execute_result"
    }
   ],
   "source": [
    "stops[stops.stop_id == 917]"
   ]
  },
  {
   "cell_type": "code",
   "execution_count": 42,
   "metadata": {},
   "outputs": [
    {
     "data": {
      "text/html": [
       "<div>\n",
       "<style scoped>\n",
       "    .dataframe tbody tr th:only-of-type {\n",
       "        vertical-align: middle;\n",
       "    }\n",
       "\n",
       "    .dataframe tbody tr th {\n",
       "        vertical-align: top;\n",
       "    }\n",
       "\n",
       "    .dataframe thead th {\n",
       "        text-align: right;\n",
       "    }\n",
       "</style>\n",
       "<table border=\"1\" class=\"dataframe\">\n",
       "  <thead>\n",
       "    <tr style=\"text-align: right;\">\n",
       "      <th></th>\n",
       "      <th>stop_id</th>\n",
       "      <th>stop_code</th>\n",
       "      <th>stop_name</th>\n",
       "      <th>stop_lat</th>\n",
       "      <th>stop_lon</th>\n",
       "    </tr>\n",
       "  </thead>\n",
       "  <tbody>\n",
       "    <tr>\n",
       "      <th>1371</th>\n",
       "      <td>2036</td>\n",
       "      <td>9065</td>\n",
       "      <td>Yonge St at York Mills Rd North Side (York Mil...</td>\n",
       "      <td>43.744863</td>\n",
       "      <td>-79.406660</td>\n",
       "    </tr>\n",
       "    <tr>\n",
       "      <th>7791</th>\n",
       "      <td>9756</td>\n",
       "      <td>9066</td>\n",
       "      <td>Yonge St at Wilson Ave (York Mills Station)</td>\n",
       "      <td>43.744290</td>\n",
       "      <td>-79.406957</td>\n",
       "    </tr>\n",
       "    <tr>\n",
       "      <th>8655</th>\n",
       "      <td>14407</td>\n",
       "      <td>13792</td>\n",
       "      <td>York Mills Station - Southbound Platform</td>\n",
       "      <td>43.743248</td>\n",
       "      <td>-79.405991</td>\n",
       "    </tr>\n",
       "    <tr>\n",
       "      <th>8712</th>\n",
       "      <td>14464</td>\n",
       "      <td>13791</td>\n",
       "      <td>York Mills Station - Northbound Platform</td>\n",
       "      <td>43.744448</td>\n",
       "      <td>-79.406191</td>\n",
       "    </tr>\n",
       "  </tbody>\n",
       "</table>\n",
       "</div>"
      ],
      "text/plain": [
       "      stop_id  stop_code                                          stop_name  \\\n",
       "1371     2036       9065  Yonge St at York Mills Rd North Side (York Mil...   \n",
       "7791     9756       9066        Yonge St at Wilson Ave (York Mills Station)   \n",
       "8655    14407      13792           York Mills Station - Southbound Platform   \n",
       "8712    14464      13791           York Mills Station - Northbound Platform   \n",
       "\n",
       "       stop_lat   stop_lon  \n",
       "1371  43.744863 -79.406660  \n",
       "7791  43.744290 -79.406957  \n",
       "8655  43.743248 -79.405991  \n",
       "8712  43.744448 -79.406191  "
      ]
     },
     "execution_count": 42,
     "metadata": {},
     "output_type": "execute_result"
    }
   ],
   "source": [
    "stops[stops.stop_name.str.contains('York Mills Station')]"
   ]
  },
  {
   "cell_type": "code",
   "execution_count": 36,
   "metadata": {},
   "outputs": [],
   "source": [
    "r = f * 60 * 5"
   ]
  },
  {
   "cell_type": "code",
   "execution_count": 44,
   "metadata": {},
   "outputs": [],
   "source": [
    "s = stops[(stops.stop_lat < (43.743248 + r)) & (stops.stop_lat > (43.743248 - r)) & (stops.stop_lon < (-79.405991 + r)) & (stops.stop_lon > (-79.405991 - r))]"
   ]
  },
  {
   "cell_type": "code",
   "execution_count": 45,
   "metadata": {},
   "outputs": [
    {
     "data": {
      "text/html": [
       "<div>\n",
       "<style scoped>\n",
       "    .dataframe tbody tr th:only-of-type {\n",
       "        vertical-align: middle;\n",
       "    }\n",
       "\n",
       "    .dataframe tbody tr th {\n",
       "        vertical-align: top;\n",
       "    }\n",
       "\n",
       "    .dataframe thead th {\n",
       "        text-align: right;\n",
       "    }\n",
       "</style>\n",
       "<table border=\"1\" class=\"dataframe\">\n",
       "  <thead>\n",
       "    <tr style=\"text-align: right;\">\n",
       "      <th></th>\n",
       "      <th>stop_id</th>\n",
       "      <th>stop_code</th>\n",
       "      <th>stop_name</th>\n",
       "      <th>stop_lat</th>\n",
       "      <th>stop_lon</th>\n",
       "    </tr>\n",
       "  </thead>\n",
       "  <tbody>\n",
       "    <tr>\n",
       "      <th>433</th>\n",
       "      <td>909</td>\n",
       "      <td>11371</td>\n",
       "      <td>Yonge St at Wilson Ave South Side</td>\n",
       "      <td>43.743514</td>\n",
       "      <td>-79.406769</td>\n",
       "    </tr>\n",
       "    <tr>\n",
       "      <th>434</th>\n",
       "      <td>910</td>\n",
       "      <td>11394</td>\n",
       "      <td>Yonge St at York Mills Rd</td>\n",
       "      <td>43.743783</td>\n",
       "      <td>-79.406435</td>\n",
       "    </tr>\n",
       "    <tr>\n",
       "      <th>437</th>\n",
       "      <td>918</td>\n",
       "      <td>9907</td>\n",
       "      <td>York Mills Rd at Yonge St East Side</td>\n",
       "      <td>43.744162</td>\n",
       "      <td>-79.405826</td>\n",
       "    </tr>\n",
       "    <tr>\n",
       "      <th>438</th>\n",
       "      <td>919</td>\n",
       "      <td>9906</td>\n",
       "      <td>York Mills Rd at Yonge St</td>\n",
       "      <td>43.744417</td>\n",
       "      <td>-79.405968</td>\n",
       "    </tr>\n",
       "    <tr>\n",
       "      <th>439</th>\n",
       "      <td>920</td>\n",
       "      <td>3264</td>\n",
       "      <td>York Mills Rd at York Ridge Rd</td>\n",
       "      <td>43.744189</td>\n",
       "      <td>-79.401756</td>\n",
       "    </tr>\n",
       "    <tr>\n",
       "      <th>1363</th>\n",
       "      <td>2025</td>\n",
       "      <td>11333</td>\n",
       "      <td>York Mills Rd at Old York Mills Rd</td>\n",
       "      <td>43.744177</td>\n",
       "      <td>-79.404398</td>\n",
       "    </tr>\n",
       "    <tr>\n",
       "      <th>1371</th>\n",
       "      <td>2036</td>\n",
       "      <td>9065</td>\n",
       "      <td>Yonge St at York Mills Rd North Side (York Mil...</td>\n",
       "      <td>43.744863</td>\n",
       "      <td>-79.406660</td>\n",
       "    </tr>\n",
       "    <tr>\n",
       "      <th>1786</th>\n",
       "      <td>2535</td>\n",
       "      <td>8954</td>\n",
       "      <td>3800 Yonge St</td>\n",
       "      <td>43.739128</td>\n",
       "      <td>-79.405865</td>\n",
       "    </tr>\n",
       "    <tr>\n",
       "      <th>2283</th>\n",
       "      <td>3125</td>\n",
       "      <td>9060</td>\n",
       "      <td>Yonge St at Mcglashan Rd</td>\n",
       "      <td>43.741787</td>\n",
       "      <td>-79.406054</td>\n",
       "    </tr>\n",
       "    <tr>\n",
       "      <th>2567</th>\n",
       "      <td>3458</td>\n",
       "      <td>9025</td>\n",
       "      <td>Yonge St at Mcglashan Rd South Side</td>\n",
       "      <td>43.741635</td>\n",
       "      <td>-79.406410</td>\n",
       "    </tr>\n",
       "    <tr>\n",
       "      <th>4700</th>\n",
       "      <td>6062</td>\n",
       "      <td>11334</td>\n",
       "      <td>York Mills Rd at Old York Mills Rd</td>\n",
       "      <td>43.744461</td>\n",
       "      <td>-79.404964</td>\n",
       "    </tr>\n",
       "    <tr>\n",
       "      <th>6937</th>\n",
       "      <td>8735</td>\n",
       "      <td>8963</td>\n",
       "      <td>Yonge St at William Carson Cres</td>\n",
       "      <td>43.747206</td>\n",
       "      <td>-79.407246</td>\n",
       "    </tr>\n",
       "    <tr>\n",
       "      <th>7523</th>\n",
       "      <td>9435</td>\n",
       "      <td>9029</td>\n",
       "      <td>Yonge St at Mill St</td>\n",
       "      <td>43.739952</td>\n",
       "      <td>-79.405683</td>\n",
       "    </tr>\n",
       "    <tr>\n",
       "      <th>7791</th>\n",
       "      <td>9756</td>\n",
       "      <td>9066</td>\n",
       "      <td>Yonge St at Wilson Ave (York Mills Station)</td>\n",
       "      <td>43.744290</td>\n",
       "      <td>-79.406957</td>\n",
       "    </tr>\n",
       "    <tr>\n",
       "      <th>8102</th>\n",
       "      <td>10131</td>\n",
       "      <td>8964</td>\n",
       "      <td>Yonge St at William Carson Cres</td>\n",
       "      <td>43.747410</td>\n",
       "      <td>-79.407670</td>\n",
       "    </tr>\n",
       "    <tr>\n",
       "      <th>8655</th>\n",
       "      <td>14407</td>\n",
       "      <td>13792</td>\n",
       "      <td>York Mills Station - Southbound Platform</td>\n",
       "      <td>43.743248</td>\n",
       "      <td>-79.405991</td>\n",
       "    </tr>\n",
       "    <tr>\n",
       "      <th>8712</th>\n",
       "      <td>14464</td>\n",
       "      <td>13791</td>\n",
       "      <td>York Mills Station - Northbound Platform</td>\n",
       "      <td>43.744448</td>\n",
       "      <td>-79.406191</td>\n",
       "    </tr>\n",
       "    <tr>\n",
       "      <th>9369</th>\n",
       "      <td>24355</td>\n",
       "      <td>15972</td>\n",
       "      <td>York Mills Temporary Bus Loop</td>\n",
       "      <td>43.744159</td>\n",
       "      <td>-79.407760</td>\n",
       "    </tr>\n",
       "    <tr>\n",
       "      <th>9370</th>\n",
       "      <td>24356</td>\n",
       "      <td>15973</td>\n",
       "      <td>York Mills Temporary Bus Loop</td>\n",
       "      <td>43.744258</td>\n",
       "      <td>-79.407524</td>\n",
       "    </tr>\n",
       "    <tr>\n",
       "      <th>9371</th>\n",
       "      <td>24357</td>\n",
       "      <td>15974</td>\n",
       "      <td>York Mills Temporary Bus Loop</td>\n",
       "      <td>43.744303</td>\n",
       "      <td>-79.407324</td>\n",
       "    </tr>\n",
       "    <tr>\n",
       "      <th>9372</th>\n",
       "      <td>24358</td>\n",
       "      <td>15975</td>\n",
       "      <td>York Mills Temporary Bus Loop</td>\n",
       "      <td>43.744536</td>\n",
       "      <td>-79.407150</td>\n",
       "    </tr>\n",
       "    <tr>\n",
       "      <th>9373</th>\n",
       "      <td>24359</td>\n",
       "      <td>15976</td>\n",
       "      <td>York Mills Temporary Bus Loop</td>\n",
       "      <td>43.744634</td>\n",
       "      <td>-79.407686</td>\n",
       "    </tr>\n",
       "    <tr>\n",
       "      <th>9374</th>\n",
       "      <td>24360</td>\n",
       "      <td>15977</td>\n",
       "      <td>York Mills Temporary Bus Loop</td>\n",
       "      <td>43.744607</td>\n",
       "      <td>-79.407835</td>\n",
       "    </tr>\n",
       "    <tr>\n",
       "      <th>9375</th>\n",
       "      <td>24361</td>\n",
       "      <td>15978</td>\n",
       "      <td>York Mills Temporary Bus Loop</td>\n",
       "      <td>43.744545</td>\n",
       "      <td>-79.408035</td>\n",
       "    </tr>\n",
       "  </tbody>\n",
       "</table>\n",
       "</div>"
      ],
      "text/plain": [
       "      stop_id  stop_code                                          stop_name  \\\n",
       "433       909      11371                  Yonge St at Wilson Ave South Side   \n",
       "434       910      11394                          Yonge St at York Mills Rd   \n",
       "437       918       9907                York Mills Rd at Yonge St East Side   \n",
       "438       919       9906                          York Mills Rd at Yonge St   \n",
       "439       920       3264                     York Mills Rd at York Ridge Rd   \n",
       "1363     2025      11333                 York Mills Rd at Old York Mills Rd   \n",
       "1371     2036       9065  Yonge St at York Mills Rd North Side (York Mil...   \n",
       "1786     2535       8954                                      3800 Yonge St   \n",
       "2283     3125       9060                           Yonge St at Mcglashan Rd   \n",
       "2567     3458       9025                Yonge St at Mcglashan Rd South Side   \n",
       "4700     6062      11334                 York Mills Rd at Old York Mills Rd   \n",
       "6937     8735       8963                    Yonge St at William Carson Cres   \n",
       "7523     9435       9029                                Yonge St at Mill St   \n",
       "7791     9756       9066        Yonge St at Wilson Ave (York Mills Station)   \n",
       "8102    10131       8964                    Yonge St at William Carson Cres   \n",
       "8655    14407      13792           York Mills Station - Southbound Platform   \n",
       "8712    14464      13791           York Mills Station - Northbound Platform   \n",
       "9369    24355      15972                      York Mills Temporary Bus Loop   \n",
       "9370    24356      15973                      York Mills Temporary Bus Loop   \n",
       "9371    24357      15974                      York Mills Temporary Bus Loop   \n",
       "9372    24358      15975                      York Mills Temporary Bus Loop   \n",
       "9373    24359      15976                      York Mills Temporary Bus Loop   \n",
       "9374    24360      15977                      York Mills Temporary Bus Loop   \n",
       "9375    24361      15978                      York Mills Temporary Bus Loop   \n",
       "\n",
       "       stop_lat   stop_lon  \n",
       "433   43.743514 -79.406769  \n",
       "434   43.743783 -79.406435  \n",
       "437   43.744162 -79.405826  \n",
       "438   43.744417 -79.405968  \n",
       "439   43.744189 -79.401756  \n",
       "1363  43.744177 -79.404398  \n",
       "1371  43.744863 -79.406660  \n",
       "1786  43.739128 -79.405865  \n",
       "2283  43.741787 -79.406054  \n",
       "2567  43.741635 -79.406410  \n",
       "4700  43.744461 -79.404964  \n",
       "6937  43.747206 -79.407246  \n",
       "7523  43.739952 -79.405683  \n",
       "7791  43.744290 -79.406957  \n",
       "8102  43.747410 -79.407670  \n",
       "8655  43.743248 -79.405991  \n",
       "8712  43.744448 -79.406191  \n",
       "9369  43.744159 -79.407760  \n",
       "9370  43.744258 -79.407524  \n",
       "9371  43.744303 -79.407324  \n",
       "9372  43.744536 -79.407150  \n",
       "9373  43.744634 -79.407686  \n",
       "9374  43.744607 -79.407835  \n",
       "9375  43.744545 -79.408035  "
      ]
     },
     "execution_count": 45,
     "metadata": {},
     "output_type": "execute_result"
    }
   ],
   "source": [
    "s"
   ]
  },
  {
   "cell_type": "code",
   "execution_count": 40,
   "metadata": {},
   "outputs": [
    {
     "data": {
      "text/plain": [
       "(917, 3590, 4880, 5191, 6061, 6223, 6235, 6379, 6913, 8081, 10256)"
      ]
     },
     "execution_count": 40,
     "metadata": {},
     "output_type": "execute_result"
    }
   ],
   "source": [
    "tuple(s.stop_id)"
   ]
  },
  {
   "cell_type": "code",
   "execution_count": 6,
   "metadata": {},
   "outputs": [],
   "source": [
    "H = stops.copy()"
   ]
  },
  {
   "cell_type": "code",
   "execution_count": 9,
   "metadata": {},
   "outputs": [],
   "source": [
    "H = H.set_index('stop_id')"
   ]
  },
  {
   "cell_type": "code",
   "execution_count": 16,
   "metadata": {},
   "outputs": [],
   "source": [
    "H = H.drop(columns = ['stop_code', 'stop_name'])"
   ]
  },
  {
   "cell_type": "code",
   "execution_count": 19,
   "metadata": {},
   "outputs": [],
   "source": [
    "H = H.rename(columns = {'stop_lat': 'lat', 'stop_lon': 'lon'})"
   ]
  },
  {
   "cell_type": "code",
   "execution_count": 20,
   "metadata": {},
   "outputs": [
    {
     "data": {
      "text/html": [
       "<div>\n",
       "<style scoped>\n",
       "    .dataframe tbody tr th:only-of-type {\n",
       "        vertical-align: middle;\n",
       "    }\n",
       "\n",
       "    .dataframe tbody tr th {\n",
       "        vertical-align: top;\n",
       "    }\n",
       "\n",
       "    .dataframe thead th {\n",
       "        text-align: right;\n",
       "    }\n",
       "</style>\n",
       "<table border=\"1\" class=\"dataframe\">\n",
       "  <thead>\n",
       "    <tr style=\"text-align: right;\">\n",
       "      <th></th>\n",
       "      <th>lat</th>\n",
       "      <th>lon</th>\n",
       "    </tr>\n",
       "    <tr>\n",
       "      <th>stop_id</th>\n",
       "      <th></th>\n",
       "      <th></th>\n",
       "    </tr>\n",
       "  </thead>\n",
       "  <tbody>\n",
       "    <tr>\n",
       "      <th>262</th>\n",
       "      <td>43.714379</td>\n",
       "      <td>-79.260939</td>\n",
       "    </tr>\n",
       "    <tr>\n",
       "      <th>263</th>\n",
       "      <td>43.674448</td>\n",
       "      <td>-79.399659</td>\n",
       "    </tr>\n",
       "    <tr>\n",
       "      <th>264</th>\n",
       "      <td>43.675511</td>\n",
       "      <td>-79.401938</td>\n",
       "    </tr>\n",
       "    <tr>\n",
       "      <th>265</th>\n",
       "      <td>43.702088</td>\n",
       "      <td>-79.378112</td>\n",
       "    </tr>\n",
       "    <tr>\n",
       "      <th>266</th>\n",
       "      <td>43.701362</td>\n",
       "      <td>-79.594843</td>\n",
       "    </tr>\n",
       "    <tr>\n",
       "      <th>...</th>\n",
       "      <td>...</td>\n",
       "      <td>...</td>\n",
       "    </tr>\n",
       "    <tr>\n",
       "      <th>24418</th>\n",
       "      <td>43.663948</td>\n",
       "      <td>-79.358666</td>\n",
       "    </tr>\n",
       "    <tr>\n",
       "      <th>24419</th>\n",
       "      <td>43.665766</td>\n",
       "      <td>-79.352651</td>\n",
       "    </tr>\n",
       "    <tr>\n",
       "      <th>24420</th>\n",
       "      <td>43.665695</td>\n",
       "      <td>-79.354843</td>\n",
       "    </tr>\n",
       "    <tr>\n",
       "      <th>24421</th>\n",
       "      <td>43.664960</td>\n",
       "      <td>-79.355329</td>\n",
       "    </tr>\n",
       "    <tr>\n",
       "      <th>24422</th>\n",
       "      <td>43.600805</td>\n",
       "      <td>-79.517877</td>\n",
       "    </tr>\n",
       "  </tbody>\n",
       "</table>\n",
       "<p>9419 rows × 2 columns</p>\n",
       "</div>"
      ],
      "text/plain": [
       "               lat        lon\n",
       "stop_id                      \n",
       "262      43.714379 -79.260939\n",
       "263      43.674448 -79.399659\n",
       "264      43.675511 -79.401938\n",
       "265      43.702088 -79.378112\n",
       "266      43.701362 -79.594843\n",
       "...            ...        ...\n",
       "24418    43.663948 -79.358666\n",
       "24419    43.665766 -79.352651\n",
       "24420    43.665695 -79.354843\n",
       "24421    43.664960 -79.355329\n",
       "24422    43.600805 -79.517877\n",
       "\n",
       "[9419 rows x 2 columns]"
      ]
     },
     "execution_count": 20,
     "metadata": {},
     "output_type": "execute_result"
    }
   ],
   "source": [
    "H"
   ]
  },
  {
   "cell_type": "code",
   "execution_count": 34,
   "metadata": {},
   "outputs": [],
   "source": [
    "V = H.index.to_list()"
   ]
  },
  {
   "cell_type": "code",
   "execution_count": 37,
   "metadata": {},
   "outputs": [],
   "source": [
    "V = tuple(V)"
   ]
  },
  {
   "cell_type": "code",
   "execution_count": 38,
   "metadata": {},
   "outputs": [
    {
     "data": {
      "text/plain": [
       "tuple"
      ]
     },
     "execution_count": 38,
     "metadata": {},
     "output_type": "execute_result"
    }
   ],
   "source": [
    "type(V)"
   ]
  },
  {
   "cell_type": "code",
   "execution_count": 69,
   "metadata": {},
   "outputs": [
    {
     "data": {
      "text/plain": [
       "(262, 263, 264, 265, 266, 267, 268, 269, 270, 271)"
      ]
     },
     "execution_count": 69,
     "metadata": {},
     "output_type": "execute_result"
    }
   ],
   "source": [
    "V[:10]"
   ]
  },
  {
   "cell_type": "code",
   "execution_count": 68,
   "metadata": {},
   "outputs": [
    {
     "data": {
      "text/plain": [
       "(24413, 24414, 24415, 24416, 24417, 24418, 24419, 24420, 24421, 24422)"
      ]
     },
     "execution_count": 68,
     "metadata": {},
     "output_type": "execute_result"
    }
   ],
   "source": [
    "V[-10:]"
   ]
  },
  {
   "cell_type": "code",
   "execution_count": 70,
   "metadata": {},
   "outputs": [
    {
     "data": {
      "text/html": [
       "<div>\n",
       "<style scoped>\n",
       "    .dataframe tbody tr th:only-of-type {\n",
       "        vertical-align: middle;\n",
       "    }\n",
       "\n",
       "    .dataframe tbody tr th {\n",
       "        vertical-align: top;\n",
       "    }\n",
       "\n",
       "    .dataframe thead th {\n",
       "        text-align: right;\n",
       "    }\n",
       "</style>\n",
       "<table border=\"1\" class=\"dataframe\">\n",
       "  <thead>\n",
       "    <tr style=\"text-align: right;\">\n",
       "      <th></th>\n",
       "      <th>stop_id</th>\n",
       "      <th>stop_code</th>\n",
       "      <th>stop_name</th>\n",
       "      <th>stop_lat</th>\n",
       "      <th>stop_lon</th>\n",
       "    </tr>\n",
       "  </thead>\n",
       "  <tbody>\n",
       "    <tr>\n",
       "      <th>0</th>\n",
       "      <td>262</td>\n",
       "      <td>662</td>\n",
       "      <td>Danforth Rd at Kennedy Rd</td>\n",
       "      <td>43.714379</td>\n",
       "      <td>-79.260939</td>\n",
       "    </tr>\n",
       "    <tr>\n",
       "      <th>1</th>\n",
       "      <td>263</td>\n",
       "      <td>929</td>\n",
       "      <td>Davenport Rd at Bedford Rd</td>\n",
       "      <td>43.674448</td>\n",
       "      <td>-79.399659</td>\n",
       "    </tr>\n",
       "    <tr>\n",
       "      <th>2</th>\n",
       "      <td>264</td>\n",
       "      <td>940</td>\n",
       "      <td>Davenport Rd at Dupont St</td>\n",
       "      <td>43.675511</td>\n",
       "      <td>-79.401938</td>\n",
       "    </tr>\n",
       "    <tr>\n",
       "      <th>3</th>\n",
       "      <td>265</td>\n",
       "      <td>1871</td>\n",
       "      <td>Davisville Ave at Cleveland St</td>\n",
       "      <td>43.702088</td>\n",
       "      <td>-79.378112</td>\n",
       "    </tr>\n",
       "    <tr>\n",
       "      <th>4</th>\n",
       "      <td>266</td>\n",
       "      <td>11700</td>\n",
       "      <td>Disco Rd at Attwell Dr</td>\n",
       "      <td>43.701362</td>\n",
       "      <td>-79.594843</td>\n",
       "    </tr>\n",
       "    <tr>\n",
       "      <th>...</th>\n",
       "      <td>...</td>\n",
       "      <td>...</td>\n",
       "      <td>...</td>\n",
       "      <td>...</td>\n",
       "      <td>...</td>\n",
       "    </tr>\n",
       "    <tr>\n",
       "      <th>9414</th>\n",
       "      <td>24418</td>\n",
       "      <td>16031</td>\n",
       "      <td>Gerrard St East at River St</td>\n",
       "      <td>43.663948</td>\n",
       "      <td>-79.358666</td>\n",
       "    </tr>\n",
       "    <tr>\n",
       "      <th>9415</th>\n",
       "      <td>24419</td>\n",
       "      <td>16032</td>\n",
       "      <td>Broadview Ave at Gerrard St East North Side</td>\n",
       "      <td>43.665766</td>\n",
       "      <td>-79.352651</td>\n",
       "    </tr>\n",
       "    <tr>\n",
       "      <th>9416</th>\n",
       "      <td>24420</td>\n",
       "      <td>16033</td>\n",
       "      <td>Jack Layton Way at St Matthews Rd</td>\n",
       "      <td>43.665695</td>\n",
       "      <td>-79.354843</td>\n",
       "    </tr>\n",
       "    <tr>\n",
       "      <th>9417</th>\n",
       "      <td>24421</td>\n",
       "      <td>16034</td>\n",
       "      <td>St Matthews Rd at Gerrard St East</td>\n",
       "      <td>43.664960</td>\n",
       "      <td>-79.355329</td>\n",
       "    </tr>\n",
       "    <tr>\n",
       "      <th>9418</th>\n",
       "      <td>24422</td>\n",
       "      <td>16035</td>\n",
       "      <td>Birmingham St at Kipling Ave</td>\n",
       "      <td>43.600805</td>\n",
       "      <td>-79.517877</td>\n",
       "    </tr>\n",
       "  </tbody>\n",
       "</table>\n",
       "<p>9419 rows × 5 columns</p>\n",
       "</div>"
      ],
      "text/plain": [
       "      stop_id  stop_code                                    stop_name  \\\n",
       "0         262        662                    Danforth Rd at Kennedy Rd   \n",
       "1         263        929                   Davenport Rd at Bedford Rd   \n",
       "2         264        940                    Davenport Rd at Dupont St   \n",
       "3         265       1871               Davisville Ave at Cleveland St   \n",
       "4         266      11700                       Disco Rd at Attwell Dr   \n",
       "...       ...        ...                                          ...   \n",
       "9414    24418      16031                  Gerrard St East at River St   \n",
       "9415    24419      16032  Broadview Ave at Gerrard St East North Side   \n",
       "9416    24420      16033            Jack Layton Way at St Matthews Rd   \n",
       "9417    24421      16034            St Matthews Rd at Gerrard St East   \n",
       "9418    24422      16035                 Birmingham St at Kipling Ave   \n",
       "\n",
       "       stop_lat   stop_lon  \n",
       "0     43.714379 -79.260939  \n",
       "1     43.674448 -79.399659  \n",
       "2     43.675511 -79.401938  \n",
       "3     43.702088 -79.378112  \n",
       "4     43.701362 -79.594843  \n",
       "...         ...        ...  \n",
       "9414  43.663948 -79.358666  \n",
       "9415  43.665766 -79.352651  \n",
       "9416  43.665695 -79.354843  \n",
       "9417  43.664960 -79.355329  \n",
       "9418  43.600805 -79.517877  \n",
       "\n",
       "[9419 rows x 5 columns]"
      ]
     },
     "execution_count": 70,
     "metadata": {},
     "output_type": "execute_result"
    }
   ],
   "source": [
    "stops"
   ]
  },
  {
   "cell_type": "code",
   "execution_count": 71,
   "metadata": {},
   "outputs": [
    {
     "data": {
      "text/html": [
       "<div>\n",
       "<style scoped>\n",
       "    .dataframe tbody tr th:only-of-type {\n",
       "        vertical-align: middle;\n",
       "    }\n",
       "\n",
       "    .dataframe tbody tr th {\n",
       "        vertical-align: top;\n",
       "    }\n",
       "\n",
       "    .dataframe thead th {\n",
       "        text-align: right;\n",
       "    }\n",
       "</style>\n",
       "<table border=\"1\" class=\"dataframe\">\n",
       "  <thead>\n",
       "    <tr style=\"text-align: right;\">\n",
       "      <th></th>\n",
       "      <th>lat</th>\n",
       "      <th>lon</th>\n",
       "    </tr>\n",
       "    <tr>\n",
       "      <th>stop_id</th>\n",
       "      <th></th>\n",
       "      <th></th>\n",
       "    </tr>\n",
       "  </thead>\n",
       "  <tbody>\n",
       "    <tr>\n",
       "      <th>262</th>\n",
       "      <td>43.714379</td>\n",
       "      <td>-79.260939</td>\n",
       "    </tr>\n",
       "    <tr>\n",
       "      <th>263</th>\n",
       "      <td>43.674448</td>\n",
       "      <td>-79.399659</td>\n",
       "    </tr>\n",
       "    <tr>\n",
       "      <th>264</th>\n",
       "      <td>43.675511</td>\n",
       "      <td>-79.401938</td>\n",
       "    </tr>\n",
       "    <tr>\n",
       "      <th>265</th>\n",
       "      <td>43.702088</td>\n",
       "      <td>-79.378112</td>\n",
       "    </tr>\n",
       "    <tr>\n",
       "      <th>266</th>\n",
       "      <td>43.701362</td>\n",
       "      <td>-79.594843</td>\n",
       "    </tr>\n",
       "    <tr>\n",
       "      <th>...</th>\n",
       "      <td>...</td>\n",
       "      <td>...</td>\n",
       "    </tr>\n",
       "    <tr>\n",
       "      <th>24418</th>\n",
       "      <td>43.663948</td>\n",
       "      <td>-79.358666</td>\n",
       "    </tr>\n",
       "    <tr>\n",
       "      <th>24419</th>\n",
       "      <td>43.665766</td>\n",
       "      <td>-79.352651</td>\n",
       "    </tr>\n",
       "    <tr>\n",
       "      <th>24420</th>\n",
       "      <td>43.665695</td>\n",
       "      <td>-79.354843</td>\n",
       "    </tr>\n",
       "    <tr>\n",
       "      <th>24421</th>\n",
       "      <td>43.664960</td>\n",
       "      <td>-79.355329</td>\n",
       "    </tr>\n",
       "    <tr>\n",
       "      <th>24422</th>\n",
       "      <td>43.600805</td>\n",
       "      <td>-79.517877</td>\n",
       "    </tr>\n",
       "  </tbody>\n",
       "</table>\n",
       "<p>9419 rows × 2 columns</p>\n",
       "</div>"
      ],
      "text/plain": [
       "               lat        lon\n",
       "stop_id                      \n",
       "262      43.714379 -79.260939\n",
       "263      43.674448 -79.399659\n",
       "264      43.675511 -79.401938\n",
       "265      43.702088 -79.378112\n",
       "266      43.701362 -79.594843\n",
       "...            ...        ...\n",
       "24418    43.663948 -79.358666\n",
       "24419    43.665766 -79.352651\n",
       "24420    43.665695 -79.354843\n",
       "24421    43.664960 -79.355329\n",
       "24422    43.600805 -79.517877\n",
       "\n",
       "[9419 rows x 2 columns]"
      ]
     },
     "execution_count": 71,
     "metadata": {},
     "output_type": "execute_result"
    }
   ],
   "source": [
    "H"
   ]
  },
  {
   "cell_type": "code",
   "execution_count": 74,
   "metadata": {},
   "outputs": [
    {
     "data": {
      "text/plain": [
       "43.714379"
      ]
     },
     "execution_count": 74,
     "metadata": {},
     "output_type": "execute_result"
    }
   ],
   "source": [
    "H.loc[262, 'lat']"
   ]
  },
  {
   "cell_type": "code",
   "execution_count": 236,
   "metadata": {},
   "outputs": [],
   "source": [
    "df = pd.DataFrame(columns = ['V', 'v', 'V_lat', 'V_lon', 'v_lat', 'v_lon', 'distance', 'duration'])"
   ]
  },
  {
   "cell_type": "code",
   "execution_count": 237,
   "metadata": {},
   "outputs": [
    {
     "data": {
      "text/html": [
       "<div>\n",
       "<style scoped>\n",
       "    .dataframe tbody tr th:only-of-type {\n",
       "        vertical-align: middle;\n",
       "    }\n",
       "\n",
       "    .dataframe tbody tr th {\n",
       "        vertical-align: top;\n",
       "    }\n",
       "\n",
       "    .dataframe thead th {\n",
       "        text-align: right;\n",
       "    }\n",
       "</style>\n",
       "<table border=\"1\" class=\"dataframe\">\n",
       "  <thead>\n",
       "    <tr style=\"text-align: right;\">\n",
       "      <th></th>\n",
       "      <th>V</th>\n",
       "      <th>v</th>\n",
       "      <th>V_lat</th>\n",
       "      <th>V_lon</th>\n",
       "      <th>v_lat</th>\n",
       "      <th>v_lon</th>\n",
       "      <th>distance</th>\n",
       "      <th>duration</th>\n",
       "    </tr>\n",
       "  </thead>\n",
       "  <tbody>\n",
       "  </tbody>\n",
       "</table>\n",
       "</div>"
      ],
      "text/plain": [
       "Empty DataFrame\n",
       "Columns: [V, v, V_lat, V_lon, v_lat, v_lon, distance, duration]\n",
       "Index: []"
      ]
     },
     "execution_count": 237,
     "metadata": {},
     "output_type": "execute_result"
    }
   ],
   "source": [
    "df"
   ]
  },
  {
   "cell_type": "code",
   "execution_count": 238,
   "metadata": {},
   "outputs": [
    {
     "name": "stdout",
     "output_type": "stream",
     "text": [
      "CPU times: user 6min 39s, sys: 19.4 s, total: 6min 58s\n",
      "Wall time: 6min 59s\n"
     ]
    }
   ],
   "source": [
    "%%time\n",
    "c = 0\n",
    "for v1 in V:\n",
    "    for v2 in V:\n",
    "        \n",
    "        c += 1\n",
    "        \n",
    "        if v1 == v2: continue\n",
    "            \n",
    "        df.loc[c, 'V'] = v1\n",
    "        df.loc[c, 'v'] = v2\n",
    "        \n",
    "        V_lat = H.loc[v1, 'lat']\n",
    "        V_lon = H.loc[v1, 'lon']\n",
    "        v_lat = H.loc[v2, 'lat']\n",
    "        v_lon = H.loc[v2, 'lon']\n",
    "        \n",
    "        distance = abs(V_lat - v_lat) + abs(V_lon - v_lon)\n",
    "        duration = distance / f\n",
    "        \n",
    "        df.loc[c, 'duration'] = duration\n",
    "        \n",
    "        if (c > 100000): break\n",
    "    if (c > 100000): break"
   ]
  },
  {
   "cell_type": "code",
   "execution_count": 1,
   "metadata": {},
   "outputs": [
    {
     "ename": "NameError",
     "evalue": "name 'df' is not defined",
     "output_type": "error",
     "traceback": [
      "\u001b[0;31m---------------------------------------------------------------------------\u001b[0m",
      "\u001b[0;31mNameError\u001b[0m                                 Traceback (most recent call last)",
      "\u001b[0;32m<ipython-input-1-4a676c3d8c05>\u001b[0m in \u001b[0;36m<module>\u001b[0;34m\u001b[0m\n\u001b[0;32m----> 1\u001b[0;31m \u001b[0mdf\u001b[0m\u001b[0;34m.\u001b[0m\u001b[0mhead\u001b[0m\u001b[0;34m(\u001b[0m\u001b[0;36m10\u001b[0m\u001b[0;34m)\u001b[0m\u001b[0;34m\u001b[0m\u001b[0;34m\u001b[0m\u001b[0m\n\u001b[0m",
      "\u001b[0;31mNameError\u001b[0m: name 'df' is not defined"
     ]
    }
   ],
   "source": [
    "df.head(10)"
   ]
  },
  {
   "cell_type": "code",
   "execution_count": 219,
   "metadata": {},
   "outputs": [
    {
     "data": {
      "text/html": [
       "<div>\n",
       "<style scoped>\n",
       "    .dataframe tbody tr th:only-of-type {\n",
       "        vertical-align: middle;\n",
       "    }\n",
       "\n",
       "    .dataframe tbody tr th {\n",
       "        vertical-align: top;\n",
       "    }\n",
       "\n",
       "    .dataframe thead th {\n",
       "        text-align: right;\n",
       "    }\n",
       "</style>\n",
       "<table border=\"1\" class=\"dataframe\">\n",
       "  <thead>\n",
       "    <tr style=\"text-align: right;\">\n",
       "      <th></th>\n",
       "      <th>V</th>\n",
       "      <th>v</th>\n",
       "      <th>duration</th>\n",
       "    </tr>\n",
       "  </thead>\n",
       "  <tbody>\n",
       "    <tr>\n",
       "      <th>2</th>\n",
       "      <td>262</td>\n",
       "      <td>263</td>\n",
       "      <td>12521.534957</td>\n",
       "    </tr>\n",
       "    <tr>\n",
       "      <th>3</th>\n",
       "      <td>262</td>\n",
       "      <td>264</td>\n",
       "      <td>12606.763624</td>\n",
       "    </tr>\n",
       "    <tr>\n",
       "      <th>4</th>\n",
       "      <td>262</td>\n",
       "      <td>265</td>\n",
       "      <td>9074.049413</td>\n",
       "    </tr>\n",
       "    <tr>\n",
       "      <th>5</th>\n",
       "      <td>262</td>\n",
       "      <td>266</td>\n",
       "      <td>24315.472227</td>\n",
       "    </tr>\n",
       "    <tr>\n",
       "      <th>6</th>\n",
       "      <td>262</td>\n",
       "      <td>267</td>\n",
       "      <td>24405.326792</td>\n",
       "    </tr>\n",
       "    <tr>\n",
       "      <th>...</th>\n",
       "      <td>...</td>\n",
       "      <td>...</td>\n",
       "      <td>...</td>\n",
       "    </tr>\n",
       "    <tr>\n",
       "      <th>473090</th>\n",
       "      <td>349</td>\n",
       "      <td>2957</td>\n",
       "      <td>29647.240231</td>\n",
       "    </tr>\n",
       "    <tr>\n",
       "      <th>473091</th>\n",
       "      <td>349</td>\n",
       "      <td>2958</td>\n",
       "      <td>20941.650605</td>\n",
       "    </tr>\n",
       "    <tr>\n",
       "      <th>473092</th>\n",
       "      <td>349</td>\n",
       "      <td>2959</td>\n",
       "      <td>20608.2355</td>\n",
       "    </tr>\n",
       "    <tr>\n",
       "      <th>473093</th>\n",
       "      <td>349</td>\n",
       "      <td>2960</td>\n",
       "      <td>23181.28614</td>\n",
       "    </tr>\n",
       "    <tr>\n",
       "      <th>473094</th>\n",
       "      <td>349</td>\n",
       "      <td>2961</td>\n",
       "      <td>NaN</td>\n",
       "    </tr>\n",
       "  </tbody>\n",
       "</table>\n",
       "<p>473043 rows × 3 columns</p>\n",
       "</div>"
      ],
      "text/plain": [
       "          V     v      duration\n",
       "2       262   263  12521.534957\n",
       "3       262   264  12606.763624\n",
       "4       262   265   9074.049413\n",
       "5       262   266  24315.472227\n",
       "6       262   267  24405.326792\n",
       "...     ...   ...           ...\n",
       "473090  349  2957  29647.240231\n",
       "473091  349  2958  20941.650605\n",
       "473092  349  2959    20608.2355\n",
       "473093  349  2960   23181.28614\n",
       "473094  349  2961           NaN\n",
       "\n",
       "[473043 rows x 3 columns]"
      ]
     },
     "execution_count": 219,
     "metadata": {},
     "output_type": "execute_result"
    }
   ],
   "source": [
    "df"
   ]
  },
  {
   "cell_type": "code",
   "execution_count": 228,
   "metadata": {},
   "outputs": [
    {
     "data": {
      "text/html": [
       "<div>\n",
       "<style scoped>\n",
       "    .dataframe tbody tr th:only-of-type {\n",
       "        vertical-align: middle;\n",
       "    }\n",
       "\n",
       "    .dataframe tbody tr th {\n",
       "        vertical-align: top;\n",
       "    }\n",
       "\n",
       "    .dataframe thead th {\n",
       "        text-align: right;\n",
       "    }\n",
       "</style>\n",
       "<table border=\"1\" class=\"dataframe\">\n",
       "  <thead>\n",
       "    <tr style=\"text-align: right;\">\n",
       "      <th></th>\n",
       "      <th>V</th>\n",
       "      <th>v</th>\n",
       "      <th>duration</th>\n",
       "    </tr>\n",
       "  </thead>\n",
       "  <tbody>\n",
       "  </tbody>\n",
       "</table>\n",
       "</div>"
      ],
      "text/plain": [
       "Empty DataFrame\n",
       "Columns: [V, v, duration]\n",
       "Index: []"
      ]
     },
     "execution_count": 228,
     "metadata": {},
     "output_type": "execute_result"
    }
   ],
   "source": [
    "df.loc[df.duration == None]"
   ]
  },
  {
   "cell_type": "code",
   "execution_count": 225,
   "metadata": {},
   "outputs": [
    {
     "data": {
      "text/plain": [
       "float"
      ]
     },
     "execution_count": 225,
     "metadata": {},
     "output_type": "execute_result"
    }
   ],
   "source": [
    "type(df.loc[473094].duration)"
   ]
  },
  {
   "cell_type": "code",
   "execution_count": 2,
   "metadata": {},
   "outputs": [
    {
     "ename": "NameError",
     "evalue": "name 'stops' is not defined",
     "output_type": "error",
     "traceback": [
      "\u001b[0;31m---------------------------------------------------------------------------\u001b[0m",
      "\u001b[0;31mNameError\u001b[0m                                 Traceback (most recent call last)",
      "\u001b[0;32m<ipython-input-2-787deb22b352>\u001b[0m in \u001b[0;36m<module>\u001b[0;34m\u001b[0m\n\u001b[0;32m----> 1\u001b[0;31m \u001b[0mstops\u001b[0m\u001b[0;34m\u001b[0m\u001b[0;34m\u001b[0m\u001b[0m\n\u001b[0m",
      "\u001b[0;31mNameError\u001b[0m: name 'stops' is not defined"
     ]
    }
   ],
   "source": [
    "stops"
   ]
  },
  {
   "cell_type": "code",
   "execution_count": null,
   "metadata": {},
   "outputs": [],
   "source": []
  }
 ],
 "metadata": {
  "kernelspec": {
   "display_name": "Python 3",
   "language": "python",
   "name": "python3"
  },
  "language_info": {
   "codemirror_mode": {
    "name": "ipython",
    "version": 3
   },
   "file_extension": ".py",
   "mimetype": "text/x-python",
   "name": "python",
   "nbconvert_exporter": "python",
   "pygments_lexer": "ipython3",
   "version": "3.8.5"
  }
 },
 "nbformat": 4,
 "nbformat_minor": 4
}
