{
 "cells": [
  {
   "cell_type": "markdown",
   "metadata": {},
   "source": [
    "# Pathfinding Model\n",
    "Objectives:\n",
    "- build a pathfinding model wrapped inside a function called `find_shortest_path`\n",
    "- this function should accept the user's starting and ending geocoordinates along with the current time\n",
    "- data has been preprocessed in a previous notebook and filtered only include regular weekday service; ie. stop times are for any given Monday to Friday"
   ]
  },
  {
   "cell_type": "markdown",
   "metadata": {},
   "source": [
    "---\n",
    "## Import Modules & Data"
   ]
  },
  {
   "cell_type": "code",
   "execution_count": 1,
   "metadata": {},
   "outputs": [],
   "source": [
    "import pandas as pd\n",
    "from datetime import timedelta as td\n",
    "import time"
   ]
  },
  {
   "cell_type": "code",
   "execution_count": 2,
   "metadata": {},
   "outputs": [],
   "source": [
    "schedule = pd.read_feather('data/model/schedule.ftr')\n",
    "stop_times = pd.read_feather('data/model/stop_times.ftr')\n",
    "trips = pd.read_feather('data/model/trips.ftr')\n",
    "stops = pd.read_feather('data/model/stops.ftr')"
   ]
  },
  {
   "cell_type": "code",
   "execution_count": 3,
   "metadata": {},
   "outputs": [
    {
     "data": {
      "text/html": [
       "<div>\n",
       "<style scoped>\n",
       "    .dataframe tbody tr th:only-of-type {\n",
       "        vertical-align: middle;\n",
       "    }\n",
       "\n",
       "    .dataframe tbody tr th {\n",
       "        vertical-align: top;\n",
       "    }\n",
       "\n",
       "    .dataframe thead th {\n",
       "        text-align: right;\n",
       "    }\n",
       "</style>\n",
       "<table border=\"1\" class=\"dataframe\">\n",
       "  <thead>\n",
       "    <tr style=\"text-align: right;\">\n",
       "      <th></th>\n",
       "      <th>trip_id</th>\n",
       "      <th>route_short_name</th>\n",
       "      <th>route_long_name</th>\n",
       "      <th>shape_id</th>\n",
       "      <th>trip_headsign</th>\n",
       "      <th>stop_sequence</th>\n",
       "      <th>stop_time</th>\n",
       "      <th>stop_time_delta</th>\n",
       "      <th>stop_id</th>\n",
       "      <th>stop_code</th>\n",
       "      <th>stop_name</th>\n",
       "      <th>stop_lat</th>\n",
       "      <th>stop_lon</th>\n",
       "    </tr>\n",
       "  </thead>\n",
       "  <tbody>\n",
       "    <tr>\n",
       "      <th>0</th>\n",
       "      <td>42990004</td>\n",
       "      <td>10</td>\n",
       "      <td>VAN HORNE</td>\n",
       "      <td>886387</td>\n",
       "      <td>EAST - 10 VAN HORNE towards VICTORIA PARK</td>\n",
       "      <td>1</td>\n",
       "      <td>7:00:29</td>\n",
       "      <td>0 days 07:00:29</td>\n",
       "      <td>14155</td>\n",
       "      <td>14633</td>\n",
       "      <td>Don Mills Station</td>\n",
       "      <td>43.776222</td>\n",
       "      <td>-79.347048</td>\n",
       "    </tr>\n",
       "  </tbody>\n",
       "</table>\n",
       "</div>"
      ],
      "text/plain": [
       "    trip_id  route_short_name route_long_name  shape_id  \\\n",
       "0  42990004                10       VAN HORNE    886387   \n",
       "\n",
       "                               trip_headsign  stop_sequence stop_time  \\\n",
       "0  EAST - 10 VAN HORNE towards VICTORIA PARK              1   7:00:29   \n",
       "\n",
       "  stop_time_delta  stop_id  stop_code          stop_name   stop_lat   stop_lon  \n",
       "0 0 days 07:00:29    14155      14633  Don Mills Station  43.776222 -79.347048  "
      ]
     },
     "execution_count": 3,
     "metadata": {},
     "output_type": "execute_result"
    }
   ],
   "source": [
    "schedule.head(1)"
   ]
  },
  {
   "cell_type": "code",
   "execution_count": 4,
   "metadata": {},
   "outputs": [
    {
     "data": {
      "text/html": [
       "<div>\n",
       "<style scoped>\n",
       "    .dataframe tbody tr th:only-of-type {\n",
       "        vertical-align: middle;\n",
       "    }\n",
       "\n",
       "    .dataframe tbody tr th {\n",
       "        vertical-align: top;\n",
       "    }\n",
       "\n",
       "    .dataframe thead th {\n",
       "        text-align: right;\n",
       "    }\n",
       "</style>\n",
       "<table border=\"1\" class=\"dataframe\">\n",
       "  <thead>\n",
       "    <tr style=\"text-align: right;\">\n",
       "      <th></th>\n",
       "      <th>trip_id</th>\n",
       "      <th>stop_sequence</th>\n",
       "      <th>stop_id</th>\n",
       "      <th>stop_time</th>\n",
       "      <th>stop_time_delta</th>\n",
       "    </tr>\n",
       "  </thead>\n",
       "  <tbody>\n",
       "    <tr>\n",
       "      <th>0</th>\n",
       "      <td>42990004</td>\n",
       "      <td>1</td>\n",
       "      <td>14155</td>\n",
       "      <td>7:00:29</td>\n",
       "      <td>0 days 07:00:29</td>\n",
       "    </tr>\n",
       "  </tbody>\n",
       "</table>\n",
       "</div>"
      ],
      "text/plain": [
       "    trip_id  stop_sequence  stop_id stop_time stop_time_delta\n",
       "0  42990004              1    14155   7:00:29 0 days 07:00:29"
      ]
     },
     "execution_count": 4,
     "metadata": {},
     "output_type": "execute_result"
    }
   ],
   "source": [
    "stop_times.head(1)"
   ]
  },
  {
   "cell_type": "code",
   "execution_count": 5,
   "metadata": {},
   "outputs": [
    {
     "data": {
      "text/html": [
       "<div>\n",
       "<style scoped>\n",
       "    .dataframe tbody tr th:only-of-type {\n",
       "        vertical-align: middle;\n",
       "    }\n",
       "\n",
       "    .dataframe tbody tr th {\n",
       "        vertical-align: top;\n",
       "    }\n",
       "\n",
       "    .dataframe thead th {\n",
       "        text-align: right;\n",
       "    }\n",
       "</style>\n",
       "<table border=\"1\" class=\"dataframe\">\n",
       "  <thead>\n",
       "    <tr style=\"text-align: right;\">\n",
       "      <th></th>\n",
       "      <th>trip_id</th>\n",
       "      <th>shape_id</th>\n",
       "      <th>route_short_name</th>\n",
       "      <th>route_long_name</th>\n",
       "      <th>trip_headsign</th>\n",
       "    </tr>\n",
       "  </thead>\n",
       "  <tbody>\n",
       "    <tr>\n",
       "      <th>0</th>\n",
       "      <td>42990004</td>\n",
       "      <td>886387</td>\n",
       "      <td>10</td>\n",
       "      <td>VAN HORNE</td>\n",
       "      <td>EAST - 10 VAN HORNE towards VICTORIA PARK</td>\n",
       "    </tr>\n",
       "  </tbody>\n",
       "</table>\n",
       "</div>"
      ],
      "text/plain": [
       "    trip_id  shape_id  route_short_name route_long_name  \\\n",
       "0  42990004    886387                10       VAN HORNE   \n",
       "\n",
       "                               trip_headsign  \n",
       "0  EAST - 10 VAN HORNE towards VICTORIA PARK  "
      ]
     },
     "execution_count": 5,
     "metadata": {},
     "output_type": "execute_result"
    }
   ],
   "source": [
    "trips.head(1)"
   ]
  },
  {
   "cell_type": "code",
   "execution_count": 6,
   "metadata": {},
   "outputs": [
    {
     "data": {
      "text/html": [
       "<div>\n",
       "<style scoped>\n",
       "    .dataframe tbody tr th:only-of-type {\n",
       "        vertical-align: middle;\n",
       "    }\n",
       "\n",
       "    .dataframe tbody tr th {\n",
       "        vertical-align: top;\n",
       "    }\n",
       "\n",
       "    .dataframe thead th {\n",
       "        text-align: right;\n",
       "    }\n",
       "</style>\n",
       "<table border=\"1\" class=\"dataframe\">\n",
       "  <thead>\n",
       "    <tr style=\"text-align: right;\">\n",
       "      <th></th>\n",
       "      <th>stop_id</th>\n",
       "      <th>stop_code</th>\n",
       "      <th>stop_name</th>\n",
       "      <th>stop_lat</th>\n",
       "      <th>stop_lon</th>\n",
       "    </tr>\n",
       "  </thead>\n",
       "  <tbody>\n",
       "    <tr>\n",
       "      <th>0</th>\n",
       "      <td>262</td>\n",
       "      <td>662</td>\n",
       "      <td>Danforth Rd at Kennedy Rd</td>\n",
       "      <td>43.714379</td>\n",
       "      <td>-79.260939</td>\n",
       "    </tr>\n",
       "  </tbody>\n",
       "</table>\n",
       "</div>"
      ],
      "text/plain": [
       "   stop_id  stop_code                  stop_name   stop_lat   stop_lon\n",
       "0      262        662  Danforth Rd at Kennedy Rd  43.714379 -79.260939"
      ]
     },
     "execution_count": 6,
     "metadata": {},
     "output_type": "execute_result"
    }
   ],
   "source": [
    "stops.head(1)"
   ]
  },
  {
   "cell_type": "markdown",
   "metadata": {},
   "source": [
    "---\n",
    "# Create Helper Tables"
   ]
  },
  {
   "cell_type": "code",
   "execution_count": 7,
   "metadata": {},
   "outputs": [
    {
     "data": {
      "text/html": [
       "<div>\n",
       "<style scoped>\n",
       "    .dataframe tbody tr th:only-of-type {\n",
       "        vertical-align: middle;\n",
       "    }\n",
       "\n",
       "    .dataframe tbody tr th {\n",
       "        vertical-align: top;\n",
       "    }\n",
       "\n",
       "    .dataframe thead th {\n",
       "        text-align: right;\n",
       "    }\n",
       "</style>\n",
       "<table border=\"1\" class=\"dataframe\">\n",
       "  <thead>\n",
       "    <tr style=\"text-align: right;\">\n",
       "      <th></th>\n",
       "      <th>shape_id</th>\n",
       "      <th>stop_sequence</th>\n",
       "      <th>stop_id</th>\n",
       "    </tr>\n",
       "  </thead>\n",
       "  <tbody>\n",
       "    <tr>\n",
       "      <th>0</th>\n",
       "      <td>886387</td>\n",
       "      <td>1</td>\n",
       "      <td>14155</td>\n",
       "    </tr>\n",
       "    <tr>\n",
       "      <th>1</th>\n",
       "      <td>886387</td>\n",
       "      <td>2</td>\n",
       "      <td>3807</td>\n",
       "    </tr>\n",
       "    <tr>\n",
       "      <th>2</th>\n",
       "      <td>886387</td>\n",
       "      <td>3</td>\n",
       "      <td>6904</td>\n",
       "    </tr>\n",
       "  </tbody>\n",
       "</table>\n",
       "</div>"
      ],
      "text/plain": [
       "   shape_id  stop_sequence  stop_id\n",
       "0    886387              1    14155\n",
       "1    886387              2     3807\n",
       "2    886387              3     6904"
      ]
     },
     "execution_count": 7,
     "metadata": {},
     "output_type": "execute_result"
    }
   ],
   "source": [
    "# reference table to capture the unique relationship between shape_id & stop_sequence with stop_id\n",
    "shapes = schedule[['shape_id', 'stop_sequence', 'stop_id']].drop_duplicates().sort_values(by = ['shape_id', 'stop_sequence']).reset_index(drop = True)\n",
    "shapes.head(3)"
   ]
  },
  {
   "cell_type": "markdown",
   "metadata": {},
   "source": [
    "---\n",
    "## Define Helper Functions"
   ]
  },
  {
   "cell_type": "code",
   "execution_count": 8,
   "metadata": {},
   "outputs": [],
   "source": [
    "def find_closest_stop_id(input_lat, input_lon):\n",
    "    stop_distance = stops.loc[:, ['stop_id', 'stop_lat', 'stop_lon']]\n",
    "    stop_distance['distance'] = ( abs(input_lat - stop_distance['stop_lat'])**2 + abs(input_lon - stop_distance['stop_lon'])**2 )**(1/2)\n",
    "    closest_stop_id = stop_distance.sort_values(by = 'distance').stop_id.iloc[0]\n",
    "    return closest_stop_id"
   ]
  },
  {
   "cell_type": "code",
   "execution_count": 9,
   "metadata": {},
   "outputs": [],
   "source": [
    "def find_closest_stops(input_lat, input_lon):\n",
    "    stop_distance = stops.loc[:, ['stop_id', 'stop_lat', 'stop_lon']]\n",
    "    stop_distance['distance'] = ( abs(input_lat - stop_distance['stop_lat'])**2 + abs(input_lon - stop_distance['stop_lon'])**2 )**(1/2)\n",
    "    stop_distance = stop_distance.sort_values(by = 'distance').reset_index(drop = True)\n",
    "    return stop_distance"
   ]
  },
  {
   "cell_type": "code",
   "execution_count": 10,
   "metadata": {},
   "outputs": [],
   "source": [
    "def walking_speed_estimate():\n",
    "    stop_id_A = 917\n",
    "    stop_id_B = 9946\n",
    "    time_in_minutes = 20\n",
    "    stop_A_lat = stops.loc[stops.stop_id == stop_id_A, 'stop_lat'].values[0]\n",
    "    stop_A_lon = stops.loc[stops.stop_id == stop_id_A, 'stop_lon'].values[0]\n",
    "    stop_B_lat = stops.loc[stops.stop_id == stop_id_B, 'stop_lat'].values[0]\n",
    "    stop_B_lon = stops.loc[stops.stop_id == stop_id_B, 'stop_lon'].values[0]\n",
    "    distance = abs(stop_B_lat - stop_A_lat) + abs(stop_B_lon - stop_A_lon)\n",
    "    walking_speed_in_seconds = distance / (time_in_minutes * 60)\n",
    "    return walking_speed_in_seconds"
   ]
  },
  {
   "cell_type": "code",
   "execution_count": 11,
   "metadata": {},
   "outputs": [],
   "source": [
    "def build_shortest_path_table(start_stop_id, current_time_delta):\n",
    "    start_stop_lat = stops.loc[stops.stop_id == start_stop_id, 'stop_lat'].values[0]\n",
    "    start_stop_lon = stops.loc[stops.stop_id == start_stop_id, 'stop_lon'].values[0]\n",
    "    shortest_path = stops.copy()\n",
    "    walking_distance = abs(shortest_path['stop_lat'] - start_stop_lat) + abs(shortest_path['stop_lon'] - start_stop_lon)\n",
    "    walking_speed = walking_speed_estimate()\n",
    "    walking_time = round(walking_distance / walking_speed, 0)\n",
    "    shortest_path['arrival_time_delta'] = current_time_delta + pd.to_timedelta(walking_time, 'seconds')\n",
    "    shortest_path = shortest_path.sort_values(by = 'arrival_time_delta').reset_index(drop = True)\n",
    "    shortest_path['previous_stop'] = start_stop_id\n",
    "    shortest_path['previous_mode'] = 'W'\n",
    "    shortest_path['trip_id'] = None\n",
    "    shortest_path['visited'] = False\n",
    "    return shortest_path"
   ]
  },
  {
   "cell_type": "code",
   "execution_count": 12,
   "metadata": {},
   "outputs": [],
   "source": [
    "def build_stop_schedule(start_stop_id, current_time_delta):\n",
    "    stop_schedule = schedule.copy()\n",
    "    stop_schedule = stop_schedule.loc[stop_schedule.stop_id == start_stop_id]\n",
    "    stop_schedule['next_day'] = False\n",
    "    stop_schedule.loc[stop_schedule.stop_time_delta < current_time_delta, 'next_day'] = True\n",
    "    stop_schedule.loc[stop_schedule.stop_time_delta < current_time_delta, 'stop_time_delta'] = stop_schedule.loc[stop_schedule.stop_time_delta < current_time_delta, 'stop_time_delta'] + td(days = 1)\n",
    "    stop_schedule = stop_schedule.sort_values(by = 'stop_time_delta').reset_index(drop = True)\n",
    "    stop_schedule = stop_schedule.drop_duplicates(subset = 'shape_id', keep = 'first', ignore_index = True)\n",
    "    return stop_schedule"
   ]
  },
  {
   "cell_type": "code",
   "execution_count": 13,
   "metadata": {},
   "outputs": [],
   "source": [
    "def update_shortest_path(shortest_path, stop_schedule, current_time_delta, visiting_stop_id):\n",
    "    \n",
    "    upcoming_trip_stops = []\n",
    "    for i in range(0, len(stop_schedule)):\n",
    "        current_trip_id = stop_schedule.loc[i, 'trip_id']\n",
    "        current_stop_sequence = stop_schedule.loc[i, 'stop_sequence']\n",
    "        next_day = stop_schedule.loc[i, 'next_day']\n",
    "        next_stops = schedule.loc[(schedule.trip_id == current_trip_id) & (schedule.stop_sequence > current_stop_sequence)].copy()\n",
    "        if (next_day):\n",
    "            next_stops.stop_time_delta = next_stops.stop_time_delta + td(days = 1)        \n",
    "        upcoming_trip_stops.append(next_stops)\n",
    "    upcoming_trip_stops = pd.concat(upcoming_trip_stops)\n",
    "    upcoming_trip_stops = upcoming_trip_stops.sort_values(by = 'stop_time_delta').drop_duplicates(subset = 'stop_id', keep = 'first').reset_index(drop = True)\n",
    "    \n",
    "    for i in range(0, len(upcoming_trip_stops)):\n",
    "        current_stop_id = upcoming_trip_stops.loc[i, 'stop_id']\n",
    "        current_stop_time_delta = upcoming_trip_stops.loc[i, 'stop_time_delta']\n",
    "        current_trip_id = upcoming_trip_stops.loc[i, 'trip_id']\n",
    "        current_arrival_time = shortest_path.loc[shortest_path.stop_id == current_stop_id, 'arrival_time_delta'].values[0]\n",
    "        \n",
    "        if (current_arrival_time > current_stop_time_delta):\n",
    "            shortest_path.loc[shortest_path.stop_id == current_stop_id, 'arrival_time_delta'] = current_stop_time_delta\n",
    "            shortest_path.loc[shortest_path.stop_id == current_stop_id, 'previous_stop'] = visiting_stop_id\n",
    "            shortest_path.loc[shortest_path.stop_id == current_stop_id, 'previous_mode'] = 'T'\n",
    "            shortest_path.loc[shortest_path.stop_id == current_stop_id, 'trip_id'] = current_trip_id\n",
    "            \n",
    "    shortest_path = shortest_path.sort_values(by = 'arrival_time_delta').reset_index(drop = True)\n",
    "    shortest_path.loc[shortest_path.stop_id == visiting_stop_id, 'visited'] = True\n",
    "    \n",
    "    return shortest_path"
   ]
  },
  {
   "cell_type": "code",
   "execution_count": 14,
   "metadata": {},
   "outputs": [],
   "source": [
    "def update_walking_path(shortest_path, current_time_delta, visiting_stop_id):\n",
    "    visiting_stop_lat = stops.loc[stops.stop_id == visiting_stop_id, 'stop_lat'].values[0]\n",
    "    visiting_stop_lon = stops.loc[stops.stop_id == visiting_stop_id, 'stop_lon'].values[0]\n",
    "    walking_distance = abs(shortest_path['stop_lat'] - visiting_stop_lat) + abs(shortest_path['stop_lon'] - visiting_stop_lon)\n",
    "    walking_speed = walking_speed_estimate()\n",
    "    walking_time = round(walking_distance / walking_speed, 0)\n",
    "    shortest_path['walking_arrival_time_delta'] = current_time_delta + pd.to_timedelta(walking_time, 'seconds')\n",
    "    \n",
    "    mask = shortest_path.arrival_time_delta > shortest_path.walking_arrival_time_delta\n",
    "    shortest_path.loc[mask, 'arrival_time_delta'] = shortest_path.loc[mask, 'walking_arrival_time_delta']\n",
    "    shortest_path.loc[mask, 'previous_stop'] = visiting_stop_id\n",
    "    shortest_path.loc[mask, 'previous_mode'] = 'W'\n",
    "    shortest_path.loc[mask, 'trip_id'] = None\n",
    "        \n",
    "    \n",
    "#     for i in range(0, len(shortest_path)):\n",
    "        \n",
    "#         arrival_time_delta = shortest_path.loc[i, 'arrival_time_delta']\n",
    "#         walking_arrival_time_delta = shortest_path.loc[i, 'walking_arrival_time_delta']\n",
    "#         if (arrival_time_delta > walking_arrival_time_delta):\n",
    "#             shortest_path.loc[i, 'arrival_time_delta'] = walking_arrival_time_delta\n",
    "#             shortest_path.loc[i, 'previous_stop'] = visiting_stop_id\n",
    "#             shortest_path.loc[i, 'previous_mode'] = 'W'\n",
    "#             shortest_path.loc[i, 'trip_id'] = None\n",
    "\n",
    "    \n",
    "    shortest_path = shortest_path.sort_values(by = 'arrival_time_delta').reset_index(drop = True)\n",
    "    shortest_path = shortest_path.drop(columns = 'walking_arrival_time_delta')\n",
    "    \n",
    "    return shortest_path"
   ]
  },
  {
   "cell_type": "markdown",
   "metadata": {},
   "source": [
    "---\n",
    "## Define Master Function"
   ]
  },
  {
   "cell_type": "code",
   "execution_count": 29,
   "metadata": {},
   "outputs": [],
   "source": [
    "def find_shortest_path(start_lat, start_lon, end_lat, end_lon, start_time_delta):\n",
    "    \n",
    "    time_start = time.perf_counter()\n",
    "    #print('start', time.perf_counter() - time_start, 'seconds')\n",
    "    \n",
    "    start_stop_id = find_closest_stop_id(start_lat, start_lon)\n",
    "    #print('find_closest_stop_id', time.perf_counter() - time_start, 'seconds')\n",
    "    \n",
    "    shortest_path = build_shortest_path_table(start_stop_id, start_time_delta)\n",
    "    #print('build_shortest_path_table', time.perf_counter() - time_start, 'seconds')\n",
    "    #print('---')\n",
    "    #print()\n",
    "    #print()\n",
    "    \n",
    "    for i in range(0, len(shortest_path)):\n",
    "               \n",
    "        if (i < 20):\n",
    "            pass\n",
    "        else:\n",
    "            break\n",
    "        \n",
    "        time_loop = time.perf_counter()\n",
    "        #print('loop_start', time.perf_counter() - time_start, 'seconds')\n",
    "        \n",
    "        next_stop_record = shortest_path.loc[shortest_path.visited == False].iloc[0]\n",
    "        current_stop_id = next_stop_record.stop_id\n",
    "        current_time_delta = next_stop_record.arrival_time_delta\n",
    "        previous_mode = next_stop_record.previous_mode\n",
    "        #print('loop_values', i, current_stop_id, current_time_delta, previous_mode)\n",
    "        \n",
    "        #print('loop_setup', time.perf_counter() - time_loop, 'seconds')\n",
    "        \n",
    "        if (previous_mode == 'T'):\n",
    "            shortest_path = update_walking_path(shortest_path, current_time_delta, current_stop_id)\n",
    "            #print('*')\n",
    "            #print('update_walking_path', time.perf_counter() - time_loop, 'seconds')\n",
    "            \n",
    "            pass\n",
    "            # insert logic for calculating walking time to other stops\n",
    "            # update shortest_path if walking time < current arrival time\n",
    "        stop_schedule = build_stop_schedule(current_stop_id, current_time_delta)\n",
    "        #print('build_stop_schedule', time.perf_counter() - time_loop, 'seconds')\n",
    "\n",
    "        shortest_path = update_shortest_path(shortest_path, stop_schedule, current_time_delta, current_stop_id)\n",
    "        #print('update_shortest_path', time.perf_counter() - time_loop, 'seconds')\n",
    "        #print()\n",
    "        #print()\n",
    "\n",
    "    #print('finish', time.perf_counter() - time_start, 'seconds')\n",
    "    \n",
    "    return shortest_path"
   ]
  },
  {
   "cell_type": "raw",
   "metadata": {},
   "source": [
    "def find_shortest_path(start_lat, start_lon, end_lat, end_lon, current_time_delta):\n",
    "    start_stop_id = find_closest_stop_id(start_lat, start_lon)\n",
    "    shortest_path = build_shortest_path_table(start_stop_id, current_time_delta)\n",
    "    stop_schedule = build_stop_schedule(start_stop_id, current_time_delta)\n",
    "    shortest_path = update_shortest_path(shortest_path, stop_schedule, current_time_delta, start_stop_id)\n",
    "    shortest_path.loc[0, 'visited'] = True\n",
    "    current_stop_id = shortest_path.loc[shortest_path.visited == False, 'stop_id'].values[0]\n",
    "    return [stop_schedule, shortest_path]"
   ]
  },
  {
   "cell_type": "markdown",
   "metadata": {},
   "source": [
    "---\n",
    "## Test Functions"
   ]
  },
  {
   "cell_type": "code",
   "execution_count": 16,
   "metadata": {},
   "outputs": [],
   "source": [
    "home = [43.76008911645013, -79.33181124795766]\n",
    "longos = [43.75447805630398, -79.35689569243047]\n",
    "gonoe = [43.7459232592541, -79.34612864369309]\n",
    "current_time_delta = td(hours = 19, minutes = 0, seconds = 0)"
   ]
  },
  {
   "cell_type": "code",
   "execution_count": 30,
   "metadata": {},
   "outputs": [
    {
     "name": "stdout",
     "output_type": "stream",
     "text": [
      "CPU times: user 2.84 s, sys: 836 ms, total: 3.68 s\n",
      "Wall time: 3.04 s\n"
     ]
    }
   ],
   "source": [
    "%%time\n",
    "\n",
    "output = find_shortest_path(home[0], home[1], longos[0], longos[1], current_time_delta)"
   ]
  },
  {
   "cell_type": "code",
   "execution_count": 18,
   "metadata": {},
   "outputs": [
    {
     "ename": "NameError",
     "evalue": "name 'output' is not defined",
     "output_type": "error",
     "traceback": [
      "\u001b[0;31m---------------------------------------------------------------------------\u001b[0m",
      "\u001b[0;31mNameError\u001b[0m                                 Traceback (most recent call last)",
      "\u001b[0;32m<ipython-input-18-61353e8b2d5a>\u001b[0m in \u001b[0;36m<module>\u001b[0;34m\u001b[0m\n\u001b[0;32m----> 1\u001b[0;31m \u001b[0moutput\u001b[0m\u001b[0;34m\u001b[0m\u001b[0;34m\u001b[0m\u001b[0m\n\u001b[0m",
      "\u001b[0;31mNameError\u001b[0m: name 'output' is not defined"
     ]
    }
   ],
   "source": [
    "output"
   ]
  },
  {
   "cell_type": "code",
   "execution_count": null,
   "metadata": {},
   "outputs": [],
   "source": [
    "output.to_feather('data/export/output.ftr')"
   ]
  },
  {
   "cell_type": "code",
   "execution_count": null,
   "metadata": {},
   "outputs": [],
   "source": [
    "find_closest_stop_id(gonoe[0], gonoe[1])"
   ]
  },
  {
   "cell_type": "code",
   "execution_count": null,
   "metadata": {},
   "outputs": [],
   "source": [
    "output"
   ]
  },
  {
   "cell_type": "code",
   "execution_count": null,
   "metadata": {},
   "outputs": [],
   "source": [
    "output.query('stop_id == 917')"
   ]
  },
  {
   "cell_type": "code",
   "execution_count": null,
   "metadata": {},
   "outputs": [],
   "source": [
    "schedule.query('(stop_id == 9834 | stop_id == 917) & trip_id == 43027160')"
   ]
  },
  {
   "cell_type": "code",
   "execution_count": null,
   "metadata": {},
   "outputs": [],
   "source": [
    "output.query('stop_id == 9834')"
   ]
  },
  {
   "cell_type": "code",
   "execution_count": null,
   "metadata": {},
   "outputs": [],
   "source": [
    "output.query('stop_id == 4590')"
   ]
  },
  {
   "cell_type": "code",
   "execution_count": null,
   "metadata": {},
   "outputs": [],
   "source": [
    "schedule.query('(stop_id == 4590 | stop_id == 3736) & trip_id == 43000162')"
   ]
  },
  {
   "cell_type": "code",
   "execution_count": null,
   "metadata": {},
   "outputs": [],
   "source": [
    "output.query('stop_id == 3736')"
   ]
  },
  {
   "cell_type": "code",
   "execution_count": null,
   "metadata": {},
   "outputs": [],
   "source": [
    "output.query('stop_id == 5740')"
   ]
  },
  {
   "cell_type": "code",
   "execution_count": null,
   "metadata": {},
   "outputs": [],
   "source": [
    "output"
   ]
  },
  {
   "cell_type": "code",
   "execution_count": null,
   "metadata": {},
   "outputs": [],
   "source": []
  }
 ],
 "metadata": {
  "kernelspec": {
   "display_name": "Python 3",
   "language": "python",
   "name": "python3"
  },
  "language_info": {
   "codemirror_mode": {
    "name": "ipython",
    "version": 3
   },
   "file_extension": ".py",
   "mimetype": "text/x-python",
   "name": "python",
   "nbconvert_exporter": "python",
   "pygments_lexer": "ipython3",
   "version": "3.8.5"
  }
 },
 "nbformat": 4,
 "nbformat_minor": 4
}
