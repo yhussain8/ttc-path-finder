{
 "cells": [
  {
   "cell_type": "markdown",
   "metadata": {},
   "source": [
    "# Building the main pathfinding function\n",
    "---"
   ]
  },
  {
   "cell_type": "code",
   "execution_count": 1,
   "metadata": {},
   "outputs": [],
   "source": [
    "import numpy as np\n",
    "import pandas as pd"
   ]
  },
  {
   "cell_type": "code",
   "execution_count": 2,
   "metadata": {},
   "outputs": [],
   "source": [
    "import heapq as hq"
   ]
  },
  {
   "cell_type": "code",
   "execution_count": 3,
   "metadata": {},
   "outputs": [],
   "source": [
    "# table of stop data (prefiltered to those in service between regular weekdays from 5pm - 6pm)\n",
    "stops = pd.read_pickle('data/model/model_stops.pickle')"
   ]
  },
  {
   "cell_type": "code",
   "execution_count": 4,
   "metadata": {},
   "outputs": [],
   "source": [
    "# walking speed factor\n",
    "wsf = pd.read_pickle('data/model/f.pickle')"
   ]
  },
  {
   "cell_type": "code",
   "execution_count": 5,
   "metadata": {},
   "outputs": [
    {
     "data": {
      "text/html": [
       "<div>\n",
       "<style scoped>\n",
       "    .dataframe tbody tr th:only-of-type {\n",
       "        vertical-align: middle;\n",
       "    }\n",
       "\n",
       "    .dataframe tbody tr th {\n",
       "        vertical-align: top;\n",
       "    }\n",
       "\n",
       "    .dataframe thead th {\n",
       "        text-align: right;\n",
       "    }\n",
       "</style>\n",
       "<table border=\"1\" class=\"dataframe\">\n",
       "  <thead>\n",
       "    <tr style=\"text-align: right;\">\n",
       "      <th></th>\n",
       "      <th>stop_id</th>\n",
       "      <th>stop_code</th>\n",
       "      <th>stop_name</th>\n",
       "      <th>stop_lat</th>\n",
       "      <th>stop_lon</th>\n",
       "    </tr>\n",
       "  </thead>\n",
       "  <tbody>\n",
       "    <tr>\n",
       "      <th>1</th>\n",
       "      <td>263</td>\n",
       "      <td>929</td>\n",
       "      <td>Davenport Rd at Bedford Rd</td>\n",
       "      <td>43.674448</td>\n",
       "      <td>-79.399659</td>\n",
       "    </tr>\n",
       "    <tr>\n",
       "      <th>2</th>\n",
       "      <td>264</td>\n",
       "      <td>940</td>\n",
       "      <td>Davenport Rd at Dupont St</td>\n",
       "      <td>43.675511</td>\n",
       "      <td>-79.401938</td>\n",
       "    </tr>\n",
       "    <tr>\n",
       "      <th>3</th>\n",
       "      <td>265</td>\n",
       "      <td>1871</td>\n",
       "      <td>Davisville Ave at Cleveland St</td>\n",
       "      <td>43.702088</td>\n",
       "      <td>-79.378112</td>\n",
       "    </tr>\n",
       "  </tbody>\n",
       "</table>\n",
       "</div>"
      ],
      "text/plain": [
       "   stop_id  stop_code                       stop_name   stop_lat   stop_lon\n",
       "1      263        929      Davenport Rd at Bedford Rd  43.674448 -79.399659\n",
       "2      264        940       Davenport Rd at Dupont St  43.675511 -79.401938\n",
       "3      265       1871  Davisville Ave at Cleveland St  43.702088 -79.378112"
      ]
     },
     "execution_count": 5,
     "metadata": {},
     "output_type": "execute_result"
    }
   ],
   "source": [
    "stops.head(3)"
   ]
  },
  {
   "cell_type": "code",
   "execution_count": 6,
   "metadata": {},
   "outputs": [],
   "source": [
    "stop_id_array = stops.stop_id.unique()"
   ]
  },
  {
   "cell_type": "code",
   "execution_count": 7,
   "metadata": {},
   "outputs": [],
   "source": [
    "# search to stops df for the closest stop id given a set of geocoordinates\n",
    "def find_closest_stop_id(input_lat, input_lon):\n",
    "    stop_distance = stops.loc[:, ['stop_id', 'stop_lat', 'stop_lon']]\n",
    "    stop_distance['distance'] = ( abs(input_lat - stop_distance['stop_lat'])**2 + abs(input_lon - stop_distance['stop_lon'])**2 )**(1/2)\n",
    "    closest_stop_id = stop_distance.sort_values(by = 'distance').stop_id.iloc[0]\n",
    "    return closest_stop_id"
   ]
  },
  {
   "cell_type": "code",
   "execution_count": 8,
   "metadata": {},
   "outputs": [],
   "source": [
    "# currently set to home address\n",
    "s_location = (43.760442381532236, -79.33181073515874)"
   ]
  },
  {
   "cell_type": "code",
   "execution_count": 9,
   "metadata": {},
   "outputs": [],
   "source": [
    "# currently set to North York General Hospital near Leslie & Sheppard\n",
    "t_location = (43.769136021058905, -79.3627326936882)"
   ]
  },
  {
   "cell_type": "code",
   "execution_count": 10,
   "metadata": {},
   "outputs": [
    {
     "data": {
      "text/plain": [
       "(917, 2592)"
      ]
     },
     "execution_count": 10,
     "metadata": {},
     "output_type": "execute_result"
    }
   ],
   "source": [
    "# s => source, t => target\n",
    "s_stop_id = find_closest_stop_id(s_location[0], s_location[1])\n",
    "t_stop_id = find_closest_stop_id(t_location[0], t_location[1])\n",
    "\n",
    "s_stop_id, t_stop_id"
   ]
  },
  {
   "cell_type": "code",
   "execution_count": 11,
   "metadata": {},
   "outputs": [
    {
     "data": {
      "text/html": [
       "<div>\n",
       "<style scoped>\n",
       "    .dataframe tbody tr th:only-of-type {\n",
       "        vertical-align: middle;\n",
       "    }\n",
       "\n",
       "    .dataframe tbody tr th {\n",
       "        vertical-align: top;\n",
       "    }\n",
       "\n",
       "    .dataframe thead th {\n",
       "        text-align: right;\n",
       "    }\n",
       "</style>\n",
       "<table border=\"1\" class=\"dataframe\">\n",
       "  <thead>\n",
       "    <tr style=\"text-align: right;\">\n",
       "      <th></th>\n",
       "      <th>stop_id</th>\n",
       "      <th>stop_code</th>\n",
       "      <th>stop_name</th>\n",
       "      <th>stop_lat</th>\n",
       "      <th>stop_lon</th>\n",
       "    </tr>\n",
       "  </thead>\n",
       "  <tbody>\n",
       "    <tr>\n",
       "      <th>436</th>\n",
       "      <td>917</td>\n",
       "      <td>9083</td>\n",
       "      <td>York Mills Rd at Sandover Dr (1222 York Mills)</td>\n",
       "      <td>43.759813</td>\n",
       "      <td>-79.331751</td>\n",
       "    </tr>\n",
       "    <tr>\n",
       "      <th>1835</th>\n",
       "      <td>2592</td>\n",
       "      <td>13688</td>\n",
       "      <td>North York General Hospital - Main Entrance</td>\n",
       "      <td>43.769710</td>\n",
       "      <td>-79.363485</td>\n",
       "    </tr>\n",
       "  </tbody>\n",
       "</table>\n",
       "</div>"
      ],
      "text/plain": [
       "      stop_id  stop_code                                       stop_name  \\\n",
       "436       917       9083  York Mills Rd at Sandover Dr (1222 York Mills)   \n",
       "1835     2592      13688     North York General Hospital - Main Entrance   \n",
       "\n",
       "       stop_lat   stop_lon  \n",
       "436   43.759813 -79.331751  \n",
       "1835  43.769710 -79.363485  "
      ]
     },
     "execution_count": 11,
     "metadata": {},
     "output_type": "execute_result"
    }
   ],
   "source": [
    "# confirm the selection of s & t stops\n",
    "stops[(stops.stop_id == s_stop_id) | (stops.stop_id == t_stop_id)]"
   ]
  },
  {
   "cell_type": "code",
   "execution_count": 12,
   "metadata": {},
   "outputs": [],
   "source": [
    "# create an empty graph df for pathfinding model to build upon\n",
    "graph = stops.copy()\n",
    "graph = graph.set_index('stop_id')\n",
    "graph = graph.drop(columns = ['stop_code', 'stop_name'])\n",
    "graph['duration'] = np.nan\n",
    "graph['parent'] = np.nan\n",
    "graph['transit'] = False"
   ]
  },
  {
   "cell_type": "code",
   "execution_count": 13,
   "metadata": {},
   "outputs": [
    {
     "data": {
      "text/html": [
       "<div>\n",
       "<style scoped>\n",
       "    .dataframe tbody tr th:only-of-type {\n",
       "        vertical-align: middle;\n",
       "    }\n",
       "\n",
       "    .dataframe tbody tr th {\n",
       "        vertical-align: top;\n",
       "    }\n",
       "\n",
       "    .dataframe thead th {\n",
       "        text-align: right;\n",
       "    }\n",
       "</style>\n",
       "<table border=\"1\" class=\"dataframe\">\n",
       "  <thead>\n",
       "    <tr style=\"text-align: right;\">\n",
       "      <th></th>\n",
       "      <th>stop_lat</th>\n",
       "      <th>stop_lon</th>\n",
       "      <th>duration</th>\n",
       "      <th>parent</th>\n",
       "      <th>transit</th>\n",
       "    </tr>\n",
       "    <tr>\n",
       "      <th>stop_id</th>\n",
       "      <th></th>\n",
       "      <th></th>\n",
       "      <th></th>\n",
       "      <th></th>\n",
       "      <th></th>\n",
       "    </tr>\n",
       "  </thead>\n",
       "  <tbody>\n",
       "    <tr>\n",
       "      <th>263</th>\n",
       "      <td>43.674448</td>\n",
       "      <td>-79.399659</td>\n",
       "      <td>NaN</td>\n",
       "      <td>NaN</td>\n",
       "      <td>False</td>\n",
       "    </tr>\n",
       "    <tr>\n",
       "      <th>264</th>\n",
       "      <td>43.675511</td>\n",
       "      <td>-79.401938</td>\n",
       "      <td>NaN</td>\n",
       "      <td>NaN</td>\n",
       "      <td>False</td>\n",
       "    </tr>\n",
       "    <tr>\n",
       "      <th>265</th>\n",
       "      <td>43.702088</td>\n",
       "      <td>-79.378112</td>\n",
       "      <td>NaN</td>\n",
       "      <td>NaN</td>\n",
       "      <td>False</td>\n",
       "    </tr>\n",
       "  </tbody>\n",
       "</table>\n",
       "</div>"
      ],
      "text/plain": [
       "          stop_lat   stop_lon  duration  parent  transit\n",
       "stop_id                                                 \n",
       "263      43.674448 -79.399659       NaN     NaN    False\n",
       "264      43.675511 -79.401938       NaN     NaN    False\n",
       "265      43.702088 -79.378112       NaN     NaN    False"
      ]
     },
     "execution_count": 13,
     "metadata": {},
     "output_type": "execute_result"
    }
   ],
   "source": [
    "graph.head(3)"
   ]
  },
  {
   "cell_type": "code",
   "execution_count": 14,
   "metadata": {},
   "outputs": [],
   "source": [
    "def initialize_graph(df, x, y):\n",
    "    lat = df.loc[x, 'stop_lat']\n",
    "    lon = df.loc[x, 'stop_lon']\n",
    "    distance = ((abs(df.stop_lat - lat)**2 + abs(df.stop_lon - lon)**2)**(1/2))\n",
    "    df.duration = distance / y\n",
    "    df.parent = x\n",
    "    df.loc[x, 'parent'] = 0\n",
    "    return df[['duration', 'parent', 'transit']]"
   ]
  },
  {
   "cell_type": "code",
   "execution_count": 15,
   "metadata": {},
   "outputs": [],
   "source": [
    "def path_finder(G, s, t, f):\n",
    "    \n",
    "    G = initialize_graph(G, s, f)\n",
    "    \n",
    "    # initialize priority queue\n",
    "    Q = list(zip(G.duration.values, G.index.values))\n",
    "    hq.heapify(Q)\n",
    "    \n",
    "    return G, Q"
   ]
  },
  {
   "cell_type": "code",
   "execution_count": 16,
   "metadata": {},
   "outputs": [],
   "source": [
    "g, q = path_finder(graph, s_stop_id, t_stop_id, wsf)"
   ]
  },
  {
   "cell_type": "code",
   "execution_count": 112,
   "metadata": {},
   "outputs": [
    {
     "data": {
      "text/html": [
       "<div>\n",
       "<style scoped>\n",
       "    .dataframe tbody tr th:only-of-type {\n",
       "        vertical-align: middle;\n",
       "    }\n",
       "\n",
       "    .dataframe tbody tr th {\n",
       "        vertical-align: top;\n",
       "    }\n",
       "\n",
       "    .dataframe thead th {\n",
       "        text-align: right;\n",
       "    }\n",
       "</style>\n",
       "<table border=\"1\" class=\"dataframe\">\n",
       "  <thead>\n",
       "    <tr style=\"text-align: right;\">\n",
       "      <th></th>\n",
       "      <th>duration</th>\n",
       "      <th>parent</th>\n",
       "      <th>transit</th>\n",
       "    </tr>\n",
       "    <tr>\n",
       "      <th>stop_id</th>\n",
       "      <th></th>\n",
       "      <th></th>\n",
       "      <th></th>\n",
       "    </tr>\n",
       "  </thead>\n",
       "  <tbody>\n",
       "    <tr>\n",
       "      <th>263</th>\n",
       "      <td>7645.422768</td>\n",
       "      <td>917</td>\n",
       "      <td>False</td>\n",
       "    </tr>\n",
       "    <tr>\n",
       "      <th>264</th>\n",
       "      <td>7688.468479</td>\n",
       "      <td>917</td>\n",
       "      <td>False</td>\n",
       "    </tr>\n",
       "    <tr>\n",
       "      <th>265</th>\n",
       "      <td>5189.225445</td>\n",
       "      <td>917</td>\n",
       "      <td>False</td>\n",
       "    </tr>\n",
       "    <tr>\n",
       "      <th>266</th>\n",
       "      <td>18889.560790</td>\n",
       "      <td>917</td>\n",
       "      <td>False</td>\n",
       "    </tr>\n",
       "    <tr>\n",
       "      <th>267</th>\n",
       "      <td>18960.300810</td>\n",
       "      <td>917</td>\n",
       "      <td>False</td>\n",
       "    </tr>\n",
       "    <tr>\n",
       "      <th>...</th>\n",
       "      <td>...</td>\n",
       "      <td>...</td>\n",
       "      <td>...</td>\n",
       "    </tr>\n",
       "    <tr>\n",
       "      <th>24418</th>\n",
       "      <td>6978.914307</td>\n",
       "      <td>917</td>\n",
       "      <td>False</td>\n",
       "    </tr>\n",
       "    <tr>\n",
       "      <th>24419</th>\n",
       "      <td>6752.501210</td>\n",
       "      <td>917</td>\n",
       "      <td>False</td>\n",
       "    </tr>\n",
       "    <tr>\n",
       "      <th>24420</th>\n",
       "      <td>6792.320585</td>\n",
       "      <td>917</td>\n",
       "      <td>False</td>\n",
       "    </tr>\n",
       "    <tr>\n",
       "      <th>24421</th>\n",
       "      <td>6850.500761</td>\n",
       "      <td>917</td>\n",
       "      <td>False</td>\n",
       "    </tr>\n",
       "    <tr>\n",
       "      <th>24422</th>\n",
       "      <td>17157.789244</td>\n",
       "      <td>917</td>\n",
       "      <td>False</td>\n",
       "    </tr>\n",
       "  </tbody>\n",
       "</table>\n",
       "<p>8901 rows × 3 columns</p>\n",
       "</div>"
      ],
      "text/plain": [
       "             duration  parent  transit\n",
       "stop_id                               \n",
       "263       7645.422768     917    False\n",
       "264       7688.468479     917    False\n",
       "265       5189.225445     917    False\n",
       "266      18889.560790     917    False\n",
       "267      18960.300810     917    False\n",
       "...               ...     ...      ...\n",
       "24418     6978.914307     917    False\n",
       "24419     6752.501210     917    False\n",
       "24420     6792.320585     917    False\n",
       "24421     6850.500761     917    False\n",
       "24422    17157.789244     917    False\n",
       "\n",
       "[8901 rows x 3 columns]"
      ]
     },
     "execution_count": 112,
     "metadata": {},
     "output_type": "execute_result"
    }
   ],
   "source": [
    "g"
   ]
  },
  {
   "cell_type": "code",
   "execution_count": 109,
   "metadata": {},
   "outputs": [],
   "source": [
    "def initialize_priority_queue(graph):\n",
    "    duration = graph.duration.values\n",
    "    index = graph.index.values\n",
    "    counter = len(graph)\n",
    "    queue = list(list(l) for l in zip(duration, range(0, counter), index))\n",
    "    stop_lookup = dict(zip(index, queue))\n",
    "    hq.heapify(queue)\n",
    "    return queue, stop_lookup, counter"
   ]
  },
  {
   "cell_type": "code",
   "execution_count": 76,
   "metadata": {},
   "outputs": [],
   "source": [
    "def update_priority_queue(queue, stop_lookup, counter, stop, duration):\n",
    "    if stop in stop_lookup:\n",
    "        mark_stop_as_invalid(stop_lookup, stop)\n",
    "    counter += 1\n",
    "    stop_entry = [duration, counter, stop]\n",
    "    stop_lookup[stop] = stop_entry\n",
    "    hq.heappush(queue, stop_entry)\n",
    "    return queue, stop_lookup, counter"
   ]
  },
  {
   "cell_type": "code",
   "execution_count": 77,
   "metadata": {},
   "outputs": [],
   "source": [
    "def mark_stop_as_invalid(stop_lookup, stop):\n",
    "    stop_entry = stop_lookup.pop(stop)\n",
    "    stop_entry[-1] = 'invalid_entry'\n",
    "    return stop_lookup"
   ]
  },
  {
   "cell_type": "code",
   "execution_count": 78,
   "metadata": {},
   "outputs": [],
   "source": [
    "def extract_min_from_priority_queue(queue, stop_lookup):\n",
    "    while queue:\n",
    "        duration, count, stop = hq.heappop(queue)\n",
    "        if stop != 'invalid_entry':\n",
    "            del stop_lookup[stop]\n",
    "            return queue, stop_lookup, stop\n",
    "    else:\n",
    "        return queue, stop_lookup, 0"
   ]
  },
  {
   "cell_type": "code",
   "execution_count": 126,
   "metadata": {},
   "outputs": [],
   "source": [
    "pq = []\n",
    "qd = {}\n",
    "c = 0"
   ]
  },
  {
   "cell_type": "code",
   "execution_count": 142,
   "metadata": {},
   "outputs": [],
   "source": [
    "pq, qd, c = initialize_priority_queue(g.head(3))"
   ]
  },
  {
   "cell_type": "code",
   "execution_count": 143,
   "metadata": {},
   "outputs": [
    {
     "name": "stdout",
     "output_type": "stream",
     "text": [
      "[[5189.225444638779, 2, 265], [7688.468478773767, 1, 264], [7645.422768034198, 0, 263]]\n",
      "{263: [7645.422768034198, 0, 263], 264: [7688.468478773767, 1, 264], 265: [5189.225444638779, 2, 265]}\n",
      "3\n"
     ]
    }
   ],
   "source": [
    "print(pq)\n",
    "print(qd)\n",
    "print(c)"
   ]
  },
  {
   "cell_type": "code",
   "execution_count": 144,
   "metadata": {},
   "outputs": [
    {
     "name": "stdout",
     "output_type": "stream",
     "text": [
      "[[0, 4, 917], [5189.225444638779, 2, 265], [7645.422768034198, 0, 263], [7688.468478773767, 1, 264]]\n",
      "{263: [7645.422768034198, 0, 263], 264: [7688.468478773767, 1, 264], 265: [5189.225444638779, 2, 265], 917: [0, 4, 917]}\n",
      "4\n"
     ]
    }
   ],
   "source": [
    "pq, qd, c = update_priority_queue(pq, qd, c, 917, 0)\n",
    "print(pq)\n",
    "print(qd)\n",
    "print(c)"
   ]
  },
  {
   "cell_type": "code",
   "execution_count": 145,
   "metadata": {},
   "outputs": [
    {
     "name": "stdout",
     "output_type": "stream",
     "text": [
      "[[0, 4, 917], [33, 5, 5181], [7645.422768034198, 0, 263], [7688.468478773767, 1, 264], [5189.225444638779, 2, 265]]\n",
      "{263: [7645.422768034198, 0, 263], 264: [7688.468478773767, 1, 264], 265: [5189.225444638779, 2, 265], 917: [0, 4, 917], 5181: [33, 5, 5181]}\n",
      "5\n"
     ]
    }
   ],
   "source": [
    "pq, qd, c = update_priority_queue(pq, qd, c, 5181, 33)\n",
    "print(pq)\n",
    "print(qd)\n",
    "print(c)"
   ]
  },
  {
   "cell_type": "code",
   "execution_count": 146,
   "metadata": {},
   "outputs": [
    {
     "name": "stdout",
     "output_type": "stream",
     "text": [
      "[[0, 4, 917], [33, 5, 5181], [30, 6, 264], [7688.468478773767, 1, 'invalid_entry'], [5189.225444638779, 2, 265], [7645.422768034198, 0, 263]]\n",
      "{263: [7645.422768034198, 0, 263], 265: [5189.225444638779, 2, 265], 917: [0, 4, 917], 5181: [33, 5, 5181], 264: [30, 6, 264]}\n",
      "6\n"
     ]
    }
   ],
   "source": [
    "pq, qd, c = update_priority_queue(pq, qd, c, 264, 30)\n",
    "print(pq)\n",
    "print(qd)\n",
    "print(c)"
   ]
  },
  {
   "cell_type": "code",
   "execution_count": 147,
   "metadata": {},
   "outputs": [
    {
     "name": "stdout",
     "output_type": "stream",
     "text": [
      "[[0, 4, 917], [33, 5, 5181], [27, 7, 7089], [7688.468478773767, 1, 'invalid_entry'], [5189.225444638779, 2, 265], [7645.422768034198, 0, 263], [30, 6, 264]]\n",
      "{263: [7645.422768034198, 0, 263], 265: [5189.225444638779, 2, 265], 917: [0, 4, 917], 5181: [33, 5, 5181], 264: [30, 6, 264], 7089: [27, 7, 7089]}\n",
      "7\n"
     ]
    }
   ],
   "source": [
    "pq, qd, c = update_priority_queue(pq, qd, c, 7089, 27)\n",
    "print(pq)\n",
    "print(qd)\n",
    "print(c)"
   ]
  },
  {
   "cell_type": "code",
   "execution_count": 148,
   "metadata": {},
   "outputs": [
    {
     "name": "stdout",
     "output_type": "stream",
     "text": [
      "917\n",
      "[[27, 7, 7089], [33, 5, 5181], [30, 6, 264], [7688.468478773767, 1, 'invalid_entry'], [5189.225444638779, 2, 265], [7645.422768034198, 0, 263]]\n",
      "{263: [7645.422768034198, 0, 263], 265: [5189.225444638779, 2, 265], 5181: [33, 5, 5181], 264: [30, 6, 264], 7089: [27, 7, 7089]}\n",
      "7\n"
     ]
    }
   ],
   "source": [
    "pq, qd, x = extract_min_from_priority_queue(pq, qd)\n",
    "print(x)\n",
    "print(pq)\n",
    "print(qd)\n",
    "print(c)"
   ]
  },
  {
   "cell_type": "code",
   "execution_count": 149,
   "metadata": {},
   "outputs": [
    {
     "name": "stdout",
     "output_type": "stream",
     "text": [
      "[[27, 7, 7089], [33, 5, 'invalid_entry'], [30, 6, 264], [7688.468478773767, 1, 'invalid_entry'], [5189.225444638779, 2, 265], [7645.422768034198, 0, 263], [60, 8, 5181]]\n",
      "{263: [7645.422768034198, 0, 263], 265: [5189.225444638779, 2, 265], 264: [30, 6, 264], 7089: [27, 7, 7089], 5181: [60, 8, 5181]}\n",
      "8\n"
     ]
    }
   ],
   "source": [
    "pq, qd, c = update_priority_queue(pq, qd, c, 5181, 60)\n",
    "print(pq)\n",
    "print(qd)\n",
    "print(c)"
   ]
  },
  {
   "cell_type": "code",
   "execution_count": 150,
   "metadata": {},
   "outputs": [
    {
     "name": "stdout",
     "output_type": "stream",
     "text": [
      "[[25, 9, 5181], [27, 7, 7089], [30, 6, 264], [33, 5, 'invalid_entry'], [5189.225444638779, 2, 265], [7645.422768034198, 0, 263], [60, 8, 'invalid_entry'], [7688.468478773767, 1, 'invalid_entry']]\n",
      "{263: [7645.422768034198, 0, 263], 265: [5189.225444638779, 2, 265], 264: [30, 6, 264], 7089: [27, 7, 7089], 5181: [25, 9, 5181]}\n",
      "9\n"
     ]
    }
   ],
   "source": [
    "pq, qd, c = update_priority_queue(pq, qd, c, 5181, 25)\n",
    "print(pq)\n",
    "print(qd)\n",
    "print(c)"
   ]
  },
  {
   "cell_type": "code",
   "execution_count": 151,
   "metadata": {},
   "outputs": [
    {
     "name": "stdout",
     "output_type": "stream",
     "text": [
      "5181\n",
      "[[27, 7, 7089], [33, 5, 'invalid_entry'], [30, 6, 264], [7688.468478773767, 1, 'invalid_entry'], [5189.225444638779, 2, 265], [7645.422768034198, 0, 263], [60, 8, 'invalid_entry']]\n",
      "{263: [7645.422768034198, 0, 263], 265: [5189.225444638779, 2, 265], 264: [30, 6, 264], 7089: [27, 7, 7089]}\n",
      "9\n"
     ]
    }
   ],
   "source": [
    "pq, qd, x = extract_min_from_priority_queue(pq, qd)\n",
    "print(x)\n",
    "print(pq)\n",
    "print(qd)\n",
    "print(c)"
   ]
  },
  {
   "cell_type": "code",
   "execution_count": 152,
   "metadata": {},
   "outputs": [
    {
     "name": "stdout",
     "output_type": "stream",
     "text": [
      "7089\n",
      "[[30, 6, 264], [33, 5, 'invalid_entry'], [60, 8, 'invalid_entry'], [7688.468478773767, 1, 'invalid_entry'], [5189.225444638779, 2, 265], [7645.422768034198, 0, 263]]\n",
      "{263: [7645.422768034198, 0, 263], 265: [5189.225444638779, 2, 265], 264: [30, 6, 264]}\n",
      "9\n"
     ]
    }
   ],
   "source": [
    "pq, qd, x = extract_min_from_priority_queue(pq, qd)\n",
    "print(x)\n",
    "print(pq)\n",
    "print(qd)\n",
    "print(c)"
   ]
  },
  {
   "cell_type": "code",
   "execution_count": 153,
   "metadata": {},
   "outputs": [
    {
     "name": "stdout",
     "output_type": "stream",
     "text": [
      "264\n",
      "[[33, 5, 'invalid_entry'], [5189.225444638779, 2, 265], [60, 8, 'invalid_entry'], [7688.468478773767, 1, 'invalid_entry'], [7645.422768034198, 0, 263]]\n",
      "{263: [7645.422768034198, 0, 263], 265: [5189.225444638779, 2, 265]}\n",
      "9\n"
     ]
    }
   ],
   "source": [
    "pq, qd, x = extract_min_from_priority_queue(pq, qd)\n",
    "print(x)\n",
    "print(pq)\n",
    "print(qd)\n",
    "print(c)"
   ]
  },
  {
   "cell_type": "code",
   "execution_count": 154,
   "metadata": {},
   "outputs": [
    {
     "name": "stdout",
     "output_type": "stream",
     "text": [
      "265\n",
      "[[7645.422768034198, 0, 263], [7688.468478773767, 1, 'invalid_entry']]\n",
      "{263: [7645.422768034198, 0, 263]}\n",
      "9\n"
     ]
    }
   ],
   "source": [
    "pq, qd, x = extract_min_from_priority_queue(pq, qd)\n",
    "print(x)\n",
    "print(pq)\n",
    "print(qd)\n",
    "print(c)"
   ]
  },
  {
   "cell_type": "code",
   "execution_count": 155,
   "metadata": {},
   "outputs": [
    {
     "name": "stdout",
     "output_type": "stream",
     "text": [
      "263\n",
      "[[7688.468478773767, 1, 'invalid_entry']]\n",
      "{}\n",
      "9\n"
     ]
    }
   ],
   "source": [
    "pq, qd, x = extract_min_from_priority_queue(pq, qd)\n",
    "print(x)\n",
    "print(pq)\n",
    "print(qd)\n",
    "print(c)"
   ]
  },
  {
   "cell_type": "code",
   "execution_count": 156,
   "metadata": {},
   "outputs": [
    {
     "name": "stdout",
     "output_type": "stream",
     "text": [
      "0\n",
      "[]\n",
      "{}\n",
      "9\n"
     ]
    }
   ],
   "source": [
    "pq, qd, x = extract_min_from_priority_queue(pq, qd)\n",
    "print(x)\n",
    "print(pq)\n",
    "print(qd)\n",
    "print(c)"
   ]
  }
 ],
 "metadata": {
  "kernelspec": {
   "display_name": "Python 3",
   "language": "python",
   "name": "python3"
  },
  "language_info": {
   "codemirror_mode": {
    "name": "ipython",
    "version": 3
   },
   "file_extension": ".py",
   "mimetype": "text/x-python",
   "name": "python",
   "nbconvert_exporter": "python",
   "pygments_lexer": "ipython3",
   "version": "3.8.5"
  }
 },
 "nbformat": 4,
 "nbformat_minor": 4
}
